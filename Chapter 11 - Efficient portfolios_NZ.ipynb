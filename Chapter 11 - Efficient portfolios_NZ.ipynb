{
 "cells": [
  {
   "cell_type": "markdown",
   "id": "e5eef2fc",
   "metadata": {},
   "source": [
    "# Chapter 11 - Portfolio theory - efficient portfolios\n",
    "---"
   ]
  },
  {
   "cell_type": "code",
   "execution_count": 1,
   "id": "ce5eb3f6",
   "metadata": {},
   "outputs": [
    {
     "name": "stdout",
     "output_type": "stream",
     "text": [
      "Success\n"
     ]
    }
   ],
   "source": [
    "# Preamble\n",
    "import pandas as pd\n",
    "import numpy as np\n",
    "import os # To set our working folder\n",
    "from bs4 import BeautifulSoup\n",
    "from urllib.request import Request, urlopen as uReq\n",
    "import urllib.error as uErr\n",
    "import re\n",
    "import tenacity\n",
    "import matplotlib.pyplot as plt\n",
    "from matplotlib.dates import DateFormatter\n",
    "import matplotlib.ticker as mticker\n",
    "import seaborn as sns\n",
    "import yfinance as yf  # This gets us prices from Yahoo finance. See https://pypi.org/project/yfinance/\n",
    "from linearmodels.panel import PanelOLS\n",
    "import math\n",
    "import statsmodels.api as sm\n",
    "import statsmodels.formula.api as smf\n",
    "from tabulate import tabulate\n",
    "\n",
    "\n",
    "if os.name=='nt':\n",
    "    import xlwings as xw\n",
    "\n",
    "\n",
    "@tenacity.retry(wait=tenacity.wait_exponential(multiplier=1, min=4, max=64), stop=tenacity.stop_after_attempt(5))\n",
    "def get_that_page(url):\n",
    "    try:\n",
    "        req = Request(url, headers={'User-Agent': 'Mozilla/5.0'})\n",
    "        uClient = uReq(req)\n",
    "        print('Success')\n",
    "    except Exception:\n",
    "        print('Trying again.')\n",
    "    return uClient\n",
    "\n",
    "\n",
    "def do_table(url):\n",
    "    uClient = get_that_page(url)\n",
    "    soup = BeautifulSoup(uClient, 'lxml')\n",
    "    table = soup.find('table', class_='instruments-table')\n",
    "    table_headers =[]\n",
    "    for tx in soup.find_all('th'):\n",
    "        table_headers.append(tx.get('id'))\n",
    "\n",
    "    filler = ['unknown', 'pct']\n",
    "    data = []\n",
    "    rows = table.find_all('tr')\n",
    "    for row in rows:\n",
    "        cols = row.find_all('td')\n",
    "        cols = [ele.text.strip() for ele in cols]\n",
    "        #print(cols)\n",
    "        if len(cols)>0:\n",
    "            data.append(cols)\n",
    "    df = pd.DataFrame(data, columns=[x if x!=None else filler.pop() for x in table_headers])\n",
    "    lyst = ['price', 'volume', 'value', 'outstanding_capitalisation', 'market_capitalisation', 'pct', 'trade_count']\n",
    "    df[lyst] = df[lyst].replace({'\\$': '', ',': ''}, regex=True).apply(pd.to_numeric,  errors='coerce')\n",
    "    df['green_bond']= df['green_bond'].map({'false': 0, 'true': 1})\n",
    "    df = df[~df['company'].str.contains('Smartshares')]\n",
    "    df['code'] = df['code']+\".NZ\"\n",
    "    nzx = df['code'].to_list()\n",
    "\n",
    "    return(df[df['market_capitalisation']>0], nzx)\n",
    "\n",
    "\n",
    "def set_xmargin(ax, left=0.0, right=0.3):\n",
    "    ax.set_xmargin(0)\n",
    "    ax.autoscale_view()\n",
    "    lim = ax.get_xlim()\n",
    "    delta = np.diff(lim)\n",
    "    left =  lim[0] - delta*left\n",
    "    right = lim[1] + delta*right\n",
    "    ax.set_xlim(left,right)\n",
    "\n",
    "\n",
    "def nice_print(df, k=1, name=\"\"):\n",
    "    if isinstance(df, pd.DataFrame):\n",
    "        print(tabulate(k*df, tablefmt=\"fancy_grid\", floatfmt=\".4f\", headers=\"keys\"))\n",
    "    elif isinstance(df, pd.Series):\n",
    "        df.name= name\n",
    "        df=df.to_frame()\n",
    "        print(tabulate(k*df, tablefmt=\"fancy_grid\", floatfmt=\".4f\", headers=\"keys\"))\n",
    "\n",
    "\n",
    "dfm, nzx  = do_table('https://www.nzx.com/markets/NZSX')"
   ]
  },
  {
   "cell_type": "code",
   "execution_count": 2,
   "id": "4d2f72de",
   "metadata": {},
   "outputs": [
    {
     "name": "stdout",
     "output_type": "stream",
     "text": [
      "[*********************100%***********************]  152 of 152 completed\n",
      "\n",
      "9 Failed downloads:\n",
      "- KFLWG.NZ: No data found, symbol may be delisted\n",
      "- PLP.NZ: No data found for this date range, symbol may be delisted\n",
      "- FCT.NZ: No data found for this date range, symbol may be delisted\n",
      "- CO2.NZ: No data found for this date range, symbol may be delisted\n",
      "- BIT.NZ: No data found for this date range, symbol may be delisted\n",
      "- BIF.NZ: No data found for this date range, symbol may be delisted\n",
      "- MLNWE.NZ: No data found, symbol may be delisted\n",
      "- AKL.NZ: No data found, symbol may be delisted\n",
      "- NTLOB.NZ: No data found, symbol may be delisted\n"
     ]
    }
   ],
   "source": [
    "def returns(nzx, start, end):\n",
    "    df_close = yf.download(nzx, start, end, progress=True, interval=\"1mo\")['Adj Close']\n",
    "    df_close.dropna(how = 'all', inplace=True, axis = 1)\n",
    "    df_close.sort_index(inplace=True)\n",
    "    df_close.index = pd.to_datetime(df_close.index, format ='%Y-%m-%d')\n",
    "    df_close.columns = [re.sub(r'.NZ$|\\^', \"\", x) for x in list(df_close)]\n",
    "    return list(df_close), df_close.resample('M').last()\n",
    "\n",
    "nzx_set, df_close = returns(nzx+['^NZ50'], '2017-03-31', '2022-04-30')\n",
    "#nzx_set, df_close = returns(nzx+['^NZ50'], '2015-01-01', '2019-12-30')"
   ]
  },
  {
   "cell_type": "code",
   "execution_count": 3,
   "id": "a2be2632",
   "metadata": {},
   "outputs": [
    {
     "data": {
      "text/plain": [
       "(62, 143)"
      ]
     },
     "execution_count": 3,
     "metadata": {},
     "output_type": "execute_result"
    }
   ],
   "source": [
    "df_close.shape"
   ]
  },
  {
   "cell_type": "markdown",
   "id": "00b4520c",
   "metadata": {},
   "source": [
    "### Building a portfolio of multiple stocks"
   ]
  },
  {
   "cell_type": "code",
   "execution_count": 4,
   "id": "bc699b92",
   "metadata": {},
   "outputs": [],
   "source": [
    "stocks_list = [\"ANZ\", 'WHS', 'RYM', 'THL', \"FPH\", \"EBO\", 'ATM']\n",
    "#stocks_list = [\"FPH\", \"MEL\", \"AIA\", \"SPK\", \"MCY\", \"MFT\", \"EBO\", \"CEN\", \"IFT\", \"FBU\", \"RYM\", \"POT\", \"VCT\", \"ATM\", \"CNU\", \"GMT\", \"GNE\", \"SUM\", \"PCT\", \"TPW\"]\n",
    "data = df_close[stocks_list]\n",
    "#data.plot(subplots=True)"
   ]
  },
  {
   "cell_type": "code",
   "execution_count": 5,
   "id": "66187123",
   "metadata": {},
   "outputs": [
    {
     "data": {
      "text/plain": [
       "<AxesSubplot:xlabel='Date'>"
      ]
     },
     "execution_count": 5,
     "metadata": {},
     "output_type": "execute_result"
    },
    {
     "data": {
      "image/png": "[encoded data removed]",
      "text/plain": [
       "<Figure size 432x288 with 1 Axes>"
      ]
     },
     "metadata": {
      "needs_background": "light"
     },
     "output_type": "display_data"
    }
   ],
   "source": [
    "# Calculate monthly returns\n",
    "monthly_ret = np.log(data).diff().dropna()\n",
    "monthly_ret.add(1).cumprod().sub(1).plot()"
   ]
  },
  {
   "cell_type": "code",
   "execution_count": 6,
   "id": "9116497e",
   "metadata": {},
   "outputs": [
    {
     "data": {
      "text/html": [
       "<div>\n",
       "<style scoped>\n",
       "    .dataframe tbody tr th:only-of-type {\n",
       "        vertical-align: middle;\n",
       "    }\n",
       "\n",
       "    .dataframe tbody tr th {\n",
       "        vertical-align: top;\n",
       "    }\n",
       "\n",
       "    .dataframe thead th {\n",
       "        text-align: right;\n",
       "    }\n",
       "</style>\n",
       "<table border=\"1\" class=\"dataframe\">\n",
       "  <thead>\n",
       "    <tr style=\"text-align: right;\">\n",
       "      <th></th>\n",
       "      <th>ANZ</th>\n",
       "      <th>WHS</th>\n",
       "      <th>RYM</th>\n",
       "      <th>THL</th>\n",
       "      <th>FPH</th>\n",
       "      <th>EBO</th>\n",
       "      <th>ATM</th>\n",
       "    </tr>\n",
       "  </thead>\n",
       "  <tbody>\n",
       "    <tr>\n",
       "      <th>ANZ</th>\n",
       "      <td>0.005767</td>\n",
       "      <td>0.001620</td>\n",
       "      <td>0.002865</td>\n",
       "      <td>0.006760</td>\n",
       "      <td>-0.000662</td>\n",
       "      <td>0.001142</td>\n",
       "      <td>-0.000322</td>\n",
       "    </tr>\n",
       "    <tr>\n",
       "      <th>WHS</th>\n",
       "      <td>0.001620</td>\n",
       "      <td>0.004967</td>\n",
       "      <td>0.002850</td>\n",
       "      <td>0.003377</td>\n",
       "      <td>-0.000214</td>\n",
       "      <td>0.001309</td>\n",
       "      <td>-0.000900</td>\n",
       "    </tr>\n",
       "    <tr>\n",
       "      <th>RYM</th>\n",
       "      <td>0.002865</td>\n",
       "      <td>0.002850</td>\n",
       "      <td>0.007821</td>\n",
       "      <td>0.007102</td>\n",
       "      <td>0.001103</td>\n",
       "      <td>0.001154</td>\n",
       "      <td>0.002083</td>\n",
       "    </tr>\n",
       "    <tr>\n",
       "      <th>THL</th>\n",
       "      <td>0.006760</td>\n",
       "      <td>0.003377</td>\n",
       "      <td>0.007102</td>\n",
       "      <td>0.020454</td>\n",
       "      <td>-0.001560</td>\n",
       "      <td>0.001629</td>\n",
       "      <td>-0.001009</td>\n",
       "    </tr>\n",
       "    <tr>\n",
       "      <th>FPH</th>\n",
       "      <td>-0.000662</td>\n",
       "      <td>-0.000214</td>\n",
       "      <td>0.001103</td>\n",
       "      <td>-0.001560</td>\n",
       "      <td>0.006900</td>\n",
       "      <td>-0.001004</td>\n",
       "      <td>0.004366</td>\n",
       "    </tr>\n",
       "    <tr>\n",
       "      <th>EBO</th>\n",
       "      <td>0.001142</td>\n",
       "      <td>0.001309</td>\n",
       "      <td>0.001154</td>\n",
       "      <td>0.001629</td>\n",
       "      <td>-0.001004</td>\n",
       "      <td>0.002648</td>\n",
       "      <td>-0.002128</td>\n",
       "    </tr>\n",
       "    <tr>\n",
       "      <th>ATM</th>\n",
       "      <td>-0.000322</td>\n",
       "      <td>-0.000900</td>\n",
       "      <td>0.002083</td>\n",
       "      <td>-0.001009</td>\n",
       "      <td>0.004366</td>\n",
       "      <td>-0.002128</td>\n",
       "      <td>0.016017</td>\n",
       "    </tr>\n",
       "  </tbody>\n",
       "</table>\n",
       "</div>"
      ],
      "text/plain": [
       "          ANZ       WHS       RYM       THL       FPH       EBO       ATM\n",
       "ANZ  0.005767  0.001620  0.002865  0.006760 -0.000662  0.001142 -0.000322\n",
       "WHS  0.001620  0.004967  0.002850  0.003377 -0.000214  0.001309 -0.000900\n",
       "RYM  0.002865  0.002850  0.007821  0.007102  0.001103  0.001154  0.002083\n",
       "THL  0.006760  0.003377  0.007102  0.020454 -0.001560  0.001629 -0.001009\n",
       "FPH -0.000662 -0.000214  0.001103 -0.001560  0.006900 -0.001004  0.004366\n",
       "EBO  0.001142  0.001309  0.001154  0.001629 -0.001004  0.002648 -0.002128\n",
       "ATM -0.000322 -0.000900  0.002083 -0.001009  0.004366 -0.002128  0.016017"
      ]
     },
     "execution_count": 6,
     "metadata": {},
     "output_type": "execute_result"
    }
   ],
   "source": [
    "# Variance Covariance Matrix\n",
    "dfs = monthly_ret[stocks_list].cov()\n",
    "dfs"
   ]
  },
  {
   "cell_type": "code",
   "execution_count": 7,
   "id": "9a770055",
   "metadata": {},
   "outputs": [
    {
     "data": {
      "text/html": [
       "<div>\n",
       "<style scoped>\n",
       "    .dataframe tbody tr th:only-of-type {\n",
       "        vertical-align: middle;\n",
       "    }\n",
       "\n",
       "    .dataframe tbody tr th {\n",
       "        vertical-align: top;\n",
       "    }\n",
       "\n",
       "    .dataframe thead th {\n",
       "        text-align: right;\n",
       "    }\n",
       "</style>\n",
       "<table border=\"1\" class=\"dataframe\">\n",
       "  <thead>\n",
       "    <tr style=\"text-align: right;\">\n",
       "      <th></th>\n",
       "      <th>ANZ</th>\n",
       "      <th>WHS</th>\n",
       "      <th>RYM</th>\n",
       "      <th>THL</th>\n",
       "      <th>FPH</th>\n",
       "      <th>EBO</th>\n",
       "      <th>ATM</th>\n",
       "    </tr>\n",
       "    <tr>\n",
       "      <th>Date</th>\n",
       "      <th></th>\n",
       "      <th></th>\n",
       "      <th></th>\n",
       "      <th></th>\n",
       "      <th></th>\n",
       "      <th></th>\n",
       "      <th></th>\n",
       "    </tr>\n",
       "  </thead>\n",
       "  <tbody>\n",
       "    <tr>\n",
       "      <th>2022-01-31</th>\n",
       "      <td>-0.009543</td>\n",
       "      <td>-0.287682</td>\n",
       "      <td>-0.205655</td>\n",
       "      <td>-0.081173</td>\n",
       "      <td>-0.160800</td>\n",
       "      <td>-0.057444</td>\n",
       "      <td>-0.060835</td>\n",
       "    </tr>\n",
       "    <tr>\n",
       "      <th>2020-09-30</th>\n",
       "      <td>-0.063384</td>\n",
       "      <td>0.056888</td>\n",
       "      <td>0.046520</td>\n",
       "      <td>0.069959</td>\n",
       "      <td>-0.102199</td>\n",
       "      <td>0.055523</td>\n",
       "      <td>-0.192160</td>\n",
       "    </tr>\n",
       "    <tr>\n",
       "      <th>2021-03-31</th>\n",
       "      <td>0.104078</td>\n",
       "      <td>0.136220</td>\n",
       "      <td>0.043413</td>\n",
       "      <td>0.105361</td>\n",
       "      <td>0.092976</td>\n",
       "      <td>0.036242</td>\n",
       "      <td>-0.117009</td>\n",
       "    </tr>\n",
       "    <tr>\n",
       "      <th>2021-06-30</th>\n",
       "      <td>0.018884</td>\n",
       "      <td>0.008683</td>\n",
       "      <td>0.001524</td>\n",
       "      <td>-0.023439</td>\n",
       "      <td>0.043678</td>\n",
       "      <td>-0.027483</td>\n",
       "      <td>0.094379</td>\n",
       "    </tr>\n",
       "    <tr>\n",
       "      <th>2019-05-31</th>\n",
       "      <td>0.024404</td>\n",
       "      <td>0.037477</td>\n",
       "      <td>-0.048050</td>\n",
       "      <td>-0.019498</td>\n",
       "      <td>-0.026275</td>\n",
       "      <td>0.040262</td>\n",
       "      <td>-0.059582</td>\n",
       "    </tr>\n",
       "  </tbody>\n",
       "</table>\n",
       "</div>"
      ],
      "text/plain": [
       "                 ANZ       WHS       RYM       THL       FPH       EBO  \\\n",
       "Date                                                                     \n",
       "2022-01-31 -0.009543 -0.287682 -0.205655 -0.081173 -0.160800 -0.057444   \n",
       "2020-09-30 -0.063384  0.056888  0.046520  0.069959 -0.102199  0.055523   \n",
       "2021-03-31  0.104078  0.136220  0.043413  0.105361  0.092976  0.036242   \n",
       "2021-06-30  0.018884  0.008683  0.001524 -0.023439  0.043678 -0.027483   \n",
       "2019-05-31  0.024404  0.037477 -0.048050 -0.019498 -0.026275  0.040262   \n",
       "\n",
       "                 ATM  \n",
       "Date                  \n",
       "2022-01-31 -0.060835  \n",
       "2020-09-30 -0.192160  \n",
       "2021-03-31 -0.117009  \n",
       "2021-06-30  0.094379  \n",
       "2019-05-31 -0.059582  "
      ]
     },
     "execution_count": 7,
     "metadata": {},
     "output_type": "execute_result"
    }
   ],
   "source": [
    "monthly_ret.sample(5)"
   ]
  },
  {
   "cell_type": "code",
   "execution_count": 8,
   "id": "0f8aa05a",
   "metadata": {},
   "outputs": [],
   "source": [
    "# Input: mean returns\n",
    "dfr = monthly_ret[stocks_list].mean()#*12\n",
    "dfr.name= 'Returns'\n",
    "#dfr"
   ]
  },
  {
   "cell_type": "code",
   "execution_count": 9,
   "id": "1cae021a",
   "metadata": {},
   "outputs": [],
   "source": [
    "sigma = pd.Series(np.diag(dfs)**.5, name = 'Sigma', index= stocks_list)\n",
    "sigma = sigma.astype(float)\n",
    "#sigma"
   ]
  },
  {
   "cell_type": "code",
   "execution_count": 10,
   "id": "fcc4abd5",
   "metadata": {},
   "outputs": [
    {
     "data": {
      "text/plain": [
       "<AxesSubplot:title={'center':'Returns and Sigmas for selection of NZ firms'}>"
      ]
     },
     "execution_count": 10,
     "metadata": {},
     "output_type": "execute_result"
    },
    {
     "data": {
      "image/png": "[encoded data removed]",
      "text/plain": [
       "<Figure size 432x288 with 1 Axes>"
      ]
     },
     "metadata": {
      "needs_background": "light"
     },
     "output_type": "display_data"
    }
   ],
   "source": [
    "dfr.to_frame().join(sigma).plot(kind='bar',grid=True,table=False,legend=True, title = 'Returns and Sigmas for selection of NZ firms')"
   ]
  },
  {
   "cell_type": "code",
   "execution_count": 11,
   "id": "3f191875",
   "metadata": {},
   "outputs": [
    {
     "name": "stdout",
     "output_type": "stream",
     "text": [
      "╒═════╤═══════════╕\n",
      "│     │   Weights │\n",
      "╞═════╪═══════════╡\n",
      "│ ANZ │   -0.0842 │\n",
      "├─────┼───────────┤\n",
      "│ WHS │    0.1946 │\n",
      "├─────┼───────────┤\n",
      "│ RYM │   -0.2140 │\n",
      "├─────┼───────────┤\n",
      "│ THL │    0.0379 │\n",
      "├─────┼───────────┤\n",
      "│ FPH │    0.2509 │\n",
      "├─────┼───────────┤\n",
      "│ EBO │    0.7156 │\n",
      "├─────┼───────────┤\n",
      "│ ATM │    0.0991 │\n",
      "╘═════╧═══════════╛\n"
     ]
    },
    {
     "data": {
      "text/plain": [
       "<AxesSubplot:title={'center':'Portfolio X Asset Allocation'}>"
      ]
     },
     "execution_count": 11,
     "metadata": {},
     "output_type": "execute_result"
    },
    {
     "data": {
      "image/png": "[encoded data removed]",
      "text/plain": [
       "<Figure size 432x288 with 1 Axes>"
      ]
     },
     "metadata": {
      "needs_background": "light"
     },
     "output_type": "display_data"
    }
   ],
   "source": [
    "# Function: Calculate Envelope Portfolio proportions in one step\n",
    "# see also https://www.youtube.com/watch?v=OGhGz8trZtw\n",
    "\n",
    "def envelope_portfolio_df(dfs, dfr, constant):\n",
    "    df_inv = pd.DataFrame(np.linalg.pinv(dfs.values), dfs.columns, dfs.columns)\n",
    "    ex_ret = dfr - constant\n",
    "    Z = df_inv @ ex_ret\n",
    "    return Z/Z.sum() # Efficient Portfolio proportions\n",
    "\n",
    "# Computing Portfolio X Asset Allocation\n",
    "\n",
    "port_x_prop = envelope_portfolio_df(dfs, dfr, 0)\n",
    "nice_print(pd.Series(port_x_prop), name= 'Weights')\n",
    "port_x_prop.plot(kind='bar', title= 'Portfolio X Asset Allocation')"
   ]
  },
  {
   "cell_type": "code",
   "execution_count": 12,
   "id": "d940c0e4",
   "metadata": {},
   "outputs": [
    {
     "name": "stdout",
     "output_type": "stream",
     "text": [
      "╒═════╤═══════════╕\n",
      "│     │   Weights │\n",
      "╞═════╪═══════════╡\n",
      "│ ANZ │    0.2445 │\n",
      "├─────┼───────────┤\n",
      "│ WHS │    0.0932 │\n",
      "├─────┼───────────┤\n",
      "│ RYM │   -0.0086 │\n",
      "├─────┼───────────┤\n",
      "│ THL │   -0.0215 │\n",
      "├─────┼───────────┤\n",
      "│ FPH │    0.1804 │\n",
      "├─────┼───────────┤\n",
      "│ EBO │    0.4053 │\n",
      "├─────┼───────────┤\n",
      "│ ATM │    0.1067 │\n",
      "╘═════╧═══════════╛\n"
     ]
    },
    {
     "data": {
      "text/plain": [
       "<AxesSubplot:title={'center':'Portfolio Y Asset Allocation'}>"
      ]
     },
     "execution_count": 12,
     "metadata": {},
     "output_type": "execute_result"
    },
    {
     "data": {
      "image/png": "[encoded data removed]",
      "text/plain": [
       "<Figure size 432x288 with 1 Axes>"
      ]
     },
     "metadata": {
      "needs_background": "light"
     },
     "output_type": "display_data"
    }
   ],
   "source": [
    "port_y_prop = envelope_portfolio_df(dfs, dfr, 0.04)\n",
    "nice_print(pd.Series(port_y_prop), name= 'Weights')\n",
    "port_y_prop.plot(kind='bar', color='r', title= 'Portfolio Y Asset Allocation')"
   ]
  },
  {
   "cell_type": "code",
   "execution_count": 13,
   "id": "12bcbf74",
   "metadata": {},
   "outputs": [],
   "source": [
    "# Input: Portfolio weights\n",
    "#port_x_prop = pd.Series(np.array([0.2, 0.3, 0.3, 0.1, 0.1]), index=dfs.index, name= 'x_wei')\n",
    "#print(pd.Series(port_x_prop))\n",
    "#port_x_prop.plot(kind='bar')"
   ]
  },
  {
   "cell_type": "code",
   "execution_count": 14,
   "id": "55cad692",
   "metadata": {},
   "outputs": [],
   "source": [
    "#port_y_prop = pd.Series(np.array([0.1, 0.1, 0.1, 0.1, 0.6]), index=dfs.index, name= 'y_wei')\n",
    "#print(pd.Series(port_y_prop))\n",
    "#port_y_prop.plot(kind='bar', color='r')"
   ]
  },
  {
   "cell_type": "code",
   "execution_count": 15,
   "id": "7251469b",
   "metadata": {},
   "outputs": [
    {
     "name": "stdout",
     "output_type": "stream",
     "text": [
      "╒════╤════════════════╕\n",
      "│    │   Mean Returns │\n",
      "╞════╪════════════════╡\n",
      "│ X  │         1.7973 │\n",
      "├────┼────────────────┤\n",
      "│ Y  │         1.1393 │\n",
      "╘════╧════════════════╛\n"
     ]
    }
   ],
   "source": [
    "# Portfolios Mean Returns\n",
    "\n",
    "port_x_ret = dfr @ port_x_prop\n",
    "port_y_ret = dfr @ port_y_prop\n",
    "\n",
    "nice_print(pd.Series([port_x_ret, port_y_ret], index=['X','Y']), k=100, name = \"Mean Returns\")"
   ]
  },
  {
   "cell_type": "code",
   "execution_count": 16,
   "id": "3fe69dcd",
   "metadata": {},
   "outputs": [
    {
     "name": "stdout",
     "output_type": "stream",
     "text": [
      "╒════╤═══════════════════════╕\n",
      "│    │   Portfolios Variance │\n",
      "╞════╪═══════════════════════╡\n",
      "│ X  │                0.0015 │\n",
      "├────┼───────────────────────┤\n",
      "│ Y  │                0.0013 │\n",
      "╘════╧═══════════════════════╛\n"
     ]
    }
   ],
   "source": [
    "# Portfolios Variance\n",
    "port_x_var = port_x_prop @ dfs @ port_x_prop\n",
    "port_y_var = port_y_prop @ dfs @ port_y_prop\n",
    "nice_print(pd.Series([port_x_var,port_y_var],index=['X','Y']), name = \"Portfolios Variance\")"
   ]
  },
  {
   "cell_type": "code",
   "execution_count": 17,
   "id": "de14cb4b",
   "metadata": {},
   "outputs": [
    {
     "name": "stdout",
     "output_type": "stream",
     "text": [
      "╒══════════╤════════╕\n",
      "│          │        │\n",
      "╞══════════╪════════╡\n",
      "│ Cov(X,Y) │ 0.0010 │\n",
      "╘══════════╧════════╛\n"
     ]
    }
   ],
   "source": [
    "# Covarinace(X,Y)\n",
    "cov_xy = port_x_prop @ dfs @ port_y_prop\n",
    "nice_print(pd.Series(cov_xy,index=[\"Cov(X,Y)\"]))"
   ]
  },
  {
   "cell_type": "code",
   "execution_count": 18,
   "id": "f914cfb2",
   "metadata": {},
   "outputs": [
    {
     "name": "stdout",
     "output_type": "stream",
     "text": [
      "╒════╤════════════════════╕\n",
      "│    │   Portfolios Sigma │\n",
      "╞════╪════════════════════╡\n",
      "│ X  │             0.0390 │\n",
      "├────┼────────────────────┤\n",
      "│ Y  │             0.0354 │\n",
      "╘════╧════════════════════╛\n"
     ]
    }
   ],
   "source": [
    "# Portfolios Standard Deviations\n",
    "port_x_sigma = port_x_var**.5\n",
    "port_y_sigma = port_y_var**.5\n",
    "\n",
    "nice_print(pd.Series([port_x_sigma, port_y_sigma],index=['X','Y']), name = \"Portfolios Sigma\")"
   ]
  },
  {
   "cell_type": "code",
   "execution_count": 19,
   "id": "d0e9ba1a",
   "metadata": {},
   "outputs": [
    {
     "name": "stdout",
     "output_type": "stream",
     "text": [
      "╒═════╤═══════════════════════════╕\n",
      "│     │   Correlation Coefficient │\n",
      "╞═════╪═══════════════════════════╡\n",
      "│ Rho │                    0.6986 │\n",
      "╘═════╧═══════════════════════════╛\n"
     ]
    }
   ],
   "source": [
    "# Correlation Coefficient (X,Y)\n",
    "nice_print(pd.Series(cov_xy / (port_x_sigma * port_y_sigma),index=[\"Rho\"]), name = \"Correlation Coefficient\")"
   ]
  },
  {
   "cell_type": "code",
   "execution_count": 20,
   "id": "4e38a3c4",
   "metadata": {
    "scrolled": true
   },
   "outputs": [
    {
     "name": "stdout",
     "output_type": "stream",
     "text": [
      "╒══════════╤════════╤════════╕\n",
      "│          │      X │      Y │\n",
      "╞══════════╪════════╪════════╡\n",
      "│ Returns  │ 0.0180 │ 0.0114 │\n",
      "├──────────┼────────┼────────┤\n",
      "│ Variance │ 0.0015 │ 0.0013 │\n",
      "├──────────┼────────┼────────┤\n",
      "│ Sigma    │ 0.0390 │ 0.0354 │\n",
      "╘══════════╧════════╧════════╛\n"
     ]
    }
   ],
   "source": [
    "# Portfolio statistcis\n",
    "dfp = pd.DataFrame([[port_x_ret, port_x_var, port_x_sigma],\n",
    "                    [port_y_ret, port_y_var, port_y_sigma]],\n",
    "             columns = [\"Returns\", \"Variance\", 'Sigma'],\n",
    "             index = ['X', 'Y'])\n",
    "nice_print(dfp.T)"
   ]
  },
  {
   "cell_type": "code",
   "execution_count": 21,
   "id": "a628ef22",
   "metadata": {},
   "outputs": [],
   "source": [
    "port_v_prop = envelope_portfolio_df(dfs, dfr, 0.025)\n",
    "port_v_ret = dfr @ port_v_prop\n",
    "port_v_var = port_v_prop @ dfs @ port_v_prop\n",
    "port_v_sigma = port_v_var**.5"
   ]
  },
  {
   "cell_type": "code",
   "execution_count": 22,
   "id": "d7f5f88e",
   "metadata": {},
   "outputs": [],
   "source": [
    "### Envelope Portfolios\n",
    "# Portfolio Z is a portfolio constructed of portfolio X and portfolio Y.\n",
    "\n",
    "Xa = 0.3\n",
    "# port_z_weights = np.array([Xa, 1-Xa]).T\n",
    "port_z_weights = pd.Series([Xa, 1-Xa],index=['X','Y'])\n",
    "\n",
    "port_z_returns = pd.Series([port_x_ret, port_y_ret],index=['X','Y'])\n",
    "\n",
    "# Portfolio X Returns\n",
    "port_z_ret = port_z_weights @ port_z_returns\n",
    "\n",
    "# Portfolio Variance\n",
    "port_z_var =    port_z_weights.loc['X']**2 * port_x_var + port_z_weights.loc['Y']**2 * port_y_var + 2 * np.prod(port_z_weights) * cov_xy\n",
    "\n",
    "# Portfolios Sigma\n",
    "port_z_sigma = port_z_var**.5"
   ]
  },
  {
   "cell_type": "code",
   "execution_count": 23,
   "id": "535441ee",
   "metadata": {},
   "outputs": [
    {
     "name": "stdout",
     "output_type": "stream",
     "text": [
      "╒════╤═════════════╕\n",
      "│    │   Z_weights │\n",
      "╞════╪═════════════╡\n",
      "│ X  │      0.3000 │\n",
      "├────┼─────────────┤\n",
      "│ Y  │      0.7000 │\n",
      "╘════╧═════════════╛\n",
      "╒════╤═════════════╕\n",
      "│    │   Z_returns │\n",
      "╞════╪═════════════╡\n",
      "│ X  │      0.0180 │\n",
      "├────┼─────────────┤\n",
      "│ Y  │      0.0114 │\n",
      "╘════╧═════════════╛\n",
      "\n",
      "port_z_ret:   0.01337\n",
      "\n",
      "port_z_var:   0.001154\n",
      "\n",
      "port_z_sigma: 0.03396\n"
     ]
    }
   ],
   "source": [
    "nice_print(port_z_weights, name= 'Z_weights')\n",
    "nice_print(port_z_returns, name= 'Z_returns')\n",
    "\n",
    "print('\\nport_z_ret:   {:2.4}'.format(port_z_ret))\n",
    "print('\\nport_z_var:   {:2.4}'.format(port_z_var))\n",
    "print('\\nport_z_sigma: {:2.4}'.format(port_z_sigma))"
   ]
  },
  {
   "cell_type": "code",
   "execution_count": 24,
   "id": "24cad27e",
   "metadata": {},
   "outputs": [
    {
     "data": {
      "text/plain": [
       "<AxesSubplot:xlabel='Sigma'>"
      ]
     },
     "execution_count": 24,
     "metadata": {},
     "output_type": "execute_result"
    },
    {
     "data": {
      "image/png": "[encoded data removed]",
      "text/plain": [
       "<Figure size 504x432 with 1 Axes>"
      ]
     },
     "metadata": {
      "needs_background": "light"
     },
     "output_type": "display_data"
    }
   ],
   "source": [
    "# Set an Array of Portfolio Weights\n",
    "port_x_weight = np.arange(-1,2,0.1)\n",
    "port_y_weight = 1-port_x_weight\n",
    "\n",
    "# Portfolio Z Mean Returns\n",
    "port_z_ret = port_x_weight * port_x_ret + port_y_weight * port_y_ret\n",
    "#print(pd.Series(port_z_ret))\n",
    "\n",
    "# Portfolios Sigma\n",
    "port_z_sigma = (port_x_weight ** 2 * port_x_var + port_y_weight ** 2 * port_y_var + (port_x_weight * port_y_weight) * cov_xy * 2) ** 0.5\n",
    "#print(pd.Series(port_z_sigma))\n",
    "\n",
    "# Envelope\n",
    "dfeff = pd.DataFrame({'Sigma': port_z_sigma, 'Return': port_z_ret}, columns=['Sigma', 'Return'])\n",
    "dfeff.set_index('Sigma', inplace=True)\n",
    "dfeff.plot(figsize=(7,6))"
   ]
  },
  {
   "cell_type": "code",
   "execution_count": 25,
   "id": "95cc763e",
   "metadata": {},
   "outputs": [
    {
     "data": {
      "text/plain": [
       "0.040983747935739036"
      ]
     },
     "execution_count": 25,
     "metadata": {},
     "output_type": "execute_result"
    }
   ],
   "source": [
    "port_v_sigma"
   ]
  },
  {
   "cell_type": "code",
   "execution_count": 26,
   "id": "43ec6367",
   "metadata": {},
   "outputs": [
    {
     "data": {
      "image/png": "[encoded data removed]",
      "text/plain": [
       "<Figure size 504x432 with 1 Axes>"
      ]
     },
     "metadata": {
      "needs_background": "light"
     },
     "output_type": "display_data"
    }
   ],
   "source": [
    "fig, ax = plt.subplots(figsize=(7,6))\n",
    "ax.set_title(r'Monthly Returns')\n",
    "dfeff.plot(ax=ax)\n",
    "assets_sigma = np.diag(dfs)**0.5\n",
    "ax.plot([port_x_sigma, port_y_sigma], [port_x_ret, port_y_ret], 'o') # portfolios\n",
    "ax.plot(assets_sigma, dfr, 'o') # assets\n",
    "# Labels\n",
    "ax.text(port_x_sigma+0.002,port_x_ret,'Port. X')\n",
    "ax.text(port_y_sigma+0.002,port_y_ret,'Port. Y')\n",
    "ax.text(port_v_sigma+0.002,port_v_ret,'Port. V')\n",
    "ax.plot(port_v_sigma, port_v_ret, 'o') # assets\n",
    "\n",
    "for x in list(range(0,len(dfr))):\n",
    "    ax.text(assets_sigma[x]+0.002,dfr.iloc[x],dfr.index[x])"
   ]
  },
  {
   "cell_type": "markdown",
   "id": "9d6b9d2e",
   "metadata": {},
   "source": [
    "### Computing the Global Minimum Variance Portfolio (GMVP)"
   ]
  },
  {
   "cell_type": "code",
   "execution_count": 27,
   "id": "b36df49d",
   "metadata": {},
   "outputs": [
    {
     "name": "stdout",
     "output_type": "stream",
     "text": [
      "ANZ    0.132488\n",
      "WHS    0.127723\n",
      "RYM   -0.078611\n",
      "THL   -0.001239\n",
      "FPH    0.204436\n",
      "EBO    0.511108\n",
      "ATM    0.104096\n",
      "dtype: float64\n"
     ]
    }
   ],
   "source": [
    "# FUNCTION: GMVP as row\n",
    "def GMVP_as_row(dfs):\n",
    "    # take inverse of the var-cov-var matrix\n",
    "    df_inv = pd.DataFrame(np.linalg.pinv(dfs.values), dfs.columns, dfs.columns)\n",
    "    #return the sum of the rows divided by the total sum of the inversted matrix\n",
    "    return df_inv.sum(axis=1).div(df_inv.sum().sum())\n",
    "\n",
    "# GMVP Weights\n",
    "GMVP_prop = GMVP_as_row(dfs)\n",
    "print(pd.Series(GMVP_prop))"
   ]
  },
  {
   "cell_type": "code",
   "execution_count": 28,
   "id": "916549ba",
   "metadata": {},
   "outputs": [
    {
     "data": {
      "text/plain": [
       "ANZ    0.132488\n",
       "WHS    0.127723\n",
       "RYM   -0.078611\n",
       "THL   -0.001239\n",
       "FPH    0.204436\n",
       "EBO    0.511108\n",
       "ATM    0.104096\n",
       "dtype: float64"
      ]
     },
     "execution_count": 28,
     "metadata": {},
     "output_type": "execute_result"
    }
   ],
   "source": [
    "GMVP_prop"
   ]
  },
  {
   "cell_type": "code",
   "execution_count": 29,
   "id": "5e7981eb",
   "metadata": {},
   "outputs": [
    {
     "name": "stdout",
     "output_type": "stream",
     "text": [
      "GMVP Mean Return    0.013636\n",
      "dtype: float64\n",
      "GMVP Variance    0.001152\n",
      "dtype: float64\n",
      "GMVP Sigma    0.033943\n",
      "dtype: float64\n"
     ]
    }
   ],
   "source": [
    "# GMVP Mean Return\n",
    "GMVP_mean_ret = GMVP_prop @ dfr\n",
    "print(pd.Series(GMVP_mean_ret,index=[\"GMVP Mean Return\"]))\n",
    "\n",
    "# GMVP Variance\n",
    "GMVP_variance = GMVP_prop @ dfs @ GMVP_prop\n",
    "print(pd.Series(GMVP_variance,index=[\"GMVP Variance\"]))\n",
    "\n",
    "# GMVP Sigma\n",
    "GMVP_Sigma = GMVP_variance ** 0.5\n",
    "print(pd.Series(GMVP_Sigma, index=[\"GMVP Sigma\"]))"
   ]
  },
  {
   "cell_type": "code",
   "execution_count": 30,
   "id": "f36c1b42",
   "metadata": {
    "scrolled": true
   },
   "outputs": [
    {
     "data": {
      "image/png": "[encoded data removed]",
      "text/plain": [
       "<Figure size 504x432 with 1 Axes>"
      ]
     },
     "metadata": {
      "needs_background": "light"
     },
     "output_type": "display_data"
    }
   ],
   "source": [
    "fig, ax = plt.subplots(figsize=(7,6))\n",
    "ax.set_title(r'Monthly Returns')\n",
    "dfeff.plot(ax=ax)\n",
    "assets_sigma = np.diag(dfs)**0.5\n",
    "ax.plot([port_x_sigma, port_y_sigma], [port_x_ret, port_y_ret], 'o') # portfolios\n",
    "ax.plot(assets_sigma, dfr, 'o') # assets\n",
    "ax.plot(GMVP_Sigma, GMVP_mean_ret, 'o') # assets\n",
    "# Labels\n",
    "ax.text(port_x_sigma+0.002,port_x_ret,'Port. X')\n",
    "ax.text(port_y_sigma+0.002,port_y_ret,'Port. Y')\n",
    "ax.text(GMVP_Sigma+0.002,GMVP_mean_ret,'GMVP')\n",
    "\n",
    "for x in list(range(0,len(dfr))):\n",
    "    ax.text(assets_sigma[x]+0.002,dfr.iloc[x],dfr.index[x])"
   ]
  },
  {
   "cell_type": "code",
   "execution_count": null,
   "id": "0ce2c3f2",
   "metadata": {},
   "outputs": [],
   "source": [
    "\n"
   ]
  },
  {
   "cell_type": "markdown",
   "id": "c5bebb70",
   "metadata": {},
   "source": [
    "### Efficient Portfolios Without Short Sales"
   ]
  },
  {
   "cell_type": "code",
   "execution_count": 31,
   "id": "46b2f330",
   "metadata": {},
   "outputs": [],
   "source": [
    "from scipy.optimize import minimize\n",
    "from qpsolvers import solve_qp\n",
    "\n",
    "# Input: Variance Covariance Matrix\n",
    "#dfsn = dfs.to_numpy()\n",
    "#dfsn"
   ]
  },
  {
   "cell_type": "code",
   "execution_count": 32,
   "id": "ceedafdf",
   "metadata": {},
   "outputs": [],
   "source": [
    "# Input: mean returns\n",
    "#dfrn = dfr.to_numpy()\n",
    "#dfrn"
   ]
  },
  {
   "cell_type": "code",
   "execution_count": 33,
   "id": "f5989aa5",
   "metadata": {},
   "outputs": [],
   "source": [
    "#dfsn = np.array([[0.10,0.01,0.03,0.05], [0.01,0.30,0.06,-0.04],[0.03,0.06,0.40,0.02],[0.05,-0.04,0.02,0.50]])\n",
    "#dfsn\n",
    "#dfrn = np.array([0.02, 0.02, 0.08, 0.1])\n",
    "#x = np.array([0.25,0.25,0.25,0.25])"
   ]
  },
  {
   "cell_type": "code",
   "execution_count": 34,
   "id": "07008525",
   "metadata": {},
   "outputs": [],
   "source": [
    "# Input: constant\n",
    "constant = 0.02"
   ]
  },
  {
   "cell_type": "code",
   "execution_count": 35,
   "id": "d97187f1",
   "metadata": {},
   "outputs": [],
   "source": [
    "#dfr.index"
   ]
  },
  {
   "cell_type": "code",
   "execution_count": 36,
   "id": "ffe7aeb1",
   "metadata": {
    "scrolled": true
   },
   "outputs": [
    {
     "data": {
      "text/plain": [
       "ANZ    0.142857\n",
       "WHS    0.142857\n",
       "RYM    0.142857\n",
       "THL    0.142857\n",
       "FPH    0.142857\n",
       "EBO    0.142857\n",
       "ATM    0.142857\n",
       "dtype: float64"
      ]
     },
     "execution_count": 36,
     "metadata": {},
     "output_type": "execute_result"
    }
   ],
   "source": [
    "#x = pd.Series(data = 1/len(dfr), index=list(np.arange(0,len(dfr)))) #dfr.index)\n",
    "x = pd.Series(data = 1/len(dfr), index=dfr.index)\n",
    "#x = np.full(shape=len(dfr),fill_value=1/len(dfr))\n",
    "x"
   ]
  },
  {
   "cell_type": "code",
   "execution_count": 37,
   "id": "9e74ffca",
   "metadata": {},
   "outputs": [
    {
     "data": {
      "text/plain": [
       "0.24434420156022976"
      ]
     },
     "execution_count": 37,
     "metadata": {},
     "output_type": "execute_result"
    }
   ],
   "source": [
    "# Setting Target Function: Sharpe\n",
    "def sharpe(x, dfr, constant, dfs):\n",
    "    ex_ret = dfr - constant\n",
    "    ret = ex_ret @ x\n",
    "    var = x @ dfs @ x\n",
    "    sigma = var ** 0.5\n",
    "    sharpe = ret / sigma # set sharpe to minus sign for minimization\n",
    "    return -sharpe\n",
    "\n",
    "sharpe(x, dfr, constant, dfs)"
   ]
  },
  {
   "cell_type": "code",
   "execution_count": 38,
   "id": "876dfda4",
   "metadata": {},
   "outputs": [
    {
     "data": {
      "text/plain": [
       "((0, inf), (0, inf), (0, inf), (0, inf), (0, inf), (0, inf), (0, inf))"
      ]
     },
     "execution_count": 38,
     "metadata": {},
     "output_type": "execute_result"
    }
   ],
   "source": [
    "# No Short Constarints \n",
    "rnge = (0, math.inf)\n",
    "bounds = tuple([rnge]*len(dfr))\n",
    "bounds"
   ]
  },
  {
   "cell_type": "code",
   "execution_count": 39,
   "id": "5cc2c813",
   "metadata": {},
   "outputs": [
    {
     "data": {
      "text/plain": [
       "{'type': 'eq', 'fun': <function __main__.sum_weights_constr(x)>, 'args': ()}"
      ]
     },
     "execution_count": 39,
     "metadata": {},
     "output_type": "execute_result"
    }
   ],
   "source": [
    "# Enforce sum of weights = 100%\n",
    "def sum_weights_constr(x):\n",
    "    return np.sum(x) - 1 # this should be equal to 0\n",
    "\n",
    "sum_weight = {'type': 'eq', 'fun': sum_weights_constr, 'args': ()}\n",
    "sum_weight"
   ]
  },
  {
   "cell_type": "code",
   "execution_count": 40,
   "id": "f6639eb7",
   "metadata": {},
   "outputs": [
    {
     "data": {
      "text/plain": [
       "-2.220446049250313e-16"
      ]
     },
     "execution_count": 40,
     "metadata": {},
     "output_type": "execute_result"
    }
   ],
   "source": [
    "sum_weights_constr(x)"
   ]
  },
  {
   "cell_type": "code",
   "execution_count": 41,
   "id": "bfb9d70c",
   "metadata": {},
   "outputs": [
    {
     "data": {
      "text/plain": [
       "0    0.142857\n",
       "1    0.142857\n",
       "2    0.142857\n",
       "3    0.142857\n",
       "4    0.142857\n",
       "5    0.142857\n",
       "6    0.142857\n",
       "dtype: float64"
      ]
     },
     "execution_count": 41,
     "metadata": {},
     "output_type": "execute_result"
    }
   ],
   "source": [
    "# Stting initial guess\n",
    "x0 = pd.Series(data = 1/len(dfr), index=list(np.arange(0,len(dfr)))) #dfr.index)\n",
    "#x0 = np.full(shape=len(dfrn),fill_value=1/len(dfrn))\n",
    "x0"
   ]
  },
  {
   "cell_type": "code",
   "execution_count": 42,
   "id": "ccd92a01",
   "metadata": {},
   "outputs": [
    {
     "data": {
      "text/html": [
       "<div>\n",
       "<style scoped>\n",
       "    .dataframe tbody tr th:only-of-type {\n",
       "        vertical-align: middle;\n",
       "    }\n",
       "\n",
       "    .dataframe tbody tr th {\n",
       "        vertical-align: top;\n",
       "    }\n",
       "\n",
       "    .dataframe thead th {\n",
       "        text-align: right;\n",
       "    }\n",
       "</style>\n",
       "<table border=\"1\" class=\"dataframe\">\n",
       "  <thead>\n",
       "    <tr style=\"text-align: right;\">\n",
       "      <th></th>\n",
       "      <th>ANZ</th>\n",
       "      <th>WHS</th>\n",
       "      <th>RYM</th>\n",
       "      <th>THL</th>\n",
       "      <th>FPH</th>\n",
       "      <th>EBO</th>\n",
       "      <th>ATM</th>\n",
       "    </tr>\n",
       "  </thead>\n",
       "  <tbody>\n",
       "    <tr>\n",
       "      <th>ANZ</th>\n",
       "      <td>0.005767</td>\n",
       "      <td>0.001620</td>\n",
       "      <td>0.002865</td>\n",
       "      <td>0.006760</td>\n",
       "      <td>-0.000662</td>\n",
       "      <td>0.001142</td>\n",
       "      <td>-0.000322</td>\n",
       "    </tr>\n",
       "    <tr>\n",
       "      <th>WHS</th>\n",
       "      <td>0.001620</td>\n",
       "      <td>0.004967</td>\n",
       "      <td>0.002850</td>\n",
       "      <td>0.003377</td>\n",
       "      <td>-0.000214</td>\n",
       "      <td>0.001309</td>\n",
       "      <td>-0.000900</td>\n",
       "    </tr>\n",
       "    <tr>\n",
       "      <th>RYM</th>\n",
       "      <td>0.002865</td>\n",
       "      <td>0.002850</td>\n",
       "      <td>0.007821</td>\n",
       "      <td>0.007102</td>\n",
       "      <td>0.001103</td>\n",
       "      <td>0.001154</td>\n",
       "      <td>0.002083</td>\n",
       "    </tr>\n",
       "    <tr>\n",
       "      <th>THL</th>\n",
       "      <td>0.006760</td>\n",
       "      <td>0.003377</td>\n",
       "      <td>0.007102</td>\n",
       "      <td>0.020454</td>\n",
       "      <td>-0.001560</td>\n",
       "      <td>0.001629</td>\n",
       "      <td>-0.001009</td>\n",
       "    </tr>\n",
       "    <tr>\n",
       "      <th>FPH</th>\n",
       "      <td>-0.000662</td>\n",
       "      <td>-0.000214</td>\n",
       "      <td>0.001103</td>\n",
       "      <td>-0.001560</td>\n",
       "      <td>0.006900</td>\n",
       "      <td>-0.001004</td>\n",
       "      <td>0.004366</td>\n",
       "    </tr>\n",
       "    <tr>\n",
       "      <th>EBO</th>\n",
       "      <td>0.001142</td>\n",
       "      <td>0.001309</td>\n",
       "      <td>0.001154</td>\n",
       "      <td>0.001629</td>\n",
       "      <td>-0.001004</td>\n",
       "      <td>0.002648</td>\n",
       "      <td>-0.002128</td>\n",
       "    </tr>\n",
       "    <tr>\n",
       "      <th>ATM</th>\n",
       "      <td>-0.000322</td>\n",
       "      <td>-0.000900</td>\n",
       "      <td>0.002083</td>\n",
       "      <td>-0.001009</td>\n",
       "      <td>0.004366</td>\n",
       "      <td>-0.002128</td>\n",
       "      <td>0.016017</td>\n",
       "    </tr>\n",
       "  </tbody>\n",
       "</table>\n",
       "</div>"
      ],
      "text/plain": [
       "          ANZ       WHS       RYM       THL       FPH       EBO       ATM\n",
       "ANZ  0.005767  0.001620  0.002865  0.006760 -0.000662  0.001142 -0.000322\n",
       "WHS  0.001620  0.004967  0.002850  0.003377 -0.000214  0.001309 -0.000900\n",
       "RYM  0.002865  0.002850  0.007821  0.007102  0.001103  0.001154  0.002083\n",
       "THL  0.006760  0.003377  0.007102  0.020454 -0.001560  0.001629 -0.001009\n",
       "FPH -0.000662 -0.000214  0.001103 -0.001560  0.006900 -0.001004  0.004366\n",
       "EBO  0.001142  0.001309  0.001154  0.001629 -0.001004  0.002648 -0.002128\n",
       "ATM -0.000322 -0.000900  0.002083 -0.001009  0.004366 -0.002128  0.016017"
      ]
     },
     "execution_count": 42,
     "metadata": {},
     "output_type": "execute_result"
    }
   ],
   "source": [
    "dfs"
   ]
  },
  {
   "cell_type": "code",
   "execution_count": 43,
   "id": "89e21dcc",
   "metadata": {},
   "outputs": [
    {
     "data": {
      "text/plain": [
       "ANZ    0.001088\n",
       "WHS    0.013509\n",
       "RYM    0.002581\n",
       "THL    0.000211\n",
       "FPH    0.013786\n",
       "EBO    0.016630\n",
       "ATM    0.006257\n",
       "Name: Returns, dtype: float64"
      ]
     },
     "execution_count": 43,
     "metadata": {},
     "output_type": "execute_result"
    }
   ],
   "source": [
    "dfr"
   ]
  },
  {
   "cell_type": "code",
   "execution_count": 44,
   "id": "e653576a",
   "metadata": {},
   "outputs": [
    {
     "name": "stdout",
     "output_type": "stream",
     "text": [
      "ANZ    0.0\n",
      "WHS    0.0\n",
      "RYM    0.0\n",
      "THL    1.0\n",
      "FPH    0.0\n",
      "EBO    0.0\n",
      "ATM    0.0\n",
      "dtype: float64\n"
     ]
    }
   ],
   "source": [
    "args = (dfr, constant , dfs)\n",
    "\n",
    "result = minimize(sharpe, x0, args = args, method = 'SLSQP', bounds = bounds, constraints=sum_weight)\n",
    "\n",
    "result.x\n",
    "\n",
    "# Max Sharpe weights\n",
    "print(pd.Series(data = result.x, index=dfr.index).round(5))"
   ]
  }
 ],
 "metadata": {
  "kernelspec": {
   "display_name": "Python 3 (ipykernel)",
   "language": "python",
   "name": "python3"
  },
  "language_info": {
   "codemirror_mode": {
    "name": "ipython",
    "version": 3
   },
   "file_extension": ".py",
   "mimetype": "text/x-python",
   "name": "python",
   "nbconvert_exporter": "python",
   "pygments_lexer": "ipython3",
   "version": "3.8.13"
  }
 },
 "nbformat": 4,
 "nbformat_minor": 5
}
