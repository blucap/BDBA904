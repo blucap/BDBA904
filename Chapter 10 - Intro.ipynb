{
 "cells": [
  {
   "cell_type": "markdown",
   "id": "8eb76843",
   "metadata": {},
   "source": [
    "# Chapter 10 - Portfolio theory introduction\n",
    "---"
   ]
  },
  {
   "cell_type": "code",
   "execution_count": 1,
   "id": "95314a28",
   "metadata": {},
   "outputs": [],
   "source": [
    "# Preamble\n",
    "import pandas as pd\n",
    "import numpy as np\n",
    "import os # To set our working folder\n",
    "from bs4 import BeautifulSoup\n",
    "from urllib.request import Request, urlopen as uReq\n",
    "import urllib.error as uErr\n",
    "import re\n",
    "import tenacity\n",
    "import matplotlib.pyplot as plt\n",
    "from matplotlib.dates import DateFormatter\n",
    "import matplotlib.ticker as mticker\n",
    "import seaborn as sns\n",
    "import yfinance as yf  # This gets us prices from Yahoo finance. See https://pypi.org/project/yfinance/\n",
    "from linearmodels.panel import PanelOLS\n",
    "import math\n",
    "import statsmodels.api as sm\n",
    "import statsmodels.formula.api as smf\n",
    "from tabulate import tabulate\n",
    "from IPython.display import display, Math\n",
    "\n",
    "if os.name=='nt':\n",
    "    import xlwings as xw\n",
    "\n",
    "\n",
    "@tenacity.retry(wait=tenacity.wait_exponential(multiplier=1, min=4, max=64), stop=tenacity.stop_after_attempt(5))\n",
    "def get_that_page(url):\n",
    "    try:\n",
    "        req = Request(url, headers={'User-Agent': 'Mozilla/5.0'})\n",
    "        uClient = uReq(req)\n",
    "        print('Success')\n",
    "    except Exception:\n",
    "        print('Trying again.')\n",
    "    return uClient\n",
    "\n",
    "\n",
    "def get_nzx(url):\n",
    "    uClient = get_that_page(url)\n",
    "    soup = BeautifulSoup(uClient, 'lxml')\n",
    "    table = soup.find('table', class_='instruments-table')\n",
    "    table_headers =[]\n",
    "    for tx in soup.find_all('th'):\n",
    "        table_headers.append(tx.get('id'))\n",
    "\n",
    "    filler = ['unknown', 'pct']\n",
    "    data = []\n",
    "    rows = table.find_all('tr')\n",
    "    for row in rows:\n",
    "        cols = row.find_all('td')\n",
    "        cols = [ele.text.strip() for ele in cols]\n",
    "        #print(cols)\n",
    "        if len(cols)>0:\n",
    "            data.append(cols)\n",
    "    df = pd.DataFrame(data, columns=[x if x!=None else filler.pop() for x in table_headers])\n",
    "    lyst = ['price', 'volume', 'value', 'outstanding_capitalisation', 'market_capitalisation', 'pct', 'trade_count']\n",
    "    df[lyst] = df[lyst].replace({'\\$': '', ',': ''}, regex=True).apply(pd.to_numeric,  errors='coerce')\n",
    "    df['green_bond']= df['green_bond'].map({'false': 0, 'true': 1})\n",
    "    df = df[~df['company'].str.contains('Smartshares')]\n",
    "    df['code'] = df['code']+\".NZ\"\n",
    "    nzx = df['code'].to_list()\n",
    "\n",
    "    return(df[df['market_capitalisation']>0], nzx)\n",
    "\n",
    "\n",
    "def set_xmargin(ax, left=0.0, right=0.3):\n",
    "    ax.set_xmargin(0)\n",
    "    ax.autoscale_view()\n",
    "    lim = ax.get_xlim()\n",
    "    delta = np.diff(lim)\n",
    "    left =  lim[0] - delta*left\n",
    "    right = lim[1] + delta*right\n",
    "    ax.set_xlim(left,right)\n",
    "\n",
    "\n",
    "def nice_print(df, k=1, name=\"\"):\n",
    "    if isinstance(df, pd.DataFrame):\n",
    "        print(tabulate(k*df, tablefmt=\"fancy_grid\", floatfmt=\".4f\", headers=\"keys\"))\n",
    "    elif isinstance(df, pd.Series):\n",
    "        df.name= name\n",
    "        df=df.to_frame()\n",
    "        print(tabulate(k*df, tablefmt=\"fancy_grid\", floatfmt=\".4f\", headers=\"keys\"))"
   ]
  },
  {
   "cell_type": "markdown",
   "id": "e8ec1c78",
   "metadata": {},
   "source": [
    "---\n",
    "\n",
    "**Get NZX tickers from its web-site**\n"
   ]
  },
  {
   "cell_type": "code",
   "execution_count": 2,
   "id": "0d9c2a78",
   "metadata": {},
   "outputs": [
    {
     "name": "stdout",
     "output_type": "stream",
     "text": [
      "Success\n",
      "     code                            company  price          change  volume  \\\n",
      "0  NZA.NZ  NZ Automotive Investments Limited   0.74  $0.000 / 0.00%    5593   \n",
      "1  NZX.NZ                        NZX Limited   1.29  $0.000 / 0.00%   39391   \n",
      "2  MNW.NZ              Manawa Energy Limited   7.09  $0.140 / 2.01%   53949   \n",
      "\n",
      "       value  outstanding_capitalisation       pct unknown  green_bond  \\\n",
      "0    4138.82                    33710330  0.000000                   0   \n",
      "1   50182.76                   403173163  0.000000                   0   \n",
      "2  382389.42                  2218978570  2.014388                   0   \n",
      "\n",
      "   trade_count currency_code  market_capitalisation  \n",
      "0           55           NZD           3.371033e+07  \n",
      "1           81           NZD           4.031732e+08  \n",
      "2           76           NZD           2.218979e+09  \n",
      "['NZA.NZ', 'NZX.NZ', 'MNW.NZ', 'JPG.NZ', 'VNT.NZ', 'BIF.NZ', 'RAK.NZ', 'ARB.NZ', 'CHI.NZ', 'CCC.NZ', 'AFC.NZ', 'SKT.NZ', 'WIN.NZ', 'GSH.NZ', 'MEL.NZ', 'NTLOB.NZ', 'SVR.NZ', 'FBU.NZ', 'ENS.NZ', 'MCY.NZ', 'PEB.NZ', 'MFB.NZ', 'SPN.NZ', 'PYS.NZ', 'PPH.NZ', 'DOW.NZ', 'WBC.NZ', 'DGL.NZ', 'ERD.NZ', 'SAN.NZ', 'EBO.NZ', 'SDL.NZ', 'TRA.NZ', 'VSL.NZ', 'TEM.NZ', 'TCL.NZ', 'GTK.NZ', 'SCT.NZ', 'FCT.NZ', 'FPH.NZ', 'SKO.NZ', 'SNC.NZ', 'PGW.NZ', 'KFL.NZ', 'THL.NZ', 'GFL.NZ', 'ARG.NZ', 'GWC.NZ', 'CNU.NZ', 'IKE.NZ', 'IFT.NZ', 'JLG.NZ', 'SKL.NZ', 'VCT.NZ', 'SUM.NZ', 'FRE.NZ', 'RUA.NZ', 'SKC.NZ', 'BIT.NZ', 'NZK.NZ', 'KPG.NZ', 'SML.NZ', 'CDI.NZ', 'TWR.NZ', 'MEE.NZ', 'MPG.NZ', 'BGI.NZ', 'FWL.NZ', 'GFI.NZ', 'MWE.NZ', 'TGG.NZ', 'KFLWG.NZ', 'OCA.NZ', 'BGP.NZ', 'TWL.NZ', 'HLG.NZ', 'AGL.NZ', 'NZL.NZ', 'WHS.NZ', 'ACE.NZ', 'SPG.NZ', 'TAH.NZ', 'BLT.NZ', 'SPY.NZ', 'NZO.NZ', 'RYM.NZ', 'AIR.NZ', 'ALF.NZ', 'SEK.NZ', 'CMO.NZ', 'ARV.NZ', 'CEN.NZ', 'BRW.NZ', 'PLP.NZ', 'MCK.NZ', 'ATM.NZ', 'AKL.NZ', 'MCKPA.NZ', 'GEO.NZ', 'PFI.NZ', 'CRP.NZ', 'HMY.NZ', 'AIA.NZ', 'WDT.NZ', 'LIC.NZ', 'HFL.NZ', 'RAD.NZ', 'BFG.NZ', 'AFI.NZ', 'MHM.NZ', 'RBD.NZ', 'SMW.NZ', 'VGL.NZ', 'MLNWE.NZ', 'EVO.NZ', 'GXH.NZ', 'GEN.NZ', 'VTL.NZ', 'NWF.NZ', 'AFT.NZ', 'STU.NZ', 'BRM.NZ', 'IPL.NZ', 'PCT.NZ', 'SCY.NZ', 'MMH.NZ', 'GMT.NZ', 'NTL.NZ', 'MFT.NZ', 'MOV.NZ', 'NPH.NZ', 'MHJ.NZ', 'HGH.NZ', 'NZM.NZ', 'SPK.NZ', 'VHP.NZ', 'PX1.NZ', 'DGC.NZ', 'KMD.NZ', 'APL.NZ', 'CO2.NZ', 'TRU.NZ', 'MLN.NZ', 'POT.NZ', 'FSF.NZ', 'ANZ.NZ', 'PHL.NZ', 'CBD.NZ', 'GNE.NZ', 'SCL.NZ', 'CVT.NZ', '^NZ50']\n"
     ]
    }
   ],
   "source": [
    "dfm, nzx  = get_nzx('https://www.nzx.com/markets/NZSX')\n",
    "nzx+=['^NZ50']\n",
    "print(dfm.head(3))\n",
    "print(nzx)"
   ]
  },
  {
   "cell_type": "markdown",
   "id": "e1b746dd",
   "metadata": {},
   "source": [
    "**Obtain returns:**"
   ]
  },
  {
   "cell_type": "code",
   "execution_count": 3,
   "id": "e29fb268",
   "metadata": {},
   "outputs": [
    {
     "name": "stdout",
     "output_type": "stream",
     "text": [
      "[*********************100%***********************]  152 of 152 completed\n",
      "\n",
      "9 Failed downloads:\n",
      "- PLP.NZ: No data found for this date range, symbol may be delisted\n",
      "- CO2.NZ: No data found for this date range, symbol may be delisted\n",
      "- KFLWG.NZ: No data found, symbol may be delisted\n",
      "- MLNWE.NZ: No data found, symbol may be delisted\n",
      "- FCT.NZ: No data found for this date range, symbol may be delisted\n",
      "- JPG.NZ: No data found for this date range, symbol may be delisted\n",
      "- NTLOB.NZ: No data found, symbol may be delisted\n",
      "- BIF.NZ: No data found for this date range, symbol may be delisted\n",
      "- AKL.NZ: No data found, symbol may be delisted\n"
     ]
    }
   ],
   "source": [
    "def returns(nzx, start, end):\n",
    "    df_close = yf.download(nzx, start, end, progress=True, interval=\"1mo\")['Adj Close']\n",
    "    df_close.dropna(how = 'all', inplace=True, axis = 1)\n",
    "    df_close.sort_index(inplace=True)\n",
    "    df_close.index = pd.to_datetime(df_close.index, format ='%Y-%m-%d')\n",
    "    df_close.columns = [re.sub(r'.NZ$|\\^', \"\", x) for x in list(df_close)]\n",
    "    return list(df_close), df_close.resample('M').last()\n",
    "\n",
    "nzx_set, df_close = returns(nzx, '2011-10-01', '2022-04-30')"
   ]
  },
  {
   "cell_type": "code",
   "execution_count": 4,
   "id": "3b70414e",
   "metadata": {},
   "outputs": [
    {
     "data": {
      "text/plain": [
       "array([<AxesSubplot:xlabel='Date'>, <AxesSubplot:xlabel='Date'>,\n",
       "       <AxesSubplot:xlabel='Date'>, <AxesSubplot:xlabel='Date'>],\n",
       "      dtype=object)"
      ]
     },
     "execution_count": 4,
     "metadata": {},
     "output_type": "execute_result"
    },
    {
     "data": {
      "image/png": "[encoded data removed]",
      "text/plain": [
       "<Figure size 720x432 with 4 Axes>"
      ]
     },
     "metadata": {
      "needs_background": "light"
     },
     "output_type": "display_data"
    }
   ],
   "source": [
    "stocks_list = [\"AIR\", \"ANZ\", 'WHS', 'NZ50'] #, 'BGP', 'FPH', 'RYM', 'AIA', 'THL', 'NZ50']  \n",
    "data = df_close[stocks_list]\n",
    "data.plot(figsize=(10, 6), subplots=True)"
   ]
  },
  {
   "cell_type": "markdown",
   "id": "2492a0f1",
   "metadata": {},
   "source": [
    "---\n",
    "\n",
    "### Stocks Statistics \n",
    "\n",
    "**Calculate monthly returns using the difference of logs**"
   ]
  },
  {
   "cell_type": "code",
   "execution_count": 5,
   "id": "b1ade728",
   "metadata": {},
   "outputs": [
    {
     "data": {
      "text/html": [
       "<div>\n",
       "<style scoped>\n",
       "    .dataframe tbody tr th:only-of-type {\n",
       "        vertical-align: middle;\n",
       "    }\n",
       "\n",
       "    .dataframe tbody tr th {\n",
       "        vertical-align: top;\n",
       "    }\n",
       "\n",
       "    .dataframe thead th {\n",
       "        text-align: right;\n",
       "    }\n",
       "</style>\n",
       "<table border=\"1\" class=\"dataframe\">\n",
       "  <thead>\n",
       "    <tr style=\"text-align: right;\">\n",
       "      <th></th>\n",
       "      <th>AIR</th>\n",
       "      <th>ANZ</th>\n",
       "      <th>WHS</th>\n",
       "      <th>NZ50</th>\n",
       "    </tr>\n",
       "    <tr>\n",
       "      <th>Date</th>\n",
       "      <th></th>\n",
       "      <th></th>\n",
       "      <th></th>\n",
       "      <th></th>\n",
       "    </tr>\n",
       "  </thead>\n",
       "  <tbody>\n",
       "    <tr>\n",
       "      <th>2011-11-30</th>\n",
       "      <td>-0.079249</td>\n",
       "      <td>-0.085788</td>\n",
       "      <td>-0.064341</td>\n",
       "      <td>-0.018887</td>\n",
       "    </tr>\n",
       "    <tr>\n",
       "      <th>2011-12-31</th>\n",
       "      <td>-0.074901</td>\n",
       "      <td>0.070919</td>\n",
       "      <td>-0.032307</td>\n",
       "      <td>0.001375</td>\n",
       "    </tr>\n",
       "    <tr>\n",
       "      <th>2012-01-31</th>\n",
       "      <td>0.011050</td>\n",
       "      <td>0.026980</td>\n",
       "      <td>0.013245</td>\n",
       "      <td>0.006541</td>\n",
       "    </tr>\n",
       "  </tbody>\n",
       "</table>\n",
       "</div>"
      ],
      "text/plain": [
       "                 AIR       ANZ       WHS      NZ50\n",
       "Date                                              \n",
       "2011-11-30 -0.079249 -0.085788 -0.064341 -0.018887\n",
       "2011-12-31 -0.074901  0.070919 -0.032307  0.001375\n",
       "2012-01-31  0.011050  0.026980  0.013245  0.006541"
      ]
     },
     "execution_count": 5,
     "metadata": {},
     "output_type": "execute_result"
    }
   ],
   "source": [
    "monthly_ret = np.log(data).diff().dropna()\n",
    "monthly_ret.head(3)"
   ]
  },
  {
   "cell_type": "markdown",
   "id": "934cf3cf",
   "metadata": {},
   "source": [
    "**Geometric mean**\n",
    "\n",
    "$$\\begin{aligned} \\bar{R}_{G i} &=\\sqrt[T]{\\left(1+R_{i 1}\\right) \\times\\left(1+R_{i 2}\\right) \\times \\ldots \\times\\left(1+R_{i, T-1}\\right) \\times\\left(1+R_{i T}\\right)}-1 \\\\ &=\\sqrt[T]{\\prod_{t=1}^{T}\\left(1+R_{i t}\\right)-1} \\end{aligned}$$"
   ]
  },
  {
   "cell_type": "code",
   "execution_count": 6,
   "id": "83bbab57",
   "metadata": {
    "scrolled": true
   },
   "outputs": [
    {
     "name": "stdout",
     "output_type": "stream",
     "text": [
      "╒═════════════════════╤══════════╤═════════╤══════════╤═════════╕\n",
      "│ Date                │      AIR │     ANZ │      WHS │    NZ50 │\n",
      "╞═════════════════════╪══════════╪═════════╪══════════╪═════════╡\n",
      "│ 2021-12-31 00:00:00 │  -0.3306 │  6.3304 │   6.3393 │  2.5978 │\n",
      "├─────────────────────┼──────────┼─────────┼──────────┼─────────┤\n",
      "│ 2022-01-31 00:00:00 │  -4.7466 │ -0.9543 │ -28.7682 │ -8.3023 │\n",
      "├─────────────────────┼──────────┼─────────┼──────────┼─────────┤\n",
      "│ 2022-02-28 00:00:00 │   3.7483 │ -4.6259 │   2.6317 │  0.8410 │\n",
      "├─────────────────────┼──────────┼─────────┼──────────┼─────────┤\n",
      "│ 2022-03-31 00:00:00 │ -63.7449 │  7.2954 │   7.5035 │  0.1122 │\n",
      "├─────────────────────┼──────────┼─────────┼──────────┼─────────┤\n",
      "│ 2022-04-30 00:00:00 │  11.3155 │ -0.4679 │   3.8409 │ -1.8835 │\n",
      "╘═════════════════════╧══════════╧═════════╧══════════╧═════════╛\n"
     ]
    },
    {
     "data": {
      "image/png": "[encoded data removed]",
      "text/plain": [
       "<Figure size 432x288 with 1 Axes>"
      ]
     },
     "metadata": {
      "needs_background": "light"
     },
     "output_type": "display_data"
    }
   ],
   "source": [
    "monthly_ret.add(1).cumprod().sub(1).plot() # monthly_ret.cumsum().apply(np.exp).plot()\n",
    "nice_print(monthly_ret.tail(5), k=100, name=\"\")"
   ]
  },
  {
   "cell_type": "code",
   "execution_count": 7,
   "id": "c1164b9b",
   "metadata": {
    "scrolled": true
   },
   "outputs": [
    {
     "name": "stdout",
     "output_type": "stream",
     "text": [
      "Returns by year\n",
      "╒════════╤══════════╤══════════╤══════════╤═════════╕\n",
      "│   year │      AIR │      ANZ │      WHS │    NZ50 │\n",
      "╞════════╪══════════╪══════════╪══════════╪═════════╡\n",
      "│   2011 │ -14.8215 │  -2.0953 │  -9.4569 │ -1.7537 │\n",
      "├────────┼──────────┼──────────┼──────────┼─────────┤\n",
      "│   2012 │  50.9012 │  19.6986 │   3.5236 │ 23.5295 │\n",
      "├────────┼──────────┼──────────┼──────────┼─────────┤\n",
      "│   2013 │  31.6247 │  12.3514 │  28.8804 │ 15.8919 │\n",
      "├────────┼──────────┼──────────┼──────────┼─────────┤\n",
      "│   2014 │  51.0317 │  -0.7758 │ -13.0266 │ 17.3026 │\n",
      "├────────┼──────────┼──────────┼──────────┼─────────┤\n",
      "│   2015 │  20.5282 │  -7.8447 │ -11.3530 │ 12.9256 │\n",
      "├────────┼──────────┼──────────┼──────────┼─────────┤\n",
      "│   2016 │ -18.9719 │  10.6086 │  18.6206 │  7.9612 │\n",
      "├────────┼──────────┼──────────┼──────────┼─────────┤\n",
      "│   2017 │  51.7388 │   1.2943 │ -22.9155 │ 21.7938 │\n",
      "├────────┼──────────┼──────────┼──────────┼─────────┤\n",
      "│   2018 │   2.4678 │ -14.4121 │   6.0473 │  4.4771 │\n",
      "├────────┼──────────┼──────────┼──────────┼─────────┤\n",
      "│   2019 │   0.3354 │   2.9641 │  44.1501 │ 29.7504 │\n",
      "├────────┼──────────┼──────────┼──────────┼─────────┤\n",
      "│   2020 │ -97.3703 │ -12.4776 │  -1.5137 │ 11.8085 │\n",
      "├────────┼──────────┼──────────┼──────────┼─────────┤\n",
      "│   2021 │ -18.0669 │  21.6719 │  54.1070 │ -1.0441 │\n",
      "├────────┼──────────┼──────────┼──────────┼─────────┤\n",
      "│   2022 │ -60.1171 │   0.8812 │ -18.3893 │ -9.1709 │\n",
      "╘════════╧══════════╧══════════╧══════════╧═════════╛\n"
     ]
    }
   ],
   "source": [
    "def prelim_tables(df):\n",
    "    df = df.copy()\n",
    "    df['year'] = df.index.year.astype(int)\n",
    "    df.set_index('year', append=True, inplace=True)\n",
    "    print('Returns by year')\n",
    "    nice_print(df.add(1).groupby('year').prod().sub(1), 100)\n",
    "    \n",
    "prelim_tables(monthly_ret) "
   ]
  },
  {
   "cell_type": "code",
   "execution_count": 8,
   "id": "4e0a0c8c",
   "metadata": {},
   "outputs": [
    {
     "name": "stdout",
     "output_type": "stream",
     "text": [
      "AIR     0.397808\n",
      "ANZ     0.443320\n",
      "WHS     0.600332\n",
      "NZ50    1.009109\n",
      "Name: Mean Monthly Return, dtype: float64\n"
     ]
    }
   ],
   "source": [
    "# Mean Returns\n",
    "mean_ret = monthly_ret.mean()\n",
    "mean_ret.name = 'Mean Monthly Return'\n",
    "print(mean_ret*100)"
   ]
  },
  {
   "cell_type": "code",
   "execution_count": 9,
   "id": "31e87fd9",
   "metadata": {},
   "outputs": [
    {
     "name": "stdout",
     "output_type": "stream",
     "text": [
      "AIR     0.138227\n",
      "ANZ     0.067934\n",
      "WHS     0.064997\n",
      "NZ50    0.030847\n",
      "Name: Sigma, dtype: float64\n"
     ]
    }
   ],
   "source": [
    "# Sigma\n",
    "sigma    = monthly_ret.std()\n",
    "sigma.name = 'Sigma'\n",
    "print(sigma)"
   ]
  },
  {
   "cell_type": "code",
   "execution_count": 10,
   "id": "14711002",
   "metadata": {},
   "outputs": [
    {
     "name": "stdout",
     "output_type": "stream",
     "text": [
      "AIR     0.003978\n",
      "ANZ     0.004433\n",
      "WHS     0.006003\n",
      "NZ50    0.010091\n",
      "Name: Mean Monthly Return, dtype: float64\n"
     ]
    },
    {
     "data": {
      "image/png": "[encoded data removed]",
      "text/plain": [
       "<Figure size 432x288 with 1 Axes>"
      ]
     },
     "metadata": {
      "needs_background": "light"
     },
     "output_type": "display_data"
    }
   ],
   "source": [
    "mean_ret.to_frame().join(sigma.to_frame()).sort_values(by=['Mean Monthly Return']).plot(kind='bar', grid=True)\n",
    "print(mean_ret)"
   ]
  },
  {
   "cell_type": "markdown",
   "id": "175a9a62",
   "metadata": {},
   "source": [
    "#### COMPUTING COVARIANCE AND CORRELATION ####"
   ]
  },
  {
   "cell_type": "code",
   "execution_count": 11,
   "id": "b6aa253a",
   "metadata": {},
   "outputs": [
    {
     "name": "stdout",
     "output_type": "stream",
     "text": [
      "Monthly returns\n",
      "╒═════════════════════╤═════════╤═════════╤═════════╤═════════╕\n",
      "│ Date                │     AIR │     ANZ │     WHS │    NZ50 │\n",
      "╞═════════════════════╪═════════╪═════════╪═════════╪═════════╡\n",
      "│ 2011-11-30 00:00:00 │ -0.0792 │ -0.0858 │ -0.0643 │ -0.0189 │\n",
      "├─────────────────────┼─────────┼─────────┼─────────┼─────────┤\n",
      "│ 2011-12-31 00:00:00 │ -0.0749 │  0.0709 │ -0.0323 │  0.0014 │\n",
      "╘═════════════════════╧═════════╧═════════╧═════════╧═════════╛\n",
      "Mean returns\n",
      "╒══════╤════════╕\n",
      "│      │        │\n",
      "╞══════╪════════╡\n",
      "│ AIR  │ 0.0040 │\n",
      "├──────┼────────┤\n",
      "│ ANZ  │ 0.0044 │\n",
      "├──────┼────────┤\n",
      "│ WHS  │ 0.0060 │\n",
      "├──────┼────────┤\n",
      "│ NZ50 │ 0.0101 │\n",
      "╘══════╧════════╛\n",
      "Excess returns\n",
      "╒═════════════════════╤═════════╤═════════╤═════════╤═════════╕\n",
      "│ Date                │     AIR │     ANZ │     WHS │    NZ50 │\n",
      "╞═════════════════════╪═════════╪═════════╪═════════╪═════════╡\n",
      "│ 2011-11-30 00:00:00 │ -0.0832 │ -0.0902 │ -0.0703 │ -0.0290 │\n",
      "├─────────────────────┼─────────┼─────────┼─────────┼─────────┤\n",
      "│ 2011-12-31 00:00:00 │ -0.0789 │  0.0665 │ -0.0383 │ -0.0087 │\n",
      "╘═════════════════════╧═════════╧═════════╧═════════╧═════════╛\n",
      "Excess returns using .sub()\n",
      "╒═════════════════════╤═════════╤═════════╤═════════╤═════════╕\n",
      "│ Date                │     AIR │     ANZ │     WHS │    NZ50 │\n",
      "╞═════════════════════╪═════════╪═════════╪═════════╪═════════╡\n",
      "│ 2011-11-30 00:00:00 │ -0.0832 │ -0.0902 │ -0.0703 │ -0.0290 │\n",
      "├─────────────────────┼─────────┼─────────┼─────────┼─────────┤\n",
      "│ 2011-12-31 00:00:00 │ -0.0789 │  0.0665 │ -0.0383 │ -0.0087 │\n",
      "╘═════════════════════╧═════════╧═════════╧═════════╧═════════╛\n"
     ]
    }
   ],
   "source": [
    "# Calculate excess returns\n",
    "print('Monthly returns')\n",
    "nice_print(monthly_ret.head(2))\n",
    "print('Mean returns')\n",
    "nice_print(mean_ret)\n",
    "\n",
    "excess_ret = (monthly_ret - mean_ret)\n",
    "\n",
    "print('Excess returns')\n",
    "nice_print(excess_ret.head(2))\n",
    "\n",
    "print('Excess returns using .sub()')\n",
    "excess_ret = monthly_ret.sub(mean_ret)\n",
    "nice_print(excess_ret.head(2))"
   ]
  },
  {
   "cell_type": "markdown",
   "id": "22f82aac",
   "metadata": {},
   "source": [
    "**Using Excel to check**"
   ]
  },
  {
   "cell_type": "code",
   "execution_count": 12,
   "id": "8f8493e1",
   "metadata": {},
   "outputs": [],
   "source": [
    "wb = xw.Book()  \n",
    "sheet = wb.sheets['Sheet1']\n",
    "sheet.range('A1').value = monthly_ret\n",
    "sheet.range('G1').value = excess_ret"
   ]
  },
  {
   "cell_type": "markdown",
   "id": "2dbe1b27",
   "metadata": {},
   "source": [
    "**Covariance**\n",
    "\n",
    "$$\n",
    "\\frac{1}{N} \\sum_{t=1}^{N}\\left(r_{i t}-\\bar{r}_{i}\\right)\\left(r_{j t}-\\bar{r}_{j}\\right)\n",
    "$$\n"
   ]
  },
  {
   "cell_type": "code",
   "execution_count": 13,
   "id": "5bf8286d",
   "metadata": {},
   "outputs": [
    {
     "data": {
      "text/plain": [
       "0.0033262423750931116"
      ]
     },
     "execution_count": 13,
     "metadata": {},
     "output_type": "execute_result"
    }
   ],
   "source": [
    "# Covariance \n",
    "(excess_ret['AIR']*excess_ret['ANZ']).mean()"
   ]
  },
  {
   "cell_type": "markdown",
   "id": "f373fa1a",
   "metadata": {},
   "source": [
    "$$\n",
    "\\frac{1}{N-1} \\sum_{t=1}^{N}\\left(r_{i t}-\\bar{r}_{i}\\right)\\left(r_{j t}-\\bar{r}_{j}\\right)\n",
    "$$"
   ]
  },
  {
   "cell_type": "code",
   "execution_count": 14,
   "id": "9ac95f6e",
   "metadata": {},
   "outputs": [
    {
     "data": {
      "text/plain": [
       "0.0033528523140938567"
      ]
     },
     "execution_count": 14,
     "metadata": {},
     "output_type": "execute_result"
    }
   ],
   "source": [
    "N = len(excess_ret)\n",
    "(excess_ret['AIR']*excess_ret['ANZ']).mean()*N/(N-1)"
   ]
  },
  {
   "cell_type": "code",
   "execution_count": 15,
   "id": "3950c390",
   "metadata": {},
   "outputs": [
    {
     "data": {
      "text/latex": [
       "$\\displaystyle \\rho_{ij}\\sigma_i\\sigma_j$"
      ],
      "text/plain": [
       "<IPython.core.display.Math object>"
      ]
     },
     "metadata": {},
     "output_type": "display_data"
    },
    {
     "name": "stdout",
     "output_type": "stream",
     "text": [
      "╒══════╤════════╤════════╤════════╤════════╕\n",
      "│      │    AIR │    ANZ │    WHS │   NZ50 │\n",
      "╞══════╪════════╪════════╪════════╪════════╡\n",
      "│ AIR  │ 0.0191 │ 0.0034 │ 0.0017 │ 0.0021 │\n",
      "├──────┼────────┼────────┼────────┼────────┤\n",
      "│ ANZ  │ 0.0034 │ 0.0046 │ 0.0009 │ 0.0010 │\n",
      "├──────┼────────┼────────┼────────┼────────┤\n",
      "│ WHS  │ 0.0017 │ 0.0009 │ 0.0042 │ 0.0007 │\n",
      "├──────┼────────┼────────┼────────┼────────┤\n",
      "│ NZ50 │ 0.0021 │ 0.0010 │ 0.0007 │ 0.0010 │\n",
      "╘══════╧════════╧════════╧════════╧════════╛\n"
     ]
    }
   ],
   "source": [
    "cov_mat  = monthly_ret.cov()\n",
    "display(Math(r'\\rho_{ij}\\sigma_i\\sigma_j'))\n",
    "nice_print(cov_mat, 1, 'Covariances')"
   ]
  },
  {
   "cell_type": "code",
   "execution_count": 16,
   "id": "08671eb7",
   "metadata": {},
   "outputs": [
    {
     "data": {
      "text/latex": [
       "$\\displaystyle \\rho_{ij}$"
      ],
      "text/plain": [
       "<IPython.core.display.Math object>"
      ]
     },
     "metadata": {},
     "output_type": "display_data"
    },
    {
     "name": "stdout",
     "output_type": "stream",
     "text": [
      "╒══════╤════════╤════════╤════════╤════════╕\n",
      "│      │    AIR │    ANZ │    WHS │   NZ50 │\n",
      "╞══════╪════════╪════════╪════════╪════════╡\n",
      "│ AIR  │ 1.0000 │ 0.3571 │ 0.1848 │ 0.5017 │\n",
      "├──────┼────────┼────────┼────────┼────────┤\n",
      "│ ANZ  │ 0.3571 │ 1.0000 │ 0.2052 │ 0.4774 │\n",
      "├──────┼────────┼────────┼────────┼────────┤\n",
      "│ WHS  │ 0.1848 │ 0.2052 │ 1.0000 │ 0.3693 │\n",
      "├──────┼────────┼────────┼────────┼────────┤\n",
      "│ NZ50 │ 0.5017 │ 0.4774 │ 0.3693 │ 1.0000 │\n",
      "╘══════╧════════╧════════╧════════╧════════╛\n"
     ]
    },
    {
     "data": {
      "text/plain": [
       "<AxesSubplot:>"
      ]
     },
     "execution_count": 16,
     "metadata": {},
     "output_type": "execute_result"
    },
    {
     "data": {
      "image/png": "[encoded data removed]",
      "text/plain": [
       "<Figure size 432x288 with 2 Axes>"
      ]
     },
     "metadata": {
      "needs_background": "light"
     },
     "output_type": "display_data"
    }
   ],
   "source": [
    "# Correlation Matrix\n",
    "display(Math(r'\\rho_{ij}'))\n",
    "corr_mat = monthly_ret.corr()\n",
    "nice_print(corr_mat, 1)\n",
    "sns.heatmap(corr_mat, cmap=\"Greys\")"
   ]
  },
  {
   "cell_type": "code",
   "execution_count": 17,
   "id": "d538b2a3",
   "metadata": {},
   "outputs": [
    {
     "name": "stdout",
     "output_type": "stream",
     "text": [
      "                            OLS Regression Results                            \n",
      "==============================================================================\n",
      "Dep. Variable:                    AIR   R-squared:                       0.127\n",
      "Model:                            OLS   Adj. R-squared:                  0.120\n",
      "Method:                 Least Squares   F-statistic:                     18.12\n",
      "Date:                Mon, 16 May 2022   Prob (F-statistic):           4.06e-05\n",
      "Time:                        13:53:02   Log-Likelihood:                 79.643\n",
      "No. Observations:                 126   AIC:                            -155.3\n",
      "Df Residuals:                     124   BIC:                            -149.6\n",
      "Df Model:                           1                                         \n",
      "Covariance Type:            nonrobust                                         \n",
      "==============================================================================\n",
      "                 coef    std err          t      P>|t|      [0.025      0.975]\n",
      "------------------------------------------------------------------------------\n",
      "Intercept      0.0008      0.012      0.065      0.948      -0.022       0.024\n",
      "ANZ            0.7265      0.171      4.257      0.000       0.389       1.064\n",
      "==============================================================================\n",
      "Omnibus:                       86.673   Durbin-Watson:                   2.331\n",
      "Prob(Omnibus):                  0.000   Jarque-Bera (JB):             1152.363\n",
      "Skew:                          -2.031   Prob(JB):                    5.86e-251\n",
      "Kurtosis:                      17.248   Cond. No.                         14.8\n",
      "==============================================================================\n",
      "\n",
      "Notes:\n",
      "[1] Standard Errors assume that the covariance matrix of the errors is correctly specified.\n"
     ]
    }
   ],
   "source": [
    "# Regression\n",
    "results = smf.ols('AIR ~ 1 + ANZ', data=monthly_ret).fit()\n",
    "print(results.summary())"
   ]
  },
  {
   "cell_type": "code",
   "execution_count": 18,
   "id": "d6e08477",
   "metadata": {},
   "outputs": [],
   "source": [
    "#Scatter Plot\n",
    "\n",
    "def scattplot(X, Y, monthly_ret):\n",
    "    results = smf.ols(Y + ' ~ 1 + ' + X, data=monthly_ret).fit()\n",
    "    \n",
    "    fig = plt.figure(figsize=(7,6))\n",
    "    ax = sns.regplot(x=X, y=Y, data=monthly_ret, scatter_kws={'s':5})\n",
    "    \n",
    "    set_xmargin(ax, left=0, right=0)\n",
    "    \n",
    "    # Titles and axes names\n",
    "    ax.set_title(r'Monthly Returns')\n",
    "    ax.set_xlabel(X)\n",
    "    ax.set_ylabel(Y)\n",
    "    plt.grid(linestyle=\"dotted\", color='grey')\n",
    "    \n",
    "    # Equation\n",
    "    plusmin = '-' if results.params.Intercept<0 else '+'\n",
    "    equation = f'${{{Y}}}$ =  {results.params[1]:.3f} ${{{X}}}$ {plusmin} {abs(results.params.Intercept):.3f}'\n",
    "    ax.text(y = monthly_ret[Y].max(), x = monthly_ret[X].min(), s = equation)\n",
    "    plt.show()\n",
    "    print(results.summary())\n",
    "    return"
   ]
  },
  {
   "cell_type": "code",
   "execution_count": 19,
   "id": "d293d770",
   "metadata": {
    "scrolled": true
   },
   "outputs": [
    {
     "data": {
      "image/png": "[encoded data removed]",
      "text/plain": [
       "<Figure size 504x432 with 1 Axes>"
      ]
     },
     "metadata": {
      "needs_background": "light"
     },
     "output_type": "display_data"
    },
    {
     "name": "stdout",
     "output_type": "stream",
     "text": [
      "                            OLS Regression Results                            \n",
      "==============================================================================\n",
      "Dep. Variable:                    ANZ   R-squared:                       0.127\n",
      "Model:                            OLS   Adj. R-squared:                  0.120\n",
      "Method:                 Least Squares   F-statistic:                     18.12\n",
      "Date:                Mon, 16 May 2022   Prob (F-statistic):           4.06e-05\n",
      "Time:                        13:53:03   Log-Likelihood:                 169.15\n",
      "No. Observations:                 126   AIC:                            -334.3\n",
      "Df Residuals:                     124   BIC:                            -328.6\n",
      "Df Model:                           1                                         \n",
      "Covariance Type:            nonrobust                                         \n",
      "==============================================================================\n",
      "                 coef    std err          t      P>|t|      [0.025      0.975]\n",
      "------------------------------------------------------------------------------\n",
      "Intercept      0.0037      0.006      0.658      0.512      -0.008       0.015\n",
      "AIR            0.1755      0.041      4.257      0.000       0.094       0.257\n",
      "==============================================================================\n",
      "Omnibus:                        9.223   Durbin-Watson:                   2.101\n",
      "Prob(Omnibus):                  0.010   Jarque-Bera (JB):                9.546\n",
      "Skew:                          -0.537   Prob(JB):                      0.00845\n",
      "Kurtosis:                       3.816   Cond. No.                         7.26\n",
      "==============================================================================\n",
      "\n",
      "Notes:\n",
      "[1] Standard Errors assume that the covariance matrix of the errors is correctly specified.\n"
     ]
    }
   ],
   "source": [
    "scattplot('AIR','ANZ', monthly_ret)"
   ]
  },
  {
   "cell_type": "markdown",
   "id": "c121e762",
   "metadata": {},
   "source": [
    "**Return on an equally-weigthed portfolio plotted agains the NZ50**"
   ]
  },
  {
   "cell_type": "code",
   "execution_count": 20,
   "id": "b65a7954",
   "metadata": {
    "scrolled": true
   },
   "outputs": [
    {
     "data": {
      "image/png": "[encoded data removed]",
      "text/plain": [
       "<Figure size 504x432 with 1 Axes>"
      ]
     },
     "metadata": {
      "needs_background": "light"
     },
     "output_type": "display_data"
    },
    {
     "name": "stdout",
     "output_type": "stream",
     "text": [
      "                            OLS Regression Results                            \n",
      "==============================================================================\n",
      "Dep. Variable:                    EWP   R-squared:                       0.398\n",
      "Model:                            OLS   Adj. R-squared:                  0.393\n",
      "Method:                 Least Squares   F-statistic:                     81.86\n",
      "Date:                Mon, 16 May 2022   Prob (F-statistic):           2.51e-15\n",
      "Time:                        13:53:03   Log-Likelihood:                 195.21\n",
      "No. Observations:                 126   AIC:                            -386.4\n",
      "Df Residuals:                     124   BIC:                            -380.7\n",
      "Df Model:                           1                                         \n",
      "Covariance Type:            nonrobust                                         \n",
      "==============================================================================\n",
      "                 coef    std err          t      P>|t|      [0.025      0.975]\n",
      "------------------------------------------------------------------------------\n",
      "Intercept     -0.0089      0.005     -1.834      0.069      -0.019       0.001\n",
      "NZ50           1.3592      0.150      9.048      0.000       1.062       1.656\n",
      "==============================================================================\n",
      "Omnibus:                       40.734   Durbin-Watson:                   2.013\n",
      "Prob(Omnibus):                  0.000   Jarque-Bera (JB):              234.451\n",
      "Skew:                          -0.904   Prob(JB):                     1.23e-51\n",
      "Kurtosis:                       9.433   Cond. No.                         32.6\n",
      "==============================================================================\n",
      "\n",
      "Notes:\n",
      "[1] Standard Errors assume that the covariance matrix of the errors is correctly specified.\n"
     ]
    }
   ],
   "source": [
    "# Return on an equally weigthed portfolio\n",
    "scattplot('NZ50','EWP', monthly_ret.assign(EWP = monthly_ret[[x for x in list(monthly_ret) if x!=\"NZ50\"]].mean(axis=1)))"
   ]
  },
  {
   "cell_type": "markdown",
   "id": "f24ab633",
   "metadata": {},
   "source": [
    "### Building a portfolio of two stocks\n",
    "---"
   ]
  },
  {
   "cell_type": "code",
   "execution_count": 21,
   "id": "5eeaa27e",
   "metadata": {},
   "outputs": [
    {
     "name": "stdout",
     "output_type": "stream",
     "text": [
      "[*********************100%***********************]  3 of 3 completed\n"
     ]
    },
    {
     "data": {
      "text/plain": [
       "array([<AxesSubplot:xlabel='Date'>, <AxesSubplot:xlabel='Date'>],\n",
       "      dtype=object)"
      ]
     },
     "execution_count": 21,
     "metadata": {},
     "output_type": "execute_result"
    },
    {
     "data": {
      "image/png": "[encoded data removed]",
      "text/plain": [
       "<Figure size 720x216 with 2 Axes>"
      ]
     },
     "metadata": {
      "needs_background": "light"
     },
     "output_type": "display_data"
    }
   ],
   "source": [
    "nzx_set, df_close = returns(['BGP.NZ','WHS.NZ']+['^NZ50'], '2009-01-01', '2019-01-01')\n",
    "\n",
    "stocks_list = ['BGP', 'WHS' ]  \n",
    "data = df_close[stocks_list]\n",
    "data.plot(figsize=(10, 3), subplots=True)"
   ]
  },
  {
   "cell_type": "code",
   "execution_count": 22,
   "id": "d41aa3de",
   "metadata": {},
   "outputs": [],
   "source": [
    "monthly_ret = np.log(data).diff().dropna()\n",
    "mean_ret = monthly_ret.mean()\n",
    "mean_ret.name = 'Mean Monthly Return'\n",
    "sigma    = monthly_ret.std()\n",
    "sigma.name = 'Sigma'"
   ]
  },
  {
   "cell_type": "code",
   "execution_count": 23,
   "id": "a6dfa7cd",
   "metadata": {},
   "outputs": [
    {
     "name": "stdout",
     "output_type": "stream",
     "text": [
      "╒═════╤═══════════════════════╤═════════╕\n",
      "│     │   Mean Monthly Return │   Sigma │\n",
      "╞═════╪═══════════════════════╪═════════╡\n",
      "│ BGP │                0.0172 │  0.0555 │\n",
      "├─────┼───────────────────────┼─────────┤\n",
      "│ WHS │                0.0009 │  0.0532 │\n",
      "╘═════╧═══════════════════════╧═════════╛\n",
      "\n",
      "Correlations\n"
     ]
    },
    {
     "data": {
      "text/latex": [
       "$\\displaystyle \\rho_{ij}$"
      ],
      "text/plain": [
       "<IPython.core.display.Math object>"
      ]
     },
     "metadata": {},
     "output_type": "display_data"
    },
    {
     "name": "stdout",
     "output_type": "stream",
     "text": [
      "╒═════╤════════╤════════╕\n",
      "│     │    BGP │    WHS │\n",
      "╞═════╪════════╪════════╡\n",
      "│ BGP │ 1.0000 │ 0.2109 │\n",
      "├─────┼────────┼────────┤\n",
      "│ WHS │ 0.2109 │ 1.0000 │\n",
      "╘═════╧════════╧════════╛\n",
      "\n",
      "Covariances:\n"
     ]
    },
    {
     "data": {
      "text/latex": [
       "$\\displaystyle \\rho_{ij}\\sigma_i\\sigma_j$"
      ],
      "text/plain": [
       "<IPython.core.display.Math object>"
      ]
     },
     "metadata": {},
     "output_type": "display_data"
    },
    {
     "name": "stdout",
     "output_type": "stream",
     "text": [
      "╒═════╤════════╤════════╕\n",
      "│     │    BGP │    WHS │\n",
      "╞═════╪════════╪════════╡\n",
      "│ BGP │ 0.0031 │ 0.0006 │\n",
      "├─────┼────────┼────────┤\n",
      "│ WHS │ 0.0006 │ 0.0028 │\n",
      "╘═════╧════════╧════════╛\n"
     ]
    }
   ],
   "source": [
    "nice_print(mean_ret.to_frame().join(sigma), 1, 'Returns')\n",
    "cov_mat  = monthly_ret.cov()\n",
    "\n",
    "print('\\nCorrelations')\n",
    "display(Math(r'\\rho_{ij}'))\n",
    "corr_mat = monthly_ret.corr()\n",
    "nice_print(corr_mat, 1)\n",
    "\n",
    "print('\\nCovariances:')\n",
    "display(Math(r'\\rho_{ij}\\sigma_i\\sigma_j'))\n",
    "nice_print(cov_mat, 1)"
   ]
  },
  {
   "cell_type": "code",
   "execution_count": 24,
   "id": "17683a09",
   "metadata": {},
   "outputs": [
    {
     "name": "stdout",
     "output_type": "stream",
     "text": [
      "╒═════════╤════════╤════════╕\n",
      "│         │    BGP │    WHS │\n",
      "╞═════════╪════════╪════════╡\n",
      "│ Weights │ 0.5000 │ 0.5000 │\n",
      "╘═════════╧════════╧════════╛\n"
     ]
    }
   ],
   "source": [
    "# Set proportions\n",
    "Xa = 0.5\n",
    "Xb = 1 - Xa\n",
    "prop = pd.DataFrame(data = [Xa, Xb], columns = ['Weights'],  index=['BGP','WHS']).T\n",
    "nice_print(prop)"
   ]
  },
  {
   "cell_type": "code",
   "execution_count": 25,
   "id": "8abc7ad4",
   "metadata": {},
   "outputs": [
    {
     "name": "stdout",
     "output_type": "stream",
     "text": [
      "╒═════╤═══════════════════════╤═════════╕\n",
      "│     │   Mean Monthly Return │   Sigma │\n",
      "╞═════╪═══════════════════════╪═════════╡\n",
      "│ BGP │                1.7193 │  5.5507 │\n",
      "├─────┼───────────────────────┼─────────┤\n",
      "│ WHS │                0.0860 │  5.3201 │\n",
      "╘═════╧═══════════════════════╧═════════╛\n"
     ]
    }
   ],
   "source": [
    "nice_print(mean_ret.to_frame().join(sigma), 100)"
   ]
  },
  {
   "cell_type": "code",
   "execution_count": 26,
   "id": "fe137c50",
   "metadata": {},
   "outputs": [
    {
     "name": "stdout",
     "output_type": "stream",
     "text": [
      "╒═════════════════════╤═════════════════════╕\n",
      "│ Date                │   Portfolio Returns │\n",
      "╞═════════════════════╪═════════════════════╡\n",
      "│ 2015-06-30 00:00:00 │             -0.0404 │\n",
      "├─────────────────────┼─────────────────────┤\n",
      "│ 2013-09-30 00:00:00 │             -0.0253 │\n",
      "├─────────────────────┼─────────────────────┤\n",
      "│ 2017-09-30 00:00:00 │             -0.0671 │\n",
      "├─────────────────────┼─────────────────────┤\n",
      "│ 2012-11-30 00:00:00 │             -0.0082 │\n",
      "├─────────────────────┼─────────────────────┤\n",
      "│ 2013-11-30 00:00:00 │              0.0090 │\n",
      "╘═════════════════════╧═════════════════════╛\n"
     ]
    }
   ],
   "source": [
    "# Portfolio Returns\n",
    "t_monthly_ret = monthly_ret.T\n",
    "port_ret = (prop @ t_monthly_ret).T\n",
    "port_ret.columns = ['Portfolio Returns']\n",
    "nice_print(port_ret.sample(5))"
   ]
  },
  {
   "cell_type": "markdown",
   "id": "7222eea9",
   "metadata": {},
   "source": [
    "---\n",
    "#### Calculate portfolio Variance ####"
   ]
  },
  {
   "cell_type": "markdown",
   "id": "eb7d8f8d",
   "metadata": {},
   "source": [
    "$$\n",
    "\\begin{aligned}\n",
    "&\\sigma_{P}^{2}=w_{1}^{2} \\sigma_{1}^{2}+w_{2}^{2} \\sigma_{2}^{2}+2 w_{1} w_{2} \\operatorname{Cov}\\left(R_{1}, R_{2}\\right) \\\\\n",
    "&\\sigma_{P}^{2}=w_{1}^{2} \\sigma_{1}^{2}+w_{2}^{2} \\sigma_{2}^{2}+2 w_{1} w_{2} \\rho_{12} \\sigma_{1} \\sigma_{2}\n",
    "\\end{aligned}\n",
    "$$"
   ]
  },
  {
   "cell_type": "code",
   "execution_count": 27,
   "id": "0d40148c",
   "metadata": {},
   "outputs": [
    {
     "data": {
      "text/latex": [
       "$\\displaystyle \\rho_{ij}$"
      ],
      "text/plain": [
       "<IPython.core.display.Math object>"
      ]
     },
     "metadata": {},
     "output_type": "display_data"
    },
    {
     "name": "stdout",
     "output_type": "stream",
     "text": [
      "╒═════╤════════╤════════╕\n",
      "│     │    BGP │    WHS │\n",
      "╞═════╪════════╪════════╡\n",
      "│ BGP │ 1.0000 │ 0.2109 │\n",
      "├─────┼────────┼────────┤\n",
      "│ WHS │ 0.2109 │ 1.0000 │\n",
      "╘═════╧════════╧════════╛\n"
     ]
    }
   ],
   "source": [
    "# Correlation Matrix\n",
    "display(Math(r'\\rho_{ij}'))\n",
    "corr_mat = monthly_ret.corr()\n",
    "nice_print(corr_mat, 1)"
   ]
  },
  {
   "cell_type": "markdown",
   "id": "69636d1b",
   "metadata": {},
   "source": [
    "**Note that the correlations are between  zero and one ... implication ...**"
   ]
  },
  {
   "cell_type": "markdown",
   "id": "e5e8b9ae",
   "metadata": {},
   "source": [
    "**Calculate portfolio Sigma**"
   ]
  },
  {
   "cell_type": "markdown",
   "id": "f2e58b5f",
   "metadata": {},
   "source": [
    "$$\n",
    "\\begin{aligned}\n",
    "&\\sigma_{P}=\\sqrt{ w_{1}^{2} \\sigma_{1}^{2}+w_{2}^{2} \\sigma_{2}^{2}+2 w_{1} w_{2} \\rho_{12} \\sigma_{1} \\sigma_{2}}\n",
    "\\end{aligned}\n",
    "$$"
   ]
  },
  {
   "cell_type": "code",
   "execution_count": 28,
   "id": "1ea98d7c",
   "metadata": {},
   "outputs": [
    {
     "data": {
      "text/plain": [
       "0.0017892711618565807"
      ]
     },
     "execution_count": 28,
     "metadata": {},
     "output_type": "execute_result"
    }
   ],
   "source": [
    "port_var = prop @ cov_mat @ prop.T\n",
    "port_var['Weights'][0]"
   ]
  },
  {
   "cell_type": "code",
   "execution_count": 29,
   "id": "eaa57659",
   "metadata": {},
   "outputs": [
    {
     "name": "stdout",
     "output_type": "stream",
     "text": [
      "Portfolio Return:   0.9027% \n",
      "Portfolio Variance: 0.001789\n",
      "Portfolio Sigma   : 4.23% \n",
      "\n",
      "Compare that to the individual stocks:\n"
     ]
    }
   ],
   "source": [
    "port_sigma = port_var**.5\n",
    "print('Portfolio Return:   {:2.4}% \\nPortfolio Variance: {:2.4}\\nPortfolio Sigma   : {:2.5}% \\n\\nCompare that to the individual stocks:'.format(port_ret.mean().values[0]*100, \n",
    "                                                                                                   port_var.values[0][0], \n",
    "                                                                                                   port_sigma.values[0][0]*100))"
   ]
  },
  {
   "cell_type": "code",
   "execution_count": 30,
   "id": "3ce3159b",
   "metadata": {},
   "outputs": [
    {
     "name": "stdout",
     "output_type": "stream",
     "text": [
      "╒═════╤═══════════════════════╤═════════╕\n",
      "│     │   Mean Monthly Return │   Sigma │\n",
      "╞═════╪═══════════════════════╪═════════╡\n",
      "│ BGP │                1.7193 │  5.5507 │\n",
      "├─────┼───────────────────────┼─────────┤\n",
      "│ WHS │                0.0860 │  5.3201 │\n",
      "╘═════╧═══════════════════════╧═════════╛\n"
     ]
    }
   ],
   "source": [
    "nice_print(mean_ret.to_frame().join(sigma), 100)"
   ]
  },
  {
   "cell_type": "markdown",
   "id": "ee17f27d",
   "metadata": {},
   "source": [
    "---\n",
    "\n",
    "### This is a good time to focus on the script *Efficient Set for two stocks and the capital allocation line*\n",
    "\n",
    "---"
   ]
  },
  {
   "cell_type": "markdown",
   "id": "79bf425d",
   "metadata": {},
   "source": [
    "---\n",
    "\n",
    "### Calculating the  Minimum-Variance Portfolio using the analytical approach\n",
    "\n",
    "---"
   ]
  },
  {
   "cell_type": "code",
   "execution_count": 31,
   "id": "e46e2cdc",
   "metadata": {},
   "outputs": [
    {
     "name": "stdout",
     "output_type": "stream",
     "text": [
      "╒═════╤════════╤════════╕\n",
      "│     │    BGP │    WHS │\n",
      "╞═════╪════════╪════════╡\n",
      "│ BGP │ 0.0031 │ 0.0006 │\n",
      "├─────┼────────┼────────┤\n",
      "│ WHS │ 0.0006 │ 0.0028 │\n",
      "╘═════╧════════╧════════╛\n",
      "Portfolio Return:   0.009027\n",
      "Portfolio Variance: 0.001789\n",
      "Portfolio Sigma:    0.0423\n",
      "BGP_var:            0.003081\n",
      "WHS_var:            0.00283\n",
      "B_W_cov:            0.0006228\n"
     ]
    }
   ],
   "source": [
    "# Analytical Approach\n",
    "\n",
    "nice_print(cov_mat, 1)\n",
    "\n",
    "print('Portfolio Return:   {:2.4}\\nPortfolio Variance: {:2.4}\\nPortfolio Sigma:    {:2.4}'.format(port_ret.mean().values[0], \n",
    "                                                                                                   port_var.values[0][0], \n",
    "                                                                                                   port_sigma.values[0][0]))\n",
    "\n",
    "BGP_var = cov_mat.loc[\"BGP\"][\"BGP\"]\n",
    "print('BGP_var:            {:2.4}'.format(BGP_var))\n",
    "\n",
    "WHS_var = cov_mat.loc[\"WHS\"][\"WHS\"]\n",
    "print('WHS_var:            {:2.4}'.format(WHS_var))\n",
    "\n",
    "B_W_cov = cov_mat.loc[\"WHS\"][\"BGP\"]\n",
    "print('B_W_cov:            {:2.4}'.format(B_W_cov))\n",
    "\n"
   ]
  },
  {
   "cell_type": "markdown",
   "id": "f0822b27",
   "metadata": {},
   "source": [
    "Using math:\n",
    "$$\n",
    "\\begin{aligned}\n",
    "\t\\sigma{p}^{2}&=w^{2} \\sigma_{1}^{2} +(1-w)^{2} \\sigma_{2}^{2}+2 w(1-w) \\sigma_{1} \\sigma_{2} \\rho \\\\\n",
    "\t\\mu_{p}&=w \\mu_{1}+(1-w) \\mu_{2}\\\\\n",
    "\t\\frac{d_{\\sigma_{p}}}{d w}&=0 \\\\\n",
    "\tw &=\\frac{\\sigma_{2}^{2}-\\rho \\sigma_{1} \\sigma_{2}}{\\sigma_{2}^{2}+\\sigma_{1}^{2}-2 \\rho \\sigma_{1} \\sigma_{2}} \n",
    "\\end{aligned}\n",
    "$$"
   ]
  },
  {
   "cell_type": "markdown",
   "id": "f81ba651",
   "metadata": {},
   "source": [
    "**Determine Weights:**"
   ]
  },
  {
   "cell_type": "code",
   "execution_count": 32,
   "id": "f3586c3e",
   "metadata": {},
   "outputs": [
    {
     "name": "stdout",
     "output_type": "stream",
     "text": [
      "GMVP_W:   0.473138\n",
      "GMVP_B:   0.526862\n",
      "╒═════════╤════════╤════════╕\n",
      "│         │    BGP │    WHS │\n",
      "╞═════════╪════════╪════════╡\n",
      "│ Weights │ 0.5269 │ 0.4731 │\n",
      "╘═════════╧════════╧════════╛\n",
      "╒═════╤══════════╕\n",
      "│     │   Return │\n",
      "╞═════╪══════════╡\n",
      "│ BGP │   1.7193 │\n",
      "├─────┼──────────┤\n",
      "│ WHS │   0.0860 │\n",
      "╘═════╧══════════╛\n"
     ]
    }
   ],
   "source": [
    "# W weight:\n",
    "GMVP_W = (WHS_var - B_W_cov) / (WHS_var + BGP_var - 2 * B_W_cov)\n",
    "print('GMVP_W:   {:2.7}'.format(GMVP_W))\n",
    "\n",
    "# B weight\n",
    "GMVP_B = 1 - GMVP_W\n",
    "print('GMVP_B:   {:2.7}'.format(GMVP_B))\n",
    "\n",
    "aprop = pd.DataFrame(data = [GMVP_B, GMVP_W], columns = ['Weights'], index = ['BGP','WHS']).T\n",
    "nice_print(aprop)\n",
    "nice_print(mean_ret*100, name='Return')"
   ]
  },
  {
   "cell_type": "markdown",
   "id": "bb88211b",
   "metadata": {},
   "source": [
    "**Calculating GMVP return:**"
   ]
  },
  {
   "cell_type": "code",
   "execution_count": 33,
   "id": "accb4b43",
   "metadata": {
    "scrolled": true
   },
   "outputs": [
    {
     "name": "stdout",
     "output_type": "stream",
     "text": [
      "╒═════════╤════════════════════╕\n",
      "│         │   Portfolio return │\n",
      "╞═════════╪════════════════════╡\n",
      "│ Weights │             0.9465 │\n",
      "╘═════════╧════════════════════╛\n"
     ]
    }
   ],
   "source": [
    "GMVP_ret = aprop @ mean_ret.T\n",
    "nice_print(GMVP_ret*100,  name='Portfolio return')"
   ]
  },
  {
   "cell_type": "code",
   "execution_count": 34,
   "id": "774c1e0c",
   "metadata": {},
   "outputs": [],
   "source": [
    "## Calculating GMVP return:\n",
    "#GMVP_ret = aprop @ mean_ret.T\n",
    "#GMVP_ret = GMVP_ret.values[0]\n",
    "#print('GMVP_ret:   {:2.4}'.format(GMVP_ret))"
   ]
  },
  {
   "cell_type": "markdown",
   "id": "c8a43072",
   "metadata": {},
   "source": [
    "**Calculating GMVP variance:**"
   ]
  },
  {
   "cell_type": "code",
   "execution_count": 35,
   "id": "777fba10",
   "metadata": {},
   "outputs": [
    {
     "name": "stdout",
     "output_type": "stream",
     "text": [
      "              BGP       WHS\n",
      "Weights  0.526862  0.473138\n",
      "\n",
      "GMVP_var:   0.00179937118\n"
     ]
    }
   ],
   "source": [
    "print(aprop)\n",
    "GMVP_var = aprop @ cov_mat @ aprop.T\n",
    "print('\\nGMVP_var:   {:2.9}'.format(GMVP_var.values[0][0]))"
   ]
  },
  {
   "cell_type": "markdown",
   "id": "a79a31f5",
   "metadata": {},
   "source": [
    "**Calculate GMVP Sigma:**"
   ]
  },
  {
   "cell_type": "code",
   "execution_count": 36,
   "id": "de90e372",
   "metadata": {},
   "outputs": [
    {
     "name": "stdout",
     "output_type": "stream",
     "text": [
      "GMVP_sigma: 4.2419\n"
     ]
    }
   ],
   "source": [
    "GMVP_sigma = math.sqrt(GMVP_var.values[0][0])\n",
    "print('GMVP_sigma: {:2.5}'.format(GMVP_sigma*100))"
   ]
  },
  {
   "cell_type": "code",
   "execution_count": 37,
   "id": "e600911e",
   "metadata": {},
   "outputs": [
    {
     "name": "stdout",
     "output_type": "stream",
     "text": [
      "╒═════╤═══════════════════════╤═════════╕\n",
      "│     │   Mean Monthly Return │   Sigma │\n",
      "╞═════╪═══════════════════════╪═════════╡\n",
      "│ BGP │                1.7193 │  5.5507 │\n",
      "├─────┼───────────────────────┼─────────┤\n",
      "│ WHS │                0.0860 │  5.3201 │\n",
      "╘═════╧═══════════════════════╧═════════╛\n"
     ]
    }
   ],
   "source": [
    "nice_print(mean_ret.to_frame().join(sigma), 100)"
   ]
  },
  {
   "cell_type": "code",
   "execution_count": 38,
   "id": "3d1113d5",
   "metadata": {},
   "outputs": [
    {
     "name": "stdout",
     "output_type": "stream",
     "text": [
      "╒═════════╤════════════════════╕\n",
      "│         │   Portfolio return │\n",
      "╞═════════╪════════════════════╡\n",
      "│ Weights │             0.9465 │\n",
      "╘═════════╧════════════════════╛\n"
     ]
    }
   ],
   "source": [
    "nice_print(GMVP_ret*100,  name='Portfolio return')"
   ]
  },
  {
   "cell_type": "code",
   "execution_count": 39,
   "id": "2dc41daf",
   "metadata": {},
   "outputs": [
    {
     "name": "stdout",
     "output_type": "stream",
     "text": [
      "GMVP_sigma: 4.2419\n"
     ]
    }
   ],
   "source": [
    "print('GMVP_sigma: {:2.5}'.format(GMVP_sigma*100))"
   ]
  },
  {
   "cell_type": "markdown",
   "id": "93e33bb8",
   "metadata": {},
   "source": [
    "## A graph ##\n",
    "\n",
    "**Returns**"
   ]
  },
  {
   "cell_type": "code",
   "execution_count": 40,
   "id": "68bcb556",
   "metadata": {},
   "outputs": [],
   "source": [
    "BGP_ret = mean_ret['BGP']\n",
    "#BGP_ret\n",
    "\n",
    "WHS_ret = mean_ret['WHS']\n",
    "#WHS_ret"
   ]
  },
  {
   "cell_type": "markdown",
   "id": "097434fe",
   "metadata": {},
   "source": [
    "**Set an Array of Portfolio Weights**"
   ]
  },
  {
   "cell_type": "code",
   "execution_count": 41,
   "id": "f077a35d",
   "metadata": {},
   "outputs": [],
   "source": [
    "BGP_weight = np.arange(-1,2,0.1)\n",
    "WHS_weight = 1-BGP_weight\n",
    "\n",
    "# Portfolio Z Mean Returns\n",
    "BW_ret = BGP_weight * BGP_ret + WHS_weight * WHS_ret\n",
    "#print(pd.Series(BW_ret))"
   ]
  },
  {
   "cell_type": "markdown",
   "id": "b0d1ed8e",
   "metadata": {},
   "source": [
    "**Portfolios sigmas for the array of weight combinations**"
   ]
  },
  {
   "cell_type": "markdown",
   "id": "8c033c3f",
   "metadata": {},
   "source": [
    "$$\n",
    "\\begin{aligned}\n",
    "&\\sigma_{P}^{2}=w_{1}^{2} \\sigma_{1}^{2}+w_{2}^{2} \\sigma_{2}^{2}+2 w_{1} w_{2} \\rho_{12} \\sigma_{1} \\sigma_{2}\n",
    "\\end{aligned}\n",
    "$$"
   ]
  },
  {
   "cell_type": "code",
   "execution_count": 42,
   "id": "41481867",
   "metadata": {},
   "outputs": [],
   "source": [
    "BW_sigma = (BGP_weight ** 2 * BGP_var + WHS_weight ** 2 * WHS_var + BGP_weight * WHS_weight * B_W_cov * 2) ** 0.5\n",
    "#print(pd.Series(BW_sigma))"
   ]
  },
  {
   "cell_type": "code",
   "execution_count": 43,
   "id": "222e1c74",
   "metadata": {},
   "outputs": [
    {
     "data": {
      "text/html": [
       "<div>\n",
       "<style scoped>\n",
       "    .dataframe tbody tr th:only-of-type {\n",
       "        vertical-align: middle;\n",
       "    }\n",
       "\n",
       "    .dataframe tbody tr th {\n",
       "        vertical-align: top;\n",
       "    }\n",
       "\n",
       "    .dataframe thead th {\n",
       "        text-align: right;\n",
       "    }\n",
       "</style>\n",
       "<table border=\"1\" class=\"dataframe\">\n",
       "  <thead>\n",
       "    <tr style=\"text-align: right;\">\n",
       "      <th></th>\n",
       "      <th>Return</th>\n",
       "    </tr>\n",
       "    <tr>\n",
       "      <th>Sigma</th>\n",
       "      <th></th>\n",
       "    </tr>\n",
       "  </thead>\n",
       "  <tbody>\n",
       "    <tr>\n",
       "      <th>0.078768</th>\n",
       "      <td>-0.007306</td>\n",
       "    </tr>\n",
       "    <tr>\n",
       "      <th>0.109139</th>\n",
       "      <td>-0.015473</td>\n",
       "    </tr>\n",
       "    <tr>\n",
       "      <th>0.067637</th>\n",
       "      <td>-0.004040</td>\n",
       "    </tr>\n",
       "    <tr>\n",
       "      <th>0.070540</th>\n",
       "      <td>0.022093</td>\n",
       "    </tr>\n",
       "    <tr>\n",
       "      <th>0.102875</th>\n",
       "      <td>-0.013840</td>\n",
       "    </tr>\n",
       "  </tbody>\n",
       "</table>\n",
       "</div>"
      ],
      "text/plain": [
       "            Return\n",
       "Sigma             \n",
       "0.078768 -0.007306\n",
       "0.109139 -0.015473\n",
       "0.067637 -0.004040\n",
       "0.070540  0.022093\n",
       "0.102875 -0.013840"
      ]
     },
     "execution_count": 43,
     "metadata": {},
     "output_type": "execute_result"
    }
   ],
   "source": [
    "# Envelope\n",
    "dfeff = pd.DataFrame({'Sigma': BW_sigma, 'Return': BW_ret}, columns=['Sigma', 'Return'])\n",
    "dfeff.set_index('Sigma', inplace=True)\n",
    "dfeff.sample(5)"
   ]
  },
  {
   "cell_type": "code",
   "execution_count": 44,
   "id": "64ddc1bc",
   "metadata": {},
   "outputs": [
    {
     "data": {
      "text/html": [
       "<div>\n",
       "<style scoped>\n",
       "    .dataframe tbody tr th:only-of-type {\n",
       "        vertical-align: middle;\n",
       "    }\n",
       "\n",
       "    .dataframe tbody tr th {\n",
       "        vertical-align: top;\n",
       "    }\n",
       "\n",
       "    .dataframe thead th {\n",
       "        text-align: right;\n",
       "    }\n",
       "</style>\n",
       "<table border=\"1\" class=\"dataframe\">\n",
       "  <thead>\n",
       "    <tr style=\"text-align: right;\">\n",
       "      <th></th>\n",
       "      <th>Return</th>\n",
       "    </tr>\n",
       "    <tr>\n",
       "      <th>Sigma</th>\n",
       "      <th></th>\n",
       "    </tr>\n",
       "  </thead>\n",
       "  <tbody>\n",
       "    <tr>\n",
       "      <th>0.067637</th>\n",
       "      <td>-0.004040</td>\n",
       "    </tr>\n",
       "    <tr>\n",
       "      <th>0.065199</th>\n",
       "      <td>0.020460</td>\n",
       "    </tr>\n",
       "    <tr>\n",
       "      <th>0.090593</th>\n",
       "      <td>-0.010573</td>\n",
       "    </tr>\n",
       "    <tr>\n",
       "      <th>0.049351</th>\n",
       "      <td>0.002493</td>\n",
       "    </tr>\n",
       "    <tr>\n",
       "      <th>0.045011</th>\n",
       "      <td>0.012293</td>\n",
       "    </tr>\n",
       "  </tbody>\n",
       "</table>\n",
       "</div>"
      ],
      "text/plain": [
       "            Return\n",
       "Sigma             \n",
       "0.067637 -0.004040\n",
       "0.065199  0.020460\n",
       "0.090593 -0.010573\n",
       "0.049351  0.002493\n",
       "0.045011  0.012293"
      ]
     },
     "execution_count": 44,
     "metadata": {},
     "output_type": "execute_result"
    }
   ],
   "source": [
    "# Envelope\n",
    "dfeff = pd.DataFrame({'Sigma': BW_sigma, 'Return': BW_ret}, columns=['Sigma', 'Return'])\n",
    "dfeff.set_index('Sigma', inplace=True)\n",
    "dfeff.sample(5)"
   ]
  },
  {
   "cell_type": "code",
   "execution_count": 45,
   "id": "9c3149cd",
   "metadata": {},
   "outputs": [
    {
     "data": {
      "image/png": "[encoded data removed]",
      "text/plain": [
       "<Figure size 504x432 with 1 Axes>"
      ]
     },
     "metadata": {
      "needs_background": "light"
     },
     "output_type": "display_data"
    }
   ],
   "source": [
    "fig, ax = plt.subplots(figsize=(7,6))\n",
    "ax.set_title(r'Monthly Returns')\n",
    "dfeff.plot(ax=ax, grid=True)\n",
    "ax.plot(sigma.to_list(), mean_ret.to_list(), 'o') # assets\n",
    "ax.plot(GMVP_sigma, GMVP_ret, 'o') # assets\n",
    "# Labels\n",
    "ax.text(sigma['BGP']+0.005,mean_ret['BGP'],'BGP')\n",
    "ax.text(sigma['WHS']+0.005,mean_ret['WHS'],'WHS')\n",
    "plt.show()"
   ]
  },
  {
   "cell_type": "markdown",
   "id": "46d50222",
   "metadata": {},
   "source": [
    "**Applying this to multiple pairs of stocks**"
   ]
  },
  {
   "cell_type": "code",
   "execution_count": 46,
   "id": "e8212617",
   "metadata": {},
   "outputs": [
    {
     "name": "stdout",
     "output_type": "stream",
     "text": [
      "[*********************100%***********************]  152 of 152 completed\n",
      "\n",
      "9 Failed downloads:\n",
      "- KFLWG.NZ: No data found, symbol may be delisted\n",
      "- PLP.NZ: No data found for this date range, symbol may be delisted\n",
      "- CO2.NZ: No data found for this date range, symbol may be delisted\n",
      "- MLNWE.NZ: No data found, symbol may be delisted\n",
      "- FCT.NZ: No data found for this date range, symbol may be delisted\n",
      "- JPG.NZ: No data found for this date range, symbol may be delisted\n",
      "- NTLOB.NZ: No data found, symbol may be delisted\n",
      "- BIF.NZ: No data found for this date range, symbol may be delisted\n",
      "- AKL.NZ: No data found, symbol may be delisted\n"
     ]
    }
   ],
   "source": [
    "nzx_set, df_close = returns(nzx+['^NZ50'], '2011-10-01', '2022-04-30')"
   ]
  },
  {
   "cell_type": "code",
   "execution_count": 47,
   "id": "78f75642",
   "metadata": {},
   "outputs": [
    {
     "data": {
      "image/png": "[encoded data removed]",
      "text/plain": [
       "<Figure size 432x288 with 1 Axes>"
      ]
     },
     "metadata": {
      "needs_background": "light"
     },
     "output_type": "display_data"
    }
   ],
   "source": [
    "stocks_list = [\"AIR\", \"ANZ\", 'WHS', 'BGP', 'FPH', 'RYM', 'AIA', 'THL']  # tickers seperated by space\n",
    "data = df_close[stocks_list]\n",
    "\n",
    "# Calculate monthly returns\n",
    "monthly_ret = np.log(data).diff().dropna()\n",
    "monthly_ret.cumsum().apply(np.exp).plot()\n",
    "\n",
    "mean_ret = monthly_ret.mean()\n",
    "mean_ret.name = 'Mean Monthly Return'"
   ]
  },
  {
   "cell_type": "code",
   "execution_count": 48,
   "id": "94906135",
   "metadata": {},
   "outputs": [
    {
     "data": {
      "text/plain": [
       "AIR    0.003978\n",
       "ANZ    0.004433\n",
       "WHS    0.006003\n",
       "BGP    0.015740\n",
       "FPH    0.019627\n",
       "RYM    0.011274\n",
       "AIA    0.010925\n",
       "THL    0.017414\n",
       "dtype: float64"
      ]
     },
     "execution_count": 48,
     "metadata": {},
     "output_type": "execute_result"
    }
   ],
   "source": [
    "monthly_ret.mean()"
   ]
  },
  {
   "cell_type": "code",
   "execution_count": 49,
   "id": "21fb0047",
   "metadata": {},
   "outputs": [
    {
     "data": {
      "image/png": "[encoded data removed]",
      "text/plain": [
       "<Figure size 504x432 with 1 Axes>"
      ]
     },
     "metadata": {
      "needs_background": "light"
     },
     "output_type": "display_data"
    },
    {
     "data": {
      "text/plain": [
       "0.0012034063816049705"
      ]
     },
     "execution_count": 49,
     "metadata": {},
     "output_type": "execute_result"
    }
   ],
   "source": [
    "def demo_two_portfolios(monthly_ret, x, y):\n",
    "    x_ret = monthly_ret[x].mean()\n",
    "    y_ret = monthly_ret[y].mean()\n",
    "    x_sig = monthly_ret[x].std()\n",
    "    y_sig = monthly_ret[y].std()\n",
    "    cov_mat  = monthly_ret.cov()\n",
    "    \n",
    "    x_var = cov_mat.loc[x][x]\n",
    "    y_var = cov_mat.loc[y][y]\n",
    "    \n",
    "    x_y_cov = cov_mat.loc[y][x]\n",
    "\n",
    "    x_weight = np.arange(-1,2,0.1)\n",
    "    y_weight = 1-x_weight\n",
    "\n",
    "    # Portfolio Z Mean Returns\n",
    "    xy_ret = x_weight * x_ret + y_weight * y_ret\n",
    "    #print(pd.Series(xy_ret))\n",
    "        \n",
    "    xy_sigma = (x_weight ** 2 * x_var + y_weight ** 2 * y_var + x_weight * y_weight * x_y_cov * 2) ** 0.5\n",
    "        \n",
    "    #print(pd.Series(xy_sigma))\n",
    "\n",
    "    # Envelope\n",
    "    dfeff = pd.DataFrame({'Sigma': xy_sigma, 'Return': xy_ret}, columns=['Sigma', 'Return'])\n",
    "    dfeff.set_index('Sigma', inplace=True)\n",
    "    dfeff.sample(5)\n",
    "\n",
    "    fig, ax = plt.subplots(figsize=(7,6))\n",
    "    ax.set_title(r'Monthly Returns')\n",
    "    dfeff.plot(ax=ax, grid=True)\n",
    "    ax.plot(x_sig, x_ret, 'o') # assets\n",
    "    ax.plot(y_sig, y_ret, 'o') # assets\n",
    "    \n",
    "    # Labels\n",
    "    ax.text(x_sig+0.005,x_ret,x)\n",
    "    ax.text(y_sig+0.005,y_ret,y)\n",
    "    ax.text(min(x_sig,y_sig)+0.005,(x_ret+y_ret)/2,'Cov: {:2.4}'.format(x_y_cov))\n",
    "    plt.show()\n",
    "    return x_y_cov\n",
    "    \n",
    "demo_two_portfolios(monthly_ret, 'WHS', 'BGP')"
   ]
  },
  {
   "cell_type": "code",
   "execution_count": 50,
   "id": "5563022b",
   "metadata": {},
   "outputs": [
    {
     "data": {
      "image/png": "[encoded data removed]",
      "text/plain": [
       "<Figure size 504x432 with 1 Axes>"
      ]
     },
     "metadata": {
      "needs_background": "light"
     },
     "output_type": "display_data"
    },
    {
     "data": {
      "text/plain": [
       "0.0027487699548534848"
      ]
     },
     "execution_count": 50,
     "metadata": {},
     "output_type": "execute_result"
    }
   ],
   "source": [
    "demo_two_portfolios(monthly_ret, 'AIA', 'RYM')"
   ]
  },
  {
   "cell_type": "code",
   "execution_count": 51,
   "id": "817c8ff2",
   "metadata": {},
   "outputs": [
    {
     "data": {
      "image/png": "[encoded data removed]",
      "text/plain": [
       "<Figure size 504x432 with 1 Axes>"
      ]
     },
     "metadata": {
      "needs_background": "light"
     },
     "output_type": "display_data"
    },
    {
     "data": {
      "text/plain": [
       "0.002983235375572467"
      ]
     },
     "execution_count": 51,
     "metadata": {},
     "output_type": "execute_result"
    }
   ],
   "source": [
    "demo_two_portfolios(monthly_ret, 'THL', 'BGP')"
   ]
  }
 ],
 "metadata": {
  "kernelspec": {
   "display_name": "Python 3 (ipykernel)",
   "language": "python",
   "name": "python3"
  },
  "language_info": {
   "codemirror_mode": {
    "name": "ipython",
    "version": 3
   },
   "file_extension": ".py",
   "mimetype": "text/x-python",
   "name": "python",
   "nbconvert_exporter": "python",
   "pygments_lexer": "ipython3",
   "version": "3.8.13"
  }
 },
 "nbformat": 4,
 "nbformat_minor": 5
}
