{
 "cells": [
  {
   "cell_type": "markdown",
   "id": "8eb76843",
   "metadata": {},
   "source": [
    "# Chapter 10 - Portfolio theory introduction\n",
    "---"
   ]
  },
  {
   "cell_type": "code",
   "execution_count": 1,
   "id": "95314a28",
   "metadata": {},
   "outputs": [],
   "source": [
    "# Preamble\n",
    "import pandas as pd\n",
    "import numpy as np\n",
    "import os \n",
    "import re\n",
    "import matplotlib.pyplot as plt\n",
    "from matplotlib.dates import DateFormatter\n",
    "import matplotlib.ticker as mticker\n",
    "import seaborn as sns\n",
    "import yfinance as yf  # This gets us prices from Yahoo finance. See https://pypi.org/project/yfinance/\n",
    "from linearmodels.panel import PanelOLS\n",
    "import math\n",
    "import statsmodels.api as sm\n",
    "import statsmodels.formula.api as smf\n",
    "from tabulate import tabulate\n",
    "from IPython.display import display, Math\n",
    "\n",
    "if os.name=='nt':\n",
    "    import xlwings as xw\n",
    "\n",
    "\n",
    "def get_nzx(url):\n",
    "    df = pd.read_html(url)[0]\n",
    "    df.columns = df.columns.str.lower()\n",
    "    lyst = ['price', 'volume', 'value', 'capitalisation', 'market capitalisation', 'percentage change', 'trade count']\n",
    "    df[lyst] = df[lyst].replace({'\\$': '', ',': ''}, regex=True).apply(pd.to_numeric,  errors='coerce')\n",
    "    df['green bond']= df['green bond'].map({'false': 0, 'true': 1})\n",
    "    df = df[~df['company'].str.contains('Smartshares')]\n",
    "    df['code'] = df['code']+\".NZ\"\n",
    "    nzx = df['code'].to_list()\n",
    "    return(df[df['market capitalisation']>0], nzx)\n",
    "\n",
    "\n",
    "def set_xmargin(ax, left=0.0, right=0.3):\n",
    "    ax.set_xmargin(0)\n",
    "    ax.autoscale_view()\n",
    "    lim = ax.get_xlim()\n",
    "    delta = np.diff(lim)\n",
    "    left =  lim[0] - delta*left\n",
    "    right = lim[1] + delta*right\n",
    "    ax.set_xlim(left,right)\n",
    "\n",
    "\n",
    "def nice_print(df, k=1, name=\"\"):\n",
    "    if isinstance(df, pd.DataFrame):\n",
    "        print(tabulate(k*df, tablefmt=\"fancy_grid\", floatfmt=\".4f\", headers=\"keys\"))\n",
    "    elif isinstance(df, pd.Series):\n",
    "        df.name= name\n",
    "        df=df.to_frame()\n",
    "        print(tabulate(k*df, tablefmt=\"fancy_grid\", floatfmt=\".4f\", headers=\"keys\"))"
   ]
  },
  {
   "cell_type": "markdown",
   "id": "e8ec1c78",
   "metadata": {},
   "source": [
    "---\n",
    "\n",
    "**Get NZX tickers from its web-site**\n"
   ]
  },
  {
   "cell_type": "code",
   "execution_count": 2,
   "id": "0d9c2a78",
   "metadata": {},
   "outputs": [
    {
     "name": "stdout",
     "output_type": "stream",
     "text": [
      "     code                                           company  price  \\\n",
      "0  AFI.NZ  Australian Foundation Investment Company Limited   8.84   \n",
      "1  ANZ.NZ   Australia and New Zealand Banking Group Limited  28.03   \n",
      "3  MHJ.NZ                Michael Hill International Limited   1.16   \n",
      "\n",
      "             change  volume      value  capitalisation  percentage change  \\\n",
      "0    $0.090 / 1.03%    4003   35184.37     10872371745           1.028571   \n",
      "1    $0.300 / 1.08%   19779  553333.48     78318739997           1.081861   \n",
      "3  -$0.020 / -1.69%    1615    1889.68       450411034          -1.694915   \n",
      "\n",
      "       type  green bond  trade count currency code  market capitalisation  \n",
      "0  CLOSEEND         NaN           17           NZD           1.119854e+08  \n",
      "1       NaN         NaN          151           NZD           6.970368e+08  \n",
      "3       NaN         NaN           22           NZD           9.643300e+07  \n",
      "['AFI.NZ', 'ANZ.NZ', 'DOW.NZ', 'MHJ.NZ', 'WBC.NZ', 'ALD.NZ', 'AKL.NZ', 'DGC.NZ', 'VSL.NZ', 'VNT.NZ', 'CRP.NZ', 'TCL.NZ', 'FCT.NZ', 'TEM.NZ', 'BIT.NZ', 'JPG.NZ', 'HFL.NZ', 'AFT.NZ', 'AIA.NZ', 'AIR.NZ', 'ALF.NZ', 'PCT.NZ', 'ARG.NZ', 'ARV.NZ', 'ATM.NZ', 'AGL.NZ', 'GXH.NZ', 'BFG.NZ', 'BGP.NZ', 'BIF.NZ', 'BLT.NZ', 'BRM.NZ', 'BRMWG.NZ', 'MHM.NZ', 'BRW.NZ', 'CBD.NZ', 'CEN.NZ', 'CCC.NZ', 'VHP.NZ', 'CMO.NZ', 'CNU.NZ', 'CO2.NZ', 'GMT.NZ', 'CVT.NZ', 'DGL.NZ', 'SPY.NZ', 'EBO.NZ', 'ACE.NZ', 'ENS.NZ', 'ERD.NZ', 'EVO.NZ', 'FPH.NZ', 'FBU.NZ', 'FRE.NZ', 'FSF.NZ', 'GEO.NZ', 'GFI.NZ', 'GFL.NZ', 'GNE.NZ', 'FWL.NZ', 'GTK.NZ', 'THL.NZ', 'NTL.NZ', 'HGH.NZ', 'HLG.NZ', 'HMY.NZ', 'IFT.NZ', 'IKE.NZ', 'IPL.NZ', 'JLG.NZ', 'KFL.NZ', 'KFLWG.NZ', 'CDI.NZ', 'KMD.NZ', 'KPG.NZ', 'SNC.NZ', 'LIC.NZ', 'PYS.NZ', 'MCK.NZ', 'MCKPA.NZ', 'MEL.NZ', 'MFB.NZ', 'MFT.NZ', 'MLN.NZ', 'SVR.NZ', 'MOV.NZ', 'MPG.NZ', 'MCY.NZ', 'MWE.NZ', 'GEN.NZ', 'APL.NZ', 'NPH.NZ', 'MMH.NZ', 'NTLOB.NZ', 'NWF.NZ', 'NZA.NZ', 'BGI.NZ', 'SMW.NZ', 'NZK.NZ', 'NZL.NZ', 'NZM.NZ', 'NZO.NZ', 'CHI.NZ', 'NZX.NZ', 'OCA.NZ', 'PEB.NZ', 'PFI.NZ', 'PLP.NZ', 'POT.NZ', 'PPH.NZ', 'PHL.NZ', 'RAD.NZ', 'RAK.NZ', 'ARB.NZ', 'RBD.NZ', 'PGW.NZ', 'MEE.NZ', 'RUA.NZ', 'RYM.NZ', 'GSH.NZ', 'SAN.NZ', 'SCL.NZ', 'SCT.NZ', 'SCY.NZ', 'SDL.NZ', 'SEK.NZ', 'SKC.NZ', 'SKO.NZ', 'SKT.NZ', 'SKL.NZ', 'SML.NZ', 'PX1.NZ', 'GWC.NZ', 'SPG.NZ', 'SPN.NZ', 'SUM.NZ', 'STU.NZ', 'TAH.NZ', 'SPK.NZ', 'MNW.NZ', 'TRU.NZ', 'VTL.NZ', 'TGG.NZ', 'TWL.NZ', 'TWR.NZ', 'VCT.NZ', 'VGL.NZ', 'AFC.NZ', 'TRA.NZ', 'WDT.NZ', 'WHS.NZ', 'WIN.NZ', '^NZ50']\n"
     ]
    }
   ],
   "source": [
    "dfm, nzx  = get_nzx('https://www.nzx.com/markets/NZSX')\n",
    "nzx+=['^NZ50']\n",
    "print(dfm.head(3))\n",
    "print(nzx)"
   ]
  },
  {
   "cell_type": "markdown",
   "id": "e1b746dd",
   "metadata": {},
   "source": [
    "**Obtain returns:**"
   ]
  },
  {
   "cell_type": "code",
   "execution_count": 3,
   "id": "e29fb268",
   "metadata": {},
   "outputs": [
    {
     "name": "stdout",
     "output_type": "stream",
     "text": [
      "[*********************100%***********************]  153 of 153 completed\n",
      "\n",
      "10 Failed downloads:\n",
      "- BIF.NZ: No data found for this date range, symbol may be delisted\n",
      "- BRMWG.NZ: No data found, symbol may be delisted\n",
      "- ALD.NZ: Data doesn't exist for startDate = 1317380400, endDate = 1651233600\n",
      "- NTLOB.NZ: No data found, symbol may be delisted\n",
      "- BIT.NZ: No data found for this date range, symbol may be delisted\n",
      "- KFLWG.NZ: No data found, symbol may be delisted\n",
      "- AKL.NZ: No data found, symbol may be delisted\n",
      "- CO2.NZ: No data found for this date range, symbol may be delisted\n",
      "- PLP.NZ: No data found for this date range, symbol may be delisted\n",
      "- FCT.NZ: No data found for this date range, symbol may be delisted\n"
     ]
    }
   ],
   "source": [
    "def returns(nzx, start, end):\n",
    "    df_close = yf.download(nzx, start, end, progress=True, interval=\"1mo\")['Adj Close']\n",
    "    df_close.dropna(how = 'all', inplace=True, axis = 1)\n",
    "    df_close.sort_index(inplace=True)\n",
    "    df_close.index = pd.to_datetime(df_close.index, format ='%Y-%m-%d')\n",
    "    df_close.columns = [re.sub(r'.NZ$|\\^', \"\", x) for x in list(df_close)]\n",
    "    return list(df_close), df_close.resample('M').last()\n",
    "\n",
    "nzx_set, df_close = returns(nzx, '2011-10-01', '2022-04-30')"
   ]
  },
  {
   "cell_type": "code",
   "execution_count": 4,
   "id": "3b70414e",
   "metadata": {},
   "outputs": [
    {
     "data": {
      "text/plain": [
       "array([<AxesSubplot:xlabel='Date'>, <AxesSubplot:xlabel='Date'>,\n",
       "       <AxesSubplot:xlabel='Date'>, <AxesSubplot:xlabel='Date'>],\n",
       "      dtype=object)"
      ]
     },
     "execution_count": 4,
     "metadata": {},
     "output_type": "execute_result"
    },
    {
     "data": {
      "image/png": "[encoded data removed]",
      "text/plain": [
       "<Figure size 720x432 with 4 Axes>"
      ]
     },
     "metadata": {
      "needs_background": "light"
     },
     "output_type": "display_data"
    }
   ],
   "source": [
    "stocks_list = [\"AIR\", \"ANZ\", 'WHS', 'NZ50'] #, 'BGP', 'FPH', 'RYM', 'AIA', 'THL', 'NZ50']  \n",
    "data = df_close[stocks_list]\n",
    "data.plot(figsize=(10, 6), subplots=True)"
   ]
  },
  {
   "cell_type": "code",
   "execution_count": 5,
   "id": "16927906",
   "metadata": {},
   "outputs": [
    {
     "data": {
      "text/html": [
       "<div>\n",
       "<style scoped>\n",
       "    .dataframe tbody tr th:only-of-type {\n",
       "        vertical-align: middle;\n",
       "    }\n",
       "\n",
       "    .dataframe tbody tr th {\n",
       "        vertical-align: top;\n",
       "    }\n",
       "\n",
       "    .dataframe thead th {\n",
       "        text-align: right;\n",
       "    }\n",
       "</style>\n",
       "<table border=\"1\" class=\"dataframe\">\n",
       "  <thead>\n",
       "    <tr style=\"text-align: right;\">\n",
       "      <th></th>\n",
       "      <th>AIR</th>\n",
       "      <th>ANZ</th>\n",
       "      <th>WHS</th>\n",
       "      <th>NZ50</th>\n",
       "    </tr>\n",
       "    <tr>\n",
       "      <th>Date</th>\n",
       "      <th></th>\n",
       "      <th></th>\n",
       "      <th></th>\n",
       "      <th></th>\n",
       "    </tr>\n",
       "  </thead>\n",
       "  <tbody>\n",
       "    <tr>\n",
       "      <th>2011-10-31</th>\n",
       "      <td>0.686770</td>\n",
       "      <td>16.285666</td>\n",
       "      <td>1.765797</td>\n",
       "      <td>3332.560059</td>\n",
       "    </tr>\n",
       "    <tr>\n",
       "      <th>2011-11-30</th>\n",
       "      <td>0.634445</td>\n",
       "      <td>14.946797</td>\n",
       "      <td>1.661627</td>\n",
       "      <td>3270.209961</td>\n",
       "    </tr>\n",
       "    <tr>\n",
       "      <th>2011-12-31</th>\n",
       "      <td>0.588660</td>\n",
       "      <td>16.045309</td>\n",
       "      <td>1.582930</td>\n",
       "      <td>3274.709961</td>\n",
       "    </tr>\n",
       "    <tr>\n",
       "      <th>2012-01-31</th>\n",
       "      <td>0.595200</td>\n",
       "      <td>16.484089</td>\n",
       "      <td>1.604036</td>\n",
       "      <td>3296.199951</td>\n",
       "    </tr>\n",
       "    <tr>\n",
       "      <th>2012-02-29</th>\n",
       "      <td>0.565768</td>\n",
       "      <td>16.721270</td>\n",
       "      <td>1.334938</td>\n",
       "      <td>3322.530029</td>\n",
       "    </tr>\n",
       "    <tr>\n",
       "      <th>...</th>\n",
       "      <td>...</td>\n",
       "      <td>...</td>\n",
       "      <td>...</td>\n",
       "      <td>...</td>\n",
       "    </tr>\n",
       "    <tr>\n",
       "      <th>2021-12-31</th>\n",
       "      <td>1.510000</td>\n",
       "      <td>28.765333</td>\n",
       "      <td>3.880952</td>\n",
       "      <td>13033.769531</td>\n",
       "    </tr>\n",
       "    <tr>\n",
       "      <th>2022-01-31</th>\n",
       "      <td>1.440000</td>\n",
       "      <td>28.492123</td>\n",
       "      <td>2.910714</td>\n",
       "      <td>11995.370117</td>\n",
       "    </tr>\n",
       "    <tr>\n",
       "      <th>2022-02-28</th>\n",
       "      <td>1.495000</td>\n",
       "      <td>27.204121</td>\n",
       "      <td>2.988333</td>\n",
       "      <td>12096.679688</td>\n",
       "    </tr>\n",
       "    <tr>\n",
       "      <th>2022-03-31</th>\n",
       "      <td>0.790316</td>\n",
       "      <td>29.262970</td>\n",
       "      <td>3.221190</td>\n",
       "      <td>12110.259766</td>\n",
       "    </tr>\n",
       "    <tr>\n",
       "      <th>2022-04-30</th>\n",
       "      <td>0.885000</td>\n",
       "      <td>29.126364</td>\n",
       "      <td>3.347322</td>\n",
       "      <td>11884.299805</td>\n",
       "    </tr>\n",
       "  </tbody>\n",
       "</table>\n",
       "<p>127 rows × 4 columns</p>\n",
       "</div>"
      ],
      "text/plain": [
       "                 AIR        ANZ       WHS          NZ50\n",
       "Date                                                   \n",
       "2011-10-31  0.686770  16.285666  1.765797   3332.560059\n",
       "2011-11-30  0.634445  14.946797  1.661627   3270.209961\n",
       "2011-12-31  0.588660  16.045309  1.582930   3274.709961\n",
       "2012-01-31  0.595200  16.484089  1.604036   3296.199951\n",
       "2012-02-29  0.565768  16.721270  1.334938   3322.530029\n",
       "...              ...        ...       ...           ...\n",
       "2021-12-31  1.510000  28.765333  3.880952  13033.769531\n",
       "2022-01-31  1.440000  28.492123  2.910714  11995.370117\n",
       "2022-02-28  1.495000  27.204121  2.988333  12096.679688\n",
       "2022-03-31  0.790316  29.262970  3.221190  12110.259766\n",
       "2022-04-30  0.885000  29.126364  3.347322  11884.299805\n",
       "\n",
       "[127 rows x 4 columns]"
      ]
     },
     "execution_count": 5,
     "metadata": {},
     "output_type": "execute_result"
    }
   ],
   "source": [
    "data"
   ]
  },
  {
   "cell_type": "markdown",
   "id": "2492a0f1",
   "metadata": {},
   "source": [
    "---\n",
    "\n",
    "### Stocks Statistics \n",
    "\n",
    "**Calculate monthly returns using the difference of logs**"
   ]
  },
  {
   "cell_type": "code",
   "execution_count": 6,
   "id": "b1ade728",
   "metadata": {},
   "outputs": [
    {
     "data": {
      "text/html": [
       "<div>\n",
       "<style scoped>\n",
       "    .dataframe tbody tr th:only-of-type {\n",
       "        vertical-align: middle;\n",
       "    }\n",
       "\n",
       "    .dataframe tbody tr th {\n",
       "        vertical-align: top;\n",
       "    }\n",
       "\n",
       "    .dataframe thead th {\n",
       "        text-align: right;\n",
       "    }\n",
       "</style>\n",
       "<table border=\"1\" class=\"dataframe\">\n",
       "  <thead>\n",
       "    <tr style=\"text-align: right;\">\n",
       "      <th></th>\n",
       "      <th>AIR</th>\n",
       "      <th>ANZ</th>\n",
       "      <th>WHS</th>\n",
       "      <th>NZ50</th>\n",
       "    </tr>\n",
       "    <tr>\n",
       "      <th>Date</th>\n",
       "      <th></th>\n",
       "      <th></th>\n",
       "      <th></th>\n",
       "      <th></th>\n",
       "    </tr>\n",
       "  </thead>\n",
       "  <tbody>\n",
       "    <tr>\n",
       "      <th>2021-12-31</th>\n",
       "      <td>-0.003306</td>\n",
       "      <td>0.063304</td>\n",
       "      <td>0.063393</td>\n",
       "      <td>0.025978</td>\n",
       "    </tr>\n",
       "    <tr>\n",
       "      <th>2022-01-31</th>\n",
       "      <td>-0.047466</td>\n",
       "      <td>-0.009543</td>\n",
       "      <td>-0.287682</td>\n",
       "      <td>-0.083023</td>\n",
       "    </tr>\n",
       "    <tr>\n",
       "      <th>2022-02-28</th>\n",
       "      <td>0.037483</td>\n",
       "      <td>-0.046259</td>\n",
       "      <td>0.026317</td>\n",
       "      <td>0.008410</td>\n",
       "    </tr>\n",
       "    <tr>\n",
       "      <th>2022-03-31</th>\n",
       "      <td>-0.637449</td>\n",
       "      <td>0.072954</td>\n",
       "      <td>0.075035</td>\n",
       "      <td>0.001122</td>\n",
       "    </tr>\n",
       "    <tr>\n",
       "      <th>2022-04-30</th>\n",
       "      <td>0.113155</td>\n",
       "      <td>-0.004679</td>\n",
       "      <td>0.038409</td>\n",
       "      <td>-0.018835</td>\n",
       "    </tr>\n",
       "  </tbody>\n",
       "</table>\n",
       "</div>"
      ],
      "text/plain": [
       "                 AIR       ANZ       WHS      NZ50\n",
       "Date                                              \n",
       "2021-12-31 -0.003306  0.063304  0.063393  0.025978\n",
       "2022-01-31 -0.047466 -0.009543 -0.287682 -0.083023\n",
       "2022-02-28  0.037483 -0.046259  0.026317  0.008410\n",
       "2022-03-31 -0.637449  0.072954  0.075035  0.001122\n",
       "2022-04-30  0.113155 -0.004679  0.038409 -0.018835"
      ]
     },
     "execution_count": 6,
     "metadata": {},
     "output_type": "execute_result"
    }
   ],
   "source": [
    "monthly_ret = np.log(data).diff().dropna()\n",
    "monthly_ret.tail(5)"
   ]
  },
  {
   "cell_type": "markdown",
   "id": "934cf3cf",
   "metadata": {},
   "source": [
    "**Geometric mean**\n",
    "\n",
    "$$\\begin{aligned} \\bar{R}_{G i} &=\\sqrt[T]{\\left(1+R_{i 1}\\right) \\times\\left(1+R_{i 2}\\right) \\times \\ldots \\times\\left(1+R_{i, T-1}\\right) \\times\\left(1+R_{i T}\\right)}-1 \\\\ &=\\sqrt[T]{\\prod_{t=1}^{T}\\left(1+R_{i t}\\right)-1} \\end{aligned}$$"
   ]
  },
  {
   "cell_type": "code",
   "execution_count": 7,
   "id": "83bbab57",
   "metadata": {
    "scrolled": true
   },
   "outputs": [
    {
     "name": "stdout",
     "output_type": "stream",
     "text": [
      "╒═════════════════════╤══════════╤═════════╤══════════╤═════════╕\n",
      "│ Date                │      AIR │     ANZ │      WHS │    NZ50 │\n",
      "╞═════════════════════╪══════════╪═════════╪══════════╪═════════╡\n",
      "│ 2021-12-31 00:00:00 │  -0.3306 │  6.3304 │   6.3393 │  2.5978 │\n",
      "├─────────────────────┼──────────┼─────────┼──────────┼─────────┤\n",
      "│ 2022-01-31 00:00:00 │  -4.7466 │ -0.9543 │ -28.7682 │ -8.3023 │\n",
      "├─────────────────────┼──────────┼─────────┼──────────┼─────────┤\n",
      "│ 2022-02-28 00:00:00 │   3.7483 │ -4.6259 │   2.6317 │  0.8410 │\n",
      "├─────────────────────┼──────────┼─────────┼──────────┼─────────┤\n",
      "│ 2022-03-31 00:00:00 │ -63.7449 │  7.2954 │   7.5035 │  0.1122 │\n",
      "├─────────────────────┼──────────┼─────────┼──────────┼─────────┤\n",
      "│ 2022-04-30 00:00:00 │  11.3155 │ -0.4679 │   3.8409 │ -1.8835 │\n",
      "╘═════════════════════╧══════════╧═════════╧══════════╧═════════╛\n"
     ]
    },
    {
     "data": {
      "image/png": "[encoded data removed]",
      "text/plain": [
       "<Figure size 432x288 with 1 Axes>"
      ]
     },
     "metadata": {
      "needs_background": "light"
     },
     "output_type": "display_data"
    }
   ],
   "source": [
    "monthly_ret.add(1).cumprod().sub(1).plot() # monthly_ret.cumsum().apply(np.exp).plot()\n",
    "nice_print(monthly_ret.tail(5), k=100, name=\"\")"
   ]
  },
  {
   "cell_type": "code",
   "execution_count": 8,
   "id": "c1164b9b",
   "metadata": {
    "scrolled": true
   },
   "outputs": [
    {
     "name": "stdout",
     "output_type": "stream",
     "text": [
      "Returns by year\n",
      "╒════════╤══════════╤══════════╤══════════╤═════════╕\n",
      "│   year │      AIR │      ANZ │      WHS │    NZ50 │\n",
      "╞════════╪══════════╪══════════╪══════════╪═════════╡\n",
      "│   2011 │ -14.8215 │  -2.0953 │ -10.6374 │ -1.7537 │\n",
      "├────────┼──────────┼──────────┼──────────┼─────────┤\n",
      "│   2012 │  47.9853 │  19.6986 │  -2.4437 │ 23.5295 │\n",
      "├────────┼──────────┼──────────┼──────────┼─────────┤\n",
      "│   2013 │  25.3922 │  12.3515 │  23.6134 │ 15.8919 │\n",
      "├────────┼──────────┼──────────┼──────────┼─────────┤\n",
      "│   2014 │  50.0837 │  -0.7758 │ -13.0266 │ 17.3026 │\n",
      "├────────┼──────────┼──────────┼──────────┼─────────┤\n",
      "│   2015 │  18.0179 │  -7.8447 │ -11.3530 │ 12.9256 │\n",
      "├────────┼──────────┼──────────┼──────────┼─────────┤\n",
      "│   2016 │ -23.2821 │  10.6087 │  18.6205 │  7.9612 │\n",
      "├────────┼──────────┼──────────┼──────────┼─────────┤\n",
      "│   2017 │  47.5981 │   1.2943 │ -22.9155 │ 21.7938 │\n",
      "├────────┼──────────┼──────────┼──────────┼─────────┤\n",
      "│   2018 │  -0.2405 │ -14.4121 │   6.0473 │  4.4771 │\n",
      "├────────┼──────────┼──────────┼──────────┼─────────┤\n",
      "│   2019 │  -2.6994 │   2.9641 │  44.1501 │ 29.7504 │\n",
      "├────────┼──────────┼──────────┼──────────┼─────────┤\n",
      "│   2020 │ -97.3703 │ -12.4776 │  -1.5137 │ 11.8085 │\n",
      "├────────┼──────────┼──────────┼──────────┼─────────┤\n",
      "│   2021 │ -18.0669 │  24.4539 │  54.1070 │ -1.0441 │\n",
      "├────────┼──────────┼──────────┼──────────┼─────────┤\n",
      "│   2022 │ -60.1171 │   0.8812 │ -18.3893 │ -9.1709 │\n",
      "╘════════╧══════════╧══════════╧══════════╧═════════╛\n"
     ]
    }
   ],
   "source": [
    "def prelim_tables(df):\n",
    "    df = df.copy()\n",
    "    df['year'] = df.index.year.astype(int)\n",
    "    df.set_index('year', append=True, inplace=True)\n",
    "    print('Returns by year')\n",
    "    nice_print(df.add(1).groupby('year').prod().sub(1), 100)\n",
    "    \n",
    "prelim_tables(monthly_ret) "
   ]
  },
  {
   "cell_type": "code",
   "execution_count": 9,
   "id": "4e0a0c8c",
   "metadata": {},
   "outputs": [
    {
     "name": "stdout",
     "output_type": "stream",
     "text": [
      "AIR     0.201261\n",
      "ANZ     0.461396\n",
      "WHS     0.507586\n",
      "NZ50    1.009109\n",
      "Name: Mean Monthly Return, dtype: float64\n"
     ]
    }
   ],
   "source": [
    "# Mean Returns\n",
    "mean_ret = monthly_ret.mean()\n",
    "mean_ret.name = 'Mean Monthly Return'\n",
    "print(mean_ret*100)"
   ]
  },
  {
   "cell_type": "code",
   "execution_count": 10,
   "id": "31e87fd9",
   "metadata": {},
   "outputs": [
    {
     "name": "stdout",
     "output_type": "stream",
     "text": [
      "AIR     0.137428\n",
      "ANZ     0.067942\n",
      "WHS     0.064662\n",
      "NZ50    0.030847\n",
      "Name: Sigma, dtype: float64\n"
     ]
    }
   ],
   "source": [
    "# Sigma\n",
    "sigma    = monthly_ret.std()\n",
    "sigma.name = 'Sigma'\n",
    "print(sigma)"
   ]
  },
  {
   "cell_type": "code",
   "execution_count": 11,
   "id": "14711002",
   "metadata": {},
   "outputs": [
    {
     "name": "stdout",
     "output_type": "stream",
     "text": [
      "AIR     0.002013\n",
      "ANZ     0.004614\n",
      "WHS     0.005076\n",
      "NZ50    0.010091\n",
      "Name: Mean Monthly Return, dtype: float64\n"
     ]
    },
    {
     "data": {
      "image/png": "[encoded data removed]",
      "text/plain": [
       "<Figure size 432x288 with 1 Axes>"
      ]
     },
     "metadata": {
      "needs_background": "light"
     },
     "output_type": "display_data"
    }
   ],
   "source": [
    "mean_ret.to_frame().join(sigma.to_frame()).sort_values(by=['Mean Monthly Return']).plot(kind='bar', grid=True)\n",
    "print(mean_ret)"
   ]
  },
  {
   "cell_type": "markdown",
   "id": "175a9a62",
   "metadata": {},
   "source": [
    "#### COMPUTING COVARIANCE AND CORRELATION ####"
   ]
  },
  {
   "cell_type": "code",
   "execution_count": 12,
   "id": "b6aa253a",
   "metadata": {},
   "outputs": [
    {
     "name": "stdout",
     "output_type": "stream",
     "text": [
      "Monthly returns\n",
      "╒═════════════════════╤═════════╤═════════╤═════════╤═════════╕\n",
      "│ Date                │     AIR │     ANZ │     WHS │    NZ50 │\n",
      "╞═════════════════════╪═════════╪═════════╪═════════╪═════════╡\n",
      "│ 2021-12-31 00:00:00 │ -0.0033 │  0.0633 │  0.0634 │  0.0260 │\n",
      "├─────────────────────┼─────────┼─────────┼─────────┼─────────┤\n",
      "│ 2022-01-31 00:00:00 │ -0.0475 │ -0.0095 │ -0.2877 │ -0.0830 │\n",
      "├─────────────────────┼─────────┼─────────┼─────────┼─────────┤\n",
      "│ 2022-02-28 00:00:00 │  0.0375 │ -0.0463 │  0.0263 │  0.0084 │\n",
      "├─────────────────────┼─────────┼─────────┼─────────┼─────────┤\n",
      "│ 2022-03-31 00:00:00 │ -0.6374 │  0.0730 │  0.0750 │  0.0011 │\n",
      "├─────────────────────┼─────────┼─────────┼─────────┼─────────┤\n",
      "│ 2022-04-30 00:00:00 │  0.1132 │ -0.0047 │  0.0384 │ -0.0188 │\n",
      "╘═════════════════════╧═════════╧═════════╧═════════╧═════════╛\n",
      "Mean returns\n",
      "╒══════╤════════╕\n",
      "│      │        │\n",
      "╞══════╪════════╡\n",
      "│ AIR  │ 0.0020 │\n",
      "├──────┼────────┤\n",
      "│ ANZ  │ 0.0046 │\n",
      "├──────┼────────┤\n",
      "│ WHS  │ 0.0051 │\n",
      "├──────┼────────┤\n",
      "│ NZ50 │ 0.0101 │\n",
      "╘══════╧════════╛\n",
      "Excess returns\n",
      "╒═════════════════════╤═════════╤═════════╤═════════╤═════════╕\n",
      "│ Date                │     AIR │     ANZ │     WHS │    NZ50 │\n",
      "╞═════════════════════╪═════════╪═════════╪═════════╪═════════╡\n",
      "│ 2011-11-30 00:00:00 │ -0.0813 │ -0.0904 │ -0.0659 │ -0.0290 │\n",
      "├─────────────────────┼─────────┼─────────┼─────────┼─────────┤\n",
      "│ 2011-12-31 00:00:00 │ -0.0769 │  0.0663 │ -0.0536 │ -0.0087 │\n",
      "╘═════════════════════╧═════════╧═════════╧═════════╧═════════╛\n",
      "Excess returns using .sub()\n",
      "╒═════════════════════╤═════════╤═════════╤═════════╤═════════╕\n",
      "│ Date                │     AIR │     ANZ │     WHS │    NZ50 │\n",
      "╞═════════════════════╪═════════╪═════════╪═════════╪═════════╡\n",
      "│ 2011-11-30 00:00:00 │ -0.0813 │ -0.0904 │ -0.0659 │ -0.0290 │\n",
      "├─────────────────────┼─────────┼─────────┼─────────┼─────────┤\n",
      "│ 2011-12-31 00:00:00 │ -0.0769 │  0.0663 │ -0.0536 │ -0.0087 │\n",
      "╘═════════════════════╧═════════╧═════════╧═════════╧═════════╛\n"
     ]
    }
   ],
   "source": [
    "# Calculate excess returns\n",
    "print('Monthly returns')\n",
    "nice_print(monthly_ret.tail(5))\n",
    "print('Mean returns')\n",
    "nice_print(mean_ret)\n",
    "\n",
    "excess_ret = (monthly_ret - mean_ret)\n",
    "\n",
    "print('Excess returns')\n",
    "nice_print(excess_ret.head(2))\n",
    "\n",
    "print('Excess returns using .sub()')\n",
    "excess_ret = monthly_ret.sub(mean_ret)\n",
    "nice_print(excess_ret.head(2))"
   ]
  },
  {
   "cell_type": "markdown",
   "id": "22f82aac",
   "metadata": {},
   "source": [
    "**Using Excel to check**"
   ]
  },
  {
   "cell_type": "code",
   "execution_count": 13,
   "id": "8f8493e1",
   "metadata": {},
   "outputs": [],
   "source": [
    "if os.name=='nt':\n",
    "    wb = xw.Book()  \n",
    "    sheet = wb.sheets['Sheet1']\n",
    "    sheet.range('A1').value = monthly_ret\n",
    "    sheet.range('G1').value = excess_ret"
   ]
  },
  {
   "cell_type": "markdown",
   "id": "2dbe1b27",
   "metadata": {},
   "source": [
    "**Covariance**\n",
    "\n",
    "$$\n",
    "\\frac{1}{N} \\sum_{t=1}^{N}\\left(r_{i t}-\\bar{r}_{i}\\right)\\left(r_{j t}-\\bar{r}_{j}\\right)\n",
    "$$\n"
   ]
  },
  {
   "cell_type": "code",
   "execution_count": 14,
   "id": "5bf8286d",
   "metadata": {},
   "outputs": [
    {
     "data": {
      "text/plain": [
       "0.0032776412913834824"
      ]
     },
     "execution_count": 14,
     "metadata": {},
     "output_type": "execute_result"
    }
   ],
   "source": [
    "# Covariance \n",
    "(excess_ret['AIR']*excess_ret['ANZ']).mean()"
   ]
  },
  {
   "cell_type": "markdown",
   "id": "f373fa1a",
   "metadata": {},
   "source": [
    "$$\n",
    "\\frac{1}{N-1} \\sum_{t=1}^{N}\\left(r_{i t}-\\bar{r}_{i}\\right)\\left(r_{j t}-\\bar{r}_{j}\\right)\n",
    "$$"
   ]
  },
  {
   "cell_type": "code",
   "execution_count": 15,
   "id": "9ac95f6e",
   "metadata": {},
   "outputs": [
    {
     "data": {
      "text/plain": [
       "0.0033038624217145503"
      ]
     },
     "execution_count": 15,
     "metadata": {},
     "output_type": "execute_result"
    }
   ],
   "source": [
    "N = len(excess_ret)\n",
    "(excess_ret['AIR']*excess_ret['ANZ']).mean()*N/(N-1)"
   ]
  },
  {
   "cell_type": "code",
   "execution_count": 16,
   "id": "3950c390",
   "metadata": {},
   "outputs": [
    {
     "data": {
      "text/latex": [
       "$\\displaystyle \\rho_{ij}\\sigma_i\\sigma_j$"
      ],
      "text/plain": [
       "<IPython.core.display.Math object>"
      ]
     },
     "metadata": {},
     "output_type": "display_data"
    },
    {
     "name": "stdout",
     "output_type": "stream",
     "text": [
      "╒══════╤════════╤════════╤════════╤════════╕\n",
      "│      │    AIR │    ANZ │    WHS │   NZ50 │\n",
      "╞══════╪════════╪════════╪════════╪════════╡\n",
      "│ AIR  │ 0.0189 │ 0.0033 │ 0.0016 │ 0.0022 │\n",
      "├──────┼────────┼────────┼────────┼────────┤\n",
      "│ ANZ  │ 0.0033 │ 0.0046 │ 0.0009 │ 0.0010 │\n",
      "├──────┼────────┼────────┼────────┼────────┤\n",
      "│ WHS  │ 0.0016 │ 0.0009 │ 0.0042 │ 0.0007 │\n",
      "├──────┼────────┼────────┼────────┼────────┤\n",
      "│ NZ50 │ 0.0022 │ 0.0010 │ 0.0007 │ 0.0010 │\n",
      "╘══════╧════════╧════════╧════════╧════════╛\n"
     ]
    }
   ],
   "source": [
    "cov_mat  = monthly_ret.cov()\n",
    "display(Math(r'\\rho_{ij}\\sigma_i\\sigma_j'))\n",
    "nice_print(cov_mat, 1, 'Covariances')"
   ]
  },
  {
   "cell_type": "code",
   "execution_count": 17,
   "id": "08671eb7",
   "metadata": {},
   "outputs": [
    {
     "data": {
      "text/latex": [
       "$\\displaystyle \\rho_{ij}$"
      ],
      "text/plain": [
       "<IPython.core.display.Math object>"
      ]
     },
     "metadata": {},
     "output_type": "display_data"
    },
    {
     "name": "stdout",
     "output_type": "stream",
     "text": [
      "╒══════╤════════╤════════╤════════╤════════╕\n",
      "│      │    AIR │    ANZ │    WHS │   NZ50 │\n",
      "╞══════╪════════╪════════╪════════╪════════╡\n",
      "│ AIR  │ 1.0000 │ 0.3538 │ 0.1831 │ 0.5073 │\n",
      "├──────┼────────┼────────┼────────┼────────┤\n",
      "│ ANZ  │ 0.3538 │ 1.0000 │ 0.2104 │ 0.4788 │\n",
      "├──────┼────────┼────────┼────────┼────────┤\n",
      "│ WHS  │ 0.1831 │ 0.2104 │ 1.0000 │ 0.3719 │\n",
      "├──────┼────────┼────────┼────────┼────────┤\n",
      "│ NZ50 │ 0.5073 │ 0.4788 │ 0.3719 │ 1.0000 │\n",
      "╘══════╧════════╧════════╧════════╧════════╛\n"
     ]
    },
    {
     "data": {
      "text/plain": [
       "<AxesSubplot:>"
      ]
     },
     "execution_count": 17,
     "metadata": {},
     "output_type": "execute_result"
    },
    {
     "data": {
      "image/png": "[encoded data removed]",
      "text/plain": [
       "<Figure size 432x288 with 2 Axes>"
      ]
     },
     "metadata": {
      "needs_background": "light"
     },
     "output_type": "display_data"
    }
   ],
   "source": [
    "# Correlation Matrix\n",
    "display(Math(r'\\rho_{ij}'))\n",
    "corr_mat = monthly_ret.corr()\n",
    "nice_print(corr_mat, 1)\n",
    "sns.heatmap(corr_mat, cmap=\"Greys\")"
   ]
  },
  {
   "cell_type": "code",
   "execution_count": 18,
   "id": "d538b2a3",
   "metadata": {},
   "outputs": [
    {
     "name": "stdout",
     "output_type": "stream",
     "text": [
      "                            OLS Regression Results                            \n",
      "==============================================================================\n",
      "Dep. Variable:                    AIR   R-squared:                       0.125\n",
      "Model:                            OLS   Adj. R-squared:                  0.118\n",
      "Method:                 Least Squares   F-statistic:                     17.75\n",
      "Date:                Tue, 24 May 2022   Prob (F-statistic):           4.81e-05\n",
      "Time:                        16:09:25   Log-Likelihood:                 80.209\n",
      "No. Observations:                 126   AIC:                            -156.4\n",
      "Df Residuals:                     124   BIC:                            -150.7\n",
      "Df Model:                           1                                         \n",
      "Covariance Type:            nonrobust                                         \n",
      "==============================================================================\n",
      "                 coef    std err          t      P>|t|      [0.025      0.975]\n",
      "------------------------------------------------------------------------------\n",
      "Intercept     -0.0013      0.012     -0.112      0.911      -0.024       0.022\n",
      "ANZ            0.7157      0.170      4.213      0.000       0.379       1.052\n",
      "==============================================================================\n",
      "Omnibus:                       87.704   Durbin-Watson:                   2.341\n",
      "Prob(Omnibus):                  0.000   Jarque-Bera (JB):             1198.296\n",
      "Skew:                          -2.054   Prob(JB):                    6.21e-261\n",
      "Kurtosis:                      17.538   Cond. No.                         14.8\n",
      "==============================================================================\n",
      "\n",
      "Notes:\n",
      "[1] Standard Errors assume that the covariance matrix of the errors is correctly specified.\n"
     ]
    }
   ],
   "source": [
    "# Regression\n",
    "results = smf.ols('AIR ~ 1 + ANZ', data=monthly_ret).fit()\n",
    "print(results.summary())"
   ]
  },
  {
   "cell_type": "code",
   "execution_count": 19,
   "id": "d6e08477",
   "metadata": {},
   "outputs": [],
   "source": [
    "#Scatter Plot\n",
    "\n",
    "def scattplot(X, Y, monthly_ret):\n",
    "    results = smf.ols(Y + ' ~ 1 + ' + X, data=monthly_ret).fit()\n",
    "    \n",
    "    fig = plt.figure(figsize=(7,6))\n",
    "    ax = sns.regplot(x=X, y=Y, data=monthly_ret, scatter_kws={'s':5})\n",
    "    \n",
    "    set_xmargin(ax, left=0, right=0)\n",
    "    \n",
    "    # Titles and axes names\n",
    "    ax.set_title(r'Monthly Returns')\n",
    "    ax.set_xlabel(X)\n",
    "    ax.set_ylabel(Y)\n",
    "    plt.grid(linestyle=\"dotted\", color='grey')\n",
    "    \n",
    "    # Equation\n",
    "    plusmin = '-' if results.params.Intercept<0 else '+'\n",
    "    equation = f'${{{Y}}}$ =  {results.params[1]:.3f} ${{{X}}}$ {plusmin} {abs(results.params.Intercept):.3f}'\n",
    "    ax.text(y = monthly_ret[Y].max(), x = monthly_ret[X].min(), s = equation)\n",
    "    plt.show()\n",
    "    print(results.summary())\n",
    "    return"
   ]
  },
  {
   "cell_type": "code",
   "execution_count": 20,
   "id": "d293d770",
   "metadata": {
    "scrolled": true
   },
   "outputs": [
    {
     "data": {
      "image/png": "[encoded data removed]",
      "text/plain": [
       "<Figure size 504x432 with 1 Axes>"
      ]
     },
     "metadata": {
      "needs_background": "light"
     },
     "output_type": "display_data"
    },
    {
     "name": "stdout",
     "output_type": "stream",
     "text": [
      "                            OLS Regression Results                            \n",
      "==============================================================================\n",
      "Dep. Variable:                    ANZ   R-squared:                       0.125\n",
      "Model:                            OLS   Adj. R-squared:                  0.118\n",
      "Method:                 Least Squares   F-statistic:                     17.75\n",
      "Date:                Tue, 24 May 2022   Prob (F-statistic):           4.81e-05\n",
      "Time:                        16:09:26   Log-Likelihood:                 168.97\n",
      "No. Observations:                 126   AIC:                            -333.9\n",
      "Df Residuals:                     124   BIC:                            -328.3\n",
      "Df Model:                           1                                         \n",
      "Covariance Type:            nonrobust                                         \n",
      "==============================================================================\n",
      "                 coef    std err          t      P>|t|      [0.025      0.975]\n",
      "------------------------------------------------------------------------------\n",
      "Intercept      0.0043      0.006      0.750      0.455      -0.007       0.016\n",
      "AIR            0.1749      0.042      4.213      0.000       0.093       0.257\n",
      "==============================================================================\n",
      "Omnibus:                        9.472   Durbin-Watson:                   2.111\n",
      "Prob(Omnibus):                  0.009   Jarque-Bera (JB):                9.834\n",
      "Skew:                          -0.548   Prob(JB):                      0.00732\n",
      "Kurtosis:                       3.819   Cond. No.                         7.31\n",
      "==============================================================================\n",
      "\n",
      "Notes:\n",
      "[1] Standard Errors assume that the covariance matrix of the errors is correctly specified.\n"
     ]
    }
   ],
   "source": [
    "scattplot('AIR','ANZ', monthly_ret)"
   ]
  },
  {
   "cell_type": "markdown",
   "id": "c121e762",
   "metadata": {},
   "source": [
    "**Return on an equally-weigthed portfolio plotted agains the NZ50**"
   ]
  },
  {
   "cell_type": "code",
   "execution_count": 21,
   "id": "b65a7954",
   "metadata": {
    "scrolled": true
   },
   "outputs": [
    {
     "data": {
      "image/png": "[encoded data removed]",
      "text/plain": [
       "<Figure size 504x432 with 1 Axes>"
      ]
     },
     "metadata": {
      "needs_background": "light"
     },
     "output_type": "display_data"
    },
    {
     "name": "stdout",
     "output_type": "stream",
     "text": [
      "                            OLS Regression Results                            \n",
      "==============================================================================\n",
      "Dep. Variable:                    EWP   R-squared:                       0.405\n",
      "Model:                            OLS   Adj. R-squared:                  0.400\n",
      "Method:                 Least Squares   F-statistic:                     84.37\n",
      "Date:                Tue, 24 May 2022   Prob (F-statistic):           1.17e-15\n",
      "Time:                        16:09:27   Log-Likelihood:                 196.59\n",
      "No. Observations:                 126   AIC:                            -389.2\n",
      "Df Residuals:                     124   BIC:                            -383.5\n",
      "Df Model:                           1                                         \n",
      "Covariance Type:            nonrobust                                         \n",
      "==============================================================================\n",
      "                 coef    std err          t      P>|t|      [0.025      0.975]\n",
      "------------------------------------------------------------------------------\n",
      "Intercept     -0.0099      0.005     -2.054      0.042      -0.019      -0.000\n",
      "NZ50           1.3648      0.149      9.185      0.000       1.071       1.659\n",
      "==============================================================================\n",
      "Omnibus:                       41.679   Durbin-Watson:                   2.003\n",
      "Prob(Omnibus):                  0.000   Jarque-Bera (JB):              240.799\n",
      "Skew:                          -0.932   Prob(JB):                     5.14e-53\n",
      "Kurtosis:                       9.511   Cond. No.                         32.6\n",
      "==============================================================================\n",
      "\n",
      "Notes:\n",
      "[1] Standard Errors assume that the covariance matrix of the errors is correctly specified.\n"
     ]
    }
   ],
   "source": [
    "# Return on an equally weigthed portfolio\n",
    "scattplot('NZ50','EWP', monthly_ret.assign(EWP = monthly_ret[[x for x in list(monthly_ret) if x!=\"NZ50\"]].mean(axis=1)))"
   ]
  },
  {
   "cell_type": "markdown",
   "id": "f24ab633",
   "metadata": {},
   "source": [
    "### Building a portfolio of two stocks\n",
    "---"
   ]
  },
  {
   "cell_type": "code",
   "execution_count": 22,
   "id": "5eeaa27e",
   "metadata": {},
   "outputs": [
    {
     "name": "stdout",
     "output_type": "stream",
     "text": [
      "[*********************100%***********************]  3 of 3 completed\n"
     ]
    },
    {
     "data": {
      "text/plain": [
       "array([<AxesSubplot:xlabel='Date'>, <AxesSubplot:xlabel='Date'>],\n",
       "      dtype=object)"
      ]
     },
     "execution_count": 22,
     "metadata": {},
     "output_type": "execute_result"
    },
    {
     "data": {
      "image/png": "[encoded data removed]",
      "text/plain": [
       "<Figure size 720x216 with 2 Axes>"
      ]
     },
     "metadata": {
      "needs_background": "light"
     },
     "output_type": "display_data"
    }
   ],
   "source": [
    "nzx_set, df_close = returns(['BGP.NZ','WHS.NZ']+['^NZ50'], '2009-01-01', '2019-01-01')\n",
    "\n",
    "stocks_list = ['BGP', 'WHS' ]  \n",
    "data = df_close[stocks_list]\n",
    "data.plot(figsize=(10, 3), subplots=True)"
   ]
  },
  {
   "cell_type": "code",
   "execution_count": 23,
   "id": "d41aa3de",
   "metadata": {},
   "outputs": [],
   "source": [
    "monthly_ret = np.log(data).diff().dropna()\n",
    "mean_ret = monthly_ret.mean()\n",
    "mean_ret.name = 'Mean Monthly Return'\n",
    "sigma    = monthly_ret.std()\n",
    "sigma.name = 'Sigma'"
   ]
  },
  {
   "cell_type": "code",
   "execution_count": 24,
   "id": "f00982ea",
   "metadata": {},
   "outputs": [
    {
     "data": {
      "text/html": [
       "<div>\n",
       "<style scoped>\n",
       "    .dataframe tbody tr th:only-of-type {\n",
       "        vertical-align: middle;\n",
       "    }\n",
       "\n",
       "    .dataframe tbody tr th {\n",
       "        vertical-align: top;\n",
       "    }\n",
       "\n",
       "    .dataframe thead th {\n",
       "        text-align: right;\n",
       "    }\n",
       "</style>\n",
       "<table border=\"1\" class=\"dataframe\">\n",
       "  <thead>\n",
       "    <tr style=\"text-align: right;\">\n",
       "      <th></th>\n",
       "      <th>AIR</th>\n",
       "      <th>ANZ</th>\n",
       "      <th>WHS</th>\n",
       "      <th>NZ50</th>\n",
       "    </tr>\n",
       "  </thead>\n",
       "  <tbody>\n",
       "    <tr>\n",
       "      <th>AIR</th>\n",
       "      <td>0.018886</td>\n",
       "      <td>0.003304</td>\n",
       "      <td>0.001627</td>\n",
       "      <td>0.002151</td>\n",
       "    </tr>\n",
       "    <tr>\n",
       "      <th>ANZ</th>\n",
       "      <td>0.003304</td>\n",
       "      <td>0.004616</td>\n",
       "      <td>0.000925</td>\n",
       "      <td>0.001003</td>\n",
       "    </tr>\n",
       "    <tr>\n",
       "      <th>WHS</th>\n",
       "      <td>0.001627</td>\n",
       "      <td>0.000925</td>\n",
       "      <td>0.004181</td>\n",
       "      <td>0.000742</td>\n",
       "    </tr>\n",
       "    <tr>\n",
       "      <th>NZ50</th>\n",
       "      <td>0.002151</td>\n",
       "      <td>0.001003</td>\n",
       "      <td>0.000742</td>\n",
       "      <td>0.000952</td>\n",
       "    </tr>\n",
       "  </tbody>\n",
       "</table>\n",
       "</div>"
      ],
      "text/plain": [
       "           AIR       ANZ       WHS      NZ50\n",
       "AIR   0.018886  0.003304  0.001627  0.002151\n",
       "ANZ   0.003304  0.004616  0.000925  0.001003\n",
       "WHS   0.001627  0.000925  0.004181  0.000742\n",
       "NZ50  0.002151  0.001003  0.000742  0.000952"
      ]
     },
     "execution_count": 24,
     "metadata": {},
     "output_type": "execute_result"
    }
   ],
   "source": [
    "cov_mat"
   ]
  },
  {
   "cell_type": "code",
   "execution_count": 25,
   "id": "a6dfa7cd",
   "metadata": {},
   "outputs": [
    {
     "name": "stdout",
     "output_type": "stream",
     "text": [
      "╒═════╤═══════════════════════╤═════════╕\n",
      "│     │   Mean Monthly Return │   Sigma │\n",
      "╞═════╪═══════════════════════╪═════════╡\n",
      "│ BGP │                0.0156 │  0.0546 │\n",
      "├─────┼───────────────────────┼─────────┤\n",
      "│ WHS │               -0.0004 │  0.0526 │\n",
      "╘═════╧═══════════════════════╧═════════╛\n",
      "\n",
      "Correlations\n"
     ]
    },
    {
     "data": {
      "text/latex": [
       "$\\displaystyle \\rho_{ij}$"
      ],
      "text/plain": [
       "<IPython.core.display.Math object>"
      ]
     },
     "metadata": {},
     "output_type": "display_data"
    },
    {
     "name": "stdout",
     "output_type": "stream",
     "text": [
      "╒═════╤════════╤════════╕\n",
      "│     │    BGP │    WHS │\n",
      "╞═════╪════════╪════════╡\n",
      "│ BGP │ 1.0000 │ 0.1844 │\n",
      "├─────┼────────┼────────┤\n",
      "│ WHS │ 0.1844 │ 1.0000 │\n",
      "╘═════╧════════╧════════╛\n",
      "\n",
      "Covariances:\n"
     ]
    },
    {
     "data": {
      "text/latex": [
       "$\\displaystyle \\rho_{ij}\\sigma_i\\sigma_j$"
      ],
      "text/plain": [
       "<IPython.core.display.Math object>"
      ]
     },
     "metadata": {},
     "output_type": "display_data"
    },
    {
     "name": "stdout",
     "output_type": "stream",
     "text": [
      "╒═════╤════════╤════════╕\n",
      "│     │    BGP │    WHS │\n",
      "╞═════╪════════╪════════╡\n",
      "│ BGP │ 0.0030 │ 0.0005 │\n",
      "├─────┼────────┼────────┤\n",
      "│ WHS │ 0.0005 │ 0.0028 │\n",
      "╘═════╧════════╧════════╛\n"
     ]
    }
   ],
   "source": [
    "nice_print(mean_ret.to_frame().join(sigma), 1, 'Returns')\n",
    "cov_mat  = monthly_ret.cov()\n",
    "\n",
    "print('\\nCorrelations')\n",
    "display(Math(r'\\rho_{ij}'))\n",
    "corr_mat = monthly_ret.corr()\n",
    "nice_print(corr_mat, 1)\n",
    "\n",
    "print('\\nCovariances:')\n",
    "display(Math(r'\\rho_{ij}\\sigma_i\\sigma_j'))\n",
    "nice_print(cov_mat, 1)"
   ]
  },
  {
   "cell_type": "code",
   "execution_count": 26,
   "id": "17683a09",
   "metadata": {},
   "outputs": [
    {
     "name": "stdout",
     "output_type": "stream",
     "text": [
      "╒═════════╤════════╤════════╕\n",
      "│         │    BGP │    WHS │\n",
      "╞═════════╪════════╪════════╡\n",
      "│ Weights │ 0.5000 │ 0.5000 │\n",
      "╘═════════╧════════╧════════╛\n"
     ]
    }
   ],
   "source": [
    "# Set proportions\n",
    "Xa = 0.5\n",
    "Xb = 1 - Xa\n",
    "prop = pd.DataFrame(data = [Xa, Xb], columns = ['Weights'],  index=['BGP','WHS']).T\n",
    "nice_print(prop)"
   ]
  },
  {
   "cell_type": "code",
   "execution_count": 27,
   "id": "8abc7ad4",
   "metadata": {},
   "outputs": [
    {
     "name": "stdout",
     "output_type": "stream",
     "text": [
      "╒═════╤═══════════════════════╤═════════╕\n",
      "│     │   Mean Monthly Return │   Sigma │\n",
      "╞═════╪═══════════════════════╪═════════╡\n",
      "│ BGP │                1.5607 │  5.4612 │\n",
      "├─────┼───────────────────────┼─────────┤\n",
      "│ WHS │               -0.0411 │  5.2624 │\n",
      "╘═════╧═══════════════════════╧═════════╛\n"
     ]
    }
   ],
   "source": [
    "nice_print(mean_ret.to_frame().join(sigma), 100)"
   ]
  },
  {
   "cell_type": "code",
   "execution_count": 28,
   "id": "fe137c50",
   "metadata": {},
   "outputs": [
    {
     "name": "stdout",
     "output_type": "stream",
     "text": [
      "╒═════════════════════╤═════════════════════╕\n",
      "│ Date                │   Portfolio Returns │\n",
      "╞═════════════════════╪═════════════════════╡\n",
      "│ 2015-05-31 00:00:00 │              0.0266 │\n",
      "├─────────────────────┼─────────────────────┤\n",
      "│ 2017-08-31 00:00:00 │             -0.0346 │\n",
      "├─────────────────────┼─────────────────────┤\n",
      "│ 2015-12-31 00:00:00 │              0.0303 │\n",
      "├─────────────────────┼─────────────────────┤\n",
      "│ 2015-09-30 00:00:00 │             -0.0071 │\n",
      "├─────────────────────┼─────────────────────┤\n",
      "│ 2016-07-31 00:00:00 │              0.0469 │\n",
      "╘═════════════════════╧═════════════════════╛\n"
     ]
    }
   ],
   "source": [
    "# Portfolio Returns\n",
    "t_monthly_ret = monthly_ret.T\n",
    "port_ret = (prop @ t_monthly_ret).T\n",
    "port_ret.columns = ['Portfolio Returns']\n",
    "nice_print(port_ret.sample(5))"
   ]
  },
  {
   "cell_type": "markdown",
   "id": "7222eea9",
   "metadata": {},
   "source": [
    "---\n",
    "#### Calculate portfolio Variance ####"
   ]
  },
  {
   "cell_type": "markdown",
   "id": "eb7d8f8d",
   "metadata": {},
   "source": [
    "$$\n",
    "\\begin{aligned}\n",
    "&\\sigma_{P}^{2}=w_{1}^{2} \\sigma_{1}^{2}+w_{2}^{2} \\sigma_{2}^{2}+2 w_{1} w_{2} \\operatorname{Cov}\\left(R_{1}, R_{2}\\right) \\\\\n",
    "&\\sigma_{P}^{2}=w_{1}^{2} \\sigma_{1}^{2}+w_{2}^{2} \\sigma_{2}^{2}+2 w_{1} w_{2} \\rho_{12} \\sigma_{1} \\sigma_{2}\n",
    "\\end{aligned}\n",
    "$$"
   ]
  },
  {
   "cell_type": "code",
   "execution_count": 29,
   "id": "0d40148c",
   "metadata": {},
   "outputs": [
    {
     "data": {
      "text/latex": [
       "$\\displaystyle \\rho_{ij}$"
      ],
      "text/plain": [
       "<IPython.core.display.Math object>"
      ]
     },
     "metadata": {},
     "output_type": "display_data"
    },
    {
     "name": "stdout",
     "output_type": "stream",
     "text": [
      "╒═════╤════════╤════════╕\n",
      "│     │    BGP │    WHS │\n",
      "╞═════╪════════╪════════╡\n",
      "│ BGP │ 1.0000 │ 0.1844 │\n",
      "├─────┼────────┼────────┤\n",
      "│ WHS │ 0.1844 │ 1.0000 │\n",
      "╘═════╧════════╧════════╛\n"
     ]
    }
   ],
   "source": [
    "# Correlation Matrix\n",
    "display(Math(r'\\rho_{ij}'))\n",
    "corr_mat = monthly_ret.corr()\n",
    "nice_print(corr_mat, 1)"
   ]
  },
  {
   "cell_type": "markdown",
   "id": "69636d1b",
   "metadata": {},
   "source": [
    "**Note that the correlations are between  zero and one ... implication ...**"
   ]
  },
  {
   "cell_type": "markdown",
   "id": "e5e8b9ae",
   "metadata": {},
   "source": [
    "**Calculate portfolio Sigma**"
   ]
  },
  {
   "cell_type": "markdown",
   "id": "f2e58b5f",
   "metadata": {},
   "source": [
    "$$\n",
    "\\begin{aligned}\n",
    "&\\sigma_{P}=\\sqrt{ w_{1}^{2} \\sigma_{1}^{2}+w_{2}^{2} \\sigma_{2}^{2}+2 w_{1} w_{2} \\rho_{12} \\sigma_{1} \\sigma_{2}}\n",
    "\\end{aligned}\n",
    "$$"
   ]
  },
  {
   "cell_type": "code",
   "execution_count": 30,
   "id": "1ea98d7c",
   "metadata": {},
   "outputs": [
    {
     "data": {
      "text/plain": [
       "0.0017028681596332517"
      ]
     },
     "execution_count": 30,
     "metadata": {},
     "output_type": "execute_result"
    }
   ],
   "source": [
    "port_var = prop @ cov_mat @ prop.T\n",
    "port_var['Weights'][0]"
   ]
  },
  {
   "cell_type": "code",
   "execution_count": 31,
   "id": "eaa57659",
   "metadata": {},
   "outputs": [
    {
     "name": "stdout",
     "output_type": "stream",
     "text": [
      "Portfolio Return:   0.7598% \n",
      "Portfolio Variance: 0.001703\n",
      "Portfolio Sigma   : 4.1266% \n",
      "\n",
      "Compare that to the individual stocks:\n"
     ]
    }
   ],
   "source": [
    "port_sigma = port_var**.5\n",
    "print('Portfolio Return:   {:2.4}% \\nPortfolio Variance: {:2.4}\\nPortfolio Sigma   : {:2.5}% \\n\\nCompare that to the individual stocks:'.format(port_ret.mean().values[0]*100, \n",
    "                                                                                                   port_var.values[0][0], \n",
    "                                                                                                   port_sigma.values[0][0]*100))"
   ]
  },
  {
   "cell_type": "code",
   "execution_count": 32,
   "id": "3ce3159b",
   "metadata": {},
   "outputs": [
    {
     "name": "stdout",
     "output_type": "stream",
     "text": [
      "╒═════╤═══════════════════════╤═════════╕\n",
      "│     │   Mean Monthly Return │   Sigma │\n",
      "╞═════╪═══════════════════════╪═════════╡\n",
      "│ BGP │                1.5607 │  5.4612 │\n",
      "├─────┼───────────────────────┼─────────┤\n",
      "│ WHS │               -0.0411 │  5.2624 │\n",
      "╘═════╧═══════════════════════╧═════════╛\n"
     ]
    }
   ],
   "source": [
    "nice_print(mean_ret.to_frame().join(sigma), 100)"
   ]
  },
  {
   "cell_type": "markdown",
   "id": "ee17f27d",
   "metadata": {},
   "source": [
    "---\n",
    "\n",
    "### This is a good time to focus on the script *Efficient Set for two stocks and the capital allocation line*\n",
    "\n",
    "---"
   ]
  },
  {
   "cell_type": "markdown",
   "id": "79bf425d",
   "metadata": {},
   "source": [
    "---\n",
    "\n",
    "### Calculating the  Minimum-Variance Portfolio using the analytical approach\n",
    "\n",
    "---"
   ]
  },
  {
   "cell_type": "code",
   "execution_count": 33,
   "id": "e46e2cdc",
   "metadata": {},
   "outputs": [
    {
     "name": "stdout",
     "output_type": "stream",
     "text": [
      "╒═════╤════════╤════════╕\n",
      "│     │    BGP │    WHS │\n",
      "╞═════╪════════╪════════╡\n",
      "│ BGP │ 0.0030 │ 0.0005 │\n",
      "├─────┼────────┼────────┤\n",
      "│ WHS │ 0.0005 │ 0.0028 │\n",
      "╘═════╧════════╧════════╛\n",
      "Portfolio Return:   0.007598\n",
      "Portfolio Variance: 0.001703\n",
      "Portfolio Sigma:    0.04127\n",
      "BGP_var:            0.002982\n",
      "WHS_var:            0.002769\n",
      "B_W_cov:            0.0005298\n"
     ]
    }
   ],
   "source": [
    "# Analytical Approach\n",
    "\n",
    "nice_print(cov_mat, 1)\n",
    "\n",
    "print('Portfolio Return:   {:2.4}\\nPortfolio Variance: {:2.4}\\nPortfolio Sigma:    {:2.4}'.format(port_ret.mean().values[0], \n",
    "                                                                                                   port_var.values[0][0], \n",
    "                                                                                                   port_sigma.values[0][0]))\n",
    "\n",
    "BGP_var = cov_mat.loc[\"BGP\"][\"BGP\"]\n",
    "print('BGP_var:            {:2.4}'.format(BGP_var))\n",
    "\n",
    "WHS_var = cov_mat.loc[\"WHS\"][\"WHS\"]\n",
    "print('WHS_var:            {:2.4}'.format(WHS_var))\n",
    "\n",
    "B_W_cov = cov_mat.loc[\"WHS\"][\"BGP\"]\n",
    "print('B_W_cov:            {:2.4}'.format(B_W_cov))\n",
    "\n"
   ]
  },
  {
   "cell_type": "markdown",
   "id": "f0822b27",
   "metadata": {},
   "source": [
    "Using math:\n",
    "$$\n",
    "\\begin{aligned}\n",
    "\t\\sigma{p}^{2}&=w^{2} \\sigma_{1}^{2} +(1-w)^{2} \\sigma_{2}^{2}+2 w(1-w) \\sigma_{1} \\sigma_{2} \\rho \\\\\n",
    "\t\\mu_{p}&=w \\mu_{1}+(1-w) \\mu_{2}\\\\\n",
    "\t\\frac{d_{\\sigma_{p}}}{d w}&=0 \\\\\n",
    "\tw &=\\frac{\\sigma_{2}^{2}-\\rho \\sigma_{1} \\sigma_{2}}{\\sigma_{2}^{2}+\\sigma_{1}^{2}-2 \\rho \\sigma_{1} \\sigma_{2}} \n",
    "\\end{aligned}\n",
    "$$"
   ]
  },
  {
   "cell_type": "markdown",
   "id": "f81ba651",
   "metadata": {},
   "source": [
    "**Determine Weights:**"
   ]
  },
  {
   "cell_type": "code",
   "execution_count": 34,
   "id": "f3586c3e",
   "metadata": {},
   "outputs": [
    {
     "name": "stdout",
     "output_type": "stream",
     "text": [
      "GMVP_W:   0.4772815\n",
      "GMVP_B:   0.5227185\n",
      "╒═════════╤════════╤════════╕\n",
      "│         │    BGP │    WHS │\n",
      "╞═════════╪════════╪════════╡\n",
      "│ Weights │ 0.5227 │ 0.4773 │\n",
      "╘═════════╧════════╧════════╛\n",
      "╒═════╤══════════╕\n",
      "│     │   Return │\n",
      "╞═════╪══════════╡\n",
      "│ BGP │   1.5607 │\n",
      "├─────┼──────────┤\n",
      "│ WHS │  -0.0411 │\n",
      "╘═════╧══════════╛\n"
     ]
    }
   ],
   "source": [
    "# W weight:\n",
    "GMVP_W = (WHS_var - B_W_cov) / (WHS_var + BGP_var - 2 * B_W_cov)\n",
    "print('GMVP_W:   {:2.7}'.format(GMVP_W))\n",
    "\n",
    "# B weight\n",
    "GMVP_B = 1 - GMVP_W\n",
    "print('GMVP_B:   {:2.7}'.format(GMVP_B))\n",
    "\n",
    "aprop = pd.DataFrame(data = [GMVP_B, GMVP_W], columns = ['Weights'], index = ['BGP','WHS']).T\n",
    "nice_print(aprop)\n",
    "nice_print(mean_ret*100, name='Return')"
   ]
  },
  {
   "cell_type": "markdown",
   "id": "bb88211b",
   "metadata": {},
   "source": [
    "**Calculating GMVP return:**"
   ]
  },
  {
   "cell_type": "code",
   "execution_count": 35,
   "id": "accb4b43",
   "metadata": {
    "scrolled": true
   },
   "outputs": [
    {
     "name": "stdout",
     "output_type": "stream",
     "text": [
      "╒═════════╤════════════════════╕\n",
      "│         │   Portfolio return │\n",
      "╞═════════╪════════════════════╡\n",
      "│ Weights │             0.7962 │\n",
      "╘═════════╧════════════════════╛\n"
     ]
    }
   ],
   "source": [
    "GMVP_ret = aprop @ mean_ret.T\n",
    "nice_print(GMVP_ret*100,  name='Portfolio return')"
   ]
  },
  {
   "cell_type": "code",
   "execution_count": 36,
   "id": "774c1e0c",
   "metadata": {},
   "outputs": [],
   "source": [
    "## Calculating GMVP return:\n",
    "#GMVP_ret = aprop @ mean_ret.T\n",
    "#GMVP_ret = GMVP_ret.values[0]\n",
    "#print('GMVP_ret:   {:2.4}'.format(GMVP_ret))"
   ]
  },
  {
   "cell_type": "markdown",
   "id": "c8a43072",
   "metadata": {},
   "source": [
    "**Calculating GMVP variance:**"
   ]
  },
  {
   "cell_type": "code",
   "execution_count": 37,
   "id": "777fba10",
   "metadata": {},
   "outputs": [
    {
     "name": "stdout",
     "output_type": "stream",
     "text": [
      "              BGP       WHS\n",
      "Weights  0.522719  0.477281\n",
      "\n",
      "GMVP_var:   0.00171013339\n"
     ]
    }
   ],
   "source": [
    "print(aprop)\n",
    "GMVP_var = aprop @ cov_mat @ aprop.T\n",
    "print('\\nGMVP_var:   {:2.9}'.format(GMVP_var.values[0][0]))"
   ]
  },
  {
   "cell_type": "markdown",
   "id": "a79a31f5",
   "metadata": {},
   "source": [
    "**Calculate GMVP Sigma:**"
   ]
  },
  {
   "cell_type": "code",
   "execution_count": 38,
   "id": "de90e372",
   "metadata": {},
   "outputs": [
    {
     "name": "stdout",
     "output_type": "stream",
     "text": [
      "GMVP_sigma: 4.1354\n"
     ]
    }
   ],
   "source": [
    "GMVP_sigma = math.sqrt(GMVP_var.values[0][0])\n",
    "print('GMVP_sigma: {:2.5}'.format(GMVP_sigma*100))"
   ]
  },
  {
   "cell_type": "code",
   "execution_count": 39,
   "id": "e600911e",
   "metadata": {},
   "outputs": [
    {
     "name": "stdout",
     "output_type": "stream",
     "text": [
      "╒═════╤═══════════════════════╤═════════╕\n",
      "│     │   Mean Monthly Return │   Sigma │\n",
      "╞═════╪═══════════════════════╪═════════╡\n",
      "│ BGP │                1.5607 │  5.4612 │\n",
      "├─────┼───────────────────────┼─────────┤\n",
      "│ WHS │               -0.0411 │  5.2624 │\n",
      "╘═════╧═══════════════════════╧═════════╛\n"
     ]
    }
   ],
   "source": [
    "nice_print(mean_ret.to_frame().join(sigma), 100)"
   ]
  },
  {
   "cell_type": "code",
   "execution_count": 40,
   "id": "3d1113d5",
   "metadata": {},
   "outputs": [
    {
     "name": "stdout",
     "output_type": "stream",
     "text": [
      "╒═════════╤════════════════════╕\n",
      "│         │   Portfolio return │\n",
      "╞═════════╪════════════════════╡\n",
      "│ Weights │             0.7962 │\n",
      "╘═════════╧════════════════════╛\n"
     ]
    }
   ],
   "source": [
    "nice_print(GMVP_ret*100,  name='Portfolio return')"
   ]
  },
  {
   "cell_type": "code",
   "execution_count": 41,
   "id": "2dc41daf",
   "metadata": {},
   "outputs": [
    {
     "name": "stdout",
     "output_type": "stream",
     "text": [
      "GMVP_sigma: 4.1354\n"
     ]
    }
   ],
   "source": [
    "print('GMVP_sigma: {:2.5}'.format(GMVP_sigma*100))"
   ]
  },
  {
   "cell_type": "markdown",
   "id": "93e33bb8",
   "metadata": {},
   "source": [
    "## A graph ##\n",
    "\n",
    "**Returns**"
   ]
  },
  {
   "cell_type": "code",
   "execution_count": 42,
   "id": "68bcb556",
   "metadata": {},
   "outputs": [],
   "source": [
    "BGP_ret = mean_ret['BGP']\n",
    "#BGP_ret\n",
    "\n",
    "WHS_ret = mean_ret['WHS']\n",
    "#WHS_ret"
   ]
  },
  {
   "cell_type": "markdown",
   "id": "097434fe",
   "metadata": {},
   "source": [
    "**Set an Array of Portfolio Weights**"
   ]
  },
  {
   "cell_type": "code",
   "execution_count": 43,
   "id": "f077a35d",
   "metadata": {},
   "outputs": [],
   "source": [
    "BGP_weight = np.arange(-1,2,0.1)\n",
    "WHS_weight = 1-BGP_weight\n",
    "\n",
    "# Portfolio Z Mean Returns\n",
    "BW_ret = BGP_weight * BGP_ret + WHS_weight * WHS_ret\n",
    "#print(pd.Series(BW_ret))"
   ]
  },
  {
   "cell_type": "markdown",
   "id": "b0d1ed8e",
   "metadata": {},
   "source": [
    "**Portfolios sigmas for the array of weight combinations**"
   ]
  },
  {
   "cell_type": "markdown",
   "id": "8c033c3f",
   "metadata": {},
   "source": [
    "$$\n",
    "\\begin{aligned}\n",
    "&\\sigma_{P}^{2}=w_{1}^{2} \\sigma_{1}^{2}+w_{2}^{2} \\sigma_{2}^{2}+2 w_{1} w_{2} \\rho_{12} \\sigma_{1} \\sigma_{2}\n",
    "\\end{aligned}\n",
    "$$"
   ]
  },
  {
   "cell_type": "code",
   "execution_count": 44,
   "id": "41481867",
   "metadata": {},
   "outputs": [],
   "source": [
    "BW_sigma = (BGP_weight ** 2 * BGP_var + WHS_weight ** 2 * WHS_var + BGP_weight * WHS_weight * B_W_cov * 2) ** 0.5\n",
    "#print(pd.Series(BW_sigma))"
   ]
  },
  {
   "cell_type": "code",
   "execution_count": 45,
   "id": "222e1c74",
   "metadata": {},
   "outputs": [
    {
     "data": {
      "text/html": [
       "<div>\n",
       "<style scoped>\n",
       "    .dataframe tbody tr th:only-of-type {\n",
       "        vertical-align: middle;\n",
       "    }\n",
       "\n",
       "    .dataframe tbody tr th {\n",
       "        vertical-align: top;\n",
       "    }\n",
       "\n",
       "    .dataframe thead th {\n",
       "        text-align: right;\n",
       "    }\n",
       "</style>\n",
       "<table border=\"1\" class=\"dataframe\">\n",
       "  <thead>\n",
       "    <tr style=\"text-align: right;\">\n",
       "      <th></th>\n",
       "      <th>Return</th>\n",
       "    </tr>\n",
       "    <tr>\n",
       "      <th>Sigma</th>\n",
       "      <th></th>\n",
       "    </tr>\n",
       "  </thead>\n",
       "  <tbody>\n",
       "    <tr>\n",
       "      <th>0.048665</th>\n",
       "      <td>0.001190</td>\n",
       "    </tr>\n",
       "    <tr>\n",
       "      <th>0.045400</th>\n",
       "      <td>0.002792</td>\n",
       "    </tr>\n",
       "    <tr>\n",
       "      <th>0.069831</th>\n",
       "      <td>0.020412</td>\n",
       "    </tr>\n",
       "    <tr>\n",
       "      <th>0.096723</th>\n",
       "      <td>-0.013226</td>\n",
       "    </tr>\n",
       "    <tr>\n",
       "      <th>0.102961</th>\n",
       "      <td>-0.014828</td>\n",
       "    </tr>\n",
       "  </tbody>\n",
       "</table>\n",
       "</div>"
      ],
      "text/plain": [
       "            Return\n",
       "Sigma             \n",
       "0.048665  0.001190\n",
       "0.045400  0.002792\n",
       "0.069831  0.020412\n",
       "0.096723 -0.013226\n",
       "0.102961 -0.014828"
      ]
     },
     "execution_count": 45,
     "metadata": {},
     "output_type": "execute_result"
    }
   ],
   "source": [
    "# Envelope\n",
    "dfeff = pd.DataFrame({'Sigma': BW_sigma, 'Return': BW_ret}, columns=['Sigma', 'Return'])\n",
    "dfeff.set_index('Sigma', inplace=True)\n",
    "dfeff.sample(5)"
   ]
  },
  {
   "cell_type": "code",
   "execution_count": 46,
   "id": "64ddc1bc",
   "metadata": {},
   "outputs": [
    {
     "data": {
      "text/html": [
       "<div>\n",
       "<style scoped>\n",
       "    .dataframe tbody tr th:only-of-type {\n",
       "        vertical-align: middle;\n",
       "    }\n",
       "\n",
       "    .dataframe tbody tr th {\n",
       "        vertical-align: top;\n",
       "    }\n",
       "\n",
       "    .dataframe thead th {\n",
       "        text-align: right;\n",
       "    }\n",
       "</style>\n",
       "<table border=\"1\" class=\"dataframe\">\n",
       "  <thead>\n",
       "    <tr style=\"text-align: right;\">\n",
       "      <th></th>\n",
       "      <th>Return</th>\n",
       "    </tr>\n",
       "    <tr>\n",
       "      <th>Sigma</th>\n",
       "      <th></th>\n",
       "    </tr>\n",
       "  </thead>\n",
       "  <tbody>\n",
       "    <tr>\n",
       "      <th>0.054612</th>\n",
       "      <td>0.015607</td>\n",
       "    </tr>\n",
       "    <tr>\n",
       "      <th>0.102961</th>\n",
       "      <td>-0.014828</td>\n",
       "    </tr>\n",
       "    <tr>\n",
       "      <th>0.072881</th>\n",
       "      <td>-0.006819</td>\n",
       "    </tr>\n",
       "    <tr>\n",
       "      <th>0.090574</th>\n",
       "      <td>-0.011624</td>\n",
       "    </tr>\n",
       "    <tr>\n",
       "      <th>0.099547</th>\n",
       "      <td>0.028421</td>\n",
       "    </tr>\n",
       "  </tbody>\n",
       "</table>\n",
       "</div>"
      ],
      "text/plain": [
       "            Return\n",
       "Sigma             \n",
       "0.054612  0.015607\n",
       "0.102961 -0.014828\n",
       "0.072881 -0.006819\n",
       "0.090574 -0.011624\n",
       "0.099547  0.028421"
      ]
     },
     "execution_count": 46,
     "metadata": {},
     "output_type": "execute_result"
    }
   ],
   "source": [
    "# Envelope\n",
    "dfeff = pd.DataFrame({'Sigma': BW_sigma, 'Return': BW_ret}, columns=['Sigma', 'Return'])\n",
    "dfeff.set_index('Sigma', inplace=True)\n",
    "dfeff.sample(5)"
   ]
  },
  {
   "cell_type": "code",
   "execution_count": 47,
   "id": "9c3149cd",
   "metadata": {},
   "outputs": [
    {
     "data": {
      "image/png": "[encoded data removed]",
      "text/plain": [
       "<Figure size 504x432 with 1 Axes>"
      ]
     },
     "metadata": {
      "needs_background": "light"
     },
     "output_type": "display_data"
    }
   ],
   "source": [
    "fig, ax = plt.subplots(figsize=(7,6))\n",
    "ax.set_title(r'Monthly Returns')\n",
    "dfeff.plot(ax=ax, grid=True)\n",
    "ax.plot(sigma.to_list(), mean_ret.to_list(), 'o') # assets\n",
    "ax.plot(GMVP_sigma, GMVP_ret, 'o') # assets\n",
    "# Labels\n",
    "ax.text(sigma['BGP']+0.005,mean_ret['BGP'],'BGP')\n",
    "ax.text(sigma['WHS']+0.005,mean_ret['WHS'],'WHS')\n",
    "plt.show()"
   ]
  },
  {
   "cell_type": "markdown",
   "id": "46d50222",
   "metadata": {},
   "source": [
    "**Applying this to multiple pairs of stocks**"
   ]
  },
  {
   "cell_type": "code",
   "execution_count": 48,
   "id": "e8212617",
   "metadata": {},
   "outputs": [
    {
     "name": "stdout",
     "output_type": "stream",
     "text": [
      "[*********************100%***********************]  153 of 153 completed\n",
      "\n",
      "10 Failed downloads:\n",
      "- BIF.NZ: No data found for this date range, symbol may be delisted\n",
      "- BRMWG.NZ: No data found, symbol may be delisted\n",
      "- ALD.NZ: Data doesn't exist for startDate = 1317380400, endDate = 1651233600\n",
      "- NTLOB.NZ: No data found, symbol may be delisted\n",
      "- KFLWG.NZ: No data found, symbol may be delisted\n",
      "- JPG.NZ: No data found for this date range, symbol may be delisted\n",
      "- AKL.NZ: No data found, symbol may be delisted\n",
      "- CO2.NZ: No data found for this date range, symbol may be delisted\n",
      "- PLP.NZ: No data found for this date range, symbol may be delisted\n",
      "- FCT.NZ: No data found for this date range, symbol may be delisted\n"
     ]
    }
   ],
   "source": [
    "nzx_set, df_close = returns(nzx+['^NZ50'], '2011-10-01', '2022-04-30')"
   ]
  },
  {
   "cell_type": "code",
   "execution_count": 49,
   "id": "78f75642",
   "metadata": {},
   "outputs": [
    {
     "data": {
      "image/png": "[encoded data removed]",
      "text/plain": [
       "<Figure size 432x288 with 1 Axes>"
      ]
     },
     "metadata": {
      "needs_background": "light"
     },
     "output_type": "display_data"
    }
   ],
   "source": [
    "stocks_list = [\"AIR\", \"ANZ\", 'WHS', 'BGP', 'FPH', 'RYM', 'AIA', 'THL']  # tickers seperated by space\n",
    "data = df_close[stocks_list]\n",
    "\n",
    "# Calculate monthly returns\n",
    "monthly_ret = np.log(data).diff().dropna()\n",
    "monthly_ret.cumsum().apply(np.exp).plot()\n",
    "\n",
    "mean_ret = monthly_ret.mean()\n",
    "mean_ret.name = 'Mean Monthly Return'"
   ]
  },
  {
   "cell_type": "code",
   "execution_count": 50,
   "id": "94906135",
   "metadata": {},
   "outputs": [
    {
     "data": {
      "text/plain": [
       "AIR    0.003978\n",
       "ANZ    0.004614\n",
       "WHS    0.006003\n",
       "BGP    0.015740\n",
       "FPH    0.019556\n",
       "RYM    0.011274\n",
       "AIA    0.010734\n",
       "THL    0.016631\n",
       "dtype: float64"
      ]
     },
     "execution_count": 50,
     "metadata": {},
     "output_type": "execute_result"
    }
   ],
   "source": [
    "monthly_ret.mean()"
   ]
  },
  {
   "cell_type": "code",
   "execution_count": 51,
   "id": "21fb0047",
   "metadata": {},
   "outputs": [
    {
     "data": {
      "image/png": "[encoded data removed]",
      "text/plain": [
       "<Figure size 504x432 with 1 Axes>"
      ]
     },
     "metadata": {
      "needs_background": "light"
     },
     "output_type": "display_data"
    },
    {
     "data": {
      "text/plain": [
       "0.0012034063816049705"
      ]
     },
     "execution_count": 51,
     "metadata": {},
     "output_type": "execute_result"
    }
   ],
   "source": [
    "def demo_two_portfolios(monthly_ret, x, y):\n",
    "    x_ret = monthly_ret[x].mean()\n",
    "    y_ret = monthly_ret[y].mean()\n",
    "    x_sig = monthly_ret[x].std()\n",
    "    y_sig = monthly_ret[y].std()\n",
    "    cov_mat  = monthly_ret.cov()\n",
    "    \n",
    "    x_var = cov_mat.loc[x][x]\n",
    "    y_var = cov_mat.loc[y][y]\n",
    "    \n",
    "    x_y_cov = cov_mat.loc[y][x]\n",
    "\n",
    "    x_weight = np.arange(-1,2,0.1)\n",
    "    y_weight = 1-x_weight\n",
    "\n",
    "    # Portfolio Z Mean Returns\n",
    "    xy_ret = x_weight * x_ret + y_weight * y_ret\n",
    "    #print(pd.Series(xy_ret))\n",
    "        \n",
    "    xy_sigma = (x_weight ** 2 * x_var + y_weight ** 2 * y_var + x_weight * y_weight * x_y_cov * 2) ** 0.5\n",
    "        \n",
    "    #print(pd.Series(xy_sigma))\n",
    "\n",
    "    # Envelope\n",
    "    dfeff = pd.DataFrame({'Sigma': xy_sigma, 'Return': xy_ret}, columns=['Sigma', 'Return'])\n",
    "    dfeff.set_index('Sigma', inplace=True)\n",
    "    dfeff.sample(5)\n",
    "\n",
    "    fig, ax = plt.subplots(figsize=(7,6))\n",
    "    ax.set_title(r'Monthly Returns')\n",
    "    dfeff.plot(ax=ax, grid=True)\n",
    "    ax.plot(x_sig, x_ret, 'o') # assets\n",
    "    ax.plot(y_sig, y_ret, 'o') # assets\n",
    "    \n",
    "    # Labels\n",
    "    ax.text(x_sig+0.005,x_ret,x)\n",
    "    ax.text(y_sig+0.005,y_ret,y)\n",
    "    ax.text(min(x_sig,y_sig)+0.005,(x_ret+y_ret)/2,'Cov: {:2.4}'.format(x_y_cov))\n",
    "    plt.show()\n",
    "    return x_y_cov\n",
    "    \n",
    "demo_two_portfolios(monthly_ret, 'WHS', 'BGP')"
   ]
  },
  {
   "cell_type": "code",
   "execution_count": 52,
   "id": "5563022b",
   "metadata": {},
   "outputs": [
    {
     "data": {
      "image/png": "[encoded data removed]",
      "text/plain": [
       "<Figure size 504x432 with 1 Axes>"
      ]
     },
     "metadata": {
      "needs_background": "light"
     },
     "output_type": "display_data"
    },
    {
     "data": {
      "text/plain": [
       "0.0027075437687986903"
      ]
     },
     "execution_count": 52,
     "metadata": {},
     "output_type": "execute_result"
    }
   ],
   "source": [
    "demo_two_portfolios(monthly_ret, 'AIA', 'RYM')"
   ]
  },
  {
   "cell_type": "code",
   "execution_count": 53,
   "id": "817c8ff2",
   "metadata": {},
   "outputs": [
    {
     "data": {
      "image/png": "[encoded data removed]",
      "text/plain": [
       "<Figure size 504x432 with 1 Axes>"
      ]
     },
     "metadata": {
      "needs_background": "light"
     },
     "output_type": "display_data"
    },
    {
     "data": {
      "text/plain": [
       "0.0029625188324688702"
      ]
     },
     "execution_count": 53,
     "metadata": {},
     "output_type": "execute_result"
    }
   ],
   "source": [
    "demo_two_portfolios(monthly_ret, 'THL', 'BGP')"
   ]
  }
 ],
 "metadata": {
  "kernelspec": {
   "display_name": "Python 3 (ipykernel)",
   "language": "python",
   "name": "python3"
  },
  "language_info": {
   "codemirror_mode": {
    "name": "ipython",
    "version": 3
   },
   "file_extension": ".py",
   "mimetype": "text/x-python",
   "name": "python",
   "nbconvert_exporter": "python",
   "pygments_lexer": "ipython3",
   "version": "3.8.13"
  }
 },
 "nbformat": 4,
 "nbformat_minor": 5
}
