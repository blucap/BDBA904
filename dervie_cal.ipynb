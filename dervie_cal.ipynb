{
 "cells": [
  {
   "cell_type": "code",
   "execution_count": 1,
   "id": "f808e423",
   "metadata": {},
   "outputs": [],
   "source": [
    "from IPython.display import display, Math, Latex\n",
    "from sympy import *\n",
    "import math\n",
    "import numpy as np\n",
    "import pandas as pd\n",
    "from sympy.plotting import plot as symplot\n",
    "from sympy import Array\n",
    "import matplotlib.pyplot as plt"
   ]
  },
  {
   "cell_type": "code",
   "execution_count": 2,
   "id": "7dadd2b7",
   "metadata": {},
   "outputs": [],
   "source": [
    "Rf = 0.03\n",
    "r_i, S_i = 0.20, 0.50\n",
    "r_f, S_f = 0.15, 0.33\n",
    "Corr = 0"
   ]
  },
  {
   "cell_type": "code",
   "execution_count": 3,
   "id": "0cd44c8e",
   "metadata": {},
   "outputs": [],
   "source": [
    "r_i, S_i, W_i, r_f, S_f, W_f, R, S, Corr = symbols('r_i, S_i, W_i, r_f, S_f, W_f R S Corr')"
   ]
  },
  {
   "cell_type": "code",
   "execution_count": 4,
   "id": "e7502044",
   "metadata": {},
   "outputs": [
    {
     "data": {
      "text/latex": [
       "$\\displaystyle W_{f} r_{f} + W_{i} r_{i}$"
      ],
      "text/plain": [
       "W_f*r_f + W_i*r_i"
      ]
     },
     "execution_count": 4,
     "metadata": {},
     "output_type": "execute_result"
    }
   ],
   "source": [
    "R = r_i * W_i + r_f * W_f\n",
    "R"
   ]
  },
  {
   "cell_type": "markdown",
   "id": "c659ee19",
   "metadata": {},
   "source": [
    "**Portfolio variance:**\n",
    "$$\n",
    "\\begin{aligned}\n",
    "&\\sigma_{P}^{2}=w_{1}^{2} \\sigma_{1}^{2}+w_{2}^{2} \\sigma_{2}^{2}+2 w_{1} w_{2} \\operatorname{Cov}\\left(R_{1}, R_{2}\\right) \\\\\n",
    "&\\sigma_{P}^{2}=w_{1}^{2} \\sigma_{1}^{2}+w_{2}^{2} \\sigma_{2}^{2}+2 w_{1} w_{2} \\rho_{12} \\sigma_{1} \\sigma_{2}\n",
    "\\end{aligned}\n",
    "$$"
   ]
  },
  {
   "cell_type": "code",
   "execution_count": 5,
   "id": "546ec80a",
   "metadata": {},
   "outputs": [
    {
     "data": {
      "text/latex": [
       "$\\displaystyle 2 Corr S_{f} S_{i} W_{f} W_{i} + S_{f}^{2} W_{f}^{2} + S_{i}^{2} W_{i}^{2}$"
      ],
      "text/plain": [
       "2*Corr*S_f*S_i*W_f*W_i + S_f**2*W_f**2 + S_i**2*W_i**2"
      ]
     },
     "execution_count": 5,
     "metadata": {},
     "output_type": "execute_result"
    }
   ],
   "source": [
    "S_p = (W_i**2)*(S_i**2) + (W_f**2)*(S_f**2) + 2*W_i*W_f*Corr*S_i*S_f\n",
    "S_p"
   ]
  },
  {
   "cell_type": "markdown",
   "id": "e876c85c",
   "metadata": {},
   "source": [
    "**Introducing a risk-free security:**"
   ]
  },
  {
   "cell_type": "code",
   "execution_count": 6,
   "id": "bd54ae25",
   "metadata": {},
   "outputs": [],
   "source": [
    "S_f = 0"
   ]
  },
  {
   "cell_type": "markdown",
   "id": "3a794adb",
   "metadata": {},
   "source": [
    "**The resulting portfolio variance will now be:**"
   ]
  },
  {
   "cell_type": "code",
   "execution_count": 7,
   "id": "2ff6d547",
   "metadata": {},
   "outputs": [
    {
     "data": {
      "text/latex": [
       "$\\displaystyle S_{i}^{2} W_{i}^{2}$"
      ],
      "text/plain": [
       "S_i**2*W_i**2"
      ]
     },
     "execution_count": 7,
     "metadata": {},
     "output_type": "execute_result"
    }
   ],
   "source": [
    "S_p = (W_i**2)*(S_i**2) + (W_f**2)*(S_f**2) + 2*W_i*W_f*Corr*S_i*S_f\n",
    "S_p"
   ]
  },
  {
   "cell_type": "markdown",
   "id": "8ff734b7",
   "metadata": {},
   "source": [
    "The standard deviation:"
   ]
  },
  {
   "cell_type": "code",
   "execution_count": 8,
   "id": "c7be4fdf",
   "metadata": {},
   "outputs": [
    {
     "data": {
      "text/latex": [
       "$\\displaystyle \\sqrt{S_{i}^{2} W_{i}^{2}}$"
      ],
      "text/plain": [
       "sqrt(S_i**2*W_i**2)"
      ]
     },
     "execution_count": 8,
     "metadata": {},
     "output_type": "execute_result"
    }
   ],
   "source": [
    "S_p = (W_i**2)*(S_i**2) + (W_f**2)*(S_f**2) + 2*W_i*W_f*Corr*S_i*S_f\n",
    "S_p = sqrt(S_p)\n",
    "S_p"
   ]
  },
  {
   "cell_type": "markdown",
   "id": "689273da",
   "metadata": {},
   "source": [
    "or\n",
    "$W_iS_i$"
   ]
  },
  {
   "cell_type": "markdown",
   "id": "a9114575",
   "metadata": {},
   "source": [
    "**Expected return**\n",
    "\n",
    "Note that $W_i = 1 - W_f$: the weight of the risky asset is 1 minus the weigth of the risk-free portfolio."
   ]
  },
  {
   "cell_type": "code",
   "execution_count": 9,
   "id": "916d5e25",
   "metadata": {},
   "outputs": [],
   "source": [
    "W_i = 1 - W_f"
   ]
  },
  {
   "cell_type": "code",
   "execution_count": 10,
   "id": "9f137c8a",
   "metadata": {},
   "outputs": [
    {
     "data": {
      "text/latex": [
       "$\\displaystyle W_{f} r_{f} + r_{i} \\left(1 - W_{f}\\right)$"
      ],
      "text/plain": [
       "W_f*r_f + r_i*(1 - W_f)"
      ]
     },
     "execution_count": 10,
     "metadata": {},
     "output_type": "execute_result"
    }
   ],
   "source": [
    "R = r_i * W_i + r_f * W_f\n",
    "R"
   ]
  },
  {
   "cell_type": "code",
   "execution_count": 11,
   "id": "f6712117",
   "metadata": {},
   "outputs": [
    {
     "data": {
      "text/latex": [
       "$\\displaystyle \\sqrt{S_{i}^{2} \\left(1 - W_{f}\\right)^{2}}$"
      ],
      "text/plain": [
       "sqrt(S_i**2*(1 - W_f)**2)"
      ]
     },
     "execution_count": 11,
     "metadata": {},
     "output_type": "execute_result"
    }
   ],
   "source": [
    "S_p = (W_i**2)*(S_i**2) + (W_f**2)*(S_f**2) + 2*W_i*W_f*Corr*S_i*S_f\n",
    "S_p = sqrt(S_p)\n",
    "S_p"
   ]
  },
  {
   "cell_type": "markdown",
   "id": "0dcdd648",
   "metadata": {},
   "source": [
    "or $S_p = S_i \\times (1- W_f)$"
   ]
  },
  {
   "cell_type": "code",
   "execution_count": 12,
   "id": "e9470f66",
   "metadata": {},
   "outputs": [
    {
     "data": {
      "text/latex": [
       "$\\displaystyle S_{i} \\left(1 - W_{f}\\right)$"
      ],
      "text/plain": [
       "S_i*(1 - W_f)"
      ]
     },
     "execution_count": 12,
     "metadata": {},
     "output_type": "execute_result"
    }
   ],
   "source": [
    "W_f = symbols('W_f')\n",
    "S_p = S_i*(1-W_f)\n",
    "S_p\n",
    "#solve(S_i*(1-W_f)-S_p, W_f)\n"
   ]
  },
  {
   "cell_type": "code",
   "execution_count": 13,
   "id": "5c9d3741",
   "metadata": {},
   "outputs": [
    {
     "data": {
      "text/latex": [
       "$\\displaystyle 1 - \\frac{S_{p}}{S_{i}}$"
      ],
      "text/plain": [
       "1 - S_p/S_i"
      ]
     },
     "execution_count": 13,
     "metadata": {},
     "output_type": "execute_result"
    }
   ],
   "source": [
    "W_f = 1-(symbols('S_p') / symbols('S_i'))\n",
    "W_f"
   ]
  },
  {
   "cell_type": "code",
   "execution_count": 14,
   "id": "ca2fc08b",
   "metadata": {},
   "outputs": [
    {
     "data": {
      "text/latex": [
       "$\\displaystyle S_{i} \\left(1 - W_{f}\\right)$"
      ],
      "text/plain": [
       "S_i*(1 - W_f)"
      ]
     },
     "execution_count": 14,
     "metadata": {},
     "output_type": "execute_result"
    }
   ],
   "source": [
    "S_p"
   ]
  },
  {
   "cell_type": "code",
   "execution_count": 15,
   "id": "f8d329f4",
   "metadata": {},
   "outputs": [
    {
     "data": {
      "text/latex": [
       "$\\displaystyle r_{f} \\left(1 - \\frac{S_{p}}{S_{i}}\\right) + r_{i} \\left(1 - W_{f}\\right)$"
      ],
      "text/plain": [
       "r_f*(1 - S_p/S_i) + r_i*(1 - W_f)"
      ]
     },
     "execution_count": 15,
     "metadata": {},
     "output_type": "execute_result"
    }
   ],
   "source": [
    "R = r_i * W_i + r_f * (W_f)\n",
    "R"
   ]
  },
  {
   "cell_type": "code",
   "execution_count": 16,
   "id": "35fed91f",
   "metadata": {},
   "outputs": [
    {
     "data": {
      "text/latex": [
       "$\\displaystyle r_{f} \\left(1 - \\frac{S_{p}}{S_{i}}\\right) + r_{i} \\left(1 - W_{f}\\right)$"
      ],
      "text/plain": [
       "r_f*(1 - S_p/S_i) + r_i*(1 - W_f)"
      ]
     },
     "execution_count": 16,
     "metadata": {},
     "output_type": "execute_result"
    }
   ],
   "source": [
    "R = r_f * W_f + S_p/S_i * (r_i)\n",
    "R"
   ]
  },
  {
   "cell_type": "code",
   "execution_count": 17,
   "id": "c99655e8",
   "metadata": {},
   "outputs": [
    {
     "data": {
      "text/latex": [
       "$\\displaystyle r_{f} + \\frac{S_{p} \\left(- r_{f} + r_{i}\\right)}{S_{i}}$"
      ],
      "text/plain": [
       "r_f + S_p*(-r_f + r_i)/S_i"
      ]
     },
     "execution_count": 17,
     "metadata": {},
     "output_type": "execute_result"
    }
   ],
   "source": [
    "R = r_f + (r_i-r_f)*symbols('S_p')/symbols('S_i')#*S_p/S_i\n",
    "R"
   ]
  }
 ],
 "metadata": {
  "kernelspec": {
   "display_name": "Python 3 (ipykernel)",
   "language": "python",
   "name": "python3"
  },
  "language_info": {
   "codemirror_mode": {
    "name": "ipython",
    "version": 3
   },
   "file_extension": ".py",
   "mimetype": "text/x-python",
   "name": "python",
   "nbconvert_exporter": "python",
   "pygments_lexer": "ipython3",
   "version": "3.8.13"
  }
 },
 "nbformat": 4,
 "nbformat_minor": 5
}
