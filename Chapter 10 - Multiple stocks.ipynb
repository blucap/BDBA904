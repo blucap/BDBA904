{
 "cells": [
  {
   "cell_type": "markdown",
   "id": "49164fbe",
   "metadata": {},
   "source": [
    "# Chapter 10 - Portfolio theory - envelope portfolios\n",
    "---"
   ]
  },
  {
   "cell_type": "code",
   "execution_count": 1,
   "id": "ce5eb3f6",
   "metadata": {},
   "outputs": [
    {
     "name": "stdout",
     "output_type": "stream",
     "text": [
      "Success\n"
     ]
    }
   ],
   "source": [
    "# Preamble\n",
    "import pandas as pd\n",
    "import numpy as np\n",
    "import os # To set our working folder\n",
    "from bs4 import BeautifulSoup\n",
    "from urllib.request import Request, urlopen as uReq\n",
    "import urllib.error as uErr\n",
    "import re\n",
    "import tenacity\n",
    "import matplotlib.pyplot as plt\n",
    "from matplotlib.dates import DateFormatter\n",
    "import matplotlib.ticker as mticker\n",
    "import seaborn as sns\n",
    "import yfinance as yf  # This gets us prices from Yahoo finance. See https://pypi.org/project/yfinance/\n",
    "from linearmodels.panel import PanelOLS\n",
    "import math\n",
    "import statsmodels.api as sm\n",
    "import statsmodels.formula.api as smf\n",
    "from tabulate import tabulate\n",
    "\n",
    "if os.name=='nt':\n",
    "    import xlwings as xw\n",
    "\n",
    "\n",
    "@tenacity.retry(wait=tenacity.wait_exponential(multiplier=1, min=4, max=64), stop=tenacity.stop_after_attempt(5))\n",
    "def get_that_page(url):\n",
    "    try:\n",
    "        req = Request(url, headers={'User-Agent': 'Mozilla/5.0'})\n",
    "        uClient = uReq(req)\n",
    "        print('Success')\n",
    "    except Exception:\n",
    "        print('Trying again.')\n",
    "    return uClient\n",
    "\n",
    "\n",
    "def do_table(url):\n",
    "    uClient = get_that_page(url)\n",
    "    soup = BeautifulSoup(uClient, 'lxml')\n",
    "    table = soup.find('table', class_='instruments-table')\n",
    "    table_headers =[]\n",
    "    for tx in soup.find_all('th'):\n",
    "        table_headers.append(tx.get('id'))\n",
    "\n",
    "    filler = ['unknown', 'pct']\n",
    "    data = []\n",
    "    rows = table.find_all('tr')\n",
    "    for row in rows:\n",
    "        cols = row.find_all('td')\n",
    "        cols = [ele.text.strip() for ele in cols]\n",
    "        #print(cols)\n",
    "        if len(cols)>0:\n",
    "            data.append(cols)\n",
    "    df = pd.DataFrame(data, columns=[x if x!=None else filler.pop() for x in table_headers])\n",
    "    lyst = ['price', 'volume', 'value', 'outstanding_capitalisation', 'market_capitalisation', 'pct', 'trade_count']\n",
    "    df[lyst] = df[lyst].replace({'\\$': '', ',': ''}, regex=True).apply(pd.to_numeric,  errors='coerce')\n",
    "    df['green_bond']= df['green_bond'].map({'false': 0, 'true': 1})\n",
    "    df = df[~df['company'].str.contains('Smartshares')]\n",
    "    df['code'] = df['code']+\".NZ\"\n",
    "    nzx = df['code'].to_list()\n",
    "\n",
    "    return(df[df['market_capitalisation']>0], nzx)\n",
    "\n",
    "\n",
    "def set_xmargin(ax, left=0.0, right=0.3):\n",
    "    ax.set_xmargin(0)\n",
    "    ax.autoscale_view()\n",
    "    lim = ax.get_xlim()\n",
    "    delta = np.diff(lim)\n",
    "    left =  lim[0] - delta*left\n",
    "    right = lim[1] + delta*right\n",
    "    ax.set_xlim(left,right)\n",
    "\n",
    "\n",
    "def nice_print(df, k=1, name=\"\"):\n",
    "    if isinstance(df, pd.DataFrame):\n",
    "        print(tabulate(k*df, tablefmt=\"fancy_grid\", floatfmt=\".4f\", headers=\"keys\"))\n",
    "    elif isinstance(df, pd.Series):\n",
    "        df.name= name\n",
    "        df=df.to_frame()\n",
    "        print(tabulate(k*df, tablefmt=\"fancy_grid\", floatfmt=\".4f\", headers=\"keys\"))\n",
    "\n",
    "\n",
    "dfm, nzx  = do_table('https://www.nzx.com/markets/NZSX')"
   ]
  },
  {
   "cell_type": "code",
   "execution_count": 2,
   "id": "4d2f72de",
   "metadata": {},
   "outputs": [
    {
     "name": "stdout",
     "output_type": "stream",
     "text": [
      "[*********************100%***********************]  152 of 152 completed\n",
      "\n",
      "10 Failed downloads:\n",
      "- NTLOB.NZ: No data found, symbol may be delisted\n",
      "- BIT.NZ: No data found for this date range, symbol may be delisted\n",
      "- KFLWG.NZ: No data found, symbol may be delisted\n",
      "- FCT.NZ: No data found for this date range, symbol may be delisted\n",
      "- AKL.NZ: No data found, symbol may be delisted\n",
      "- CO2.NZ: No data found for this date range, symbol may be delisted\n",
      "- PLP.NZ: No data found for this date range, symbol may be delisted\n",
      "- MLNWE.NZ: No data found, symbol may be delisted\n",
      "- BIF.NZ: No data found for this date range, symbol may be delisted\n",
      "- JPG.NZ: No data found for this date range, symbol may be delisted\n"
     ]
    }
   ],
   "source": [
    "def returns(nzx, start, end):\n",
    "    dfy = yf.download(nzx, start, end, progress=True, interval=\"1mo\")\n",
    "    df_close = dfy['Adj Close'].copy()\n",
    "    df_close.dropna(how = 'all', inplace=True, axis = 1)\n",
    "    df_close.sort_index(inplace=True)\n",
    "    #df_close.dropna(how='all').pct_change().add(1).cumprod().mean(axis=1).sub(1).plot()\n",
    "    df_close.index = pd.to_datetime(df_close.index, format ='%Y-%m-%d')\n",
    "    df_close.columns = [re.sub(r'.NZ$|\\^', \"\", x) for x in list(df_close)]\n",
    "    return list(df_close), df_close.resample('M').last()\n",
    "\n",
    "nzx_set, df_close = returns(nzx+['^NZ50'], '2011-10-01', '2022-04-30')"
   ]
  },
  {
   "cell_type": "code",
   "execution_count": 3,
   "id": "a2be2632",
   "metadata": {},
   "outputs": [
    {
     "data": {
      "text/plain": [
       "(127, 142)"
      ]
     },
     "execution_count": 3,
     "metadata": {},
     "output_type": "execute_result"
    }
   ],
   "source": [
    "df_close.shape"
   ]
  },
  {
   "cell_type": "markdown",
   "id": "00b4520c",
   "metadata": {},
   "source": [
    "### Building a portfolio of multiple stocks"
   ]
  },
  {
   "cell_type": "code",
   "execution_count": 4,
   "id": "bc699b92",
   "metadata": {},
   "outputs": [
    {
     "data": {
      "text/plain": [
       "array([<AxesSubplot:xlabel='Date'>, <AxesSubplot:xlabel='Date'>,\n",
       "       <AxesSubplot:xlabel='Date'>, <AxesSubplot:xlabel='Date'>,\n",
       "       <AxesSubplot:xlabel='Date'>], dtype=object)"
      ]
     },
     "execution_count": 4,
     "metadata": {},
     "output_type": "execute_result"
    },
    {
     "data": {
      "image/png": "[encoded data removed]",
      "text/plain": [
       "<Figure size 432x288 with 5 Axes>"
      ]
     },
     "metadata": {
      "needs_background": "light"
     },
     "output_type": "display_data"
    }
   ],
   "source": [
    "stocks_list = [\"AIR\", \"ANZ\", 'WHS', 'RYM', 'THL']\n",
    "data = df_close[stocks_list]\n",
    "data.plot(subplots=True)"
   ]
  },
  {
   "cell_type": "code",
   "execution_count": 5,
   "id": "66187123",
   "metadata": {},
   "outputs": [
    {
     "data": {
      "text/plain": [
       "<AxesSubplot:xlabel='Date'>"
      ]
     },
     "execution_count": 5,
     "metadata": {},
     "output_type": "execute_result"
    },
    {
     "data": {
      "image/png": "[encoded data removed]",
      "text/plain": [
       "<Figure size 432x288 with 1 Axes>"
      ]
     },
     "metadata": {
      "needs_background": "light"
     },
     "output_type": "display_data"
    }
   ],
   "source": [
    "# Calculate monthly returns\n",
    "monthly_ret = np.log(data).diff().dropna()\n",
    "monthly_ret.cumsum().apply(np.exp).plot()"
   ]
  },
  {
   "cell_type": "code",
   "execution_count": 6,
   "id": "9116497e",
   "metadata": {},
   "outputs": [
    {
     "data": {
      "text/html": [
       "<div>\n",
       "<style scoped>\n",
       "    .dataframe tbody tr th:only-of-type {\n",
       "        vertical-align: middle;\n",
       "    }\n",
       "\n",
       "    .dataframe tbody tr th {\n",
       "        vertical-align: top;\n",
       "    }\n",
       "\n",
       "    .dataframe thead th {\n",
       "        text-align: right;\n",
       "    }\n",
       "</style>\n",
       "<table border=\"1\" class=\"dataframe\">\n",
       "  <thead>\n",
       "    <tr style=\"text-align: right;\">\n",
       "      <th></th>\n",
       "      <th>AIR</th>\n",
       "      <th>ANZ</th>\n",
       "      <th>WHS</th>\n",
       "      <th>RYM</th>\n",
       "      <th>THL</th>\n",
       "    </tr>\n",
       "  </thead>\n",
       "  <tbody>\n",
       "    <tr>\n",
       "      <th>AIR</th>\n",
       "      <td>0.018886</td>\n",
       "      <td>0.003304</td>\n",
       "      <td>0.001627</td>\n",
       "      <td>0.004902</td>\n",
       "      <td>0.008165</td>\n",
       "    </tr>\n",
       "    <tr>\n",
       "      <th>ANZ</th>\n",
       "      <td>0.003304</td>\n",
       "      <td>0.004616</td>\n",
       "      <td>0.000925</td>\n",
       "      <td>0.001561</td>\n",
       "      <td>0.003030</td>\n",
       "    </tr>\n",
       "    <tr>\n",
       "      <th>WHS</th>\n",
       "      <td>0.001627</td>\n",
       "      <td>0.000925</td>\n",
       "      <td>0.004181</td>\n",
       "      <td>0.001751</td>\n",
       "      <td>0.001330</td>\n",
       "    </tr>\n",
       "    <tr>\n",
       "      <th>RYM</th>\n",
       "      <td>0.004902</td>\n",
       "      <td>0.001561</td>\n",
       "      <td>0.001751</td>\n",
       "      <td>0.005237</td>\n",
       "      <td>0.003343</td>\n",
       "    </tr>\n",
       "    <tr>\n",
       "      <th>THL</th>\n",
       "      <td>0.008165</td>\n",
       "      <td>0.003030</td>\n",
       "      <td>0.001330</td>\n",
       "      <td>0.003343</td>\n",
       "      <td>0.012189</td>\n",
       "    </tr>\n",
       "  </tbody>\n",
       "</table>\n",
       "</div>"
      ],
      "text/plain": [
       "          AIR       ANZ       WHS       RYM       THL\n",
       "AIR  0.018886  0.003304  0.001627  0.004902  0.008165\n",
       "ANZ  0.003304  0.004616  0.000925  0.001561  0.003030\n",
       "WHS  0.001627  0.000925  0.004181  0.001751  0.001330\n",
       "RYM  0.004902  0.001561  0.001751  0.005237  0.003343\n",
       "THL  0.008165  0.003030  0.001330  0.003343  0.012189"
      ]
     },
     "execution_count": 6,
     "metadata": {},
     "output_type": "execute_result"
    }
   ],
   "source": [
    "# Variance Covariance Matrix\n",
    "dfs = monthly_ret[stocks_list].cov()\n",
    "dfs"
   ]
  },
  {
   "cell_type": "code",
   "execution_count": 7,
   "id": "0f8aa05a",
   "metadata": {},
   "outputs": [
    {
     "data": {
      "text/plain": [
       "AIR    0.002013\n",
       "ANZ    0.004614\n",
       "WHS    0.005076\n",
       "RYM    0.011274\n",
       "THL    0.016631\n",
       "Name: Returns, dtype: float64"
      ]
     },
     "execution_count": 7,
     "metadata": {},
     "output_type": "execute_result"
    }
   ],
   "source": [
    "# Input: mean returns\n",
    "dfr = monthly_ret[stocks_list].mean()#*12\n",
    "dfr.name= 'Returns'\n",
    "dfr"
   ]
  },
  {
   "cell_type": "code",
   "execution_count": 8,
   "id": "1cae021a",
   "metadata": {},
   "outputs": [
    {
     "data": {
      "text/plain": [
       "AIR    0.137428\n",
       "ANZ    0.067942\n",
       "WHS    0.064662\n",
       "RYM    0.072369\n",
       "THL    0.110405\n",
       "Name: Sigma, dtype: float64"
      ]
     },
     "execution_count": 8,
     "metadata": {},
     "output_type": "execute_result"
    }
   ],
   "source": [
    "sigma = pd.Series(np.diag(dfs)**.5, name = 'Sigma', index= stocks_list)\n",
    "sigma = sigma.astype(float)\n",
    "sigma"
   ]
  },
  {
   "cell_type": "code",
   "execution_count": 9,
   "id": "fcc4abd5",
   "metadata": {},
   "outputs": [
    {
     "data": {
      "text/plain": [
       "<AxesSubplot:>"
      ]
     },
     "execution_count": 9,
     "metadata": {},
     "output_type": "execute_result"
    },
    {
     "data": {
      "image/png": "[encoded data removed]",
      "text/plain": [
       "<Figure size 432x288 with 1 Axes>"
      ]
     },
     "metadata": {
      "needs_background": "light"
     },
     "output_type": "display_data"
    }
   ],
   "source": [
    "dfr.to_frame().join(sigma).plot(kind='bar',grid=True,table=False,legend=True)"
   ]
  },
  {
   "cell_type": "markdown",
   "id": "21f93359",
   "metadata": {},
   "source": [
    "---\n",
    "\n",
    "**Create portfolio with arbitrary weights**\n",
    "\n",
    "---"
   ]
  },
  {
   "cell_type": "code",
   "execution_count": 10,
   "id": "12bcbf74",
   "metadata": {},
   "outputs": [
    {
     "name": "stdout",
     "output_type": "stream",
     "text": [
      "AIR    0.2\n",
      "ANZ    0.3\n",
      "WHS    0.3\n",
      "RYM    0.1\n",
      "THL    0.1\n",
      "Name: x_wei, dtype: float64\n"
     ]
    },
    {
     "data": {
      "text/plain": [
       "<AxesSubplot:title={'center':'Weights of portfolio X'}>"
      ]
     },
     "execution_count": 10,
     "metadata": {},
     "output_type": "execute_result"
    },
    {
     "data": {
      "image/png": "[encoded data removed]",
      "text/plain": [
       "<Figure size 432x288 with 1 Axes>"
      ]
     },
     "metadata": {
      "needs_background": "light"
     },
     "output_type": "display_data"
    }
   ],
   "source": [
    "# Input: Portfolio weights\n",
    "port_x_prop = pd.Series(np.array([0.2, 0.3, 0.3, 0.1, 0.1]), index=dfs.index, name= 'x_wei')\n",
    "print(pd.Series(port_x_prop))\n",
    "port_x_prop.plot(kind='bar', title='Weights of portfolio X' )"
   ]
  },
  {
   "cell_type": "code",
   "execution_count": 11,
   "id": "55cad692",
   "metadata": {},
   "outputs": [
    {
     "name": "stdout",
     "output_type": "stream",
     "text": [
      "AIR    0.1\n",
      "ANZ    0.1\n",
      "WHS    0.1\n",
      "RYM    0.1\n",
      "THL    0.6\n",
      "Name: y_wei, dtype: float64\n"
     ]
    },
    {
     "data": {
      "text/plain": [
       "<AxesSubplot:title={'center':'Weights of portfolio Y'}>"
      ]
     },
     "execution_count": 11,
     "metadata": {},
     "output_type": "execute_result"
    },
    {
     "data": {
      "image/png": "[encoded data removed]",
      "text/plain": [
       "<Figure size 432x288 with 1 Axes>"
      ]
     },
     "metadata": {
      "needs_background": "light"
     },
     "output_type": "display_data"
    }
   ],
   "source": [
    "port_y_prop = pd.Series(np.array([0.1, 0.1, 0.1, 0.1, 0.6]), index=dfs.index, name= 'y_wei')\n",
    "print(pd.Series(port_y_prop))\n",
    "port_y_prop.plot(kind='bar', color='r', title='Weights of portfolio Y' )"
   ]
  },
  {
   "cell_type": "code",
   "execution_count": 12,
   "id": "7251469b",
   "metadata": {},
   "outputs": [
    {
     "name": "stdout",
     "output_type": "stream",
     "text": [
      "╒════╤════════════════╕\n",
      "│    │   Mean Returns │\n",
      "╞════╪════════════════╡\n",
      "│ X  │         0.0061 │\n",
      "├────┼────────────────┤\n",
      "│ Y  │         0.0123 │\n",
      "╘════╧════════════════╛\n"
     ]
    }
   ],
   "source": [
    "# Portfolios Mean Returns\n",
    "\n",
    "port_x_ret = dfr @ port_x_prop\n",
    "port_y_ret = dfr @ port_y_prop\n",
    "\n",
    "nice_print(pd.Series([port_x_ret, port_y_ret], index=['X','Y']), name = \"Mean Returns\")"
   ]
  },
  {
   "cell_type": "code",
   "execution_count": 13,
   "id": "3fe69dcd",
   "metadata": {},
   "outputs": [
    {
     "name": "stdout",
     "output_type": "stream",
     "text": [
      "╒════╤═══════════════════════╕\n",
      "│    │   Portfolios Variance │\n",
      "╞════╪═══════════════════════╡\n",
      "│ X  │                0.0035 │\n",
      "├────┼───────────────────────┤\n",
      "│ Y  │                0.0069 │\n",
      "╘════╧═══════════════════════╛\n"
     ]
    }
   ],
   "source": [
    "# Portfolios Variance\n",
    "port_x_var = port_x_prop @ dfs @ port_x_prop\n",
    "port_y_var = port_y_prop @ dfs @ port_y_prop\n",
    "nice_print(pd.Series([port_x_var,port_y_var],index=['X','Y']), name = \"Portfolios Variance\")"
   ]
  },
  {
   "cell_type": "code",
   "execution_count": 14,
   "id": "de14cb4b",
   "metadata": {},
   "outputs": [
    {
     "name": "stdout",
     "output_type": "stream",
     "text": [
      "╒══════════╤════════╕\n",
      "│          │        │\n",
      "╞══════════╪════════╡\n",
      "│ Cov(X,Y) │ 0.0041 │\n",
      "╘══════════╧════════╛\n"
     ]
    }
   ],
   "source": [
    "# Covarinace(X,Y)\n",
    "cov_xy = port_x_prop @ dfs @ port_y_prop\n",
    "nice_print(pd.Series(cov_xy,index=[\"Cov(X,Y)\"]))"
   ]
  },
  {
   "cell_type": "code",
   "execution_count": 15,
   "id": "f914cfb2",
   "metadata": {},
   "outputs": [
    {
     "name": "stdout",
     "output_type": "stream",
     "text": [
      "╒════╤════════════════════╕\n",
      "│    │   Portfolios Sigma │\n",
      "╞════╪════════════════════╡\n",
      "│ X  │             0.0594 │\n",
      "├────┼────────────────────┤\n",
      "│ Y  │             0.0831 │\n",
      "╘════╧════════════════════╛\n"
     ]
    }
   ],
   "source": [
    "# Portfolios Standard Deviations\n",
    "port_x_sigma = port_x_var**.5\n",
    "port_y_sigma = port_y_var**.5\n",
    "\n",
    "nice_print(pd.Series([port_x_sigma, port_y_sigma],index=['X','Y']), name = \"Portfolios Sigma\")"
   ]
  },
  {
   "cell_type": "code",
   "execution_count": 16,
   "id": "d0e9ba1a",
   "metadata": {},
   "outputs": [
    {
     "name": "stdout",
     "output_type": "stream",
     "text": [
      "╒═════╤═══════════════════════════╕\n",
      "│     │   Correlation Coefficient │\n",
      "╞═════╪═══════════════════════════╡\n",
      "│ Rho │                    0.8369 │\n",
      "╘═════╧═══════════════════════════╛\n"
     ]
    }
   ],
   "source": [
    "# Correlation Coefficient (X,Y)\n",
    "nice_print(pd.Series(cov_xy / (port_x_sigma * port_y_sigma),index=[\"Rho\"]), name = \"Correlation Coefficient\")"
   ]
  },
  {
   "cell_type": "code",
   "execution_count": 17,
   "id": "4e38a3c4",
   "metadata": {},
   "outputs": [
    {
     "name": "stdout",
     "output_type": "stream",
     "text": [
      "╒══════════╤════════╤════════╕\n",
      "│          │      X │      Y │\n",
      "╞══════════╪════════╪════════╡\n",
      "│ Returns  │ 0.0061 │ 0.0123 │\n",
      "├──────────┼────────┼────────┤\n",
      "│ Variance │ 0.0035 │ 0.0069 │\n",
      "├──────────┼────────┼────────┤\n",
      "│ Sigma    │ 0.0594 │ 0.0831 │\n",
      "╘══════════╧════════╧════════╛\n"
     ]
    }
   ],
   "source": [
    "# Portfolio statistcis\n",
    "dfp = pd.DataFrame([[port_x_ret, port_x_var, port_x_sigma],\n",
    "                    [port_y_ret, port_y_var, port_y_sigma]],\n",
    "             columns = [\"Returns\", \"Variance\", 'Sigma'],\n",
    "             index = ['X', 'Y'])\n",
    "nice_print(dfp.T)"
   ]
  },
  {
   "cell_type": "code",
   "execution_count": 18,
   "id": "d7f5f88e",
   "metadata": {},
   "outputs": [],
   "source": [
    "### Envelope Portfolios\n",
    "# Portfolio Z is a portfolio constructed of portfolio X and portfolio Y.\n",
    "\n",
    "Xa = 0.3\n",
    "# port_z_weights = np.array([Xa, 1-Xa]).T\n",
    "port_z_weights = pd.Series([Xa, 1-Xa],index=['X','Y'])\n",
    "\n",
    "port_z_returns = pd.Series([port_x_ret, port_y_ret],index=['X','Y'])\n",
    "\n",
    "# Portfolio X Returns\n",
    "port_z_ret = port_z_weights @ port_z_returns\n",
    "\n",
    "# Portfolio Variance\n",
    "port_z_var =    port_z_weights.loc['X']**2 * port_x_var + port_z_weights.loc['Y']**2 * port_y_var + 2 * np.prod(port_z_weights) * cov_xy\n",
    "\n",
    "# Portfolios Sigma\n",
    "port_z_sigma = port_z_var**.5"
   ]
  },
  {
   "cell_type": "code",
   "execution_count": 19,
   "id": "535441ee",
   "metadata": {},
   "outputs": [
    {
     "name": "stdout",
     "output_type": "stream",
     "text": [
      "╒════╤═════════════╕\n",
      "│    │   Z_weights │\n",
      "╞════╪═════════════╡\n",
      "│ X  │      0.3000 │\n",
      "├────┼─────────────┤\n",
      "│ Y  │      0.7000 │\n",
      "╘════╧═════════════╛\n",
      "╒════╤═════════════╕\n",
      "│    │   Z_returns │\n",
      "╞════╪═════════════╡\n",
      "│ X  │      0.0061 │\n",
      "├────┼─────────────┤\n",
      "│ Y  │      0.0123 │\n",
      "╘════╧═════════════╛\n",
      "\n",
      "port_z_ret:   0.01042\n",
      "\n",
      "port_z_var:   0.005435\n",
      "\n",
      "port_z_sigma: 0.07372\n"
     ]
    }
   ],
   "source": [
    "nice_print(port_z_weights, name= 'Z_weights')\n",
    "nice_print(port_z_returns, name= 'Z_returns')\n",
    "\n",
    "print('\\nport_z_ret:   {:2.4}'.format(port_z_ret))\n",
    "print('\\nport_z_var:   {:2.4}'.format(port_z_var))\n",
    "print('\\nport_z_sigma: {:2.4}'.format(port_z_sigma))"
   ]
  },
  {
   "cell_type": "code",
   "execution_count": 20,
   "id": "24cad27e",
   "metadata": {},
   "outputs": [
    {
     "data": {
      "text/plain": [
       "<AxesSubplot:xlabel='Sigma'>"
      ]
     },
     "execution_count": 20,
     "metadata": {},
     "output_type": "execute_result"
    },
    {
     "data": {
      "image/png": "[encoded data removed]",
      "text/plain": [
       "<Figure size 504x432 with 1 Axes>"
      ]
     },
     "metadata": {
      "needs_background": "light"
     },
     "output_type": "display_data"
    }
   ],
   "source": [
    "# Set an Array of Portfolio Weights\n",
    "port_x_weight = np.arange(-1,2,0.1)\n",
    "port_y_weight = 1-port_x_weight\n",
    "\n",
    "# Portfolio Z Mean Returns\n",
    "port_z_ret = port_x_weight * port_x_ret + port_y_weight * port_y_ret\n",
    "#print(pd.Series(port_z_ret))\n",
    "\n",
    "# Portfolios Sigma\n",
    "port_z_sigma = (port_x_weight ** 2 * port_x_var + port_y_weight ** 2 * port_y_var + (port_x_weight * port_y_weight) * cov_xy * 2) ** 0.5\n",
    "#print(pd.Series(port_z_sigma))\n",
    "\n",
    "# Envelope\n",
    "dfeff = pd.DataFrame({'Sigma': port_z_sigma, 'Return': port_z_ret}, columns=['Sigma', 'Return'])\n",
    "dfeff.set_index('Sigma', inplace=True)\n",
    "dfeff.plot(figsize=(7,6))"
   ]
  },
  {
   "cell_type": "code",
   "execution_count": 21,
   "id": "43ec6367",
   "metadata": {},
   "outputs": [
    {
     "data": {
      "image/png": "[encoded data removed]",
      "text/plain": [
       "<Figure size 504x432 with 1 Axes>"
      ]
     },
     "metadata": {
      "needs_background": "light"
     },
     "output_type": "display_data"
    }
   ],
   "source": [
    "fig, ax = plt.subplots(figsize=(7,6))\n",
    "ax.set_title(r'Monthly Returns')\n",
    "dfeff.plot(ax=ax)\n",
    "assets_sigma = np.diag(dfs)**0.5\n",
    "ax.plot([port_x_sigma, port_y_sigma], [port_x_ret, port_y_ret], 'o') # portfolios\n",
    "ax.plot(assets_sigma, dfr, 'o') # assets\n",
    "# Labels\n",
    "ax.text(port_x_sigma+0.002,port_x_ret,'Port. X')\n",
    "ax.text(port_y_sigma+0.002,port_y_ret,'Port. Y')\n",
    "\n",
    "for x in list(range(0,5)):\n",
    "    ax.text(assets_sigma[x]+0.002,dfr.iloc[x],dfr.index[x])"
   ]
  }
 ],
 "metadata": {
  "kernelspec": {
   "display_name": "Python 3 (ipykernel)",
   "language": "python",
   "name": "python3"
  },
  "language_info": {
   "codemirror_mode": {
    "name": "ipython",
    "version": 3
   },
   "file_extension": ".py",
   "mimetype": "text/x-python",
   "name": "python",
   "nbconvert_exporter": "python",
   "pygments_lexer": "ipython3",
   "version": "3.8.13"
  }
 },
 "nbformat": 4,
 "nbformat_minor": 5
}
