{
 "cells": [
  {
   "cell_type": "code",
   "execution_count": 1,
   "id": "97639a8b",
   "metadata": {},
   "outputs": [],
   "source": [
    "from IPython.display import display, Math, Latex\n",
    "from sympy import *\n",
    "import math\n",
    "import numpy as np\n",
    "import pandas as pd\n",
    "from sympy.plotting import plot as symplot\n",
    "from sympy import Array\n",
    "import matplotlib.pyplot as plt"
   ]
  },
  {
   "cell_type": "code",
   "execution_count": null,
   "id": "2e79bfb0",
   "metadata": {},
   "outputs": [],
   "source": [
    "Rf = 0.03\n",
    "r_i, S_i = 0.20, 0.50\n",
    "r_f, S_f = 0.15, 0.33\n",
    "Corr = 0"
   ]
  },
  {
   "cell_type": "code",
   "execution_count": 2,
   "id": "6a8dc693",
   "metadata": {},
   "outputs": [],
   "source": [
    "r_i, S_i, W_i, r_f, S_f, W_f, R, S, Corr = symbols('r_i, S_i, W_i, r_f, S_f, W_f R S Corr')"
   ]
  },
  {
   "cell_type": "code",
   "execution_count": 3,
   "id": "1e7c474e",
   "metadata": {},
   "outputs": [
    {
     "data": {
      "text/latex": [
       "$\\displaystyle W_{f} r_{f} + W_{i} r_{i}$"
      ],
      "text/plain": [
       "W_f*r_f + W_i*r_i"
      ]
     },
     "execution_count": 3,
     "metadata": {},
     "output_type": "execute_result"
    }
   ],
   "source": [
    "R = r_i * W_i + r_f * W_f\n",
    "R"
   ]
  },
  {
   "cell_type": "markdown",
   "id": "880dc79f",
   "metadata": {},
   "source": [
    "**Portfolio variance:**\n",
    "$$\n",
    "\\begin{aligned}\n",
    "&\\sigma_{P}^{2}=w_{1}^{2} \\sigma_{1}^{2}+w_{2}^{2} \\sigma_{2}^{2}+2 w_{1} w_{2} \\operatorname{Cov}\\left(R_{1}, R_{2}\\right) \\\\\n",
    "&\\sigma_{P}^{2}=w_{1}^{2} \\sigma_{1}^{2}+w_{2}^{2} \\sigma_{2}^{2}+2 w_{1} w_{2} \\rho_{12} \\sigma_{1} \\sigma_{2}\n",
    "\\end{aligned}\n",
    "$$"
   ]
  },
  {
   "cell_type": "code",
   "execution_count": 4,
   "id": "363423ba",
   "metadata": {},
   "outputs": [
    {
     "data": {
      "text/latex": [
       "$\\displaystyle 2 Corr S_{f} S_{i} W_{f} W_{i} + S_{f}^{2} W_{f}^{2} + S_{i}^{2} W_{i}^{2}$"
      ],
      "text/plain": [
       "2*Corr*S_f*S_i*W_f*W_i + S_f**2*W_f**2 + S_i**2*W_i**2"
      ]
     },
     "execution_count": 4,
     "metadata": {},
     "output_type": "execute_result"
    }
   ],
   "source": [
    "S_p = (W_i**2)*(S_i**2) + (W_f**2)*(S_f**2) + 2*W_i*W_f*Corr*S_i*S_f\n",
    "S_p"
   ]
  },
  {
   "cell_type": "markdown",
   "id": "c2e9ccbd",
   "metadata": {},
   "source": [
    "**Introducing a risk-free security:**"
   ]
  },
  {
   "cell_type": "code",
   "execution_count": 5,
   "id": "b26c7cb5",
   "metadata": {},
   "outputs": [],
   "source": [
    "S_f = 0"
   ]
  },
  {
   "cell_type": "markdown",
   "id": "93c574c0",
   "metadata": {},
   "source": [
    "**The resulting portfolio variance will now be:**"
   ]
  },
  {
   "cell_type": "code",
   "execution_count": 6,
   "id": "0f04afad",
   "metadata": {},
   "outputs": [
    {
     "data": {
      "text/latex": [
       "$\\displaystyle S_{i}^{2} W_{i}^{2}$"
      ],
      "text/plain": [
       "S_i**2*W_i**2"
      ]
     },
     "execution_count": 6,
     "metadata": {},
     "output_type": "execute_result"
    }
   ],
   "source": [
    "S_p = (W_i**2)*(S_i**2) + (W_f**2)*(S_f**2) + 2*W_i*W_f*Corr*S_i*S_f\n",
    "S_p"
   ]
  },
  {
   "cell_type": "markdown",
   "id": "66a934da",
   "metadata": {},
   "source": [
    "The standard deviation:"
   ]
  },
  {
   "cell_type": "code",
   "execution_count": 23,
   "id": "0c69c0f7",
   "metadata": {},
   "outputs": [
    {
     "data": {
      "text/latex": [
       "$\\displaystyle \\sqrt{S_{i}^{2} \\left(1 - W_{f}\\right)^{2}}$"
      ],
      "text/plain": [
       "sqrt(S_i**2*(1 - W_f)**2)"
      ]
     },
     "execution_count": 23,
     "metadata": {},
     "output_type": "execute_result"
    }
   ],
   "source": [
    "S_p = (W_i**2)*(S_i**2) + (W_f**2)*(S_f**2) + 2*W_i*W_f*Corr*S_i*S_f\n",
    "S_p = sqrt(S_p)\n",
    "S_p"
   ]
  },
  {
   "cell_type": "markdown",
   "id": "2a436550",
   "metadata": {},
   "source": [
    "or\n",
    "$W_iS_i$"
   ]
  },
  {
   "cell_type": "markdown",
   "id": "36a49282",
   "metadata": {},
   "source": [
    "**Expected return**\n",
    "\n",
    "Note that $W_i = 1 - W_f$: the weight of the risky asset is 1 minus the weigth of the risk-free portfolio."
   ]
  },
  {
   "cell_type": "code",
   "execution_count": 24,
   "id": "305cce22",
   "metadata": {},
   "outputs": [],
   "source": [
    "W_i = 1 - W_f"
   ]
  },
  {
   "cell_type": "code",
   "execution_count": 25,
   "id": "24ea5d0f",
   "metadata": {},
   "outputs": [
    {
     "data": {
      "text/latex": [
       "$\\displaystyle W_{f} r_{f} + r_{i} \\left(1 - W_{f}\\right)$"
      ],
      "text/plain": [
       "W_f*r_f + r_i*(1 - W_f)"
      ]
     },
     "execution_count": 25,
     "metadata": {},
     "output_type": "execute_result"
    }
   ],
   "source": [
    "R = r_i * W_i + r_f * W_f\n",
    "R"
   ]
  },
  {
   "cell_type": "code",
   "execution_count": 26,
   "id": "ca3b5981",
   "metadata": {},
   "outputs": [
    {
     "data": {
      "text/latex": [
       "$\\displaystyle \\sqrt{S_{i}^{2} \\left(1 - W_{f}\\right)^{2}}$"
      ],
      "text/plain": [
       "sqrt(S_i**2*(1 - W_f)**2)"
      ]
     },
     "execution_count": 26,
     "metadata": {},
     "output_type": "execute_result"
    }
   ],
   "source": [
    "S_p = (W_i**2)*(S_i**2) + (W_f**2)*(S_f**2) + 2*W_i*W_f*Corr*S_i*S_f\n",
    "S_p = sqrt(S_p)\n",
    "S_p"
   ]
  },
  {
   "cell_type": "markdown",
   "id": "ec22edc9",
   "metadata": {},
   "source": [
    "or $S_p = S_i \\times (1- W_f)$"
   ]
  },
  {
   "cell_type": "code",
   "execution_count": 34,
   "id": "e5b871b1",
   "metadata": {},
   "outputs": [
    {
     "data": {
      "text/latex": [
       "$\\displaystyle S_{i} \\left(1 - W_{f}\\right)$"
      ],
      "text/plain": [
       "S_i*(1 - W_f)"
      ]
     },
     "execution_count": 34,
     "metadata": {},
     "output_type": "execute_result"
    }
   ],
   "source": [
    "W_f = symbols('W_f')\n",
    "S_p = S_i*(1-W_f)\n",
    "S_p\n",
    "#solve(S_i*(1-W_f)-S_p, W_f)\n"
   ]
  },
  {
   "cell_type": "code",
   "execution_count": 40,
   "id": "35aed8bf",
   "metadata": {},
   "outputs": [
    {
     "data": {
      "text/latex": [
       "$\\displaystyle 1 - \\frac{S_{p}}{S_{i}}$"
      ],
      "text/plain": [
       "1 - S_p/S_i"
      ]
     },
     "execution_count": 40,
     "metadata": {},
     "output_type": "execute_result"
    }
   ],
   "source": [
    "W_f = 1-(symbols('S_p') / symbols('S_i'))\n",
    "W_f"
   ]
  },
  {
   "cell_type": "code",
   "execution_count": 38,
   "id": "0643453a",
   "metadata": {},
   "outputs": [
    {
     "data": {
      "text/latex": [
       "$\\displaystyle S_{i} \\left(1 - W_{f}\\right)$"
      ],
      "text/plain": [
       "S_i*(1 - W_f)"
      ]
     },
     "execution_count": 38,
     "metadata": {},
     "output_type": "execute_result"
    }
   ],
   "source": [
    "S_p"
   ]
  },
  {
   "cell_type": "code",
   "execution_count": 42,
   "id": "14ffd704",
   "metadata": {},
   "outputs": [
    {
     "data": {
      "text/latex": [
       "$\\displaystyle r_{f} \\left(1 - \\frac{S_{p}}{S_{i}}\\right) + r_{i} \\left(1 - W_{f}\\right)$"
      ],
      "text/plain": [
       "r_f*(1 - S_p/S_i) + r_i*(1 - W_f)"
      ]
     },
     "execution_count": 42,
     "metadata": {},
     "output_type": "execute_result"
    }
   ],
   "source": [
    "R = r_i * W_i + r_f * (W_f)\n",
    "R"
   ]
  },
  {
   "cell_type": "code",
   "execution_count": 47,
   "id": "34a01de4",
   "metadata": {},
   "outputs": [
    {
     "data": {
      "text/latex": [
       "$\\displaystyle r_{f} \\left(1 - \\frac{S_{p}}{S_{i}}\\right) + r_{i} \\left(1 - W_{f}\\right)$"
      ],
      "text/plain": [
       "r_f*(1 - S_p/S_i) + r_i*(1 - W_f)"
      ]
     },
     "execution_count": 47,
     "metadata": {},
     "output_type": "execute_result"
    }
   ],
   "source": [
    "R = r_f * W_f + S_p/S_i * (r_i)\n",
    "R"
   ]
  },
  {
   "cell_type": "code",
   "execution_count": 52,
   "id": "5bf6fc3e",
   "metadata": {},
   "outputs": [
    {
     "data": {
      "text/latex": [
       "$\\displaystyle r_{f} + \\frac{S_{p} \\left(- r_{f} + r_{i}\\right)}{S_{i}}$"
      ],
      "text/plain": [
       "r_f + S_p*(-r_f + r_i)/S_i"
      ]
     },
     "execution_count": 52,
     "metadata": {},
     "output_type": "execute_result"
    }
   ],
   "source": [
    "R = r_f + (r_i-r_f)*symbols('S_p')/symbols('S_i')#*S_p/S_i\n",
    "R"
   ]
  }
 ],
 "metadata": {
  "kernelspec": {
   "display_name": "Python 3 (ipykernel)",
   "language": "python",
   "name": "python3"
  },
  "language_info": {
   "codemirror_mode": {
    "name": "ipython",
    "version": 3
   },
   "file_extension": ".py",
   "mimetype": "text/x-python",
   "name": "python",
   "nbconvert_exporter": "python",
   "pygments_lexer": "ipython3",
   "version": "3.8.13"
  }
 },
 "nbformat": 4,
 "nbformat_minor": 5
}
