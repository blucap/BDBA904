{
  "cells": [
    {
      "cell_type": "raw",
      "metadata": {},
      "source": [
        "---\n",
        "title: The Black-Scholes Model\n",
        "format: html\n",
        "---"
      ]
    },
    {
      "cell_type": "markdown",
      "metadata": {},
      "source": [
        "We thank Sagi Haim for developing this script\n",
        "\n",
        "### Black & Scholes Option Pricing"
      ]
    },
    {
      "cell_type": "code",
      "metadata": {},
      "source": [
        "import numpy as np\n",
        "import pandas as pd\n",
        "import math\n",
        "from scipy.stats import norm\n",
        "from scipy.optimize import minimize\n",
        "import datetime"
      ],
      "execution_count": null,
      "outputs": []
    },
    {
      "cell_type": "markdown",
      "metadata": {},
      "source": [
        "Black-Scholes, or sometimes Black-Scholes-Merton, is a mathematical model that seeks to explain the behavior of financial derivatives, most commonly options. It was proposed by Black and Scholes in 1973. It gave theoretical support for trading options to hedge positions, which had been practice but lacked solid support. From the model we are able to calculate what the price of an option should be based on a number of different factors. Nowadays there are numerous variations of the Black-Scholes model, each of which seeks to improve the model based on certain criteria, usually at the cost of a significant increase in complexity. This paper will focus on the original model, the basis for all other models.\n",
        "\n",
        "There is a bit of notation, we're going to lay it down before we get to the equations.\n",
        "\n",
        "-   C = Call option price\n",
        "\n",
        "-   S = Current stock price\n",
        "\n",
        "-   X = Strike price of the option\n",
        "\n",
        "-   r = risk-free interest rate (a number between 0 and 1)\n",
        "\n",
        "-   $\\sigma$ = volatility of the stocks return (a number between 0 and 1)\n",
        "\n",
        "-   t = time to option maturity (in years)\n",
        "\n",
        "-   N = normal cumulative distribution function\n",
        "\n",
        "**The model:**\n",
        "\n",
        "$$\\mathrm C(\\mathrm S,\\mathrm t)= \\mathrm N(\\mathrm d_1)\\mathrm S - \\mathrm N(\\mathrm d_2) \\mathrm X \\mathrm e^{-rt}$$\n",
        "\n",
        "Where:\n",
        "\n",
        "$$C_0 = \\text{the value of a European option at time t = 0.}$$\n",
        "\n",
        "$$\\mathrm d_1= \\frac{1}{\\sigma \\sqrt{\\mathrm t}} \\left[\\ln{\\left(\\frac{S}{X}\\right)} + t\\left(r + \\frac{\\sigma^2}{2} \\right) \\right]$$\n",
        "\n",
        "$$\\mathrm d_2= d_1-\\sigma\\sqrt{t}$$\n",
        "$$N(x)=\\frac{1}{\\sqrt{2\\pi}} \\int_{-\\infty}^{x} \\mathrm e^{-\\frac{1}{2}z^2} dz$$\n",
        "\n",
        "\n",
        "$N(d)$ = Probability that a standardized, normally distributed, random variable will be less than or equal to $d$.\n",
        "\n",
        "------------------------------------------------------------------------\n",
        "\n",
        "Find the value of a six-month call option on Hardcraft, Inc. with an exercise price of $150. The current value of a share of Hardcraft is $160. The interest rate available in the U.S. is R = 5%. The option maturity is 6 months (half of a year). The volatility of the underlying asset is 30% per annum. Note that the intrinsic value of the option is $10, so our answer must be at least that amount.\n"
      ]
    },
    {
      "cell_type": "code",
      "metadata": {},
      "source": [
        "S, X, r, t, sigma_S = 160, 150, 0.05, 0.5, 0.3\n",
        "#S, X, r, t, sigma_S = 50, 45, 0.04, 0.75, 0.3"
      ],
      "execution_count": null,
      "outputs": []
    },
    {
      "cell_type": "markdown",
      "metadata": {},
      "source": [
        "**Function: d1**"
      ]
    },
    {
      "cell_type": "code",
      "metadata": {},
      "source": [
        "def bs_d1(S, X, t, r, sigma_S, k=0):\n",
        "    return (math.log(S/X) + (r - k + 0.5 * sigma_S ** 2) * t) / (sigma_S * math.sqrt(t))"
      ],
      "execution_count": null,
      "outputs": []
    },
    {
      "cell_type": "code",
      "metadata": {},
      "source": [
        "d1 = bs_d1(S, X, t, r, sigma_S)\n",
        "print(\"d1\",d1)"
      ],
      "execution_count": null,
      "outputs": []
    },
    {
      "cell_type": "markdown",
      "metadata": {},
      "source": [
        "**Function: d2**"
      ]
    },
    {
      "cell_type": "code",
      "metadata": {},
      "source": [
        "def bs_d2(S, X, t, r, sigma_S, k=0):\n",
        "    return (math.log(S/X) + (r - k + 0.5 * sigma_S ** 2) * t) / (sigma_S * math.sqrt(t)) - sigma_S * math.sqrt(t)"
      ],
      "execution_count": null,
      "outputs": []
    },
    {
      "cell_type": "code",
      "metadata": {},
      "source": [
        "d2 = bs_d2(S, X, t, r, sigma_S)\n",
        "print(\"d2\",d2)"
      ],
      "execution_count": null,
      "outputs": []
    },
    {
      "cell_type": "markdown",
      "metadata": {},
      "source": [
        "**Function: N(d1)**"
      ]
    },
    {
      "cell_type": "code",
      "metadata": {},
      "source": [
        "def bs_Nd1(S, X, t, r, sigma_S, k=0):\n",
        "    d1 = (math.log(S/X) + (r - k + 0.5 * sigma_S ** 2) * t) / (sigma_S * math.sqrt(t))\n",
        "    return norm.cdf(d1)"
      ],
      "execution_count": null,
      "outputs": []
    },
    {
      "cell_type": "code",
      "metadata": {},
      "source": [
        "Nd1 = bs_Nd1(S, X, t, r, sigma_S)\n",
        "print(\"N(d1)\",Nd1)"
      ],
      "execution_count": null,
      "outputs": []
    },
    {
      "cell_type": "markdown",
      "metadata": {},
      "source": [
        "**Function: N(d2)**"
      ]
    },
    {
      "cell_type": "code",
      "metadata": {},
      "source": [
        "def bs_Nd2(S, X, t, r, sigma_S, k=0):\n",
        "    d2 = (math.log(S/X) + (r - k + 0.5 * sigma_S ** 2) * t) / \\\n",
        "        (sigma_S * math.sqrt(t)) - sigma_S * math.sqrt(t)\n",
        "    return norm.cdf(d2)"
      ],
      "execution_count": null,
      "outputs": []
    },
    {
      "cell_type": "code",
      "metadata": {},
      "source": [
        "Nd2 = bs_Nd2(S, X, t, r, sigma_S)\n",
        "print(\"N(d2)\",Nd2)"
      ],
      "execution_count": null,
      "outputs": []
    },
    {
      "cell_type": "markdown",
      "metadata": {},
      "source": [
        "**Funciton: BS Call option**"
      ]
    },
    {
      "cell_type": "code",
      "metadata": {},
      "source": [
        "def bs_call(S, X, t, r, sigma_S, k=0):\n",
        "    d1 = (math.log(S/X) + (r - k + 0.5 * sigma_S ** 2) * t) / (sigma_S * math.sqrt(t))\n",
        "    d2 = d1 - sigma_S * math.sqrt(t)\n",
        "    return S * norm.cdf(d1) * math.exp(-k * t) - X * math.exp(-r*t) * norm.cdf(d2)"
      ],
      "execution_count": null,
      "outputs": []
    },
    {
      "cell_type": "code",
      "metadata": {},
      "source": [
        "call = bs_call(S, X, t, r, sigma_S)\n",
        "print(\"Call\",call)"
      ],
      "execution_count": null,
      "outputs": []
    },
    {
      "cell_type": "markdown",
      "metadata": {},
      "source": [
        "**Funciton: BS Put option**"
      ]
    },
    {
      "cell_type": "code",
      "metadata": {},
      "source": [
        "def bs_put(S, X, t, r, sigma_S, k=0):\n",
        "    d1 = (math.log(S/X) + (r - k + 0.5 * sigma_S ** 2) * t) / (sigma_S * math.sqrt(t))\n",
        "    d2 = d1 - sigma_S * math.sqrt(t)\n",
        "    return - S * norm.cdf(-d1) * math.exp(-k * t) + X * math.exp(-r*t) * norm.cdf(-d2)"
      ],
      "execution_count": null,
      "outputs": []
    },
    {
      "cell_type": "code",
      "metadata": {},
      "source": [
        "put = bs_put(S, X, t, r, sigma_S)\n",
        "print(\"Put\",put)"
      ],
      "execution_count": null,
      "outputs": []
    },
    {
      "cell_type": "markdown",
      "metadata": {},
      "source": [
        "## Implied Volatility"
      ]
    },
    {
      "cell_type": "code",
      "metadata": {},
      "source": [
        "S = 51\n",
        "X = 50\n",
        "r = 0.05\n",
        "t = 1.25\n",
        "target = 6.0"
      ],
      "execution_count": null,
      "outputs": []
    },
    {
      "cell_type": "code",
      "metadata": {},
      "source": [
        "# Function: Implied Volatility\n",
        "def bs_iv(S, X, t, r, target, k=0, type=\"C\"):\n",
        "    high = 2\n",
        "    low = 0\n",
        "\n",
        "    # Funciton: BS Call option\n",
        "    def bs_call(S, X, t, r, sigma_S, k=0):\n",
        "        d1 = (math.log(S/X) + (r - k + 0.5 * sigma_S ** 2) * t) / (sigma_S * math.sqrt(t))\n",
        "        d2 = d1 - sigma_S * math.sqrt(t)\n",
        "        return S * norm.cdf(d1) * math.exp(-k * t) - X * math.exp(-r*t) * norm.cdf(d2)\n",
        "\n",
        "    # Funciton: BS Put option\n",
        "\n",
        "    def bs_put(S, X, t, r, sigma_S, k=0):\n",
        "        d1 = (math.log(S/X) + (r - k + 0.5 * sigma_S ** 2) * t) / (sigma_S * math.sqrt(t))\n",
        "        d2 = d1 - sigma_S * math.sqrt(t)\n",
        "        return - S * norm.cdf(-d1) * math.exp(-k * t) + X * math.exp(-r*t) * norm.cdf(-d2)\n",
        "\n",
        "    if type == \"C\":\n",
        "        while (high - low) > 0.0001:\n",
        "            if bs_call(S, X, t, r, (high + low)/2, k) - target > 0:\n",
        "                high = (high + low) / 2\n",
        "            elif bs_call(S, X, t, r, (high + low)/2, k) - target < 0:\n",
        "                low = (high + low) / 2\n",
        "                pass\n",
        "            pass\n",
        "        return (high + low) / 2\n",
        "        pass\n",
        "\n",
        "    if type == \"P\":\n",
        "        while (high - low) > 0.0001:\n",
        "            if bs_put(S, X, t, r, (high + low)/2, k) - target > 0:\n",
        "                high = (high + low) / 2\n",
        "            elif bs_put(S, X, t, r, (high + low)/2, k) - target < 0:\n",
        "                low = (high + low) / 2\n",
        "                pass\n",
        "            pass\n",
        "        return (high + low) / 2\n",
        "        pass"
      ],
      "execution_count": null,
      "outputs": []
    },
    {
      "cell_type": "code",
      "metadata": {},
      "source": [
        "iv_call = bs_iv(S, X, t, r, target, type=\"C\")\n",
        "print(\"Implied Volatility Call\",iv_call)"
      ],
      "execution_count": null,
      "outputs": []
    },
    {
      "cell_type": "code",
      "metadata": {},
      "source": [
        "iv_put = bs_iv(S, X, t, r, target, type=\"P\")\n",
        "print(\"Implied Volatility Put\",iv_put)"
      ],
      "execution_count": null,
      "outputs": []
    },
    {
      "cell_type": "markdown",
      "metadata": {},
      "source": [
        "## Dividend Adjustments\n",
        "\n",
        "**Dividend Adjustments to the Black-Scholes - A Known Dividend**"
      ]
    },
    {
      "cell_type": "code",
      "metadata": {},
      "source": [
        "# Input\n",
        "today = datetime.datetime(2019, 8, 28)\n",
        "expiration = datetime.datetime(2020, 2, 21)\n",
        "S0 = 54.99\n",
        "r = 0.0173"
      ],
      "execution_count": null,
      "outputs": []
    },
    {
      "cell_type": "code",
      "metadata": {},
      "source": [
        "# Expected Dividends\n",
        "div_1_date = datetime.datetime(2019, 9, 12)\n",
        "div_2_date = datetime.datetime(2019, 11, 29)\n",
        "div_1_payment = 0.4\n",
        "div_2_payment = 0.4"
      ],
      "execution_count": null,
      "outputs": []
    },
    {
      "cell_type": "code",
      "metadata": {},
      "source": [
        "# Defining t\n",
        "delta_t_1 = (div_1_date - today).days / 365\n",
        "delta_t_2 = (div_2_date - today).days / 365"
      ],
      "execution_count": null,
      "outputs": []
    },
    {
      "cell_type": "code",
      "metadata": {},
      "source": [
        "# finding PV(Dividends)\n",
        "pv_div_1 = div_1_payment * math.exp(-r * delta_t_1)\n",
        "pv_div_2 = div_2_payment * math.exp(-r * delta_t_2)"
      ],
      "execution_count": null,
      "outputs": []
    },
    {
      "cell_type": "code",
      "metadata": {},
      "source": [
        "# Calculating net S0\n",
        "net_S0 = S0 - pv_div_1 - pv_div_2\n",
        "print(\"Net S0\",net_S0)"
      ],
      "execution_count": null,
      "outputs": []
    },
    {
      "cell_type": "code",
      "metadata": {},
      "source": [
        "# Calculating Black and Scholes Implies Volatility\n",
        "X = 55\n",
        "ex_date = datetime.datetime(2020, 2, 21)\n",
        "t = (ex_date - today).days / 365\n",
        "call_price = 2.5\n",
        "put_price = 3.25"
      ],
      "execution_count": null,
      "outputs": []
    },
    {
      "cell_type": "code",
      "metadata": {},
      "source": [
        "# Implied Volatility, net of dividends - Call\n",
        "iv_net_call = bs_iv(S=net_S0, X=X, t=t, r=r, target=call_price, type=\"C\")\n",
        "print(\"Implied Volatility, net of dividends - Call\",iv_net_call)"
      ],
      "execution_count": null,
      "outputs": []
    },
    {
      "cell_type": "code",
      "metadata": {},
      "source": [
        "# Implied Volatility, net of dividends - Put\n",
        "iv_net_put = bs_iv(S=net_S0, X=X, t=t, r=r, target=put_price, type=\"P\")\n",
        "print(\"Implied Volatility, net of dividends - Put\",iv_net_put)"
      ],
      "execution_count": null,
      "outputs": []
    },
    {
      "cell_type": "code",
      "metadata": {},
      "source": [
        "# Implied Volatility, with dividends - Call\n",
        "iv_call = bs_iv(S=S0, X=X, t=t, r=r, target=call_price, type=\"C\")\n",
        "print(\"Implied Volatility, with dividends - Call\",iv_call)"
      ],
      "execution_count": null,
      "outputs": []
    },
    {
      "cell_type": "code",
      "metadata": {},
      "source": [
        "# Implied Volatility, with dividends - Put\n",
        "iv_put = bs_iv(S=S0, X=X, t=t, r=r, target=put_price, type=\"P\")\n",
        "print(\"Implied Volatility, with dividends - Put\",iv_put)"
      ],
      "execution_count": null,
      "outputs": []
    },
    {
      "cell_type": "markdown",
      "metadata": {},
      "source": [
        "### Dividend Adjustments for Continuous Dividend Payouts-The Merton Model"
      ]
    },
    {
      "cell_type": "code",
      "metadata": {},
      "source": [
        "# Price SP500 Spiders\n",
        "# Input\n",
        "S0 = 292.45\n",
        "X = 300\n",
        "t = 0.296\n",
        "r = 0.0195\n",
        "k = 0.017  # Dividend rate\n",
        "sigma_S = 0.14"
      ],
      "execution_count": null,
      "outputs": []
    },
    {
      "cell_type": "code",
      "metadata": {},
      "source": [
        "# Implied Volatility, net of continuous dividends - Call\n",
        "iv_call = bs_iv(S=S0, X=X, t=t, r=r, target=call_price, k=k, type=\"C\")\n",
        "print(\"Implied Volatility, net of continuous dividends - Call\",iv_call)"
      ],
      "execution_count": null,
      "outputs": []
    },
    {
      "cell_type": "code",
      "metadata": {},
      "source": [
        "# Implied Volatility, net of continuous dividends - Put\n",
        "iv_put = bs_iv(S=S0, X=X, t=t, r=r, target=call_price, k=k, type=\"P\")\n",
        "print(\"Implied Volatility, net of continuous dividends - Put\",iv_put)"
      ],
      "execution_count": null,
      "outputs": []
    },
    {
      "cell_type": "code",
      "metadata": {},
      "source": [
        "# d1\n",
        "print(\"d1\",bs_d1(S0, X, t, r, sigma_S, k))"
      ],
      "execution_count": null,
      "outputs": []
    },
    {
      "cell_type": "code",
      "metadata": {},
      "source": [
        "# d2\n",
        "print(\"d2\",bs_d2(S0, X, t, r, sigma_S, k))"
      ],
      "execution_count": null,
      "outputs": []
    },
    {
      "cell_type": "code",
      "metadata": {},
      "source": [
        "# Nd1\n",
        "print(\"N(d1)\",bs_Nd1(S0, X, t, r, sigma_S, k))"
      ],
      "execution_count": null,
      "outputs": []
    },
    {
      "cell_type": "code",
      "metadata": {},
      "source": [
        "# Nd2\n",
        "print(\"N(d2)\",bs_Nd2(S0, X, t, r, sigma_S, k))"
      ],
      "execution_count": null,
      "outputs": []
    },
    {
      "cell_type": "code",
      "metadata": {},
      "source": [
        "# BS Call\n",
        "print(\"BS Call\",bs_call(S0, X, t, r, sigma_S, k))"
      ],
      "execution_count": null,
      "outputs": []
    },
    {
      "cell_type": "code",
      "metadata": {},
      "source": [
        "# BS Put\n",
        "print(\"BS Put\",bs_put(S0, X, t, r, sigma_S, k))"
      ],
      "execution_count": null,
      "outputs": []
    },
    {
      "cell_type": "code",
      "metadata": {},
      "source": [
        "# Pricing an Option to buy Australian Dollars in US Dollars\n",
        "# Input\n",
        "S0 = 0.6718\n",
        "X = 0.7\n",
        "rUS = 0.0195\n",
        "rAUD = 0.0093\n",
        "t = 0.2959\n",
        "sigma_S = 0.0970"
      ],
      "execution_count": null,
      "outputs": []
    },
    {
      "cell_type": "code",
      "metadata": {},
      "source": [
        "# d1\n",
        "print(\"d1\",bs_d1(S0, X, t, rUS, sigma_S, k=rAUD))"
      ],
      "execution_count": null,
      "outputs": []
    },
    {
      "cell_type": "code",
      "metadata": {},
      "source": [
        "# d2\n",
        "print(\"d2\",bs_d2(S0, X, t, rUS, sigma_S, k=rAUD))"
      ],
      "execution_count": null,
      "outputs": []
    },
    {
      "cell_type": "code",
      "metadata": {},
      "source": [
        "# Nd1\n",
        "print(\"N(d1)\",bs_Nd1(S0, X, t, rUS, sigma_S, k=rAUD))"
      ],
      "execution_count": null,
      "outputs": []
    },
    {
      "cell_type": "code",
      "metadata": {},
      "source": [
        "# Nd2\n",
        "print(\"N(d2)\",bs_Nd2(S0, X, t, rUS, sigma_S, k=rAUD))"
      ],
      "execution_count": null,
      "outputs": []
    },
    {
      "cell_type": "code",
      "metadata": {},
      "source": [
        "# BS Call\n",
        "print(\"BS Call\",bs_call(S0, X, t, rUS, sigma_S, k=rAUD) * 10000)"
      ],
      "execution_count": null,
      "outputs": []
    },
    {
      "cell_type": "code",
      "metadata": {},
      "source": [
        "# BS Put\n",
        "print(\"BS Put\",bs_put(S0, X, t, rUS, sigma_S, k=rAUD) * 10000)"
      ],
      "execution_count": null,
      "outputs": []
    },
    {
      "cell_type": "markdown",
      "metadata": {},
      "source": [
        "### The Black (1976) Model for Bond Option Valuation"
      ]
    },
    {
      "cell_type": "code",
      "metadata": {},
      "source": [
        "# Input\n",
        "Fwd = 133  # Bond Forward price\n",
        "X = 130  # Exercise price\n",
        "r = 0.02\n",
        "t = 0.5\n",
        "sigma_S = 0.06"
      ],
      "execution_count": null,
      "outputs": []
    },
    {
      "cell_type": "code",
      "metadata": {},
      "source": [
        "# Call \n",
        "d1 = bs_d1(Fwd, X, t, 0, sigma_S)\n",
        "d2 = bs_d2(Fwd, X, t, 0, sigma_S)\n",
        "Nd1 = bs_Nd1(Fwd, X, t, 0, sigma_S)\n",
        "Nd2 = bs_Nd2(Fwd, X, t, 0, sigma_S)\n",
        "call_price = math.exp(-r * t) * (Fwd * Nd1 - X * Nd2)\n",
        "print(\"Call\",call_price)"
      ],
      "execution_count": null,
      "outputs": []
    },
    {
      "cell_type": "code",
      "metadata": {},
      "source": [
        "# Put\n",
        "N_minus_d1 = norm.cdf(-d1)\n",
        "N_minus_d2 = norm.cdf(-d2)\n",
        "put_price = math.exp(-r * t) * (X * N_minus_d2 - Fwd * N_minus_d1)\n",
        "print(\"Put\",put_price)"
      ],
      "execution_count": null,
      "outputs": []
    },
    {
      "cell_type": "markdown",
      "metadata": {},
      "source": [
        "### Using the Black-Scholes Model to Price Risky Debt"
      ]
    },
    {
      "cell_type": "code",
      "metadata": {},
      "source": [
        "# Input\n",
        "V = 1400  # firm Asset value today\n",
        "FVt = 1150  # debt payment at maturity\n",
        "r = 0.02  # risk free rate\n",
        "t = 2.5  # time to debt maturity\n",
        "sigma_S = 0.2  # assets volatility"
      ],
      "execution_count": null,
      "outputs": []
    },
    {
      "cell_type": "code",
      "metadata": {},
      "source": [
        "# Equity Value\n",
        "d1 = bs_d1(V, FVt, t, 0, sigma_S)\n",
        "d2 = bs_d2(V, FVt, t, 0, sigma_S)\n",
        "Nd1 = bs_Nd1(V, FVt, t, 0, sigma_S)\n",
        "Nd2 = bs_Nd2(V, FVt, t, 0, sigma_S)\n",
        "equity_value = V * Nd1 - FVt * math.exp(-r * t) * Nd2\n",
        "print(\"Equity Value\",equity_value)"
      ],
      "execution_count": null,
      "outputs": []
    },
    {
      "cell_type": "code",
      "metadata": {},
      "source": [
        "# Debt VAlue and \n",
        "debt_value = V - equity_value\n",
        "print(\"Debt Value\",debt_value)"
      ],
      "execution_count": null,
      "outputs": []
    },
    {
      "cell_type": "code",
      "metadata": {},
      "source": [
        "# Yield to maturity\n",
        "YTM = (FVt / debt_value)**(1 / t) - 1\n",
        "print(\"YTM\",YTM)"
      ],
      "execution_count": null,
      "outputs": []
    },
    {
      "cell_type": "code",
      "metadata": {},
      "source": [
        "# The KMV model - Probability to Default\n",
        "default_prob = 1 - norm.cdf(d2)\n",
        "print(\"The KMV model - Probability to Default\",default_prob)"
      ],
      "execution_count": null,
      "outputs": []
    }
  ],
  "metadata": {
    "kernelspec": {
      "name": "python3",
      "language": "python",
      "display_name": "Python 3 (ipykernel)"
    }
  },
  "nbformat": 4,
  "nbformat_minor": 4
}