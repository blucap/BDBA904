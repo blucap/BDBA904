{
  "cells": [
    {
      "cell_type": "raw",
      "metadata": {},
      "source": [
        "---\n",
        "title: The Black-Scholes Model\n",
        "format: html\n",
        "---"
      ]
    },
    {
      "cell_type": "markdown",
      "metadata": {},
      "source": [
        "We thank Sagi Haim for developing this script\n",
        "\n",
        "### Black & Scholes Option Pricing"
      ]
    },
    {
      "cell_type": "code",
      "execution_count": 1,
      "metadata": {},
      "outputs": [],
      "source": [
        "import numpy as np\n",
        "import pandas as pd\n",
        "import math\n",
        "from scipy.stats import norm\n",
        "from scipy.optimize import minimize\n",
        "import datetime"
      ]
    },
    {
      "cell_type": "markdown",
      "metadata": {},
      "source": [
        "Black-Scholes, or sometimes Black-Scholes-Merton, is a mathematical model that seeks to explain the behavior of financial derivatives, most commonly options. It was proposed by Black and Scholes in 1973. It gave theoretical support for trading options to hedge positions, which had been practice but lacked solid support. From the model we are able to calculate what the price of an option should be based on a number of different factors. Nowadays there are numerous variations of the Black-Scholes model, each of which seeks to improve the model based on certain criteria, usually at the cost of a significant increase in complexity. This paper will focus on the original model, the basis for all other models.\n",
        "\n",
        "There is a bit of notation, we're going to lay it down before we get to the equations.\n",
        "\n",
        "-   C = Call option price\n",
        "\n",
        "-   S = Current stock price\n",
        "\n",
        "-   X = Strike price of the option\n",
        "\n",
        "-   r = risk-free interest rate (a number between 0 and 1)\n",
        "\n",
        "-   $\\sigma$ = volatility of the stocks return (a number between 0 and 1)\n",
        "\n",
        "-   t = time to option maturity (in years)\n",
        "\n",
        "-   N = normal cumulative distribution function\n",
        "\n",
        "**The model:**\n",
        "\n",
        "$$\\mathrm C(\\mathrm S,\\mathrm t)= \\mathrm N(\\mathrm d_1)\\mathrm S - \\mathrm N(\\mathrm d_2) \\mathrm X \\mathrm e^{-rt}$$\n",
        "\n",
        "Where:\n",
        "\n",
        "$$C_0 = \\text{the value of a European option at time t = 0.}$$\n",
        "\n",
        "$$\\mathrm d_1= \\frac{1}{\\sigma \\sqrt{\\mathrm t}} \\left[\\ln{\\left(\\frac{S}{X}\\right)} + t\\left(r + \\frac{\\sigma^2}{2} \\right) \\right]$$\n",
        "\n",
        "$$\\mathrm d_2= d_1-\\sigma\\sqrt{t}$$\n",
        "$$N(x)=\\frac{1}{\\sqrt{2\\pi}} \\int_{-\\infty}^{x} \\mathrm e^{-\\frac{1}{2}z^2} dz$$\n",
        "\n",
        "\n",
        "$N(d)$ = Probability that a standardized, normally distributed, random variable will be less than or equal to $d$.\n",
        "\n",
        "------------------------------------------------------------------------\n",
        "\n",
        "Find the value of a six-month call option on Hardcraft, Inc. with an exercise price of $150. The current value of a share of Hardcraft is $160. The interest rate available in the U.S. is R = 5%. The option maturity is 6 months (half of a year). The volatility of the underlying asset is 30% per annum. Note that the intrinsic value of the option is $10, so our answer must be at least that amount.\n"
      ]
    },
    {
      "cell_type": "code",
      "execution_count": 2,
      "metadata": {},
      "outputs": [],
      "source": [
        "S, X, r, t, sigma_S = 160, 150, 0.05, 0.5, 0.3\n",
        "#S, X, r, t, sigma_S = 50, 45, 0.04, 0.75, 0.3"
      ]
    },
    {
      "cell_type": "markdown",
      "metadata": {},
      "source": [
        "**Function: d1**"
      ]
    },
    {
      "cell_type": "code",
      "execution_count": 3,
      "metadata": {},
      "outputs": [],
      "source": [
        "def bs_d1(S, X, t, r, sigma_S, k=0):\n",
        "    return (math.log(S/X) + (r - k + 0.5 * sigma_S ** 2) * t) / (sigma_S * math.sqrt(t))"
      ]
    },
    {
      "cell_type": "code",
      "execution_count": 4,
      "metadata": {},
      "outputs": [
        {
          "name": "stdout",
          "output_type": "stream",
          "text": [
            "d1 0.5281546536699261\n"
          ]
        }
      ],
      "source": [
        "d1 = bs_d1(S, X, t, r, sigma_S)\n",
        "print(\"d1\",d1)"
      ]
    },
    {
      "cell_type": "markdown",
      "metadata": {},
      "source": [
        "**Function: d2**"
      ]
    },
    {
      "cell_type": "code",
      "execution_count": 5,
      "metadata": {},
      "outputs": [],
      "source": [
        "def bs_d2(S, X, t, r, sigma_S, k=0):\n",
        "    return (math.log(S/X) + (r - k + 0.5 * sigma_S ** 2) * t) / (sigma_S * math.sqrt(t)) - sigma_S * math.sqrt(t)"
      ]
    },
    {
      "cell_type": "code",
      "execution_count": 6,
      "metadata": {},
      "outputs": [
        {
          "name": "stdout",
          "output_type": "stream",
          "text": [
            "d2 0.3160226193139618\n"
          ]
        }
      ],
      "source": [
        "d2 = bs_d2(S, X, t, r, sigma_S)\n",
        "print(\"d2\",d2)"
      ]
    },
    {
      "cell_type": "markdown",
      "metadata": {},
      "source": [
        "**Function: N(d1)**"
      ]
    },
    {
      "cell_type": "code",
      "execution_count": 7,
      "metadata": {},
      "outputs": [],
      "source": [
        "def bs_Nd1(S, X, t, r, sigma_S, k=0):\n",
        "    d1 = (math.log(S/X) + (r - k + 0.5 * sigma_S ** 2) * t) / (sigma_S * math.sqrt(t))\n",
        "    return norm.cdf(d1)"
      ]
    },
    {
      "cell_type": "code",
      "execution_count": 8,
      "metadata": {},
      "outputs": [
        {
          "name": "stdout",
          "output_type": "stream",
          "text": [
            "N(d1) 0.7013040000243351\n"
          ]
        }
      ],
      "source": [
        "Nd1 = bs_Nd1(S, X, t, r, sigma_S)\n",
        "print(\"N(d1)\",Nd1)"
      ]
    },
    {
      "cell_type": "markdown",
      "metadata": {},
      "source": [
        "**Function: N(d2)**"
      ]
    },
    {
      "cell_type": "code",
      "execution_count": 9,
      "metadata": {},
      "outputs": [],
      "source": [
        "def bs_Nd2(S, X, t, r, sigma_S, k=0):\n",
        "    d2 = (math.log(S/X) + (r - k + 0.5 * sigma_S ** 2) * t) / \\\n",
        "        (sigma_S * math.sqrt(t)) - sigma_S * math.sqrt(t)\n",
        "    return norm.cdf(d2)"
      ]
    },
    {
      "cell_type": "code",
      "execution_count": 10,
      "metadata": {},
      "outputs": [
        {
          "name": "stdout",
          "output_type": "stream",
          "text": [
            "N(d2) 0.6240073302254024\n"
          ]
        }
      ],
      "source": [
        "Nd2 = bs_Nd2(S, X, t, r, sigma_S)\n",
        "print(\"N(d2)\",Nd2)"
      ]
    },
    {
      "cell_type": "markdown",
      "metadata": {},
      "source": [
        "**Funciton: BS Call option**"
      ]
    },
    {
      "cell_type": "code",
      "execution_count": 11,
      "metadata": {},
      "outputs": [],
      "source": [
        "def bs_call(S, X, t, r, sigma_S, k=0):\n",
        "    d1 = (math.log(S/X) + (r - k + 0.5 * sigma_S ** 2) * t) / (sigma_S * math.sqrt(t))\n",
        "    d2 = d1 - sigma_S * math.sqrt(t)\n",
        "    return S * norm.cdf(d1) * math.exp(-k * t) - X * math.exp(-r*t) * norm.cdf(d2)"
      ]
    },
    {
      "cell_type": "code",
      "execution_count": 12,
      "metadata": {},
      "outputs": [
        {
          "name": "stdout",
          "output_type": "stream",
          "text": [
            "Call 20.918559851817818\n"
          ]
        }
      ],
      "source": [
        "call = bs_call(S, X, t, r, sigma_S)\n",
        "print(\"Call\",call)"
      ]
    },
    {
      "cell_type": "markdown",
      "metadata": {},
      "source": [
        "**Funciton: BS Put option**"
      ]
    },
    {
      "cell_type": "code",
      "execution_count": 13,
      "metadata": {},
      "outputs": [],
      "source": [
        "def bs_put(S, X, t, r, sigma_S, k=0):\n",
        "    d1 = (math.log(S/X) + (r - k + 0.5 * sigma_S ** 2) * t) / (sigma_S * math.sqrt(t))\n",
        "    d2 = d1 - sigma_S * math.sqrt(t)\n",
        "    return - S * norm.cdf(-d1) * math.exp(-k * t) + X * math.exp(-r*t) * norm.cdf(-d2)"
      ]
    },
    {
      "cell_type": "code",
      "execution_count": 14,
      "metadata": {},
      "outputs": [
        {
          "name": "stdout",
          "output_type": "stream",
          "text": [
            "Put 7.215046656067727\n"
          ]
        }
      ],
      "source": [
        "put = bs_put(S, X, t, r, sigma_S)\n",
        "print(\"Put\",put)"
      ]
    },
    {
      "cell_type": "markdown",
      "metadata": {},
      "source": [
        "## Implied Volatility"
      ]
    },
    {
      "cell_type": "code",
      "execution_count": 15,
      "metadata": {},
      "outputs": [],
      "source": [
        "S = 51\n",
        "X = 50\n",
        "r = 0.05\n",
        "t = 1.25\n",
        "target = 6.0"
      ]
    },
    {
      "cell_type": "code",
      "execution_count": 16,
      "metadata": {},
      "outputs": [],
      "source": [
        "# Function: Implied Volatility\n",
        "def bs_iv(S, X, t, r, target, k=0, type=\"C\"):\n",
        "    high = 2\n",
        "    low = 0\n",
        "\n",
        "    # Funciton: BS Call option\n",
        "    def bs_call(S, X, t, r, sigma_S, k=0):\n",
        "        d1 = (math.log(S/X) + (r - k + 0.5 * sigma_S ** 2) * t) / (sigma_S * math.sqrt(t))\n",
        "        d2 = d1 - sigma_S * math.sqrt(t)\n",
        "        return S * norm.cdf(d1) * math.exp(-k * t) - X * math.exp(-r*t) * norm.cdf(d2)\n",
        "\n",
        "    # Funciton: BS Put option\n",
        "\n",
        "    def bs_put(S, X, t, r, sigma_S, k=0):\n",
        "        d1 = (math.log(S/X) + (r - k + 0.5 * sigma_S ** 2) * t) / (sigma_S * math.sqrt(t))\n",
        "        d2 = d1 - sigma_S * math.sqrt(t)\n",
        "        return - S * norm.cdf(-d1) * math.exp(-k * t) + X * math.exp(-r*t) * norm.cdf(-d2)\n",
        "\n",
        "    if type == \"C\":\n",
        "        while (high - low) > 0.0001:\n",
        "            if bs_call(S, X, t, r, (high + low)/2, k) - target > 0:\n",
        "                high = (high + low) / 2\n",
        "            elif bs_call(S, X, t, r, (high + low)/2, k) - target < 0:\n",
        "                low = (high + low) / 2\n",
        "                pass\n",
        "            pass\n",
        "        return (high + low) / 2\n",
        "        pass\n",
        "\n",
        "    if type == \"P\":\n",
        "        while (high - low) > 0.0001:\n",
        "            if bs_put(S, X, t, r, (high + low)/2, k) - target > 0:\n",
        "                high = (high + low) / 2\n",
        "            elif bs_put(S, X, t, r, (high + low)/2, k) - target < 0:\n",
        "                low = (high + low) / 2\n",
        "                pass\n",
        "            pass\n",
        "        return (high + low) / 2\n",
        "        pass"
      ]
    },
    {
      "cell_type": "code",
      "execution_count": 17,
      "metadata": {},
      "outputs": [
        {
          "name": "stdout",
          "output_type": "stream",
          "text": [
            "Implied Volatility Call 0.166717529296875\n"
          ]
        }
      ],
      "source": [
        "iv_call = bs_iv(S, X, t, r, target, type=\"C\")\n",
        "print(\"Implied Volatility Call\",iv_call)"
      ]
    },
    {
      "cell_type": "code",
      "execution_count": 18,
      "metadata": {},
      "outputs": [
        {
          "name": "stdout",
          "output_type": "stream",
          "text": [
            "Implied Volatility Put 0.361968994140625\n"
          ]
        }
      ],
      "source": [
        "iv_put = bs_iv(S, X, t, r, target, type=\"P\")\n",
        "print(\"Implied Volatility Put\",iv_put)"
      ]
    },
    {
      "cell_type": "markdown",
      "metadata": {},
      "source": [
        "## Dividend Adjustments\n",
        "\n",
        "**Dividend Adjustments to the Black-Scholes - A Known Dividend**"
      ]
    },
    {
      "cell_type": "code",
      "execution_count": 19,
      "metadata": {},
      "outputs": [],
      "source": [
        "# Input\n",
        "today = datetime.datetime(2019, 8, 28)\n",
        "expiration = datetime.datetime(2020, 2, 21)\n",
        "S0 = 54.99\n",
        "r = 0.0173"
      ]
    },
    {
      "cell_type": "code",
      "execution_count": 20,
      "metadata": {},
      "outputs": [],
      "source": [
        "# Expected Dividends\n",
        "div_1_date = datetime.datetime(2019, 9, 12)\n",
        "div_2_date = datetime.datetime(2019, 11, 29)\n",
        "div_1_payment = 0.4\n",
        "div_2_payment = 0.4"
      ]
    },
    {
      "cell_type": "code",
      "execution_count": 21,
      "metadata": {},
      "outputs": [],
      "source": [
        "# Defining t\n",
        "delta_t_1 = (div_1_date - today).days / 365\n",
        "delta_t_2 = (div_2_date - today).days / 365"
      ]
    },
    {
      "cell_type": "code",
      "execution_count": 22,
      "metadata": {},
      "outputs": [],
      "source": [
        "# finding PV(Dividends)\n",
        "pv_div_1 = div_1_payment * math.exp(-r * delta_t_1)\n",
        "pv_div_2 = div_2_payment * math.exp(-r * delta_t_2)"
      ]
    },
    {
      "cell_type": "code",
      "execution_count": 23,
      "metadata": {},
      "outputs": [
        {
          "name": "stdout",
          "output_type": "stream",
          "text": [
            "Net S0 54.19204358028256\n"
          ]
        }
      ],
      "source": [
        "# Calculating net S0\n",
        "net_S0 = S0 - pv_div_1 - pv_div_2\n",
        "print(\"Net S0\",net_S0)"
      ]
    },
    {
      "cell_type": "code",
      "execution_count": 24,
      "metadata": {},
      "outputs": [],
      "source": [
        "# Calculating Black and Scholes Implies Volatility\n",
        "X = 55\n",
        "ex_date = datetime.datetime(2020, 2, 21)\n",
        "t = (ex_date - today).days / 365\n",
        "call_price = 2.5\n",
        "put_price = 3.25"
      ]
    },
    {
      "cell_type": "code",
      "execution_count": 25,
      "metadata": {},
      "outputs": [
        {
          "name": "stdout",
          "output_type": "stream",
          "text": [
            "Implied Volatility, net of dividends - Call 0.176910400390625\n"
          ]
        }
      ],
      "source": [
        "# Implied Volatility, net of dividends - Call\n",
        "iv_net_call = bs_iv(S=net_S0, X=X, t=t, r=r, target=call_price, type=\"C\")\n",
        "print(\"Implied Volatility, net of dividends - Call\",iv_net_call)"
      ]
    },
    {
      "cell_type": "code",
      "execution_count": 26,
      "metadata": {},
      "outputs": [
        {
          "name": "stdout",
          "output_type": "stream",
          "text": [
            "Implied Volatility, net of dividends - Put 0.203582763671875\n"
          ]
        }
      ],
      "source": [
        "# Implied Volatility, net of dividends - Put\n",
        "iv_net_put = bs_iv(S=net_S0, X=X, t=t, r=r, target=put_price, type=\"P\")\n",
        "print(\"Implied Volatility, net of dividends - Put\",iv_net_put)"
      ]
    },
    {
      "cell_type": "code",
      "execution_count": 27,
      "metadata": {},
      "outputs": [
        {
          "name": "stdout",
          "output_type": "stream",
          "text": [
            "Implied Volatility, with dividends - Call 0.149139404296875\n"
          ]
        }
      ],
      "source": [
        "# Implied Volatility, with dividends - Call\n",
        "iv_call = bs_iv(S=S0, X=X, t=t, r=r, target=call_price, type=\"C\")\n",
        "print(\"Implied Volatility, with dividends - Call\",iv_call)"
      ]
    },
    {
      "cell_type": "code",
      "execution_count": 28,
      "metadata": {},
      "outputs": [
        {
          "name": "stdout",
          "output_type": "stream",
          "text": [
            "Implied Volatility, with dividends - Put 0.228302001953125\n"
          ]
        }
      ],
      "source": [
        "# Implied Volatility, with dividends - Put\n",
        "iv_put = bs_iv(S=S0, X=X, t=t, r=r, target=put_price, type=\"P\")\n",
        "print(\"Implied Volatility, with dividends - Put\",iv_put)"
      ]
    },
    {
      "cell_type": "markdown",
      "metadata": {},
      "source": [
        "### Dividend Adjustments for Continuous Dividend Payouts-The Merton Model"
      ]
    },
    {
      "cell_type": "code",
      "execution_count": 29,
      "metadata": {},
      "outputs": [],
      "source": [
        "# Price SP500 Spiders\n",
        "# Input\n",
        "S0 = 292.45\n",
        "X = 300\n",
        "t = 0.296\n",
        "r = 0.0195\n",
        "k = 0.017  # Dividend rate\n",
        "sigma_S = 0.14"
      ]
    },
    {
      "cell_type": "code",
      "execution_count": 30,
      "metadata": {},
      "outputs": [
        {
          "name": "stdout",
          "output_type": "stream",
          "text": [
            "Implied Volatility, net of continuous dividends - Call 0.084075927734375\n"
          ]
        }
      ],
      "source": [
        "# Implied Volatility, net of continuous dividends - Call\n",
        "iv_call = bs_iv(S=S0, X=X, t=t, r=r, target=call_price, k=k, type=\"C\")\n",
        "print(\"Implied Volatility, net of continuous dividends - Call\",iv_call)"
      ]
    },
    {
      "cell_type": "code",
      "execution_count": 31,
      "metadata": {},
      "outputs": [
        {
          "name": "stdout",
          "output_type": "stream",
          "text": [
            "Implied Volatility, net of continuous dividends - Put 3.0517578125e-05\n"
          ]
        }
      ],
      "source": [
        "# Implied Volatility, net of continuous dividends - Put\n",
        "iv_put = bs_iv(S=S0, X=X, t=t, r=r, target=call_price, k=k, type=\"P\")\n",
        "print(\"Implied Volatility, net of continuous dividends - Put\",iv_put)"
      ]
    },
    {
      "cell_type": "code",
      "execution_count": 32,
      "metadata": {},
      "outputs": [
        {
          "name": "stdout",
          "output_type": "stream",
          "text": [
            "d1 -0.28683824445324524\n"
          ]
        }
      ],
      "source": [
        "# d1\n",
        "print(\"d1\",bs_d1(S0, X, t, r, sigma_S, k))"
      ]
    },
    {
      "cell_type": "code",
      "execution_count": 33,
      "metadata": {},
      "outputs": [
        {
          "name": "stdout",
          "output_type": "stream",
          "text": [
            "d2 -0.36300647930216373\n"
          ]
        }
      ],
      "source": [
        "# d2\n",
        "print(\"d2\",bs_d2(S0, X, t, r, sigma_S, k))"
      ]
    },
    {
      "cell_type": "code",
      "execution_count": 34,
      "metadata": {},
      "outputs": [
        {
          "name": "stdout",
          "output_type": "stream",
          "text": [
            "N(d1) 0.38711808898271094\n"
          ]
        }
      ],
      "source": [
        "# Nd1\n",
        "print(\"N(d1)\",bs_Nd1(S0, X, t, r, sigma_S, k))"
      ]
    },
    {
      "cell_type": "code",
      "execution_count": 35,
      "metadata": {},
      "outputs": [
        {
          "name": "stdout",
          "output_type": "stream",
          "text": [
            "N(d2) 0.358300022113321\n"
          ]
        }
      ],
      "source": [
        "# Nd2\n",
        "print(\"N(d2)\",bs_Nd2(S0, X, t, r, sigma_S, k))"
      ]
    },
    {
      "cell_type": "code",
      "execution_count": 36,
      "metadata": {},
      "outputs": [
        {
          "name": "stdout",
          "output_type": "stream",
          "text": [
            "BS Call 5.773068377572997\n"
          ]
        }
      ],
      "source": [
        "# BS Call\n",
        "print(\"BS Call\",bs_call(S0, X, t, r, sigma_S, k))"
      ]
    },
    {
      "cell_type": "code",
      "execution_count": 37,
      "metadata": {},
      "outputs": [
        {
          "name": "stdout",
          "output_type": "stream",
          "text": [
            "BS Put 13.064368209937754\n"
          ]
        }
      ],
      "source": [
        "# BS Put\n",
        "print(\"BS Put\",bs_put(S0, X, t, r, sigma_S, k))"
      ]
    },
    {
      "cell_type": "code",
      "execution_count": 38,
      "metadata": {},
      "outputs": [],
      "source": [
        "# Pricing an Option to buy Australian Dollars in US Dollars\n",
        "# Input\n",
        "S0 = 0.6718\n",
        "X = 0.7\n",
        "rUS = 0.0195\n",
        "rAUD = 0.0093\n",
        "t = 0.2959\n",
        "sigma_S = 0.0970"
      ]
    },
    {
      "cell_type": "code",
      "execution_count": 39,
      "metadata": {},
      "outputs": [
        {
          "name": "stdout",
          "output_type": "stream",
          "text": [
            "d1 -0.6957180361409635\n"
          ]
        }
      ],
      "source": [
        "# d1\n",
        "print(\"d1\",bs_d1(S0, X, t, rUS, sigma_S, k=rAUD))"
      ]
    },
    {
      "cell_type": "code",
      "execution_count": 40,
      "metadata": {},
      "outputs": [
        {
          "name": "stdout",
          "output_type": "stream",
          "text": [
            "d2 -0.748482826484525\n"
          ]
        }
      ],
      "source": [
        "# d2\n",
        "print(\"d2\",bs_d2(S0, X, t, rUS, sigma_S, k=rAUD))"
      ]
    },
    {
      "cell_type": "code",
      "execution_count": 41,
      "metadata": {},
      "outputs": [
        {
          "name": "stdout",
          "output_type": "stream",
          "text": [
            "N(d1) 0.24330271402410392\n"
          ]
        }
      ],
      "source": [
        "# Nd1\n",
        "print(\"N(d1)\",bs_Nd1(S0, X, t, rUS, sigma_S, k=rAUD))"
      ]
    },
    {
      "cell_type": "code",
      "execution_count": 42,
      "metadata": {},
      "outputs": [
        {
          "name": "stdout",
          "output_type": "stream",
          "text": [
            "N(d2) 0.22708448997269803\n"
          ]
        }
      ],
      "source": [
        "# Nd2\n",
        "print(\"N(d2)\",bs_Nd2(S0, X, t, rUS, sigma_S, k=rAUD))"
      ]
    },
    {
      "cell_type": "code",
      "execution_count": 43,
      "metadata": {},
      "outputs": [
        {
          "name": "stdout",
          "output_type": "stream",
          "text": [
            "BS Call 49.5700450408601\n"
          ]
        }
      ],
      "source": [
        "# BS Call\n",
        "print(\"BS Call\",bs_call(S0, X, t, rUS, sigma_S, k=rAUD) * 10000)"
      ]
    },
    {
      "cell_type": "code",
      "execution_count": 44,
      "metadata": {},
      "outputs": [
        {
          "name": "stdout",
          "output_type": "stream",
          "text": [
            "BS Put 309.7576473912644\n"
          ]
        }
      ],
      "source": [
        "# BS Put\n",
        "print(\"BS Put\",bs_put(S0, X, t, rUS, sigma_S, k=rAUD) * 10000)"
      ]
    },
    {
      "cell_type": "markdown",
      "metadata": {},
      "source": [
        "### The Black (1976) Model for Bond Option Valuation"
      ]
    },
    {
      "cell_type": "code",
      "execution_count": 45,
      "metadata": {},
      "outputs": [],
      "source": [
        "# Input\n",
        "Fwd = 133  # Bond Forward price\n",
        "X = 130  # Exercise price\n",
        "r = 0.02\n",
        "t = 0.5\n",
        "sigma_S = 0.06"
      ]
    },
    {
      "cell_type": "code",
      "execution_count": 46,
      "metadata": {},
      "outputs": [
        {
          "name": "stdout",
          "output_type": "stream",
          "text": [
            "Call 3.9995499406741195\n"
          ]
        }
      ],
      "source": [
        "# Call \n",
        "d1 = bs_d1(Fwd, X, t, 0, sigma_S)\n",
        "d2 = bs_d2(Fwd, X, t, 0, sigma_S)\n",
        "Nd1 = bs_Nd1(Fwd, X, t, 0, sigma_S)\n",
        "Nd2 = bs_Nd2(Fwd, X, t, 0, sigma_S)\n",
        "call_price = math.exp(-r * t) * (Fwd * Nd1 - X * Nd2)\n",
        "print(\"Call\",call_price)"
      ]
    },
    {
      "cell_type": "code",
      "execution_count": 47,
      "metadata": {},
      "outputs": [
        {
          "name": "stdout",
          "output_type": "stream",
          "text": [
            "Put 1.029400439426608\n"
          ]
        }
      ],
      "source": [
        "# Put\n",
        "N_minus_d1 = norm.cdf(-d1)\n",
        "N_minus_d2 = norm.cdf(-d2)\n",
        "put_price = math.exp(-r * t) * (X * N_minus_d2 - Fwd * N_minus_d1)\n",
        "print(\"Put\",put_price)"
      ]
    },
    {
      "cell_type": "markdown",
      "metadata": {},
      "source": [
        "### Using the Black-Scholes Model to Price Risky Debt"
      ]
    },
    {
      "cell_type": "code",
      "execution_count": 48,
      "metadata": {},
      "outputs": [],
      "source": [
        "# Input\n",
        "V = 1400  # firm Asset value today\n",
        "FVt = 1150  # debt payment at maturity\n",
        "r = 0.02  # risk free rate\n",
        "t = 2.5  # time to debt maturity\n",
        "sigma_S = 0.2  # assets volatility"
      ]
    },
    {
      "cell_type": "code",
      "execution_count": 49,
      "metadata": {},
      "outputs": [
        {
          "name": "stdout",
          "output_type": "stream",
          "text": [
            "Equity Value 352.90578596536034\n"
          ]
        }
      ],
      "source": [
        "# Equity Value\n",
        "d1 = bs_d1(V, FVt, t, 0, sigma_S)\n",
        "d2 = bs_d2(V, FVt, t, 0, sigma_S)\n",
        "Nd1 = bs_Nd1(V, FVt, t, 0, sigma_S)\n",
        "Nd2 = bs_Nd2(V, FVt, t, 0, sigma_S)\n",
        "equity_value = V * Nd1 - FVt * math.exp(-r * t) * Nd2\n",
        "print(\"Equity Value\",equity_value)"
      ]
    },
    {
      "cell_type": "code",
      "execution_count": 50,
      "metadata": {},
      "outputs": [
        {
          "name": "stdout",
          "output_type": "stream",
          "text": [
            "Debt Value 1047.0942140346397\n"
          ]
        }
      ],
      "source": [
        "# Debt VAlue and \n",
        "debt_value = V - equity_value\n",
        "print(\"Debt Value\",debt_value)"
      ]
    },
    {
      "cell_type": "code",
      "execution_count": 51,
      "metadata": {},
      "outputs": [
        {
          "name": "stdout",
          "output_type": "stream",
          "text": [
            "YTM 0.038209102461034705\n"
          ]
        }
      ],
      "source": [
        "# Yield to maturity\n",
        "YTM = (FVt / debt_value)**(1 / t) - 1\n",
        "print(\"YTM\",YTM)"
      ]
    },
    {
      "cell_type": "code",
      "execution_count": 52,
      "metadata": {},
      "outputs": [
        {
          "name": "stdout",
          "output_type": "stream",
          "text": [
            "The KMV model - Probability to Default 0.3213458374957887\n"
          ]
        }
      ],
      "source": [
        "# The KMV model - Probability to Default\n",
        "default_prob = 1 - norm.cdf(d2)\n",
        "print(\"The KMV model - Probability to Default\",default_prob)"
      ]
    }
  ],
  "metadata": {
    "kernelspec": {
      "display_name": "Python 3.8.13 ('base')",
      "language": "python",
      "name": "python3"
    },
    "language_info": {
      "codemirror_mode": {
        "name": "ipython",
        "version": 3
      },
      "file_extension": ".py",
      "mimetype": "text/x-python",
      "name": "python",
      "nbconvert_exporter": "python",
      "pygments_lexer": "ipython3",
      "version": "3.8.13"
    },
    "vscode": {
      "interpreter": {
        "hash": "23bfa482af7c32a2976f05a099b96faf833d560b9b48afb079ee61ed0b3d4a7f"
      }
    }
  },
  "nbformat": 4,
  "nbformat_minor": 4
}
