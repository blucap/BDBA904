{
 "cells": [
  {
   "cell_type": "code",
   "execution_count": 1,
   "id": "2af1a330",
   "metadata": {},
   "outputs": [],
   "source": [
    "import pandas as pd\n",
    "import numpy as np\n",
    "import numpy_financial as npf\n",
    "from datetime import date\n",
    "import matplotlib.pyplot as plt\n",
    "import matplotlib"
   ]
  },
  {
   "cell_type": "code",
   "execution_count": 2,
   "id": "487073a5",
   "metadata": {},
   "outputs": [
    {
     "name": "stdout",
     "output_type": "stream",
     "text": [
      "   discount_rate\n",
      "0              0\n",
      "1              1\n",
      "2              2\n",
      "3              3\n",
      "4              4\n",
      "    discount_rate\n",
      "65             65\n",
      "66             66\n",
      "67             67\n",
      "68             68\n",
      "69             69\n"
     ]
    }
   ],
   "source": [
    "# Create a data frame with a range of discount rates\n",
    "dfi = pd.DataFrame(data=list(range(0,70,1)) , columns=['discount_rate'])\n",
    "\n",
    "print(dfi.head())\n",
    "print(dfi.tail())"
   ]
  },
  {
   "cell_type": "code",
   "execution_count": 3,
   "id": "83fc1fd6",
   "metadata": {},
   "outputs": [],
   "source": [
    "# Create a function for calculating NPV\n",
    "def Npv(r):\n",
    "    return npf.npv(r*0.01, cash_flows)"
   ]
  },
  {
   "cell_type": "code",
   "execution_count": 4,
   "id": "7a858e79",
   "metadata": {},
   "outputs": [
    {
     "data": {
      "text/plain": [
       "[-1000, 73.75, 73.75, 73.75, 73.75, 1073.75]"
      ]
     },
     "execution_count": 4,
     "metadata": {},
     "output_type": "execute_result"
    }
   ],
   "source": [
    "cash_flows = [-1000, 73.75, 73.75, 73.75, 73.75, 1073.75]\n",
    "cash_flows"
   ]
  },
  {
   "cell_type": "code",
   "execution_count": 5,
   "id": "cb312539",
   "metadata": {},
   "outputs": [
    {
     "data": {
      "text/plain": [
       "[-145, 100, 100, 100, 100, -275]"
      ]
     },
     "execution_count": 5,
     "metadata": {},
     "output_type": "execute_result"
    }
   ],
   "source": [
    "#cash_flows = [-1000, 73.75, 73.75, 73.75, 73.75, 1073.75]\n",
    "cash_flows = [-145, 100, 100, 100, 100, -275]\n",
    "#cash_flows = [-110, 121]\n",
    "#cash_flows = [-120000, 30000, 60000, 50000, 40000, 180000]\n",
    "#cash_flows = [-500, 30,50,-10,20,-5]\n",
    "#cash_flows = [-500, 600,300,300,200,-1000]\n",
    "cash_flows"
   ]
  },
  {
   "cell_type": "code",
   "execution_count": 6,
   "id": "6a417bd1",
   "metadata": {},
   "outputs": [
    {
     "name": "stdout",
     "output_type": "stream",
     "text": [
      "NPV: $3.77\n"
     ]
    }
   ],
   "source": [
    "print(\"NPV: ${}\".format(round(Npv(15),2)))"
   ]
  },
  {
   "cell_type": "code",
   "execution_count": 7,
   "id": "9e9c9759",
   "metadata": {},
   "outputs": [
    {
     "name": "stdout",
     "output_type": "stream",
     "text": [
      "                     NPV\n",
      "discount_rate           \n",
      "0             -20.000000\n",
      "1             -16.456509\n",
      "2             -13.303103\n",
      "3             -10.507575\n",
      "4              -8.040432\n"
     ]
    }
   ],
   "source": [
    "dfi['NPV'] = dfi['discount_rate'].apply(Npv)\n",
    "dfi.set_index('discount_rate', inplace=True)\n",
    "print(dfi.head())"
   ]
  },
  {
   "cell_type": "code",
   "execution_count": 8,
   "id": "ecbdb69f",
   "metadata": {},
   "outputs": [
    {
     "data": {
      "image/png": "[encoded data removed]",
      "text/plain": [
       "<Figure size 432x288 with 1 Axes>"
      ]
     },
     "metadata": {
      "needs_background": "light"
     },
     "output_type": "display_data"
    }
   ],
   "source": [
    "ax = dfi.plot()"
   ]
  },
  {
   "cell_type": "code",
   "execution_count": 9,
   "id": "d8bd3bc3",
   "metadata": {},
   "outputs": [
    {
     "data": {
      "text/plain": [
       "<matplotlib.lines.Line2D at 0x20e512f8cd0>"
      ]
     },
     "execution_count": 9,
     "metadata": {},
     "output_type": "execute_result"
    },
    {
     "data": {
      "image/png": "[encoded data removed]",
      "text/plain": [
       "<Figure size 432x288 with 1 Axes>"
      ]
     },
     "metadata": {
      "needs_background": "light"
     },
     "output_type": "display_data"
    }
   ],
   "source": [
    "# Same, but with a fancy line at zero\n",
    "ax = dfi.plot() #dfi.set_index('discount_rate').plot()\n",
    "ax.axhline(y=0, xmin=dfi.index.min(), xmax=dfi.index.max(), color='r', linestyle='--', lw=1)"
   ]
  },
  {
   "cell_type": "code",
   "execution_count": 10,
   "id": "746238dc",
   "metadata": {},
   "outputs": [
    {
     "data": {
      "text/plain": [
       "8.78283"
      ]
     },
     "execution_count": 10,
     "metadata": {},
     "output_type": "execute_result"
    }
   ],
   "source": [
    "# Calculate IRR\n",
    "irr = round(npf.irr(cash_flows)*100, 5)\n",
    "irr"
   ]
  },
  {
   "cell_type": "code",
   "execution_count": 11,
   "id": "909546fb",
   "metadata": {},
   "outputs": [
    {
     "name": "stdout",
     "output_type": "stream",
     "text": [
      "Based on the IRR formula, IRR is 8.78283 percent\n"
     ]
    },
    {
     "data": {
      "image/png": "[encoded data removed]",
      "text/plain": [
       "<Figure size 432x288 with 1 Axes>"
      ]
     },
     "metadata": {
      "needs_background": "light"
     },
     "output_type": "display_data"
    }
   ],
   "source": [
    "ax = dfi.plot()\n",
    "ax.axhline(y=0, xmin=dfi.index.min(), xmax=dfi.index.max(), color='r', linestyle='--', lw=1)\n",
    "ax.axvline(x=irr, ymin=dfi['NPV'].min(),           ymax=dfi['NPV'].max(),           color='g', linestyle='-.', lw=1)\n",
    "print(\"Based on the IRR formula, IRR is {} percent\".format(irr))"
   ]
  },
  {
   "cell_type": "code",
   "execution_count": 12,
   "id": "c224df56",
   "metadata": {},
   "outputs": [
    {
     "name": "stdout",
     "output_type": "stream",
     "text": [
      "                     NPV\n",
      "discount_rate           \n",
      "0             -20.000000\n",
      "1             -16.456509\n",
      "2             -13.303103\n",
      "3             -10.507575\n",
      "4              -8.040432\n",
      "                     NPV\n",
      "discount_rate           \n",
      "65            -34.396230\n",
      "66            -35.255422\n",
      "67            -36.107014\n",
      "68            -36.950914\n",
      "69            -37.787046\n"
     ]
    }
   ],
   "source": [
    "print(dfi.head())\n",
    "print(dfi.tail())"
   ]
  },
  {
   "cell_type": "code",
   "execution_count": 13,
   "id": "62a2b013",
   "metadata": {},
   "outputs": [
    {
     "name": "stdout",
     "output_type": "stream",
     "text": [
      "Based on the data frame, IRR is about 27 percent\n"
     ]
    }
   ],
   "source": [
    "print(\"Based on the data frame, IRR is about {} percent\".format(abs(dfi).idxmin()[0]))"
   ]
  }
 ],
 "metadata": {
  "kernelspec": {
   "display_name": "Python 3 (ipykernel)",
   "language": "python",
   "name": "python3"
  },
  "language_info": {
   "codemirror_mode": {
    "name": "ipython",
    "version": 3
   },
   "file_extension": ".py",
   "mimetype": "text/x-python",
   "name": "python",
   "nbconvert_exporter": "python",
   "pygments_lexer": "ipython3",
   "version": "3.8.13"
  }
 },
 "nbformat": 4,
 "nbformat_minor": 5
}
