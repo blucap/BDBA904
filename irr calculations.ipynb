{
 "cells": [
  {
   "cell_type": "code",
   "execution_count": 1,
   "id": "2af1a330",
   "metadata": {},
   "outputs": [],
   "source": [
    "import pandas as pd\n",
    "import numpy as np\n",
    "import numpy_financial as npf\n",
    "from datetime import date\n",
    "import matplotlib.pyplot as plt\n",
    "import matplotlib"
   ]
  },
  {
   "cell_type": "code",
   "execution_count": 2,
   "id": "83fc1fd6",
   "metadata": {},
   "outputs": [],
   "source": [
    "# Create a function for calculating NPV\n",
    "def Npv(r, cf):\n",
    "    return npf.npv(r*0.01, cf)"
   ]
  },
  {
   "cell_type": "code",
   "execution_count": 3,
   "id": "8d309451",
   "metadata": {},
   "outputs": [
    {
     "data": {
      "text/plain": [
       "[-1000, 73.75, 73.75, 73.75, 73.75, 1073.75]"
      ]
     },
     "execution_count": 3,
     "metadata": {},
     "output_type": "execute_result"
    }
   ],
   "source": [
    "cash_flows = [-1000, 73.75, 73.75, 73.75, 73.75, 1073.75]\n",
    "#cash_flows = [-145, 100, 100, 100, 100, -275]\n",
    "#cash_flows = [-110, 121]\n",
    "#cash_flows = [-120000, 30000, 60000, 50000, 40000, 180000]\n",
    "#cash_flows = [-500, 30,50,-10,20,-5]\n",
    "#cash_flows = [-500, 600,300,300,200,-1000]\n",
    "cash_flows"
   ]
  },
  {
   "cell_type": "code",
   "execution_count": 4,
   "id": "6a417bd1",
   "metadata": {},
   "outputs": [
    {
     "name": "stdout",
     "output_type": "stream",
     "text": [
      "NPV: $-99.508\n"
     ]
    }
   ],
   "source": [
    "print(\"NPV: ${}\".format(round(Npv(10, cash_flows),3)))"
   ]
  },
  {
   "cell_type": "code",
   "execution_count": 5,
   "id": "9e9c9759",
   "metadata": {},
   "outputs": [
    {
     "name": "stdout",
     "output_type": "stream",
     "text": [
      "                      NPV\n",
      "discount_rate            \n",
      "0              368.750000\n",
      "1              309.406242\n",
      "2              253.348449\n",
      "3              200.362189\n",
      "4              150.249004\n"
     ]
    }
   ],
   "source": [
    "# Create a data frame with a range of discount rates\n",
    "dfi = pd.DataFrame(data=list(range(0,70,1)) , columns=['discount_rate'])\n",
    "\n",
    "# Calcualte NPVs for all discount rates\n",
    "dfi['NPV'] = dfi.apply(lambda x: Npv(x['discount_rate'], cash_flows), axis=1)\n",
    "dfi.set_index('discount_rate', inplace=True)\n",
    "print(dfi.head())"
   ]
  },
  {
   "cell_type": "code",
   "execution_count": 6,
   "id": "746238dc",
   "metadata": {},
   "outputs": [
    {
     "data": {
      "text/plain": [
       "7.375"
      ]
     },
     "execution_count": 6,
     "metadata": {},
     "output_type": "execute_result"
    }
   ],
   "source": [
    "# Calculate IRR\n",
    "irr = round(npf.irr(cash_flows)*100, 5)\n",
    "irr"
   ]
  },
  {
   "cell_type": "code",
   "execution_count": 7,
   "id": "ecbdb69f",
   "metadata": {},
   "outputs": [
    {
     "name": "stdout",
     "output_type": "stream",
     "text": [
      "Based on the IRR formula, IRR is 7.375 percent\n"
     ]
    },
    {
     "data": {
      "image/png": "[encoded data removed]",
      "text/plain": [
       "<Figure size 432x288 with 1 Axes>"
      ]
     },
     "metadata": {
      "needs_background": "light"
     },
     "output_type": "display_data"
    }
   ],
   "source": [
    "ax = dfi.plot()\n",
    "ax.axhline(y=0,   xmin=dfi.index.min(),  xmax=dfi.index.max(), color='r', linestyle='--', lw=1)\n",
    "ax.axvline(x=irr, ymin=dfi['NPV'].min(), ymax=dfi['NPV'].max(),color='g', linestyle='-.', lw=1)\n",
    "print(\"Based on the IRR formula, IRR is {} percent\".format(irr))"
   ]
  },
  {
   "cell_type": "code",
   "execution_count": 8,
   "id": "c224df56",
   "metadata": {},
   "outputs": [
    {
     "name": "stdout",
     "output_type": "stream",
     "text": [
      "                      NPV\n",
      "discount_rate            \n",
      "0              368.750000\n",
      "1              309.406242\n",
      "2              253.348449\n",
      "3              200.362189\n",
      "4              150.249004\n",
      "                      NPV\n",
      "discount_rate            \n",
      "65            -814.048501\n",
      "66            -817.788516\n",
      "67            -821.412649\n",
      "68            -824.925375\n",
      "69            -828.330964\n"
     ]
    }
   ],
   "source": [
    "print(dfi.head())\n",
    "print(dfi.tail())"
   ]
  },
  {
   "cell_type": "code",
   "execution_count": 9,
   "id": "62a2b013",
   "metadata": {},
   "outputs": [
    {
     "name": "stdout",
     "output_type": "stream",
     "text": [
      "Based on the data frame, IRR is about 7 percent\n"
     ]
    }
   ],
   "source": [
    "print(\"Based on the data frame, IRR is about {} percent\".format(abs(dfi).idxmin()[0]))"
   ]
  }
 ],
 "metadata": {
  "kernelspec": {
   "display_name": "Python 3 (ipykernel)",
   "language": "python",
   "name": "python3"
  },
  "language_info": {
   "codemirror_mode": {
    "name": "ipython",
    "version": 3
   },
   "file_extension": ".py",
   "mimetype": "text/x-python",
   "name": "python",
   "nbconvert_exporter": "python",
   "pygments_lexer": "ipython3",
   "version": "3.8.13"
  }
 },
 "nbformat": 4,
 "nbformat_minor": 5
}
