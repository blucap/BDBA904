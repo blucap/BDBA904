{
 "cells": [
  {
   "cell_type": "code",
   "execution_count": null,
   "id": "2af1a330",
   "metadata": {},
   "outputs": [],
   "source": [
    "import pandas as pd\n",
    "import numpy as np\n",
    "import numpy_financial as npf\n",
    "from datetime import date\n",
    "import matplotlib.pyplot as plt\n",
    "import matplotlib"
   ]
  },
  {
   "cell_type": "code",
   "execution_count": null,
   "id": "487073a5",
   "metadata": {},
   "outputs": [],
   "source": [
    "# Create a data frame with a range of discount rates\n",
    "dfi = pd.DataFrame(data=list(range(0,45,1)) , columns=['discount_rate'])\n",
    "\n",
    "print(dfi.head())\n",
    "print(dfi.tail())"
   ]
  },
  {
   "cell_type": "code",
   "execution_count": null,
   "id": "83fc1fd6",
   "metadata": {},
   "outputs": [],
   "source": [
    "# Create a function for calculating NPV\n",
    "def Npv(r):\n",
    "    return npf.npv(r*0.01, cash_flows)"
   ]
  },
  {
   "cell_type": "code",
   "execution_count": null,
   "id": "6a417bd1",
   "metadata": {},
   "outputs": [],
   "source": [
    "cash_flows = [-1000, 73.75, 73.75, 73.75, 73.75, 1073.75]\n",
    "#cash_flows = [-145, 100, 100, 100, 100, -275]\n",
    "#cash_flows = [110, -121]\n",
    "#cash_flows = [-120000, 30000, 60000, 50000, 40000, 180000]\n",
    "#cash_flows = [-500, 30,50,-10,20,-5]\n",
    "\n",
    "Npv(10)\n",
    "print(\"NPV: ${}\".format(round(Npv(7.375),2)))"
   ]
  },
  {
   "cell_type": "code",
   "execution_count": null,
   "id": "9e9c9759",
   "metadata": {},
   "outputs": [],
   "source": [
    "dfi['NPV'] = dfi['discount_rate'].apply(Npv)\n",
    "dfi.set_index('discount_rate', inplace=True)\n",
    "print(dfi.head())"
   ]
  },
  {
   "cell_type": "code",
   "execution_count": null,
   "id": "ecbdb69f",
   "metadata": {},
   "outputs": [],
   "source": [
    "ax = dfi.plot()"
   ]
  },
  {
   "cell_type": "code",
   "execution_count": null,
   "id": "2a8b6a8d",
   "metadata": {},
   "outputs": [],
   "source": [
    "dfi.index.min()"
   ]
  },
  {
   "cell_type": "code",
   "execution_count": null,
   "id": "d8bd3bc3",
   "metadata": {},
   "outputs": [],
   "source": [
    "# Same, but with a fancy line at zero\n",
    "ax = dfi.plot() #dfi.set_index('discount_rate').plot()\n",
    "ax.axhline(y=0, xmin=dfi.index.min(), xmax=dfi.index.max(), color='r', linestyle='--', lw=1)"
   ]
  },
  {
   "cell_type": "code",
   "execution_count": null,
   "id": "746238dc",
   "metadata": {},
   "outputs": [],
   "source": [
    "# Calculate IRR\n",
    "irr = round(npf.irr(cash_flows)*100, 5)\n",
    "irr"
   ]
  },
  {
   "cell_type": "code",
   "execution_count": null,
   "id": "909546fb",
   "metadata": {},
   "outputs": [],
   "source": [
    "ax = dfi.plot()\n",
    "ax.axhline(y=0, xmin=dfi.index.min(), xmax=dfi.index.max(), color='r', linestyle='--', lw=1)\n",
    "ax.axvline(x=irr, ymin=dfi['NPV'].min(),           ymax=dfi['NPV'].max(),           color='g', linestyle='-.', lw=1)\n",
    "print(\"Based on the IRR formula, IRR is {} percent\".format(irr))"
   ]
  },
  {
   "cell_type": "code",
   "execution_count": null,
   "id": "c224df56",
   "metadata": {},
   "outputs": [],
   "source": [
    "print(dfi.head())\n",
    "print(dfi.tail())"
   ]
  },
  {
   "cell_type": "code",
   "execution_count": null,
   "id": "62a2b013",
   "metadata": {},
   "outputs": [],
   "source": [
    "print(\"Based on the data frame, IRR is about {} percent\".format(abs(dfi).idxmin()[0]))"
   ]
  }
 ],
 "metadata": {
  "kernelspec": {
   "display_name": "Python 3 (ipykernel)",
   "language": "python",
   "name": "python3"
  },
  "language_info": {
   "codemirror_mode": {
    "name": "ipython",
    "version": 3
   },
   "file_extension": ".py",
   "mimetype": "text/x-python",
   "name": "python",
   "nbconvert_exporter": "python",
   "pygments_lexer": "ipython3",
   "version": "3.8.13"
  }
 },
 "nbformat": 4,
 "nbformat_minor": 5
}
