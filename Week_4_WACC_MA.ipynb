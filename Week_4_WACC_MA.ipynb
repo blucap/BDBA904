{
 "cells": [
  {
   "cell_type": "markdown",
   "id": "87273b69",
   "metadata": {},
   "source": [
    "---\n",
    "\n",
    "### WACC and  M&A ###\n",
    "\n",
    "Trent Whitegoods Limited (Trent) is a leading whitegoods retailer operating stores (bricks and  mortar stores) across Australia. \n",
    "\n",
    "You have been provided with the following information on Trent’s  current capital structure:\n",
    "\n",
    "- beta of 0.55\n",
    "\n",
    "- market risk premium of 6.0%\n",
    "\n",
    "- risk-free rate of 4.5%\n",
    "\n",
    "- shareholder’s ordinary equity of $\\$$175 million (book value)\n",
    "\n",
    "- number of ordinary shares on issue – 102,450,000\n",
    "\n",
    "- ordinary shares trading (yesterday) – close $\\$$2.40; high $\\$$2.42; low $\\$$2.40\n",
    "\n",
    "- bank borrowing of $\\$$15 million, being an interest-only, five-year term bank loan at a fixed interest rate of 7\\% per annum until maturity\n",
    "\n",
    "- company tax rate of 30\\%"
   ]
  },
  {
   "cell_type": "markdown",
   "id": "4c1499bc",
   "metadata": {},
   "source": [
    "First set up the functions, ignoring Benninga and Sarig"
   ]
  },
  {
   "cell_type": "code",
   "execution_count": 1,
   "id": "de28619d",
   "metadata": {},
   "outputs": [],
   "source": [
    "def wacc(ke, kd, tc, E, D):\n",
    "    V = E + D\n",
    "    k = kd*(1-tc)*D/V + ke*E/V\n",
    "    return k"
   ]
  },
  {
   "cell_type": "code",
   "execution_count": 2,
   "id": "2b783e2a",
   "metadata": {},
   "outputs": [],
   "source": [
    "def coc(rf, b, rp):\n",
    "    return rf + b * rp\n",
    "\n",
    "def cod(kd, tc):\n",
    "    return kd*(1-tc)"
   ]
  },
  {
   "cell_type": "markdown",
   "id": "565d0501",
   "metadata": {},
   "source": [
    "Main parameters"
   ]
  },
  {
   "cell_type": "code",
   "execution_count": 3,
   "id": "47d132c5",
   "metadata": {},
   "outputs": [
    {
     "name": "stdout",
     "output_type": "stream",
     "text": [
      "MV of firm 245880.0\n"
     ]
    }
   ],
   "source": [
    "rf = 4.5\n",
    "rp = 6.0\n",
    "b = 0.55\n",
    "tc = 0.3\n",
    "MV = 102450*2.40\n",
    "D  = 15000\n",
    "print(f\"MV of firm {MV}\")"
   ]
  },
  {
   "cell_type": "markdown",
   "id": "0738bfb4",
   "metadata": {},
   "source": [
    "Cost of Equity:"
   ]
  },
  {
   "cell_type": "code",
   "execution_count": 4,
   "id": "8b295e43",
   "metadata": {},
   "outputs": [
    {
     "name": "stdout",
     "output_type": "stream",
     "text": [
      "Cost of Equity: 7.800\n"
     ]
    }
   ],
   "source": [
    "ke = coc(rf, b, rp)\n",
    "print(f\"Cost of Equity: {ke:.3f}\")"
   ]
  },
  {
   "cell_type": "markdown",
   "id": "39e394b0",
   "metadata": {},
   "source": [
    "Cost of Debt:"
   ]
  },
  {
   "cell_type": "code",
   "execution_count": 5,
   "id": "f2b1f1a6",
   "metadata": {},
   "outputs": [
    {
     "name": "stdout",
     "output_type": "stream",
     "text": [
      "Cost of Debt: 4.900\n"
     ]
    }
   ],
   "source": [
    "kd = cod(7,tc)\n",
    "print(f\"Cost of Debt: {kd:.3f}\")"
   ]
  },
  {
   "cell_type": "markdown",
   "id": "54985ba6",
   "metadata": {},
   "source": [
    "WACC"
   ]
  },
  {
   "cell_type": "code",
   "execution_count": 6,
   "id": "da9dcc47",
   "metadata": {},
   "outputs": [
    {
     "name": "stdout",
     "output_type": "stream",
     "text": [
      "WACC: 7.633\n"
     ]
    }
   ],
   "source": [
    "k =  wacc(ke, 7, 0.3, MV, D)\n",
    "print(f\"WACC: {k:.3f}\")"
   ]
  },
  {
   "cell_type": "markdown",
   "id": "5ab3c0ee",
   "metadata": {},
   "source": [
    "---\n",
    "\n",
    "Trent is considering an acquisition of an online retailer of white goods. The acquisition  will cost $\\$75$ million, for which Trent is considering obtaining a 10-year loan with interest  fixed at 7.5\\% per annum.\n",
    "The online retailer is not a listed company.\n",
    "\n",
    "Should the acquisition proceed, Trent will become an operator of both bricks and mortar  stores and an online store. \n",
    "\n",
    "There is a listed entity that operates both bricks and mortar  stores and an online store. Its beta is 0.70 and it has a debt to equity ratio of 20:80.\n"
   ]
  },
  {
   "cell_type": "markdown",
   "id": "20b816bb",
   "metadata": {},
   "source": [
    "**Post-acquisition WACC for Trent**\n",
    "\n",
    "First calculate the unlevered beta of the comparable firm: de-gearing.\n",
    "\n",
    "$\\beta_U = \\frac{\\beta_G}{1+(1-T_c)\\frac{D}{E}}$\n",
    "\n",
    "Then re-gear:\n",
    "\n",
    "$\\beta_G = \\beta_U [1+(1-tc)\\frac{D}{E}]$"
   ]
  },
  {
   "cell_type": "code",
   "execution_count": 13,
   "id": "f3d685d2",
   "metadata": {},
   "outputs": [],
   "source": [
    "def beta_u(b, tc, E, D):\n",
    "    return b / (1 + (1 - tc)*D/E)"
   ]
  },
  {
   "cell_type": "code",
   "execution_count": 14,
   "id": "dc68e4ab",
   "metadata": {},
   "outputs": [
    {
     "name": "stdout",
     "output_type": "stream",
     "text": [
      "Unlevered beta: 0.596\n"
     ]
    }
   ],
   "source": [
    "b_u = beta_u(0.7, tc, 80, 20)\n",
    "print(f\"Unlevered beta: {b_u:.3f}\")"
   ]
  },
  {
   "cell_type": "markdown",
   "id": "cbec4a2a",
   "metadata": {},
   "source": [
    "Then calculate the levered beta using the unlevered beta applied to the firm's capital structure:"
   ]
  },
  {
   "cell_type": "code",
   "execution_count": 15,
   "id": "5f093a9d",
   "metadata": {},
   "outputs": [],
   "source": [
    "def beta_g(b, tc, E, D):\n",
    "    return b*(1 + (1 - tc)*D/E)"
   ]
  },
  {
   "cell_type": "code",
   "execution_count": 16,
   "id": "b9dbc770",
   "metadata": {},
   "outputs": [
    {
     "name": "stdout",
     "output_type": "stream",
     "text": [
      "re-levered beta: 0.748\n"
     ]
    }
   ],
   "source": [
    "b_l = beta_g(b_u, tc, MV, 15000+75000)\n",
    "print(f\"re-levered beta: {b_l:.3f}\")"
   ]
  },
  {
   "cell_type": "markdown",
   "id": "e3db3885",
   "metadata": {},
   "source": [
    "Calculate the resulting cost of equity:"
   ]
  },
  {
   "cell_type": "code",
   "execution_count": 17,
   "id": "3477a73a",
   "metadata": {},
   "outputs": [
    {
     "name": "stdout",
     "output_type": "stream",
     "text": [
      "New cost of Equity: 8.990\n"
     ]
    }
   ],
   "source": [
    "ke2 = coc(rf, b_l, rp)\n",
    "print(f\"New cost of Equity: {ke2:.3f}\")"
   ]
  },
  {
   "cell_type": "code",
   "execution_count": 18,
   "id": "8a54dca8",
   "metadata": {},
   "outputs": [
    {
     "name": "stdout",
     "output_type": "stream",
     "text": [
      "New WACC: 7.972\n"
     ]
    }
   ],
   "source": [
    "def wacc_2(ke2, kd1, kd2, tc, E, D1, D2):\n",
    "    V = E + D1 + D2\n",
    "    k = kd1*D1/V + kd2*D2/V + ke2*E/V\n",
    "    return k\n",
    "\n",
    "k2 = wacc_2(ke2, cod(7,tc), cod(7.5,tc), tc, MV, 15000, 75000)\n",
    "print(f\"New WACC: {k2:.3f}\")"
   ]
  }
 ],
 "metadata": {
  "kernelspec": {
   "display_name": "Python 3 (ipykernel)",
   "language": "python",
   "name": "python3"
  },
  "language_info": {
   "codemirror_mode": {
    "name": "ipython",
    "version": 3
   },
   "file_extension": ".py",
   "mimetype": "text/x-python",
   "name": "python",
   "nbconvert_exporter": "python",
   "pygments_lexer": "ipython3",
   "version": "3.8.13"
  }
 },
 "nbformat": 4,
 "nbformat_minor": 5
}
