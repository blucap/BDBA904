{
 "cells": [
  {
   "cell_type": "code",
   "execution_count": 1,
   "id": "b60079ec",
   "metadata": {},
   "outputs": [],
   "source": [
    "import pandas as pd\n",
    "import numpy as np\n",
    "import os \n",
    "from datetime import datetime, timedelta\n",
    "import yfinance as yf  # This gets us prices from Yahoo finance. See https://pypi.org/project/yfinance/\n",
    "from pandas.tseries.offsets import MonthEnd\n",
    "import statsmodels.formula.api as smf\n",
    "if os.name=='nt':\n",
    "    import xlwings as xw"
   ]
  },
  {
   "cell_type": "markdown",
   "id": "6b7444be",
   "metadata": {},
   "source": [
    "---\n",
    "\n",
    "### Fama French Three factor model ###\n",
    "\n",
    "---\n"
   ]
  },
  {
   "cell_type": "markdown",
   "id": "c72a440b",
   "metadata": {},
   "source": [
    "**Get data from Yahoo finance**"
   ]
  },
  {
   "cell_type": "code",
   "execution_count": 2,
   "id": "56603b61",
   "metadata": {},
   "outputs": [
    {
     "name": "stdout",
     "output_type": "stream",
     "text": [
      "[*********************100%***********************]  1 of 1 completed\n"
     ]
    },
    {
     "data": {
      "text/plain": [
       "<AxesSubplot:xlabel='Date'>"
      ]
     },
     "execution_count": 2,
     "metadata": {},
     "output_type": "execute_result"
    },
    {
     "data": {
      "image/png": "[encoded data removed]",
      "text/plain": [
       "<Figure size 432x288 with 1 Axes>"
      ]
     },
     "metadata": {
      "needs_background": "light"
     },
     "output_type": "display_data"
    }
   ],
   "source": [
    "data = yf.download(tickers=\"GOOG\", start='2012-01-01', end='2022-05-01', interval=\"1mo\")['Adj Close'].dropna()\n",
    "data.plot()"
   ]
  },
  {
   "cell_type": "code",
   "execution_count": 3,
   "id": "e2ea86be",
   "metadata": {},
   "outputs": [
    {
     "data": {
      "text/plain": [
       "Date\n",
       "2021-12-01    2893.590088\n",
       "2022-01-01    2713.969971\n",
       "2022-02-01    2697.820068\n",
       "2022-03-01    2792.989990\n",
       "2022-04-01    2299.330078\n",
       "Name: Adj Close, dtype: float64"
      ]
     },
     "execution_count": 3,
     "metadata": {},
     "output_type": "execute_result"
    }
   ],
   "source": [
    "data.tail()"
   ]
  },
  {
   "cell_type": "markdown",
   "id": "bfc84c7c",
   "metadata": {},
   "source": [
    "**Convert the closing data into returns**"
   ]
  },
  {
   "cell_type": "code",
   "execution_count": 4,
   "id": "5a2cb2cd",
   "metadata": {},
   "outputs": [
    {
     "data": {
      "text/plain": [
       "<AxesSubplot:xlabel='Date'>"
      ]
     },
     "execution_count": 4,
     "metadata": {},
     "output_type": "execute_result"
    },
    {
     "data": {
      "image/png": "[encoded data removed]",
      "text/plain": [
       "<Figure size 432x288 with 1 Axes>"
      ]
     },
     "metadata": {
      "needs_background": "light"
     },
     "output_type": "display_data"
    }
   ],
   "source": [
    "dfr = np.log(data).diff().dropna()\n",
    "dfr.name=\"ret_i\"\n",
    "dfr.add(1).cumprod().sub(1).plot()\n"
   ]
  },
  {
   "cell_type": "code",
   "execution_count": 5,
   "id": "590b2f4e",
   "metadata": {},
   "outputs": [
    {
     "data": {
      "text/plain": [
       "Date\n",
       "2021-12-01    0.015516\n",
       "2022-01-01   -0.064085\n",
       "2022-02-01   -0.005968\n",
       "2022-03-01    0.034669\n",
       "2022-04-01   -0.194495\n",
       "Name: ret_i, dtype: float64"
      ]
     },
     "execution_count": 5,
     "metadata": {},
     "output_type": "execute_result"
    }
   ],
   "source": [
    "dfr.tail()"
   ]
  },
  {
   "cell_type": "markdown",
   "id": "15c4c35e",
   "metadata": {},
   "source": [
    "---\n",
    "\n",
    "**Get the factor data from the website of Ken French**"
   ]
  },
  {
   "cell_type": "code",
   "execution_count": 6,
   "id": "f42179f3",
   "metadata": {},
   "outputs": [
    {
     "data": {
      "text/html": [
       "<div>\n",
       "<style scoped>\n",
       "    .dataframe tbody tr th:only-of-type {\n",
       "        vertical-align: middle;\n",
       "    }\n",
       "\n",
       "    .dataframe tbody tr th {\n",
       "        vertical-align: top;\n",
       "    }\n",
       "\n",
       "    .dataframe thead th {\n",
       "        text-align: right;\n",
       "    }\n",
       "</style>\n",
       "<table border=\"1\" class=\"dataframe\">\n",
       "  <thead>\n",
       "    <tr style=\"text-align: right;\">\n",
       "      <th></th>\n",
       "      <th>mkt_rf</th>\n",
       "      <th>smb</th>\n",
       "      <th>hml</th>\n",
       "      <th>rf</th>\n",
       "    </tr>\n",
       "    <tr>\n",
       "      <th>date</th>\n",
       "      <th></th>\n",
       "      <th></th>\n",
       "      <th></th>\n",
       "      <th></th>\n",
       "    </tr>\n",
       "  </thead>\n",
       "  <tbody>\n",
       "    <tr>\n",
       "      <th>2021-12-01</th>\n",
       "      <td>3.10</td>\n",
       "      <td>-1.60</td>\n",
       "      <td>3.22</td>\n",
       "      <td>0.01</td>\n",
       "    </tr>\n",
       "    <tr>\n",
       "      <th>2022-01-01</th>\n",
       "      <td>-6.25</td>\n",
       "      <td>-5.93</td>\n",
       "      <td>12.74</td>\n",
       "      <td>0.00</td>\n",
       "    </tr>\n",
       "    <tr>\n",
       "      <th>2022-02-01</th>\n",
       "      <td>-2.29</td>\n",
       "      <td>2.18</td>\n",
       "      <td>3.09</td>\n",
       "      <td>0.00</td>\n",
       "    </tr>\n",
       "    <tr>\n",
       "      <th>2022-03-01</th>\n",
       "      <td>3.06</td>\n",
       "      <td>-1.61</td>\n",
       "      <td>-1.82</td>\n",
       "      <td>0.00</td>\n",
       "    </tr>\n",
       "    <tr>\n",
       "      <th>2022-04-01</th>\n",
       "      <td>-9.44</td>\n",
       "      <td>-1.40</td>\n",
       "      <td>6.16</td>\n",
       "      <td>0.00</td>\n",
       "    </tr>\n",
       "  </tbody>\n",
       "</table>\n",
       "</div>"
      ],
      "text/plain": [
       "            mkt_rf   smb    hml    rf\n",
       "date                                 \n",
       "2021-12-01    3.10 -1.60   3.22  0.01\n",
       "2022-01-01   -6.25 -5.93  12.74  0.00\n",
       "2022-02-01   -2.29  2.18   3.09  0.00\n",
       "2022-03-01    3.06 -1.61  -1.82  0.00\n",
       "2022-04-01   -9.44 -1.40   6.16  0.00"
      ]
     },
     "execution_count": 6,
     "metadata": {},
     "output_type": "execute_result"
    }
   ],
   "source": [
    "url = \"https://mba.tuck.dartmouth.edu/pages/faculty/ken.french/ftp/F-F_Research_Data_Factors_CSV.zip\"\n",
    "df = pd.read_csv(url, skiprows =[0,1,2], on_bad_lines ='skip', nrows=1150, compression='zip').rename(columns = {'Unnamed: 0':'date', 'Mkt-RF': 'mkt_rf' }).set_index(\"date\")\n",
    "df.index = pd.to_datetime(df.index, format ='%Y%m')\n",
    "df.columns = df.columns.str.lower()\n",
    "df.tail()"
   ]
  },
  {
   "cell_type": "markdown",
   "id": "3060160c",
   "metadata": {},
   "source": [
    "**Turn these numbers into decimals**"
   ]
  },
  {
   "cell_type": "code",
   "execution_count": 7,
   "id": "7fda2857",
   "metadata": {},
   "outputs": [],
   "source": [
    "dff = df/100"
   ]
  },
  {
   "cell_type": "code",
   "execution_count": 8,
   "id": "ec2dc621",
   "metadata": {},
   "outputs": [
    {
     "data": {
      "text/html": [
       "<div>\n",
       "<style scoped>\n",
       "    .dataframe tbody tr th:only-of-type {\n",
       "        vertical-align: middle;\n",
       "    }\n",
       "\n",
       "    .dataframe tbody tr th {\n",
       "        vertical-align: top;\n",
       "    }\n",
       "\n",
       "    .dataframe thead th {\n",
       "        text-align: right;\n",
       "    }\n",
       "</style>\n",
       "<table border=\"1\" class=\"dataframe\">\n",
       "  <thead>\n",
       "    <tr style=\"text-align: right;\">\n",
       "      <th></th>\n",
       "      <th>mkt_rf</th>\n",
       "      <th>smb</th>\n",
       "      <th>hml</th>\n",
       "      <th>rf</th>\n",
       "    </tr>\n",
       "    <tr>\n",
       "      <th>date</th>\n",
       "      <th></th>\n",
       "      <th></th>\n",
       "      <th></th>\n",
       "      <th></th>\n",
       "    </tr>\n",
       "  </thead>\n",
       "  <tbody>\n",
       "    <tr>\n",
       "      <th>2021-12-01</th>\n",
       "      <td>0.0310</td>\n",
       "      <td>-0.0160</td>\n",
       "      <td>0.0322</td>\n",
       "      <td>0.0001</td>\n",
       "    </tr>\n",
       "    <tr>\n",
       "      <th>2022-01-01</th>\n",
       "      <td>-0.0625</td>\n",
       "      <td>-0.0593</td>\n",
       "      <td>0.1274</td>\n",
       "      <td>0.0000</td>\n",
       "    </tr>\n",
       "    <tr>\n",
       "      <th>2022-02-01</th>\n",
       "      <td>-0.0229</td>\n",
       "      <td>0.0218</td>\n",
       "      <td>0.0309</td>\n",
       "      <td>0.0000</td>\n",
       "    </tr>\n",
       "    <tr>\n",
       "      <th>2022-03-01</th>\n",
       "      <td>0.0306</td>\n",
       "      <td>-0.0161</td>\n",
       "      <td>-0.0182</td>\n",
       "      <td>0.0000</td>\n",
       "    </tr>\n",
       "    <tr>\n",
       "      <th>2022-04-01</th>\n",
       "      <td>-0.0944</td>\n",
       "      <td>-0.0140</td>\n",
       "      <td>0.0616</td>\n",
       "      <td>0.0000</td>\n",
       "    </tr>\n",
       "  </tbody>\n",
       "</table>\n",
       "</div>"
      ],
      "text/plain": [
       "            mkt_rf     smb     hml      rf\n",
       "date                                      \n",
       "2021-12-01  0.0310 -0.0160  0.0322  0.0001\n",
       "2022-01-01 -0.0625 -0.0593  0.1274  0.0000\n",
       "2022-02-01 -0.0229  0.0218  0.0309  0.0000\n",
       "2022-03-01  0.0306 -0.0161 -0.0182  0.0000\n",
       "2022-04-01 -0.0944 -0.0140  0.0616  0.0000"
      ]
     },
     "execution_count": 8,
     "metadata": {},
     "output_type": "execute_result"
    }
   ],
   "source": [
    "dff.tail()"
   ]
  },
  {
   "cell_type": "markdown",
   "id": "a8b30134",
   "metadata": {},
   "source": [
    "**Join returns with FF data**"
   ]
  },
  {
   "cell_type": "code",
   "execution_count": 9,
   "id": "bad08b78",
   "metadata": {},
   "outputs": [],
   "source": [
    "dff = dff.join(dfr).dropna()"
   ]
  },
  {
   "cell_type": "code",
   "execution_count": 10,
   "id": "89b4c982",
   "metadata": {},
   "outputs": [
    {
     "data": {
      "text/html": [
       "<div>\n",
       "<style scoped>\n",
       "    .dataframe tbody tr th:only-of-type {\n",
       "        vertical-align: middle;\n",
       "    }\n",
       "\n",
       "    .dataframe tbody tr th {\n",
       "        vertical-align: top;\n",
       "    }\n",
       "\n",
       "    .dataframe thead th {\n",
       "        text-align: right;\n",
       "    }\n",
       "</style>\n",
       "<table border=\"1\" class=\"dataframe\">\n",
       "  <thead>\n",
       "    <tr style=\"text-align: right;\">\n",
       "      <th></th>\n",
       "      <th>mkt_rf</th>\n",
       "      <th>smb</th>\n",
       "      <th>hml</th>\n",
       "      <th>rf</th>\n",
       "      <th>ret_i</th>\n",
       "    </tr>\n",
       "    <tr>\n",
       "      <th>date</th>\n",
       "      <th></th>\n",
       "      <th></th>\n",
       "      <th></th>\n",
       "      <th></th>\n",
       "      <th></th>\n",
       "    </tr>\n",
       "  </thead>\n",
       "  <tbody>\n",
       "    <tr>\n",
       "      <th>2021-12-01</th>\n",
       "      <td>0.0310</td>\n",
       "      <td>-0.0160</td>\n",
       "      <td>0.0322</td>\n",
       "      <td>0.0001</td>\n",
       "      <td>0.015516</td>\n",
       "    </tr>\n",
       "    <tr>\n",
       "      <th>2022-01-01</th>\n",
       "      <td>-0.0625</td>\n",
       "      <td>-0.0593</td>\n",
       "      <td>0.1274</td>\n",
       "      <td>0.0000</td>\n",
       "      <td>-0.064085</td>\n",
       "    </tr>\n",
       "    <tr>\n",
       "      <th>2022-02-01</th>\n",
       "      <td>-0.0229</td>\n",
       "      <td>0.0218</td>\n",
       "      <td>0.0309</td>\n",
       "      <td>0.0000</td>\n",
       "      <td>-0.005968</td>\n",
       "    </tr>\n",
       "    <tr>\n",
       "      <th>2022-03-01</th>\n",
       "      <td>0.0306</td>\n",
       "      <td>-0.0161</td>\n",
       "      <td>-0.0182</td>\n",
       "      <td>0.0000</td>\n",
       "      <td>0.034669</td>\n",
       "    </tr>\n",
       "    <tr>\n",
       "      <th>2022-04-01</th>\n",
       "      <td>-0.0944</td>\n",
       "      <td>-0.0140</td>\n",
       "      <td>0.0616</td>\n",
       "      <td>0.0000</td>\n",
       "      <td>-0.194495</td>\n",
       "    </tr>\n",
       "  </tbody>\n",
       "</table>\n",
       "</div>"
      ],
      "text/plain": [
       "            mkt_rf     smb     hml      rf     ret_i\n",
       "date                                                \n",
       "2021-12-01  0.0310 -0.0160  0.0322  0.0001  0.015516\n",
       "2022-01-01 -0.0625 -0.0593  0.1274  0.0000 -0.064085\n",
       "2022-02-01 -0.0229  0.0218  0.0309  0.0000 -0.005968\n",
       "2022-03-01  0.0306 -0.0161 -0.0182  0.0000  0.034669\n",
       "2022-04-01 -0.0944 -0.0140  0.0616  0.0000 -0.194495"
      ]
     },
     "execution_count": 10,
     "metadata": {},
     "output_type": "execute_result"
    }
   ],
   "source": [
    "dff.tail()"
   ]
  },
  {
   "cell_type": "markdown",
   "id": "7665cb8b",
   "metadata": {},
   "source": [
    "**Determine excess returns**"
   ]
  },
  {
   "cell_type": "code",
   "execution_count": 11,
   "id": "40568740",
   "metadata": {},
   "outputs": [
    {
     "data": {
      "text/html": [
       "<div>\n",
       "<style scoped>\n",
       "    .dataframe tbody tr th:only-of-type {\n",
       "        vertical-align: middle;\n",
       "    }\n",
       "\n",
       "    .dataframe tbody tr th {\n",
       "        vertical-align: top;\n",
       "    }\n",
       "\n",
       "    .dataframe thead th {\n",
       "        text-align: right;\n",
       "    }\n",
       "</style>\n",
       "<table border=\"1\" class=\"dataframe\">\n",
       "  <thead>\n",
       "    <tr style=\"text-align: right;\">\n",
       "      <th></th>\n",
       "      <th>mkt_rf</th>\n",
       "      <th>smb</th>\n",
       "      <th>hml</th>\n",
       "      <th>rf</th>\n",
       "      <th>ret_i</th>\n",
       "      <th>xs_ret</th>\n",
       "    </tr>\n",
       "    <tr>\n",
       "      <th>date</th>\n",
       "      <th></th>\n",
       "      <th></th>\n",
       "      <th></th>\n",
       "      <th></th>\n",
       "      <th></th>\n",
       "      <th></th>\n",
       "    </tr>\n",
       "  </thead>\n",
       "  <tbody>\n",
       "    <tr>\n",
       "      <th>2021-12-01</th>\n",
       "      <td>0.0310</td>\n",
       "      <td>-0.0160</td>\n",
       "      <td>0.0322</td>\n",
       "      <td>0.0001</td>\n",
       "      <td>0.015516</td>\n",
       "      <td>0.015416</td>\n",
       "    </tr>\n",
       "    <tr>\n",
       "      <th>2022-01-01</th>\n",
       "      <td>-0.0625</td>\n",
       "      <td>-0.0593</td>\n",
       "      <td>0.1274</td>\n",
       "      <td>0.0000</td>\n",
       "      <td>-0.064085</td>\n",
       "      <td>-0.064085</td>\n",
       "    </tr>\n",
       "    <tr>\n",
       "      <th>2022-02-01</th>\n",
       "      <td>-0.0229</td>\n",
       "      <td>0.0218</td>\n",
       "      <td>0.0309</td>\n",
       "      <td>0.0000</td>\n",
       "      <td>-0.005968</td>\n",
       "      <td>-0.005968</td>\n",
       "    </tr>\n",
       "    <tr>\n",
       "      <th>2022-03-01</th>\n",
       "      <td>0.0306</td>\n",
       "      <td>-0.0161</td>\n",
       "      <td>-0.0182</td>\n",
       "      <td>0.0000</td>\n",
       "      <td>0.034669</td>\n",
       "      <td>0.034669</td>\n",
       "    </tr>\n",
       "    <tr>\n",
       "      <th>2022-04-01</th>\n",
       "      <td>-0.0944</td>\n",
       "      <td>-0.0140</td>\n",
       "      <td>0.0616</td>\n",
       "      <td>0.0000</td>\n",
       "      <td>-0.194495</td>\n",
       "      <td>-0.194495</td>\n",
       "    </tr>\n",
       "  </tbody>\n",
       "</table>\n",
       "</div>"
      ],
      "text/plain": [
       "            mkt_rf     smb     hml      rf     ret_i    xs_ret\n",
       "date                                                          \n",
       "2021-12-01  0.0310 -0.0160  0.0322  0.0001  0.015516  0.015416\n",
       "2022-01-01 -0.0625 -0.0593  0.1274  0.0000 -0.064085 -0.064085\n",
       "2022-02-01 -0.0229  0.0218  0.0309  0.0000 -0.005968 -0.005968\n",
       "2022-03-01  0.0306 -0.0161 -0.0182  0.0000  0.034669  0.034669\n",
       "2022-04-01 -0.0944 -0.0140  0.0616  0.0000 -0.194495 -0.194495"
      ]
     },
     "execution_count": 11,
     "metadata": {},
     "output_type": "execute_result"
    }
   ],
   "source": [
    "dff['xs_ret'] = dff['ret_i'].sub(dff['rf'])\n",
    "dff.tail()"
   ]
  },
  {
   "cell_type": "markdown",
   "id": "85b86e20",
   "metadata": {},
   "source": [
    "---\n",
    "\n",
    "**Now we can run the regression using the factors**"
   ]
  },
  {
   "cell_type": "code",
   "execution_count": 12,
   "id": "80136241",
   "metadata": {},
   "outputs": [
    {
     "name": "stdout",
     "output_type": "stream",
     "text": [
      "                            OLS Regression Results                            \n",
      "==============================================================================\n",
      "Dep. Variable:                 xs_ret   R-squared:                       0.475\n",
      "Model:                            OLS   Adj. R-squared:                  0.462\n",
      "Method:                 Least Squares   F-statistic:                     35.91\n",
      "Date:                Tue, 31 May 2022   Prob (F-statistic):           1.34e-16\n",
      "Time:                        09:38:19   Log-Likelihood:                 205.31\n",
      "No. Observations:                 123   AIC:                            -402.6\n",
      "Df Residuals:                     119   BIC:                            -391.4\n",
      "Df Model:                           3                                         \n",
      "Covariance Type:            nonrobust                                         \n",
      "==============================================================================\n",
      "                 coef    std err          t      P>|t|      [0.025      0.975]\n",
      "------------------------------------------------------------------------------\n",
      "Intercept      0.0036      0.004      0.824      0.412      -0.005       0.012\n",
      "mkt_rf         1.1071      0.108     10.243      0.000       0.893       1.321\n",
      "smb           -0.4348      0.177     -2.458      0.015      -0.785      -0.085\n",
      "hml           -0.2042      0.128     -1.593      0.114      -0.458       0.050\n",
      "==============================================================================\n",
      "Omnibus:                        6.333   Durbin-Watson:                   2.056\n",
      "Prob(Omnibus):                  0.042   Jarque-Bera (JB):                5.935\n",
      "Skew:                           0.446   Prob(JB):                       0.0514\n",
      "Kurtosis:                       3.602   Cond. No.                         43.4\n",
      "==============================================================================\n",
      "\n",
      "Notes:\n",
      "[1] Standard Errors assume that the covariance matrix of the errors is correctly specified.\n"
     ]
    }
   ],
   "source": [
    "results = smf.ols('xs_ret ~ 1 + mkt_rf + smb + hml', data=dff).fit()\n",
    "print(results.summary())"
   ]
  },
  {
   "cell_type": "markdown",
   "id": "eb660a6f",
   "metadata": {},
   "source": [
    "**The factor coefficients are:** "
   ]
  },
  {
   "cell_type": "code",
   "execution_count": 13,
   "id": "a1d1a18a",
   "metadata": {},
   "outputs": [
    {
     "data": {
      "text/html": [
       "<div>\n",
       "<style scoped>\n",
       "    .dataframe tbody tr th:only-of-type {\n",
       "        vertical-align: middle;\n",
       "    }\n",
       "\n",
       "    .dataframe tbody tr th {\n",
       "        vertical-align: top;\n",
       "    }\n",
       "\n",
       "    .dataframe thead th {\n",
       "        text-align: right;\n",
       "    }\n",
       "</style>\n",
       "<table border=\"1\" class=\"dataframe\">\n",
       "  <thead>\n",
       "    <tr style=\"text-align: right;\">\n",
       "      <th></th>\n",
       "      <th>coefficients</th>\n",
       "    </tr>\n",
       "  </thead>\n",
       "  <tbody>\n",
       "    <tr>\n",
       "      <th>Intercept</th>\n",
       "      <td>0.003597</td>\n",
       "    </tr>\n",
       "    <tr>\n",
       "      <th>mkt_rf</th>\n",
       "      <td>1.107069</td>\n",
       "    </tr>\n",
       "    <tr>\n",
       "      <th>smb</th>\n",
       "      <td>-0.434809</td>\n",
       "    </tr>\n",
       "    <tr>\n",
       "      <th>hml</th>\n",
       "      <td>-0.204250</td>\n",
       "    </tr>\n",
       "  </tbody>\n",
       "</table>\n",
       "</div>"
      ],
      "text/plain": [
       "           coefficients\n",
       "Intercept      0.003597\n",
       "mkt_rf         1.107069\n",
       "smb           -0.434809\n",
       "hml           -0.204250"
      ]
     },
     "execution_count": 13,
     "metadata": {},
     "output_type": "execute_result"
    }
   ],
   "source": [
    "factors = results.params.to_frame()\n",
    "factors.columns=['coefficients']\n",
    "factors"
   ]
  },
  {
   "cell_type": "markdown",
   "id": "5cfaa1c5",
   "metadata": {},
   "source": [
    "**Now apply this to the mean values of the firm**"
   ]
  },
  {
   "cell_type": "code",
   "execution_count": 14,
   "id": "87cc628b",
   "metadata": {},
   "outputs": [
    {
     "data": {
      "text/html": [
       "<div>\n",
       "<style scoped>\n",
       "    .dataframe tbody tr th:only-of-type {\n",
       "        vertical-align: middle;\n",
       "    }\n",
       "\n",
       "    .dataframe tbody tr th {\n",
       "        vertical-align: top;\n",
       "    }\n",
       "\n",
       "    .dataframe thead th {\n",
       "        text-align: right;\n",
       "    }\n",
       "</style>\n",
       "<table border=\"1\" class=\"dataframe\">\n",
       "  <thead>\n",
       "    <tr style=\"text-align: right;\">\n",
       "      <th></th>\n",
       "      <th>mean</th>\n",
       "    </tr>\n",
       "  </thead>\n",
       "  <tbody>\n",
       "    <tr>\n",
       "      <th>mkt_rf</th>\n",
       "      <td>0.011226</td>\n",
       "    </tr>\n",
       "    <tr>\n",
       "      <th>smb</th>\n",
       "      <td>-0.000768</td>\n",
       "    </tr>\n",
       "    <tr>\n",
       "      <th>hml</th>\n",
       "      <td>-0.000298</td>\n",
       "    </tr>\n",
       "    <tr>\n",
       "      <th>rf</th>\n",
       "      <td>0.000442</td>\n",
       "    </tr>\n",
       "    <tr>\n",
       "      <th>ret_i</th>\n",
       "      <td>0.016862</td>\n",
       "    </tr>\n",
       "    <tr>\n",
       "      <th>xs_ret</th>\n",
       "      <td>0.016420</td>\n",
       "    </tr>\n",
       "  </tbody>\n",
       "</table>\n",
       "</div>"
      ],
      "text/plain": [
       "            mean\n",
       "mkt_rf  0.011226\n",
       "smb    -0.000768\n",
       "hml    -0.000298\n",
       "rf      0.000442\n",
       "ret_i   0.016862\n",
       "xs_ret  0.016420"
      ]
     },
     "execution_count": 14,
     "metadata": {},
     "output_type": "execute_result"
    }
   ],
   "source": [
    "means = dff.mean().to_frame()\n",
    "means.columns=['mean']\n",
    "means"
   ]
  },
  {
   "cell_type": "code",
   "execution_count": 15,
   "id": "47c9defa",
   "metadata": {},
   "outputs": [
    {
     "data": {
      "text/html": [
       "<div>\n",
       "<style scoped>\n",
       "    .dataframe tbody tr th:only-of-type {\n",
       "        vertical-align: middle;\n",
       "    }\n",
       "\n",
       "    .dataframe tbody tr th {\n",
       "        vertical-align: top;\n",
       "    }\n",
       "\n",
       "    .dataframe thead th {\n",
       "        text-align: right;\n",
       "    }\n",
       "</style>\n",
       "<table border=\"1\" class=\"dataframe\">\n",
       "  <thead>\n",
       "    <tr style=\"text-align: right;\">\n",
       "      <th></th>\n",
       "      <th>mean</th>\n",
       "      <th>coefficients</th>\n",
       "    </tr>\n",
       "  </thead>\n",
       "  <tbody>\n",
       "    <tr>\n",
       "      <th>mkt_rf</th>\n",
       "      <td>0.011226</td>\n",
       "      <td>1.107069</td>\n",
       "    </tr>\n",
       "    <tr>\n",
       "      <th>smb</th>\n",
       "      <td>-0.000768</td>\n",
       "      <td>-0.434809</td>\n",
       "    </tr>\n",
       "    <tr>\n",
       "      <th>hml</th>\n",
       "      <td>-0.000298</td>\n",
       "      <td>-0.204250</td>\n",
       "    </tr>\n",
       "    <tr>\n",
       "      <th>rf</th>\n",
       "      <td>0.000442</td>\n",
       "      <td>NaN</td>\n",
       "    </tr>\n",
       "    <tr>\n",
       "      <th>ret_i</th>\n",
       "      <td>0.016862</td>\n",
       "      <td>NaN</td>\n",
       "    </tr>\n",
       "    <tr>\n",
       "      <th>xs_ret</th>\n",
       "      <td>0.016420</td>\n",
       "      <td>NaN</td>\n",
       "    </tr>\n",
       "  </tbody>\n",
       "</table>\n",
       "</div>"
      ],
      "text/plain": [
       "            mean  coefficients\n",
       "mkt_rf  0.011226      1.107069\n",
       "smb    -0.000768     -0.434809\n",
       "hml    -0.000298     -0.204250\n",
       "rf      0.000442           NaN\n",
       "ret_i   0.016862           NaN\n",
       "xs_ret  0.016420           NaN"
      ]
     },
     "execution_count": 15,
     "metadata": {},
     "output_type": "execute_result"
    }
   ],
   "source": [
    "means = means.join(factors)\n",
    "means"
   ]
  },
  {
   "cell_type": "markdown",
   "id": "fc467457",
   "metadata": {},
   "source": [
    "**Note that the coefficient on $r_f$ should be one, and that we do not need the means of the last two rows:**"
   ]
  },
  {
   "cell_type": "code",
   "execution_count": 16,
   "id": "0354cd00",
   "metadata": {},
   "outputs": [
    {
     "data": {
      "text/html": [
       "<div>\n",
       "<style scoped>\n",
       "    .dataframe tbody tr th:only-of-type {\n",
       "        vertical-align: middle;\n",
       "    }\n",
       "\n",
       "    .dataframe tbody tr th {\n",
       "        vertical-align: top;\n",
       "    }\n",
       "\n",
       "    .dataframe thead th {\n",
       "        text-align: right;\n",
       "    }\n",
       "</style>\n",
       "<table border=\"1\" class=\"dataframe\">\n",
       "  <thead>\n",
       "    <tr style=\"text-align: right;\">\n",
       "      <th></th>\n",
       "      <th>mean</th>\n",
       "      <th>coefficients</th>\n",
       "    </tr>\n",
       "  </thead>\n",
       "  <tbody>\n",
       "    <tr>\n",
       "      <th>mkt_rf</th>\n",
       "      <td>0.011226</td>\n",
       "      <td>1.107069</td>\n",
       "    </tr>\n",
       "    <tr>\n",
       "      <th>smb</th>\n",
       "      <td>-0.000768</td>\n",
       "      <td>-0.434809</td>\n",
       "    </tr>\n",
       "    <tr>\n",
       "      <th>hml</th>\n",
       "      <td>-0.000298</td>\n",
       "      <td>-0.204250</td>\n",
       "    </tr>\n",
       "    <tr>\n",
       "      <th>rf</th>\n",
       "      <td>0.000442</td>\n",
       "      <td>1.000000</td>\n",
       "    </tr>\n",
       "  </tbody>\n",
       "</table>\n",
       "</div>"
      ],
      "text/plain": [
       "            mean  coefficients\n",
       "mkt_rf  0.011226      1.107069\n",
       "smb    -0.000768     -0.434809\n",
       "hml    -0.000298     -0.204250\n",
       "rf      0.000442      1.000000"
      ]
     },
     "execution_count": 16,
     "metadata": {},
     "output_type": "execute_result"
    }
   ],
   "source": [
    "means.loc['rf']['coefficients'] = 1\n",
    "means.dropna(inplace=True)\n",
    "means"
   ]
  },
  {
   "cell_type": "markdown",
   "id": "879f7473",
   "metadata": {},
   "source": [
    "**Now calculate the cost of capital: $r_i = r_f + \\beta^{mkt-rf} + \\beta^{size}\\cdot SMB + \\beta^{value} \\cdot HML$.**"
   ]
  },
  {
   "cell_type": "code",
   "execution_count": 17,
   "id": "153d3d2d",
   "metadata": {},
   "outputs": [],
   "source": [
    "ri = means['mean'] @ means['coefficients']"
   ]
  },
  {
   "cell_type": "markdown",
   "id": "8b751b51",
   "metadata": {},
   "source": [
    "**Annualised: $r_i = 100\\cdot[(1+r_i)^{12}-1]$**"
   ]
  },
  {
   "cell_type": "code",
   "execution_count": 18,
   "id": "1043db92",
   "metadata": {},
   "outputs": [
    {
     "name": "stdout",
     "output_type": "stream",
     "text": [
      "Cost of capital 17.13 percent.\n"
     ]
    }
   ],
   "source": [
    "ri = (ri+1)**12-1\n",
    "ri *= 100\n",
    "print(f\"Cost of capital {ri:4.2f} percent.\")"
   ]
  },
  {
   "cell_type": "markdown",
   "id": "8a15c5dd",
   "metadata": {},
   "source": [
    "**Compare to CAPM**"
   ]
  },
  {
   "cell_type": "code",
   "execution_count": 19,
   "id": "da5ce810",
   "metadata": {},
   "outputs": [
    {
     "name": "stdout",
     "output_type": "stream",
     "text": [
      "                            OLS Regression Results                            \n",
      "==============================================================================\n",
      "Dep. Variable:                 xs_ret   R-squared:                       0.435\n",
      "Model:                            OLS   Adj. R-squared:                  0.430\n",
      "Method:                 Least Squares   F-statistic:                     93.17\n",
      "Date:                Tue, 31 May 2022   Prob (F-statistic):           1.08e-16\n",
      "Time:                        09:38:19   Log-Likelihood:                 200.78\n",
      "No. Observations:                 123   AIC:                            -397.6\n",
      "Df Residuals:                     121   BIC:                            -391.9\n",
      "Df Model:                           1                                         \n",
      "Covariance Type:            nonrobust                                         \n",
      "==============================================================================\n",
      "                 coef    std err          t      P>|t|      [0.025      0.975]\n",
      "------------------------------------------------------------------------------\n",
      "Intercept      0.0049      0.004      1.104      0.272      -0.004       0.014\n",
      "mkt_rf         1.0238      0.106      9.652      0.000       0.814       1.234\n",
      "==============================================================================\n",
      "Omnibus:                        4.758   Durbin-Watson:                   2.178\n",
      "Prob(Omnibus):                  0.093   Jarque-Bera (JB):                4.299\n",
      "Skew:                           0.354   Prob(JB):                        0.117\n",
      "Kurtosis:                       3.581   Cond. No.                         24.7\n",
      "==============================================================================\n",
      "\n",
      "Notes:\n",
      "[1] Standard Errors assume that the covariance matrix of the errors is correctly specified.\n"
     ]
    }
   ],
   "source": [
    "capm = smf.ols('xs_ret ~ 1 + mkt_rf', data=dff).fit()\n",
    "print(capm.summary())"
   ]
  },
  {
   "cell_type": "code",
   "execution_count": 20,
   "id": "e9451edd",
   "metadata": {},
   "outputs": [],
   "source": [
    "#if os.name=='nt':\n",
    "#    wb = xw.Book()  \n",
    "#    sheet = wb.sheets['Sheet1']\n",
    "#    sheet.range('A1').value = means"
   ]
  },
  {
   "cell_type": "code",
   "execution_count": 21,
   "id": "f6e46af4",
   "metadata": {},
   "outputs": [],
   "source": [
    "# All in one\n",
    "\n",
    "def famafrench(ticker, start, end, skiprows, endrow, url):\n",
    "    data = yf.download(tickers=ticker, start=start, end=end, interval=\"1mo\")['Adj Close'].dropna()\n",
    "\n",
    "    # Returns \n",
    "    dfr = np.log(data).diff()\n",
    "    dfr.name=\"ret_i\"\n",
    "    dfr.add(1).cumprod().sub(1).plot()\n",
    "\n",
    "    # FF data\n",
    "    #url = \"https://mba.tuck.dartmouth.edu/pages/faculty/ken.french/ftp/F-F_Research_Data_Factors_CSV.zip\"\n",
    "    df = pd.read_csv(url, skiprows = skiprows, on_bad_lines ='skip', nrows=endrow, compression='zip').rename(columns = {'Unnamed: 0':'date', 'Mkt-RF': 'mkt_rf' }).set_index(\"date\")\n",
    "    df.index = pd.to_datetime(df.index, format ='%Y%m')\n",
    "    df.columns = df.columns.str.lower()\n",
    "\n",
    "    # Mungeing data\n",
    "    dff = df/100\n",
    "    dff = dff.join(dfr).dropna()\n",
    "    dff['xs_ret'] = dff['ret_i'].sub(dff['rf'])\n",
    "\n",
    "    # Run the regression\n",
    "    results = smf.ols('xs_ret ~ 1 + mkt_rf + smb + hml', data=dff).fit()\n",
    "    print(results.summary())\n",
    "    \n",
    "    capm = smf.ols('xs_ret ~ 1 + mkt_rf', data=dff).fit()\n",
    "    print(capm.summary())\n",
    "\n",
    "    # Calculate the cost of capital\n",
    "    factors = results.params.to_frame()\n",
    "    factors.columns=['coefficients']\n",
    "\n",
    "    means = dff.mean().to_frame()\n",
    "    means.columns=['mean']\n",
    "\n",
    "    means = means.join(factors)\n",
    "\n",
    "    means.loc['rf']['coefficients'] = 1\n",
    "    means.dropna(inplace=True)\n",
    "    \n",
    "    ri = 100*((means['mean'] @ means['coefficients']+1)**12-1)\n",
    "    #ri = (ri+1)**12-1\n",
    "    #ri *= 100\n",
    "    print(f\"\\nCost of capital {ri:4.2f} percent.\")\n",
    "    return means"
   ]
  },
  {
   "cell_type": "code",
   "execution_count": 22,
   "id": "343b0ee6",
   "metadata": {},
   "outputs": [
    {
     "name": "stdout",
     "output_type": "stream",
     "text": [
      "[*********************100%***********************]  1 of 1 completed\n",
      "                            OLS Regression Results                            \n",
      "==============================================================================\n",
      "Dep. Variable:                 xs_ret   R-squared:                       0.475\n",
      "Model:                            OLS   Adj. R-squared:                  0.462\n",
      "Method:                 Least Squares   F-statistic:                     35.91\n",
      "Date:                Tue, 31 May 2022   Prob (F-statistic):           1.34e-16\n",
      "Time:                        09:38:20   Log-Likelihood:                 205.31\n",
      "No. Observations:                 123   AIC:                            -402.6\n",
      "Df Residuals:                     119   BIC:                            -391.4\n",
      "Df Model:                           3                                         \n",
      "Covariance Type:            nonrobust                                         \n",
      "==============================================================================\n",
      "                 coef    std err          t      P>|t|      [0.025      0.975]\n",
      "------------------------------------------------------------------------------\n",
      "Intercept      0.0036      0.004      0.824      0.412      -0.005       0.012\n",
      "mkt_rf         1.1071      0.108     10.243      0.000       0.893       1.321\n",
      "smb           -0.4348      0.177     -2.458      0.015      -0.785      -0.085\n",
      "hml           -0.2042      0.128     -1.593      0.114      -0.458       0.050\n",
      "==============================================================================\n",
      "Omnibus:                        6.333   Durbin-Watson:                   2.056\n",
      "Prob(Omnibus):                  0.042   Jarque-Bera (JB):                5.935\n",
      "Skew:                           0.446   Prob(JB):                       0.0514\n",
      "Kurtosis:                       3.602   Cond. No.                         43.4\n",
      "==============================================================================\n",
      "\n",
      "Notes:\n",
      "[1] Standard Errors assume that the covariance matrix of the errors is correctly specified.\n",
      "                            OLS Regression Results                            \n",
      "==============================================================================\n",
      "Dep. Variable:                 xs_ret   R-squared:                       0.435\n",
      "Model:                            OLS   Adj. R-squared:                  0.430\n",
      "Method:                 Least Squares   F-statistic:                     93.17\n",
      "Date:                Tue, 31 May 2022   Prob (F-statistic):           1.08e-16\n",
      "Time:                        09:38:20   Log-Likelihood:                 200.78\n",
      "No. Observations:                 123   AIC:                            -397.6\n",
      "Df Residuals:                     121   BIC:                            -391.9\n",
      "Df Model:                           1                                         \n",
      "Covariance Type:            nonrobust                                         \n",
      "==============================================================================\n",
      "                 coef    std err          t      P>|t|      [0.025      0.975]\n",
      "------------------------------------------------------------------------------\n",
      "Intercept      0.0049      0.004      1.104      0.272      -0.004       0.014\n",
      "mkt_rf         1.0238      0.106      9.652      0.000       0.814       1.234\n",
      "==============================================================================\n",
      "Omnibus:                        4.758   Durbin-Watson:                   2.178\n",
      "Prob(Omnibus):                  0.093   Jarque-Bera (JB):                4.299\n",
      "Skew:                           0.354   Prob(JB):                        0.117\n",
      "Kurtosis:                       3.581   Cond. No.                         24.7\n",
      "==============================================================================\n",
      "\n",
      "Notes:\n",
      "[1] Standard Errors assume that the covariance matrix of the errors is correctly specified.\n",
      "\n",
      "Cost of capital 17.13 percent.\n"
     ]
    },
    {
     "data": {
      "text/html": [
       "<div>\n",
       "<style scoped>\n",
       "    .dataframe tbody tr th:only-of-type {\n",
       "        vertical-align: middle;\n",
       "    }\n",
       "\n",
       "    .dataframe tbody tr th {\n",
       "        vertical-align: top;\n",
       "    }\n",
       "\n",
       "    .dataframe thead th {\n",
       "        text-align: right;\n",
       "    }\n",
       "</style>\n",
       "<table border=\"1\" class=\"dataframe\">\n",
       "  <thead>\n",
       "    <tr style=\"text-align: right;\">\n",
       "      <th></th>\n",
       "      <th>mean</th>\n",
       "      <th>coefficients</th>\n",
       "    </tr>\n",
       "  </thead>\n",
       "  <tbody>\n",
       "    <tr>\n",
       "      <th>mkt_rf</th>\n",
       "      <td>0.011226</td>\n",
       "      <td>1.107069</td>\n",
       "    </tr>\n",
       "    <tr>\n",
       "      <th>smb</th>\n",
       "      <td>-0.000768</td>\n",
       "      <td>-0.434809</td>\n",
       "    </tr>\n",
       "    <tr>\n",
       "      <th>hml</th>\n",
       "      <td>-0.000298</td>\n",
       "      <td>-0.204250</td>\n",
       "    </tr>\n",
       "    <tr>\n",
       "      <th>rf</th>\n",
       "      <td>0.000442</td>\n",
       "      <td>1.000000</td>\n",
       "    </tr>\n",
       "  </tbody>\n",
       "</table>\n",
       "</div>"
      ],
      "text/plain": [
       "            mean  coefficients\n",
       "mkt_rf  0.011226      1.107069\n",
       "smb    -0.000768     -0.434809\n",
       "hml    -0.000298     -0.204250\n",
       "rf      0.000442      1.000000"
      ]
     },
     "execution_count": 22,
     "metadata": {},
     "output_type": "execute_result"
    },
    {
     "data": {
      "image/png": "[encoded data removed]",
      "text/plain": [
       "<Figure size 432x288 with 1 Axes>"
      ]
     },
     "metadata": {
      "needs_background": "light"
     },
     "output_type": "display_data"
    }
   ],
   "source": [
    "famafrench(\"GOOG\", '2012-01-01', '2022-05-01', [0,1,2], 1150, \"https://mba.tuck.dartmouth.edu/pages/faculty/ken.french/ftp/F-F_Research_Data_Factors_CSV.zip\")\n"
   ]
  },
  {
   "cell_type": "code",
   "execution_count": 23,
   "id": "5636acc2",
   "metadata": {},
   "outputs": [
    {
     "name": "stdout",
     "output_type": "stream",
     "text": [
      "[*********************100%***********************]  1 of 1 completed\n",
      "                            OLS Regression Results                            \n",
      "==============================================================================\n",
      "Dep. Variable:                 xs_ret   R-squared:                       0.184\n",
      "Model:                            OLS   Adj. R-squared:                  0.142\n",
      "Method:                 Least Squares   F-statistic:                     4.430\n",
      "Date:                Tue, 31 May 2022   Prob (F-statistic):            0.00710\n",
      "Time:                        09:38:21   Log-Likelihood:                 84.131\n",
      "No. Observations:                  63   AIC:                            -160.3\n",
      "Df Residuals:                      59   BIC:                            -151.7\n",
      "Df Model:                           3                                         \n",
      "Covariance Type:            nonrobust                                         \n",
      "==============================================================================\n",
      "                 coef    std err          t      P>|t|      [0.025      0.975]\n",
      "------------------------------------------------------------------------------\n",
      "Intercept      0.0106      0.008      1.252      0.216      -0.006       0.027\n",
      "mkt_rf         0.4425      0.180      2.463      0.017       0.083       0.802\n",
      "smb            0.9749      0.458      2.129      0.037       0.059       1.891\n",
      "hml           -0.1052      0.346     -0.304      0.762      -0.798       0.588\n",
      "==============================================================================\n",
      "Omnibus:                       16.554   Durbin-Watson:                   2.159\n",
      "Prob(Omnibus):                  0.000   Jarque-Bera (JB):               25.309\n",
      "Skew:                          -0.936   Prob(JB):                     3.19e-06\n",
      "Kurtosis:                       5.477   Cond. No.                         61.7\n",
      "==============================================================================\n",
      "\n",
      "Notes:\n",
      "[1] Standard Errors assume that the covariance matrix of the errors is correctly specified.\n",
      "                            OLS Regression Results                            \n",
      "==============================================================================\n",
      "Dep. Variable:                 xs_ret   R-squared:                       0.083\n",
      "Model:                            OLS   Adj. R-squared:                  0.068\n",
      "Method:                 Least Squares   F-statistic:                     5.496\n",
      "Date:                Tue, 31 May 2022   Prob (F-statistic):             0.0223\n",
      "Time:                        09:38:21   Log-Likelihood:                 80.449\n",
      "No. Observations:                  63   AIC:                            -156.9\n",
      "Df Residuals:                      61   BIC:                            -152.6\n",
      "Df Model:                           1                                         \n",
      "Covariance Type:            nonrobust                                         \n",
      "==============================================================================\n",
      "                 coef    std err          t      P>|t|      [0.025      0.975]\n",
      "------------------------------------------------------------------------------\n",
      "Intercept      0.0073      0.009      0.841      0.404      -0.010       0.025\n",
      "mkt_rf         0.4254      0.181      2.344      0.022       0.063       0.788\n",
      "==============================================================================\n",
      "Omnibus:                       24.980   Durbin-Watson:                   1.989\n",
      "Prob(Omnibus):                  0.000   Jarque-Bera (JB):               52.012\n",
      "Skew:                          -1.253   Prob(JB):                     5.08e-12\n",
      "Kurtosis:                       6.679   Cond. No.                         21.0\n",
      "==============================================================================\n",
      "\n",
      "Notes:\n",
      "[1] Standard Errors assume that the covariance matrix of the errors is correctly specified.\n",
      "\n",
      "Cost of capital -0.54 percent.\n"
     ]
    },
    {
     "data": {
      "text/html": [
       "<div>\n",
       "<style scoped>\n",
       "    .dataframe tbody tr th:only-of-type {\n",
       "        vertical-align: middle;\n",
       "    }\n",
       "\n",
       "    .dataframe tbody tr th {\n",
       "        vertical-align: top;\n",
       "    }\n",
       "\n",
       "    .dataframe thead th {\n",
       "        text-align: right;\n",
       "    }\n",
       "</style>\n",
       "<table border=\"1\" class=\"dataframe\">\n",
       "  <thead>\n",
       "    <tr style=\"text-align: right;\">\n",
       "      <th></th>\n",
       "      <th>mean</th>\n",
       "      <th>coefficients</th>\n",
       "    </tr>\n",
       "  </thead>\n",
       "  <tbody>\n",
       "    <tr>\n",
       "      <th>mkt_rf</th>\n",
       "      <td>0.004683</td>\n",
       "      <td>0.442478</td>\n",
       "    </tr>\n",
       "    <tr>\n",
       "      <th>smb</th>\n",
       "      <td>-0.003383</td>\n",
       "      <td>0.974856</td>\n",
       "    </tr>\n",
       "    <tr>\n",
       "      <th>hml</th>\n",
       "      <td>0.000383</td>\n",
       "      <td>-0.105155</td>\n",
       "    </tr>\n",
       "    <tr>\n",
       "      <th>rf</th>\n",
       "      <td>0.000813</td>\n",
       "      <td>1.000000</td>\n",
       "    </tr>\n",
       "  </tbody>\n",
       "</table>\n",
       "</div>"
      ],
      "text/plain": [
       "            mean  coefficients\n",
       "mkt_rf  0.004683      0.442478\n",
       "smb    -0.003383      0.974856\n",
       "hml     0.000383     -0.105155\n",
       "rf      0.000813      1.000000"
      ]
     },
     "execution_count": 23,
     "metadata": {},
     "output_type": "execute_result"
    },
    {
     "data": {
      "image/png": "[encoded data removed]",
      "text/plain": [
       "<Figure size 432x288 with 1 Axes>"
      ]
     },
     "metadata": {
      "needs_background": "light"
     },
     "output_type": "display_data"
    }
   ],
   "source": [
    "url = \"http://mba.tuck.dartmouth.edu/pages/faculty/ken.french/ftp/Asia_Pacific_ex_Japan_3_Factors_CSV.zip\"\n",
    "df = famafrench(\"WHS.NZ\", '2017-01-01', '2022-05-01', [0,1,2,3,4,5], 382, url)\n",
    "df"
   ]
  }
 ],
 "metadata": {
  "kernelspec": {
   "display_name": "Python 3 (ipykernel)",
   "language": "python",
   "name": "python3"
  },
  "language_info": {
   "codemirror_mode": {
    "name": "ipython",
    "version": 3
   },
   "file_extension": ".py",
   "mimetype": "text/x-python",
   "name": "python",
   "nbconvert_exporter": "python",
   "pygments_lexer": "ipython3",
   "version": "3.8.13"
  }
 },
 "nbformat": 4,
 "nbformat_minor": 5
}
