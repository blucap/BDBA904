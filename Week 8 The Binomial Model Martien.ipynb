{
 "cells": [
  {
   "cell_type": "raw",
   "metadata": {},
   "source": [
    "---\n",
    "title: The Binomial Model\n",
    "format: html\n",
    "---"
   ]
  },
  {
   "cell_type": "markdown",
   "metadata": {},
   "source": [
    "## Two-State option Valuation"
   ]
  },
  {
   "cell_type": "code",
   "execution_count": 1,
   "metadata": {},
   "outputs": [],
   "source": [
    "import numpy as np\n",
    "import pandas as pd\n",
    "from scipy.special import comb\n",
    "import math"
   ]
  },
  {
   "cell_type": "markdown",
   "metadata": {},
   "source": [
    "Parameters. Share price is \\\\$50 and will be either \\\\$40 or \\\\$60 one year from now. Call option on the share has an exercise price of \\\\$50. Exercise a year from now. Borrowing rate is 10%.\n",
    "\n",
    "What is the value of the call?\n",
    "\n",
    "We need to equal alternatives, to compare and contrast\n",
    "\n",
    "1.  Buy the option\n",
    "\n",
    "2.  Borrow \\\\\\$18.18, which will lead us to pay \\\\\\$20 a year from now.\n",
    "\n",
    "Parameters:"
   ]
  },
  {
   "cell_type": "code",
   "execution_count": 2,
   "metadata": {},
   "outputs": [],
   "source": [
    "PU = 60\n",
    "PD = 40\n",
    "P = 50\n",
    "U = 0.5\n",
    "D = 0.5\n",
    "r = 1.1\n",
    "B = 20"
   ]
  },
  {
   "cell_type": "markdown",
   "metadata": {},
   "source": [
    "|                       | Payoff at \\$60 | Payoff at \\$40 |\n",
    "|-----------------------|---------------:|---------------:|\n",
    "| Buy the call          |       60-50=10 |              0 |\n",
    "| **Replicate**:        |                |                |\n",
    "| Buy half the stock    |             30 |             20 |\n",
    "| Borrow \\$18.18 at 10% |            -20 |            -20 |\n",
    "| Net                   |             10 |              0 |\n",
    "\n",
    "What are the cost of the replication strategy?"
   ]
  },
  {
   "cell_type": "code",
   "execution_count": 3,
   "metadata": {},
   "outputs": [
    {
     "name": "stdout",
     "output_type": "stream",
     "text": [
      "Cost: $ 6.82\n",
      "\n"
     ]
    }
   ],
   "source": [
    "cost = 0.5*P - B/r\n",
    "print(f'Cost: ${cost:5.2f}\\n')"
   ]
  },
  {
   "cell_type": "markdown",
   "metadata": {},
   "source": [
    "### Determining Delta\n",
    "\n",
    "Why buy half of the share?\n",
    "\n",
    "Answer: the price of call price if eiter \\$0 or \\$10 while the share prices will be either \\$40 of \\$60:"
   ]
  },
  {
   "cell_type": "code",
   "execution_count": 4,
   "metadata": {},
   "outputs": [
    {
     "name": "stdout",
     "output_type": "stream",
     "text": [
      "Swing_call: $10.00\n",
      "\n",
      "Swing_stock: $20.00\n",
      "\n",
      "Delta: $ 0.50\n",
      "\n"
     ]
    }
   ],
   "source": [
    "Swing_call = 0.5 * PU - B - 0\n",
    "Swing_stock = PU - PD\n",
    "Delta = Swing_call/Swing_stock\n",
    "\n",
    "print(f'Swing_call: ${Swing_call:5.2f}\\n')\n",
    "print(f'Swing_stock: ${Swing_stock:5.2f}\\n')\n",
    "print(f'Delta: ${Delta:5.2f}\\n')"
   ]
  },
  {
   "cell_type": "markdown",
   "metadata": {},
   "source": [
    "The replication strategy should give us the same risk for the both strategies. This is achieved by buying half of the share.\n",
    "\n",
    "------------------------------------------------------------------------\n",
    "\n",
    "### Determining the Amount of Borrowing\n",
    "\n",
    "Busying half of the share gives us either \\\\\\$30 or \\\\\\$20 at expiration. Which is exactly \\\\\\$20 more than the payoffs of \\\\\\$10 and \\\\\\$0.\n",
    "\n",
    "### Determining the value of the call option.\n",
    "\n",
    "Call value = Stock Price x Delta - Borrowed"
   ]
  },
  {
   "cell_type": "code",
   "execution_count": 5,
   "metadata": {},
   "outputs": [
    {
     "name": "stdout",
     "output_type": "stream",
     "text": [
      "Call value: $ 6.82\n",
      "\n"
     ]
    }
   ],
   "source": [
    "Call = P * Delta - B/r\n",
    "print(f'Call value: ${Call:5.2f}\\n')"
   ]
  },
  {
   "cell_type": "markdown",
   "metadata": {},
   "source": [
    "------------------------------------------------------------------------\n",
    "\n",
    "# State prices\n",
    "\n",
    "We thank Sagi Haim for developing this script\n",
    "\n",
    "*State prices - Up*"
   ]
  },
  {
   "cell_type": "code",
   "execution_count": 6,
   "metadata": {},
   "outputs": [],
   "source": [
    "# Input:\n",
    "S0 = 50\n",
    "X = 50\n",
    "U = 1.1\n",
    "D = 0.97\n",
    "r = 1.06\n",
    "m = 4"
   ]
  },
  {
   "cell_type": "code",
   "execution_count": 7,
   "metadata": {},
   "outputs": [
    {
     "name": "stdout",
     "output_type": "stream",
     "text": [
      "qU 0.6531204644412192\n"
     ]
    }
   ],
   "source": [
    "qU = (r - D) / (r * (U - D))\n",
    "print(\"qU\",qU)"
   ]
  },
  {
   "cell_type": "markdown",
   "metadata": {},
   "source": [
    "*State prices - Down*"
   ]
  },
  {
   "cell_type": "code",
   "execution_count": 8,
   "metadata": {},
   "outputs": [
    {
     "name": "stdout",
     "output_type": "stream",
     "text": [
      "qD 0.29027576197387517\n"
     ]
    }
   ],
   "source": [
    "qD = (U - r) / (r * (U - D))\n",
    "print(\"qD\",qD)"
   ]
  },
  {
   "cell_type": "markdown",
   "metadata": {},
   "source": [
    "*Risk neutral probabilities - Up*"
   ]
  },
  {
   "cell_type": "code",
   "execution_count": 9,
   "metadata": {},
   "outputs": [
    {
     "name": "stdout",
     "output_type": "stream",
     "text": [
      "pi_U 0.6923076923076924\n"
     ]
    }
   ],
   "source": [
    "pi_U = qU * r\n",
    "print(\"pi_U\",pi_U)"
   ]
  },
  {
   "cell_type": "markdown",
   "metadata": {},
   "source": [
    "*Risk neutral probabilities - Down*"
   ]
  },
  {
   "cell_type": "code",
   "execution_count": 10,
   "metadata": {},
   "outputs": [
    {
     "name": "stdout",
     "output_type": "stream",
     "text": [
      "pi_D 0.3076923076923077\n"
     ]
    }
   ],
   "source": [
    "pi_D = qD * r\n",
    "print(\"pi_D\",pi_D)"
   ]
  },
  {
   "cell_type": "markdown",
   "metadata": {},
   "source": [
    "### Calculate payoff at maturity"
   ]
  },
  {
   "cell_type": "code",
   "execution_count": 11,
   "metadata": {},
   "outputs": [
    {
     "name": "stdout",
     "output_type": "stream",
     "text": [
      "0     0.000000\n",
      "1     0.197015\n",
      "2     6.924450\n",
      "3    14.553500\n",
      "4    23.205000\n",
      "dtype: float64\n"
     ]
    }
   ],
   "source": [
    "ex_payoff = np.empty(m + 1)\n",
    "for i in np.arange(0, m + 1):\n",
    "    ex_payoff[i] = max(S0 * U ** i * D ** (m - i) - X, 0)\n",
    "    pass\n",
    "print(pd.Series(ex_payoff))"
   ]
  },
  {
   "cell_type": "markdown",
   "metadata": {},
   "source": [
    "### Calculate tree probabilities"
   ]
  },
  {
   "cell_type": "code",
   "execution_count": 12,
   "metadata": {},
   "outputs": [
    {
     "name": "stdout",
     "output_type": "stream",
     "text": [
      "0    0.008963\n",
      "1    0.080669\n",
      "2    0.272259\n",
      "3    0.408389\n",
      "4    0.229719\n",
      "dtype: float64\n"
     ]
    }
   ],
   "source": [
    "ex_prob = np.empty(m + 1)\n",
    "for i in np.arange(0, m + 1):\n",
    "    ex_prob[i] = pi_U ** i * pi_D ** (m - i) * comb(m, i, exact=False)\n",
    "    pass\n",
    "print(pd.Series(ex_prob))"
   ]
  },
  {
   "cell_type": "code",
   "execution_count": 13,
   "metadata": {},
   "outputs": [
    {
     "name": "stdout",
     "output_type": "stream",
     "text": [
      "Call Price 10.436036460331527\n"
     ]
    }
   ],
   "source": [
    "call_price = np.dot(ex_prob, ex_payoff) / r ** m\n",
    "print(\"Call Price\",call_price)"
   ]
  },
  {
   "cell_type": "markdown",
   "metadata": {},
   "source": [
    "------------------------------------------------------------------------\n",
    "\n",
    "# American Put"
   ]
  },
  {
   "cell_type": "code",
   "execution_count": 14,
   "metadata": {},
   "outputs": [],
   "source": [
    "# Input:\n",
    "S0 = 50\n",
    "X = 50\n",
    "U = 1.1\n",
    "D = 0.97\n",
    "r = 1.06\n",
    "m = 2"
   ]
  },
  {
   "cell_type": "markdown",
   "metadata": {},
   "source": [
    "*State prices*"
   ]
  },
  {
   "cell_type": "code",
   "execution_count": 15,
   "metadata": {},
   "outputs": [],
   "source": [
    "qU = (r - D) / (r * (U - D))\n",
    "qD = (U - r) / (r * (U - D))"
   ]
  },
  {
   "cell_type": "markdown",
   "metadata": {},
   "source": [
    "*Risk neutral probabilities*"
   ]
  },
  {
   "cell_type": "code",
   "execution_count": 16,
   "metadata": {},
   "outputs": [],
   "source": [
    "pi_U = qU * r\n",
    "pi_D = qD * r"
   ]
  },
  {
   "cell_type": "markdown",
   "metadata": {},
   "source": [
    "*Create a payoff matrix*"
   ]
  },
  {
   "cell_type": "code",
   "execution_count": 17,
   "metadata": {},
   "outputs": [],
   "source": [
    "ex_payoff = np.empty((m + 1, m + 1))\n",
    "ex_payoff[:] = np.NaN"
   ]
  },
  {
   "cell_type": "markdown",
   "metadata": {},
   "source": [
    "*Calculate Payoff at Exercise*"
   ]
  },
  {
   "cell_type": "code",
   "execution_count": 18,
   "metadata": {},
   "outputs": [],
   "source": [
    "for col in np.arange(0, m + 1):\n",
    "    for row in np.arange(0, col + 1):\n",
    "        St = S0 * U ** (row) * D ** (col - row)\n",
    "        ex_payoff[row, col] = max(X - St, 0)\n",
    "        pass\n",
    "    pass"
   ]
  },
  {
   "cell_type": "markdown",
   "metadata": {},
   "source": [
    "*Create a Put value matrix*"
   ]
  },
  {
   "cell_type": "code",
   "execution_count": 19,
   "metadata": {},
   "outputs": [],
   "source": [
    "put_value = np.empty((m + 1, m + 1))\n",
    "put_value[:] = np.NaN\n",
    "put_value[:, m] = ex_payoff[:, m]  # At maturity put value = exercise"
   ]
  },
  {
   "cell_type": "markdown",
   "metadata": {},
   "source": [
    "*Calculate Put tree*"
   ]
  },
  {
   "cell_type": "code",
   "execution_count": 20,
   "metadata": {},
   "outputs": [],
   "source": [
    "for col in np.flip(np.arange(0, m)):\n",
    "    for row in np.arange(0, col + 1):\n",
    "        ex_value = ex_payoff[row, col]\n",
    "        pv_down = put_value[row, col + 1] * qD\n",
    "        pv_up = put_value[row + 1, col + 1] * qU\n",
    "        pres_value = pv_up + pv_down\n",
    "        put_value[row, col] = max(ex_value, pres_value)\n",
    "        pass\n",
    "    pass"
   ]
  },
  {
   "cell_type": "code",
   "execution_count": 21,
   "metadata": {},
   "outputs": [
    {
     "name": "stdout",
     "output_type": "stream",
     "text": [
      "Put Value 0.43541364296081275\n"
     ]
    }
   ],
   "source": [
    "print(\"Put Value\",put_value[0, 0])"
   ]
  },
  {
   "cell_type": "markdown",
   "metadata": {},
   "source": [
    "# ESO"
   ]
  },
  {
   "cell_type": "code",
   "execution_count": 22,
   "metadata": {},
   "outputs": [],
   "source": [
    "S0 = 50  # Current stock price\n",
    "X = 50  # Option exercise price\n",
    "t = 10  # Time to option exercise (in years)\n",
    "vesting = 3  # Vesting period (years)\n",
    "interest = 0.05  # Annual interest rate\n",
    "sigma = 0.35  # Riskiness of stock\n",
    "div_rate = 0.025  # Annual dividend rate on stock\n",
    "exit_rate = 0.1  # Exit rate\n",
    "ex_multiple = 3  # Option exercise multiple\n",
    "n = 50  # Number of subdivisions of one year"
   ]
  },
  {
   "cell_type": "markdown",
   "metadata": {},
   "source": [
    "*Delta t*"
   ]
  },
  {
   "cell_type": "code",
   "execution_count": 23,
   "metadata": {},
   "outputs": [],
   "source": [
    "delta_t = 1/n  # Delta t"
   ]
  },
  {
   "cell_type": "markdown",
   "metadata": {},
   "source": [
    "*Risk neutral probabilities*"
   ]
  },
  {
   "cell_type": "code",
   "execution_count": 24,
   "metadata": {},
   "outputs": [],
   "source": [
    "U = math.exp((interest - 0.5 * sigma ** 2) * delta_t + math.sqrt(delta_t) * sigma)\n",
    "D = math.exp((interest - 0.5 * sigma ** 2) * delta_t - math.sqrt(delta_t) * sigma)\n",
    "R = math.exp(interest * delta_t)\n",
    "div = math.exp(-div_rate / n)\n",
    "pi_U = (R * div - D) / (U - D)\n",
    "pi_D = (U - R * div) / (U - D)"
   ]
  },
  {
   "cell_type": "code",
   "execution_count": 25,
   "metadata": {},
   "outputs": [],
   "source": [
    "# Create a payoff matrix\n",
    "ex_payoff = np.empty((n * t + 1, n * t + 1))\n",
    "ex_payoff[:] = np.NaN"
   ]
  },
  {
   "cell_type": "markdown",
   "metadata": {},
   "source": [
    "*Create a Stock Price matrix*"
   ]
  },
  {
   "cell_type": "code",
   "execution_count": 26,
   "metadata": {},
   "outputs": [],
   "source": [
    "St = np.empty((n * t + 1, n * t + 1))\n",
    "St[:] = np.NaN"
   ]
  },
  {
   "cell_type": "markdown",
   "metadata": {},
   "source": [
    "*Calculate Payoff at Exercise*"
   ]
  },
  {
   "cell_type": "code",
   "execution_count": 27,
   "metadata": {},
   "outputs": [],
   "source": [
    "for col in np.arange(0, n * t + 1):\n",
    "    for row in np.arange(0, col + 1):\n",
    "        St[row, col] = S0 * U ** (row) * D ** (col - row)\n",
    "        ex_payoff[row, col] = max(St[row, col] - X, 0)\n",
    "        pass\n",
    "    pass"
   ]
  },
  {
   "cell_type": "markdown",
   "metadata": {},
   "source": [
    "*Create an ESO value matrix*"
   ]
  },
  {
   "cell_type": "code",
   "execution_count": 28,
   "metadata": {},
   "outputs": [],
   "source": [
    "ESO_value = np.empty((n * t + 1, n * t + 1))\n",
    "ESO_value[:] = np.NaN"
   ]
  },
  {
   "cell_type": "markdown",
   "metadata": {},
   "source": [
    "*At maturity ESO value = exercise*"
   ]
  },
  {
   "cell_type": "code",
   "execution_count": 29,
   "metadata": {},
   "outputs": [],
   "source": [
    "ESO_value[:, n * t] = ex_payoff[:, n * t]"
   ]
  },
  {
   "cell_type": "markdown",
   "metadata": {},
   "source": [
    "*Calculate Payoff at Exercise*"
   ]
  },
  {
   "cell_type": "code",
   "execution_count": 30,
   "metadata": {},
   "outputs": [],
   "source": [
    "for col in np.flip(np.arange(0, n * t)):\n",
    "    for row in np.arange(0, col + 1):\n",
    "\n",
    "        pv_down = ESO_value[row, col + 1] * pi_D\n",
    "        pv_up = ESO_value[row + 1, col + 1] * pi_U\n",
    "        pres_value = pv_up + pv_down\n",
    "\n",
    "        if col > vesting * n:  # when passed the vesting period\n",
    "            if St[row, col] >= ex_multiple * X:  # Case where we cross the multiple execise\n",
    "                ESO_value[row, col] = ex_payoff[row, col]\n",
    "                pass\n",
    "            elif St[row, col] < ex_multiple * X:  # Case where we didn't cross the multiple execise\n",
    "                ESO_value[row, col] = (1-exit_rate) ** (1/n) * pres_value / \\\n",
    "                    R + (1 - (1 - exit_rate) ** (1 / n)) * ex_payoff[row, col]\n",
    "                pass\n",
    "            pass\n",
    "        elif col <= vesting * n:  # before we passed the vesting period\n",
    "            ESO_value[row, col] = (1-exit_rate) ** (1/n) * pres_value / R\n",
    "            pass\n",
    "        pass\n",
    "    pass\n",
    "pass"
   ]
  },
  {
   "cell_type": "code",
   "execution_count": 31,
   "metadata": {},
   "outputs": [
    {
     "name": "stdout",
     "output_type": "stream",
     "text": [
      "ESO Value 13.29213862828601\n"
     ]
    }
   ],
   "source": [
    "print(\"ESO Value\", ESO_value[0, 0])"
   ]
  }
 ],
 "metadata": {
  "kernelspec": {
   "display_name": "Python 3.8.13 ('base')",
   "language": "python",
   "name": "python3"
  },
  "language_info": {
   "codemirror_mode": {
    "name": "ipython",
    "version": 3
   },
   "file_extension": ".py",
   "mimetype": "text/x-python",
   "name": "python",
   "nbconvert_exporter": "python",
   "pygments_lexer": "ipython3",
   "version": "3.8.13"
  },
  "vscode": {
   "interpreter": {
    "hash": "ee7afe67dcd9d42da2c03ddacc736ce7eecb1d093145e61b8f6acf64ee53a071"
   }
  }
 },
 "nbformat": 4,
 "nbformat_minor": 4
}
